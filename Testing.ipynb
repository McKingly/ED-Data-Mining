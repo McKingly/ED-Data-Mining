{
 "cells": [
  {
   "cell_type": "markdown",
   "metadata": {},
   "source": [
    "- [Task A - Pre Processing](#Task-A---Pre-Processing)\n",
    " - [Checking missing values](#Checking-if-datasets-have-missing-values)\n",
    " - [Handling categorical data](#Handling-categorical-data)\n",
    " - [Encoding class labels](#Encoding-class-labels)\n",
    " - [Partitioning datasets](#Partitioning-datasets-in-training-and-test-sets)\n",
    " - [Rank features](#Rank-features)\n",
    "   - [1. Univariate Feature Selection](#1.-Univariate-Feature-Selection)\n",
    "     - [1.1 Mutual Info Classif](#1.1-Mutual-Info-Classif)\n",
    "     - [1.2 Chi-squared](#1.2-Chi-squared)\n",
    " - [Dimension reduction](#Dimension-reduction)\n",
    "- [Task B - Predictive Model](#Task-B---Predictive-Model)\n"
   ]
  },
  {
   "cell_type": "code",
   "execution_count": 1,
   "metadata": {},
   "outputs": [],
   "source": [
    "import pandas as pd\n",
    "import numpy as np\n",
    "import xlrd\n",
    "import copy\n",
    "%matplotlib inline"
   ]
  },
  {
   "cell_type": "code",
   "execution_count": 2,
   "metadata": {},
   "outputs": [],
   "source": [
    "#Disable warning\n",
    "import warnings\n",
    "warnings.filterwarnings(\"ignore\", category=FutureWarning)\n",
    "warnings.filterwarnings(\"ignore\", category=DeprecationWarning)"
   ]
  },
  {
   "cell_type": "markdown",
   "metadata": {},
   "source": [
    "## Reading datasets"
   ]
  },
  {
   "cell_type": "markdown",
   "metadata": {},
   "source": [
    "### Banknotes dataset"
   ]
  },
  {
   "cell_type": "code",
   "execution_count": 3,
   "metadata": {},
   "outputs": [],
   "source": [
    "df_bankNotes = pd.read_excel('./data_banknote_authentication.xlsx')\n",
    "#df_bankNotes"
   ]
  },
  {
   "cell_type": "markdown",
   "metadata": {},
   "source": [
    "### Nursery dataset"
   ]
  },
  {
   "cell_type": "code",
   "execution_count": 4,
   "metadata": {},
   "outputs": [],
   "source": [
    "df_nursery = pd.read_excel('./nursery.xlsx')\n",
    "#df_nursery"
   ]
  },
  {
   "cell_type": "markdown",
   "metadata": {},
   "source": [
    "# Task A - Pre Processing"
   ]
  },
  {
   "cell_type": "markdown",
   "metadata": {},
   "source": [
    "## Checking if datasets have missing values"
   ]
  },
  {
   "cell_type": "markdown",
   "metadata": {},
   "source": [
    "### Banknotes dataset"
   ]
  },
  {
   "cell_type": "code",
   "execution_count": 5,
   "metadata": {},
   "outputs": [
    {
     "data": {
      "text/plain": [
       "variance of Wavelet Transformed image    0\n",
       "skewness of Wavelet Transformed image    0\n",
       "curtosis of Wavelet Transformed image    0\n",
       "entropy of image                         0\n",
       "class                                    0\n",
       "dtype: int64"
      ]
     },
     "execution_count": 5,
     "metadata": {},
     "output_type": "execute_result"
    }
   ],
   "source": [
    "df_bankNotes.isnull().sum()"
   ]
  },
  {
   "cell_type": "markdown",
   "metadata": {},
   "source": [
    "### Nursery dataset"
   ]
  },
  {
   "cell_type": "code",
   "execution_count": 6,
   "metadata": {},
   "outputs": [
    {
     "data": {
      "text/plain": [
       "parents     0\n",
       "has_nurs    0\n",
       "form        0\n",
       "children    0\n",
       "housing     0\n",
       "finance     0\n",
       "social      0\n",
       "health      0\n",
       "class       0\n",
       "dtype: int64"
      ]
     },
     "execution_count": 6,
     "metadata": {},
     "output_type": "execute_result"
    }
   ],
   "source": [
    "df_nursery.isnull().sum()"
   ]
  },
  {
   "cell_type": "markdown",
   "metadata": {},
   "source": [
    "## Handling categorical data"
   ]
  },
  {
   "cell_type": "markdown",
   "metadata": {},
   "source": [
    "### Mapping ordinal features"
   ]
  },
  {
   "cell_type": "markdown",
   "metadata": {},
   "source": [
    "#### Nursery dataset"
   ]
  },
  {
   "cell_type": "code",
   "execution_count": 7,
   "metadata": {},
   "outputs": [],
   "source": [
    "# print features before mapping\n",
    "#df_nursery[df_nursery.columns[0:8]]"
   ]
  },
  {
   "cell_type": "code",
   "execution_count": 8,
   "metadata": {
    "scrolled": true
   },
   "outputs": [],
   "source": [
    "# get dataset copy\n",
    "df_nursery_copy = df_nursery.copy()\n",
    "\n",
    "# cast data to string\n",
    "df_nursery_copy = df_nursery_copy.astype(str)\n",
    "\n",
    "# map features\n",
    "parents_mapping = {'usual':1, 'pretentious':2, 'great_pret':3}\n",
    "df_nursery_copy['parents'] = df_nursery_copy['parents'].map(parents_mapping)\n",
    "\n",
    "has_nurs_mapping = {'proper':1, 'less_proper':2, 'improper':3, 'critical':4, 'very_crit':5}\n",
    "df_nursery_copy['has_nurs'] = df_nursery_copy['has_nurs'].map(has_nurs_mapping)\n",
    "\n",
    "form_mapping = {'complete':1, 'completed':2, 'incomplete':3, 'foster':4}\n",
    "df_nursery_copy['form'] = df_nursery_copy['form'].map(form_mapping)\n",
    "\n",
    "children_mapping = {'1':1, '2':2, '3':3, 'more':4}\n",
    "df_nursery_copy['children'] = df_nursery_copy['children'].map(children_mapping)\n",
    "\n",
    "housing_mapping = {'convenient':1, 'less_conv':2, 'critical':3}\n",
    "df_nursery_copy['housing'] = df_nursery_copy['housing'].map(housing_mapping)\n",
    "\n",
    "finance_mapping = {'convenient':1, 'inconv':2}\n",
    "df_nursery_copy['finance'] = df_nursery_copy['finance'].map(finance_mapping)\n",
    "\n",
    "social_mapping = {'nonprob':1, 'slightly_prob':2, 'problematic':3}\n",
    "df_nursery_copy['social'] = df_nursery_copy['social'].map(social_mapping)\n",
    "\n",
    "health_mapping = {'recommended':1, 'priority':2, 'not_recom':3}\n",
    "df_nursery_copy['health'] = df_nursery_copy['health'].map(health_mapping)"
   ]
  },
  {
   "cell_type": "code",
   "execution_count": 9,
   "metadata": {},
   "outputs": [
    {
     "data": {
      "text/html": [
       "<div>\n",
       "<style scoped>\n",
       "    .dataframe tbody tr th:only-of-type {\n",
       "        vertical-align: middle;\n",
       "    }\n",
       "\n",
       "    .dataframe tbody tr th {\n",
       "        vertical-align: top;\n",
       "    }\n",
       "\n",
       "    .dataframe thead th {\n",
       "        text-align: right;\n",
       "    }\n",
       "</style>\n",
       "<table border=\"1\" class=\"dataframe\">\n",
       "  <thead>\n",
       "    <tr style=\"text-align: right;\">\n",
       "      <th></th>\n",
       "      <th>parents</th>\n",
       "      <th>has_nurs</th>\n",
       "      <th>form</th>\n",
       "      <th>children</th>\n",
       "      <th>housing</th>\n",
       "      <th>finance</th>\n",
       "      <th>social</th>\n",
       "      <th>health</th>\n",
       "    </tr>\n",
       "  </thead>\n",
       "  <tbody>\n",
       "    <tr>\n",
       "      <th>0</th>\n",
       "      <td>1</td>\n",
       "      <td>1</td>\n",
       "      <td>1</td>\n",
       "      <td>1</td>\n",
       "      <td>1</td>\n",
       "      <td>1</td>\n",
       "      <td>1</td>\n",
       "      <td>1</td>\n",
       "    </tr>\n",
       "    <tr>\n",
       "      <th>1</th>\n",
       "      <td>1</td>\n",
       "      <td>1</td>\n",
       "      <td>1</td>\n",
       "      <td>1</td>\n",
       "      <td>1</td>\n",
       "      <td>1</td>\n",
       "      <td>1</td>\n",
       "      <td>2</td>\n",
       "    </tr>\n",
       "    <tr>\n",
       "      <th>2</th>\n",
       "      <td>1</td>\n",
       "      <td>1</td>\n",
       "      <td>1</td>\n",
       "      <td>1</td>\n",
       "      <td>1</td>\n",
       "      <td>1</td>\n",
       "      <td>1</td>\n",
       "      <td>3</td>\n",
       "    </tr>\n",
       "    <tr>\n",
       "      <th>3</th>\n",
       "      <td>1</td>\n",
       "      <td>1</td>\n",
       "      <td>1</td>\n",
       "      <td>1</td>\n",
       "      <td>1</td>\n",
       "      <td>1</td>\n",
       "      <td>2</td>\n",
       "      <td>1</td>\n",
       "    </tr>\n",
       "    <tr>\n",
       "      <th>4</th>\n",
       "      <td>1</td>\n",
       "      <td>1</td>\n",
       "      <td>1</td>\n",
       "      <td>1</td>\n",
       "      <td>1</td>\n",
       "      <td>1</td>\n",
       "      <td>2</td>\n",
       "      <td>2</td>\n",
       "    </tr>\n",
       "    <tr>\n",
       "      <th>5</th>\n",
       "      <td>1</td>\n",
       "      <td>1</td>\n",
       "      <td>1</td>\n",
       "      <td>1</td>\n",
       "      <td>1</td>\n",
       "      <td>1</td>\n",
       "      <td>2</td>\n",
       "      <td>3</td>\n",
       "    </tr>\n",
       "    <tr>\n",
       "      <th>6</th>\n",
       "      <td>1</td>\n",
       "      <td>1</td>\n",
       "      <td>1</td>\n",
       "      <td>1</td>\n",
       "      <td>1</td>\n",
       "      <td>1</td>\n",
       "      <td>3</td>\n",
       "      <td>1</td>\n",
       "    </tr>\n",
       "    <tr>\n",
       "      <th>7</th>\n",
       "      <td>1</td>\n",
       "      <td>1</td>\n",
       "      <td>1</td>\n",
       "      <td>1</td>\n",
       "      <td>1</td>\n",
       "      <td>1</td>\n",
       "      <td>3</td>\n",
       "      <td>2</td>\n",
       "    </tr>\n",
       "    <tr>\n",
       "      <th>8</th>\n",
       "      <td>1</td>\n",
       "      <td>1</td>\n",
       "      <td>1</td>\n",
       "      <td>1</td>\n",
       "      <td>1</td>\n",
       "      <td>1</td>\n",
       "      <td>3</td>\n",
       "      <td>3</td>\n",
       "    </tr>\n",
       "    <tr>\n",
       "      <th>9</th>\n",
       "      <td>1</td>\n",
       "      <td>1</td>\n",
       "      <td>1</td>\n",
       "      <td>1</td>\n",
       "      <td>1</td>\n",
       "      <td>2</td>\n",
       "      <td>1</td>\n",
       "      <td>1</td>\n",
       "    </tr>\n",
       "    <tr>\n",
       "      <th>10</th>\n",
       "      <td>1</td>\n",
       "      <td>1</td>\n",
       "      <td>1</td>\n",
       "      <td>1</td>\n",
       "      <td>1</td>\n",
       "      <td>2</td>\n",
       "      <td>1</td>\n",
       "      <td>2</td>\n",
       "    </tr>\n",
       "    <tr>\n",
       "      <th>11</th>\n",
       "      <td>1</td>\n",
       "      <td>1</td>\n",
       "      <td>1</td>\n",
       "      <td>1</td>\n",
       "      <td>1</td>\n",
       "      <td>2</td>\n",
       "      <td>1</td>\n",
       "      <td>3</td>\n",
       "    </tr>\n",
       "    <tr>\n",
       "      <th>12</th>\n",
       "      <td>1</td>\n",
       "      <td>1</td>\n",
       "      <td>1</td>\n",
       "      <td>1</td>\n",
       "      <td>1</td>\n",
       "      <td>2</td>\n",
       "      <td>2</td>\n",
       "      <td>1</td>\n",
       "    </tr>\n",
       "    <tr>\n",
       "      <th>13</th>\n",
       "      <td>1</td>\n",
       "      <td>1</td>\n",
       "      <td>1</td>\n",
       "      <td>1</td>\n",
       "      <td>1</td>\n",
       "      <td>2</td>\n",
       "      <td>2</td>\n",
       "      <td>2</td>\n",
       "    </tr>\n",
       "    <tr>\n",
       "      <th>14</th>\n",
       "      <td>1</td>\n",
       "      <td>1</td>\n",
       "      <td>1</td>\n",
       "      <td>1</td>\n",
       "      <td>1</td>\n",
       "      <td>2</td>\n",
       "      <td>2</td>\n",
       "      <td>3</td>\n",
       "    </tr>\n",
       "    <tr>\n",
       "      <th>15</th>\n",
       "      <td>1</td>\n",
       "      <td>1</td>\n",
       "      <td>1</td>\n",
       "      <td>1</td>\n",
       "      <td>1</td>\n",
       "      <td>2</td>\n",
       "      <td>3</td>\n",
       "      <td>1</td>\n",
       "    </tr>\n",
       "    <tr>\n",
       "      <th>16</th>\n",
       "      <td>1</td>\n",
       "      <td>1</td>\n",
       "      <td>1</td>\n",
       "      <td>1</td>\n",
       "      <td>1</td>\n",
       "      <td>2</td>\n",
       "      <td>3</td>\n",
       "      <td>2</td>\n",
       "    </tr>\n",
       "    <tr>\n",
       "      <th>17</th>\n",
       "      <td>1</td>\n",
       "      <td>1</td>\n",
       "      <td>1</td>\n",
       "      <td>1</td>\n",
       "      <td>1</td>\n",
       "      <td>2</td>\n",
       "      <td>3</td>\n",
       "      <td>3</td>\n",
       "    </tr>\n",
       "    <tr>\n",
       "      <th>18</th>\n",
       "      <td>1</td>\n",
       "      <td>1</td>\n",
       "      <td>1</td>\n",
       "      <td>1</td>\n",
       "      <td>2</td>\n",
       "      <td>1</td>\n",
       "      <td>1</td>\n",
       "      <td>1</td>\n",
       "    </tr>\n",
       "    <tr>\n",
       "      <th>19</th>\n",
       "      <td>1</td>\n",
       "      <td>1</td>\n",
       "      <td>1</td>\n",
       "      <td>1</td>\n",
       "      <td>2</td>\n",
       "      <td>1</td>\n",
       "      <td>1</td>\n",
       "      <td>2</td>\n",
       "    </tr>\n",
       "    <tr>\n",
       "      <th>20</th>\n",
       "      <td>1</td>\n",
       "      <td>1</td>\n",
       "      <td>1</td>\n",
       "      <td>1</td>\n",
       "      <td>2</td>\n",
       "      <td>1</td>\n",
       "      <td>1</td>\n",
       "      <td>3</td>\n",
       "    </tr>\n",
       "    <tr>\n",
       "      <th>21</th>\n",
       "      <td>1</td>\n",
       "      <td>1</td>\n",
       "      <td>1</td>\n",
       "      <td>1</td>\n",
       "      <td>2</td>\n",
       "      <td>1</td>\n",
       "      <td>2</td>\n",
       "      <td>1</td>\n",
       "    </tr>\n",
       "    <tr>\n",
       "      <th>22</th>\n",
       "      <td>1</td>\n",
       "      <td>1</td>\n",
       "      <td>1</td>\n",
       "      <td>1</td>\n",
       "      <td>2</td>\n",
       "      <td>1</td>\n",
       "      <td>2</td>\n",
       "      <td>2</td>\n",
       "    </tr>\n",
       "    <tr>\n",
       "      <th>23</th>\n",
       "      <td>1</td>\n",
       "      <td>1</td>\n",
       "      <td>1</td>\n",
       "      <td>1</td>\n",
       "      <td>2</td>\n",
       "      <td>1</td>\n",
       "      <td>2</td>\n",
       "      <td>3</td>\n",
       "    </tr>\n",
       "    <tr>\n",
       "      <th>24</th>\n",
       "      <td>1</td>\n",
       "      <td>1</td>\n",
       "      <td>1</td>\n",
       "      <td>1</td>\n",
       "      <td>2</td>\n",
       "      <td>1</td>\n",
       "      <td>3</td>\n",
       "      <td>1</td>\n",
       "    </tr>\n",
       "    <tr>\n",
       "      <th>25</th>\n",
       "      <td>1</td>\n",
       "      <td>1</td>\n",
       "      <td>1</td>\n",
       "      <td>1</td>\n",
       "      <td>2</td>\n",
       "      <td>1</td>\n",
       "      <td>3</td>\n",
       "      <td>2</td>\n",
       "    </tr>\n",
       "    <tr>\n",
       "      <th>26</th>\n",
       "      <td>1</td>\n",
       "      <td>1</td>\n",
       "      <td>1</td>\n",
       "      <td>1</td>\n",
       "      <td>2</td>\n",
       "      <td>1</td>\n",
       "      <td>3</td>\n",
       "      <td>3</td>\n",
       "    </tr>\n",
       "    <tr>\n",
       "      <th>27</th>\n",
       "      <td>1</td>\n",
       "      <td>1</td>\n",
       "      <td>1</td>\n",
       "      <td>1</td>\n",
       "      <td>2</td>\n",
       "      <td>2</td>\n",
       "      <td>1</td>\n",
       "      <td>1</td>\n",
       "    </tr>\n",
       "    <tr>\n",
       "      <th>28</th>\n",
       "      <td>1</td>\n",
       "      <td>1</td>\n",
       "      <td>1</td>\n",
       "      <td>1</td>\n",
       "      <td>2</td>\n",
       "      <td>2</td>\n",
       "      <td>1</td>\n",
       "      <td>2</td>\n",
       "    </tr>\n",
       "    <tr>\n",
       "      <th>29</th>\n",
       "      <td>1</td>\n",
       "      <td>1</td>\n",
       "      <td>1</td>\n",
       "      <td>1</td>\n",
       "      <td>2</td>\n",
       "      <td>2</td>\n",
       "      <td>1</td>\n",
       "      <td>3</td>\n",
       "    </tr>\n",
       "    <tr>\n",
       "      <th>...</th>\n",
       "      <td>...</td>\n",
       "      <td>...</td>\n",
       "      <td>...</td>\n",
       "      <td>...</td>\n",
       "      <td>...</td>\n",
       "      <td>...</td>\n",
       "      <td>...</td>\n",
       "      <td>...</td>\n",
       "    </tr>\n",
       "    <tr>\n",
       "      <th>12930</th>\n",
       "      <td>3</td>\n",
       "      <td>5</td>\n",
       "      <td>4</td>\n",
       "      <td>4</td>\n",
       "      <td>2</td>\n",
       "      <td>1</td>\n",
       "      <td>3</td>\n",
       "      <td>1</td>\n",
       "    </tr>\n",
       "    <tr>\n",
       "      <th>12931</th>\n",
       "      <td>3</td>\n",
       "      <td>5</td>\n",
       "      <td>4</td>\n",
       "      <td>4</td>\n",
       "      <td>2</td>\n",
       "      <td>1</td>\n",
       "      <td>3</td>\n",
       "      <td>2</td>\n",
       "    </tr>\n",
       "    <tr>\n",
       "      <th>12932</th>\n",
       "      <td>3</td>\n",
       "      <td>5</td>\n",
       "      <td>4</td>\n",
       "      <td>4</td>\n",
       "      <td>2</td>\n",
       "      <td>1</td>\n",
       "      <td>3</td>\n",
       "      <td>3</td>\n",
       "    </tr>\n",
       "    <tr>\n",
       "      <th>12933</th>\n",
       "      <td>3</td>\n",
       "      <td>5</td>\n",
       "      <td>4</td>\n",
       "      <td>4</td>\n",
       "      <td>2</td>\n",
       "      <td>2</td>\n",
       "      <td>1</td>\n",
       "      <td>1</td>\n",
       "    </tr>\n",
       "    <tr>\n",
       "      <th>12934</th>\n",
       "      <td>3</td>\n",
       "      <td>5</td>\n",
       "      <td>4</td>\n",
       "      <td>4</td>\n",
       "      <td>2</td>\n",
       "      <td>2</td>\n",
       "      <td>1</td>\n",
       "      <td>2</td>\n",
       "    </tr>\n",
       "    <tr>\n",
       "      <th>12935</th>\n",
       "      <td>3</td>\n",
       "      <td>5</td>\n",
       "      <td>4</td>\n",
       "      <td>4</td>\n",
       "      <td>2</td>\n",
       "      <td>2</td>\n",
       "      <td>1</td>\n",
       "      <td>3</td>\n",
       "    </tr>\n",
       "    <tr>\n",
       "      <th>12936</th>\n",
       "      <td>3</td>\n",
       "      <td>5</td>\n",
       "      <td>4</td>\n",
       "      <td>4</td>\n",
       "      <td>2</td>\n",
       "      <td>2</td>\n",
       "      <td>2</td>\n",
       "      <td>1</td>\n",
       "    </tr>\n",
       "    <tr>\n",
       "      <th>12937</th>\n",
       "      <td>3</td>\n",
       "      <td>5</td>\n",
       "      <td>4</td>\n",
       "      <td>4</td>\n",
       "      <td>2</td>\n",
       "      <td>2</td>\n",
       "      <td>2</td>\n",
       "      <td>2</td>\n",
       "    </tr>\n",
       "    <tr>\n",
       "      <th>12938</th>\n",
       "      <td>3</td>\n",
       "      <td>5</td>\n",
       "      <td>4</td>\n",
       "      <td>4</td>\n",
       "      <td>2</td>\n",
       "      <td>2</td>\n",
       "      <td>2</td>\n",
       "      <td>3</td>\n",
       "    </tr>\n",
       "    <tr>\n",
       "      <th>12939</th>\n",
       "      <td>3</td>\n",
       "      <td>5</td>\n",
       "      <td>4</td>\n",
       "      <td>4</td>\n",
       "      <td>2</td>\n",
       "      <td>2</td>\n",
       "      <td>3</td>\n",
       "      <td>1</td>\n",
       "    </tr>\n",
       "    <tr>\n",
       "      <th>12940</th>\n",
       "      <td>3</td>\n",
       "      <td>5</td>\n",
       "      <td>4</td>\n",
       "      <td>4</td>\n",
       "      <td>2</td>\n",
       "      <td>2</td>\n",
       "      <td>3</td>\n",
       "      <td>2</td>\n",
       "    </tr>\n",
       "    <tr>\n",
       "      <th>12941</th>\n",
       "      <td>3</td>\n",
       "      <td>5</td>\n",
       "      <td>4</td>\n",
       "      <td>4</td>\n",
       "      <td>2</td>\n",
       "      <td>2</td>\n",
       "      <td>3</td>\n",
       "      <td>3</td>\n",
       "    </tr>\n",
       "    <tr>\n",
       "      <th>12942</th>\n",
       "      <td>3</td>\n",
       "      <td>5</td>\n",
       "      <td>4</td>\n",
       "      <td>4</td>\n",
       "      <td>3</td>\n",
       "      <td>1</td>\n",
       "      <td>1</td>\n",
       "      <td>1</td>\n",
       "    </tr>\n",
       "    <tr>\n",
       "      <th>12943</th>\n",
       "      <td>3</td>\n",
       "      <td>5</td>\n",
       "      <td>4</td>\n",
       "      <td>4</td>\n",
       "      <td>3</td>\n",
       "      <td>1</td>\n",
       "      <td>1</td>\n",
       "      <td>2</td>\n",
       "    </tr>\n",
       "    <tr>\n",
       "      <th>12944</th>\n",
       "      <td>3</td>\n",
       "      <td>5</td>\n",
       "      <td>4</td>\n",
       "      <td>4</td>\n",
       "      <td>3</td>\n",
       "      <td>1</td>\n",
       "      <td>1</td>\n",
       "      <td>3</td>\n",
       "    </tr>\n",
       "    <tr>\n",
       "      <th>12945</th>\n",
       "      <td>3</td>\n",
       "      <td>5</td>\n",
       "      <td>4</td>\n",
       "      <td>4</td>\n",
       "      <td>3</td>\n",
       "      <td>1</td>\n",
       "      <td>2</td>\n",
       "      <td>1</td>\n",
       "    </tr>\n",
       "    <tr>\n",
       "      <th>12946</th>\n",
       "      <td>3</td>\n",
       "      <td>5</td>\n",
       "      <td>4</td>\n",
       "      <td>4</td>\n",
       "      <td>3</td>\n",
       "      <td>1</td>\n",
       "      <td>2</td>\n",
       "      <td>2</td>\n",
       "    </tr>\n",
       "    <tr>\n",
       "      <th>12947</th>\n",
       "      <td>3</td>\n",
       "      <td>5</td>\n",
       "      <td>4</td>\n",
       "      <td>4</td>\n",
       "      <td>3</td>\n",
       "      <td>1</td>\n",
       "      <td>2</td>\n",
       "      <td>3</td>\n",
       "    </tr>\n",
       "    <tr>\n",
       "      <th>12948</th>\n",
       "      <td>3</td>\n",
       "      <td>5</td>\n",
       "      <td>4</td>\n",
       "      <td>4</td>\n",
       "      <td>3</td>\n",
       "      <td>1</td>\n",
       "      <td>3</td>\n",
       "      <td>1</td>\n",
       "    </tr>\n",
       "    <tr>\n",
       "      <th>12949</th>\n",
       "      <td>3</td>\n",
       "      <td>5</td>\n",
       "      <td>4</td>\n",
       "      <td>4</td>\n",
       "      <td>3</td>\n",
       "      <td>1</td>\n",
       "      <td>3</td>\n",
       "      <td>2</td>\n",
       "    </tr>\n",
       "    <tr>\n",
       "      <th>12950</th>\n",
       "      <td>3</td>\n",
       "      <td>5</td>\n",
       "      <td>4</td>\n",
       "      <td>4</td>\n",
       "      <td>3</td>\n",
       "      <td>1</td>\n",
       "      <td>3</td>\n",
       "      <td>3</td>\n",
       "    </tr>\n",
       "    <tr>\n",
       "      <th>12951</th>\n",
       "      <td>3</td>\n",
       "      <td>5</td>\n",
       "      <td>4</td>\n",
       "      <td>4</td>\n",
       "      <td>3</td>\n",
       "      <td>2</td>\n",
       "      <td>1</td>\n",
       "      <td>1</td>\n",
       "    </tr>\n",
       "    <tr>\n",
       "      <th>12952</th>\n",
       "      <td>3</td>\n",
       "      <td>5</td>\n",
       "      <td>4</td>\n",
       "      <td>4</td>\n",
       "      <td>3</td>\n",
       "      <td>2</td>\n",
       "      <td>1</td>\n",
       "      <td>2</td>\n",
       "    </tr>\n",
       "    <tr>\n",
       "      <th>12953</th>\n",
       "      <td>3</td>\n",
       "      <td>5</td>\n",
       "      <td>4</td>\n",
       "      <td>4</td>\n",
       "      <td>3</td>\n",
       "      <td>2</td>\n",
       "      <td>1</td>\n",
       "      <td>3</td>\n",
       "    </tr>\n",
       "    <tr>\n",
       "      <th>12954</th>\n",
       "      <td>3</td>\n",
       "      <td>5</td>\n",
       "      <td>4</td>\n",
       "      <td>4</td>\n",
       "      <td>3</td>\n",
       "      <td>2</td>\n",
       "      <td>2</td>\n",
       "      <td>1</td>\n",
       "    </tr>\n",
       "    <tr>\n",
       "      <th>12955</th>\n",
       "      <td>3</td>\n",
       "      <td>5</td>\n",
       "      <td>4</td>\n",
       "      <td>4</td>\n",
       "      <td>3</td>\n",
       "      <td>2</td>\n",
       "      <td>2</td>\n",
       "      <td>2</td>\n",
       "    </tr>\n",
       "    <tr>\n",
       "      <th>12956</th>\n",
       "      <td>3</td>\n",
       "      <td>5</td>\n",
       "      <td>4</td>\n",
       "      <td>4</td>\n",
       "      <td>3</td>\n",
       "      <td>2</td>\n",
       "      <td>2</td>\n",
       "      <td>3</td>\n",
       "    </tr>\n",
       "    <tr>\n",
       "      <th>12957</th>\n",
       "      <td>3</td>\n",
       "      <td>5</td>\n",
       "      <td>4</td>\n",
       "      <td>4</td>\n",
       "      <td>3</td>\n",
       "      <td>2</td>\n",
       "      <td>3</td>\n",
       "      <td>1</td>\n",
       "    </tr>\n",
       "    <tr>\n",
       "      <th>12958</th>\n",
       "      <td>3</td>\n",
       "      <td>5</td>\n",
       "      <td>4</td>\n",
       "      <td>4</td>\n",
       "      <td>3</td>\n",
       "      <td>2</td>\n",
       "      <td>3</td>\n",
       "      <td>2</td>\n",
       "    </tr>\n",
       "    <tr>\n",
       "      <th>12959</th>\n",
       "      <td>3</td>\n",
       "      <td>5</td>\n",
       "      <td>4</td>\n",
       "      <td>4</td>\n",
       "      <td>3</td>\n",
       "      <td>2</td>\n",
       "      <td>3</td>\n",
       "      <td>3</td>\n",
       "    </tr>\n",
       "  </tbody>\n",
       "</table>\n",
       "<p>12960 rows × 8 columns</p>\n",
       "</div>"
      ],
      "text/plain": [
       "       parents  has_nurs  form  children  housing  finance  social  health\n",
       "0            1         1     1         1        1        1       1       1\n",
       "1            1         1     1         1        1        1       1       2\n",
       "2            1         1     1         1        1        1       1       3\n",
       "3            1         1     1         1        1        1       2       1\n",
       "4            1         1     1         1        1        1       2       2\n",
       "5            1         1     1         1        1        1       2       3\n",
       "6            1         1     1         1        1        1       3       1\n",
       "7            1         1     1         1        1        1       3       2\n",
       "8            1         1     1         1        1        1       3       3\n",
       "9            1         1     1         1        1        2       1       1\n",
       "10           1         1     1         1        1        2       1       2\n",
       "11           1         1     1         1        1        2       1       3\n",
       "12           1         1     1         1        1        2       2       1\n",
       "13           1         1     1         1        1        2       2       2\n",
       "14           1         1     1         1        1        2       2       3\n",
       "15           1         1     1         1        1        2       3       1\n",
       "16           1         1     1         1        1        2       3       2\n",
       "17           1         1     1         1        1        2       3       3\n",
       "18           1         1     1         1        2        1       1       1\n",
       "19           1         1     1         1        2        1       1       2\n",
       "20           1         1     1         1        2        1       1       3\n",
       "21           1         1     1         1        2        1       2       1\n",
       "22           1         1     1         1        2        1       2       2\n",
       "23           1         1     1         1        2        1       2       3\n",
       "24           1         1     1         1        2        1       3       1\n",
       "25           1         1     1         1        2        1       3       2\n",
       "26           1         1     1         1        2        1       3       3\n",
       "27           1         1     1         1        2        2       1       1\n",
       "28           1         1     1         1        2        2       1       2\n",
       "29           1         1     1         1        2        2       1       3\n",
       "...        ...       ...   ...       ...      ...      ...     ...     ...\n",
       "12930        3         5     4         4        2        1       3       1\n",
       "12931        3         5     4         4        2        1       3       2\n",
       "12932        3         5     4         4        2        1       3       3\n",
       "12933        3         5     4         4        2        2       1       1\n",
       "12934        3         5     4         4        2        2       1       2\n",
       "12935        3         5     4         4        2        2       1       3\n",
       "12936        3         5     4         4        2        2       2       1\n",
       "12937        3         5     4         4        2        2       2       2\n",
       "12938        3         5     4         4        2        2       2       3\n",
       "12939        3         5     4         4        2        2       3       1\n",
       "12940        3         5     4         4        2        2       3       2\n",
       "12941        3         5     4         4        2        2       3       3\n",
       "12942        3         5     4         4        3        1       1       1\n",
       "12943        3         5     4         4        3        1       1       2\n",
       "12944        3         5     4         4        3        1       1       3\n",
       "12945        3         5     4         4        3        1       2       1\n",
       "12946        3         5     4         4        3        1       2       2\n",
       "12947        3         5     4         4        3        1       2       3\n",
       "12948        3         5     4         4        3        1       3       1\n",
       "12949        3         5     4         4        3        1       3       2\n",
       "12950        3         5     4         4        3        1       3       3\n",
       "12951        3         5     4         4        3        2       1       1\n",
       "12952        3         5     4         4        3        2       1       2\n",
       "12953        3         5     4         4        3        2       1       3\n",
       "12954        3         5     4         4        3        2       2       1\n",
       "12955        3         5     4         4        3        2       2       2\n",
       "12956        3         5     4         4        3        2       2       3\n",
       "12957        3         5     4         4        3        2       3       1\n",
       "12958        3         5     4         4        3        2       3       2\n",
       "12959        3         5     4         4        3        2       3       3\n",
       "\n",
       "[12960 rows x 8 columns]"
      ]
     },
     "execution_count": 9,
     "metadata": {},
     "output_type": "execute_result"
    }
   ],
   "source": [
    "# print features after mapping\n",
    "df_nursery_copy[df_nursery_copy.columns[0:8]]"
   ]
  },
  {
   "cell_type": "markdown",
   "metadata": {},
   "source": [
    "## Encoding class labels"
   ]
  },
  {
   "cell_type": "markdown",
   "metadata": {},
   "source": [
    "### Nursery dataset"
   ]
  },
  {
   "cell_type": "code",
   "execution_count": 10,
   "metadata": {},
   "outputs": [],
   "source": [
    "# print labels before encoding\n",
    "#df_nursery_copy[df_nursery_copy.columns[8]]"
   ]
  },
  {
   "cell_type": "code",
   "execution_count": 11,
   "metadata": {},
   "outputs": [
    {
     "data": {
      "text/plain": [
       "{'not_recom': 0,\n",
       " 'priority': 1,\n",
       " 'recommend': 2,\n",
       " 'spec_prior': 3,\n",
       " 'very_recom': 4}"
      ]
     },
     "execution_count": 11,
     "metadata": {},
     "output_type": "execute_result"
    }
   ],
   "source": [
    "class_mapping = {label:idx for idx,label in enumerate(np.unique(df_nursery_copy[df_nursery_copy.columns[8]]))}\n",
    "\n",
    "class_mapping"
   ]
  },
  {
   "cell_type": "code",
   "execution_count": 12,
   "metadata": {},
   "outputs": [],
   "source": [
    "# map labels\n",
    "df_nursery_copy[df_nursery_copy.columns[8]] = df_nursery_copy[df_nursery_copy.columns[8]].map(class_mapping)"
   ]
  },
  {
   "cell_type": "code",
   "execution_count": 13,
   "metadata": {},
   "outputs": [
    {
     "data": {
      "text/plain": [
       "0        2\n",
       "1        1\n",
       "2        0\n",
       "3        2\n",
       "4        1\n",
       "5        0\n",
       "6        1\n",
       "7        1\n",
       "8        0\n",
       "9        4\n",
       "10       1\n",
       "11       0\n",
       "12       4\n",
       "13       1\n",
       "14       0\n",
       "15       1\n",
       "16       1\n",
       "17       0\n",
       "18       4\n",
       "19       1\n",
       "20       0\n",
       "21       4\n",
       "22       1\n",
       "23       0\n",
       "24       1\n",
       "25       1\n",
       "26       0\n",
       "27       4\n",
       "28       1\n",
       "29       0\n",
       "        ..\n",
       "12930    3\n",
       "12931    3\n",
       "12932    0\n",
       "12933    3\n",
       "12934    3\n",
       "12935    0\n",
       "12936    3\n",
       "12937    3\n",
       "12938    0\n",
       "12939    3\n",
       "12940    3\n",
       "12941    0\n",
       "12942    3\n",
       "12943    3\n",
       "12944    0\n",
       "12945    3\n",
       "12946    3\n",
       "12947    0\n",
       "12948    3\n",
       "12949    3\n",
       "12950    0\n",
       "12951    3\n",
       "12952    3\n",
       "12953    0\n",
       "12954    3\n",
       "12955    3\n",
       "12956    0\n",
       "12957    3\n",
       "12958    3\n",
       "12959    0\n",
       "Name: class, Length: 12960, dtype: int64"
      ]
     },
     "execution_count": 13,
     "metadata": {},
     "output_type": "execute_result"
    }
   ],
   "source": [
    "# print labels after encoding\n",
    "df_nursery_copy[df_nursery_copy.columns[8]]"
   ]
  },
  {
   "cell_type": "markdown",
   "metadata": {},
   "source": [
    "## Partitioning datasets in training and test sets"
   ]
  },
  {
   "cell_type": "code",
   "execution_count": 14,
   "metadata": {},
   "outputs": [],
   "source": [
    "# Added version check for recent scikit-learn 0.18 checks\n",
    "from distutils.version import LooseVersion as Version\n",
    "from sklearn import __version__ as sklearn_version\n",
    "\n",
    "if Version(sklearn_version) < '0.18':\n",
    "    from sklearn.cross_validation import train_test_split\n",
    "else:\n",
    "    from sklearn.model_selection import train_test_split"
   ]
  },
  {
   "cell_type": "markdown",
   "metadata": {},
   "source": [
    "### Banknotes dataset"
   ]
  },
  {
   "cell_type": "code",
   "execution_count": 15,
   "metadata": {},
   "outputs": [],
   "source": [
    "# labels reading\n",
    "y1=df_bankNotes[df_bankNotes.columns[4]]\n",
    "# features reading\n",
    "X1=df_bankNotes[df_bankNotes.columns[0:4]]\n",
    "\n",
    "# get training and test sets\n",
    "X_train1,X_test1,y_train1,y_test1 = train_test_split(X1,y1,test_size = 0.3)"
   ]
  },
  {
   "cell_type": "markdown",
   "metadata": {},
   "source": [
    "### Nursery dataset"
   ]
  },
  {
   "cell_type": "code",
   "execution_count": 16,
   "metadata": {},
   "outputs": [],
   "source": [
    "# labels reading\n",
    "y2=df_nursery_copy[df_nursery_copy.columns[8]]\n",
    "# features reading\n",
    "X2=df_nursery_copy[df_nursery_copy.columns[0:8]]\n",
    "\n",
    "# get training and test sets\n",
    "X_train2,X_test2,y_train2,y_test2 = train_test_split(X2,y2,test_size = 0.3)"
   ]
  },
  {
   "cell_type": "markdown",
   "metadata": {},
   "source": [
    "## Rank features"
   ]
  },
  {
   "cell_type": "markdown",
   "metadata": {},
   "source": [
    "### 1. Univariate Feature Selection\n",
    "\n",
    "Univariate feature selection selects the best features by running univariate statistical tests like **chi-squared test, F-1 test, and mutual information** methods.\n",
    "Can't use the **chi-squared** function, if there are negative values.\n",
    "#### 1.1 Mutual Info Classif"
   ]
  },
  {
   "cell_type": "code",
   "execution_count": 17,
   "metadata": {},
   "outputs": [
    {
     "data": {
      "text/plain": [
       "SelectKBest(k=2, score_func=<function mutual_info_classif at 0x10D504F8>)"
      ]
     },
     "execution_count": 17,
     "metadata": {},
     "output_type": "execute_result"
    }
   ],
   "source": [
    "from sklearn.feature_selection import SelectKBest\n",
    "from sklearn.feature_selection import chi2, mutual_info_classif\n",
    "\n",
    "test = SelectKBest(score_func = mutual_info_classif, k=2)\n",
    "test"
   ]
  },
  {
   "cell_type": "markdown",
   "metadata": {},
   "source": [
    "##### Banknotes dataset"
   ]
  },
  {
   "cell_type": "code",
   "execution_count": 18,
   "metadata": {},
   "outputs": [
    {
     "name": "stdout",
     "output_type": "stream",
     "text": [
      "[(0.3637458539241032, 'variance of Wavelet Transformed image'), (0.24186871207205063, 'skewness of Wavelet Transformed image'), (0.126917691832646, 'curtosis of Wavelet Transformed image'), (0.01232747568794279, 'entropy of image')]\n"
     ]
    }
   ],
   "source": [
    "test.fit(X_train1, y_train1)\n",
    "num_features = len(X_train1.columns)\n",
    "\n",
    "scores = []\n",
    "for i in range(num_features):\n",
    "    score = test.scores_[i]\n",
    "    scores.append((score, X_train1.columns[i]))\n",
    "        \n",
    "print (sorted(scores, reverse = True))"
   ]
  },
  {
   "cell_type": "markdown",
   "metadata": {},
   "source": [
    "##### Nursery dataset"
   ]
  },
  {
   "cell_type": "code",
   "execution_count": 19,
   "metadata": {},
   "outputs": [
    {
     "name": "stdout",
     "output_type": "stream",
     "text": [
      "[(0.6700625080067213, 'health'), (0.13145167515205047, 'has_nurs'), (0.04703571848043975, 'parents'), (0.013280793555050519, 'social'), (0.01069037532658923, 'housing'), (0.008618154564310476, 'finance'), (0.00647879995682521, 'form'), (0.00022662849060939294, 'children')]\n"
     ]
    }
   ],
   "source": [
    "test.fit(X_train2, y_train2)\n",
    "num_features = len(X_train2.columns)\n",
    "\n",
    "scores = []\n",
    "for i in range(num_features):\n",
    "    score = test.scores_[i]\n",
    "    scores.append((score, X_train2.columns[i]))\n",
    "        \n",
    "print (sorted(scores, reverse = True))"
   ]
  },
  {
   "cell_type": "markdown",
   "metadata": {},
   "source": [
    "#### 1.2 Chi-squared"
   ]
  },
  {
   "cell_type": "code",
   "execution_count": 20,
   "metadata": {},
   "outputs": [],
   "source": [
    "from sklearn.feature_selection import chi2\n",
    "test = SelectKBest(score_func = chi2, k=2)"
   ]
  },
  {
   "cell_type": "markdown",
   "metadata": {},
   "source": [
    "##### Nursery dataset"
   ]
  },
  {
   "cell_type": "code",
   "execution_count": 21,
   "metadata": {},
   "outputs": [
    {
     "name": "stdout",
     "output_type": "stream",
     "text": [
      "[(2310.7297700848753, 'health'), (1418.1760318794834, 'has_nurs'), (263.21361315200585, 'parents'), (78.93686498301349, 'housing'), (78.0969818515004, 'children'), (48.72560736363852, 'social'), (29.634332006123717, 'form'), (10.040985420897862, 'finance')]\n"
     ]
    }
   ],
   "source": [
    "test.fit(X_train2, y_train2)\n",
    "num_features = len(X_train2.columns)\n",
    "\n",
    "scores = []\n",
    "for i in range(num_features):\n",
    "    score = test.scores_[i]\n",
    "    scores.append((score, X_train2.columns[i]))\n",
    "        \n",
    "print (sorted(scores, reverse = True))"
   ]
  },
  {
   "cell_type": "markdown",
   "metadata": {},
   "source": [
    "## Dimension reduction"
   ]
  },
  {
   "cell_type": "markdown",
   "metadata": {},
   "source": [
    "### Banknotes dataset"
   ]
  },
  {
   "cell_type": "code",
   "execution_count": 22,
   "metadata": {},
   "outputs": [
    {
     "name": "stdout",
     "output_type": "stream",
     "text": [
      "Explained variance ratio: [0.75953811 0.14362387 0.06639406 0.03044396]\n"
     ]
    },
    {
     "data": {
      "image/png": "[encoded data removed]",
      "text/plain": [
       "<Figure size 432x288 with 1 Axes>"
      ]
     },
     "metadata": {
      "needs_background": "light"
     },
     "output_type": "display_data"
    }
   ],
   "source": [
    "import matplotlib.pyplot as plt\n",
    "from sklearn.decomposition import PCA\n",
    "\n",
    "pca = PCA()\n",
    "principalComponents = pca.fit_transform(X_train1)\n",
    "\n",
    "print(\"Explained variance ratio:\",pca.explained_variance_ratio_)\n",
    "range_value = pca.explained_variance_ratio_.shape[0]\n",
    "\n",
    "plt.bar(range(range_value), pca.explained_variance_ratio_, alpha=0.5, align='center')\n",
    "plt.step(range(range_value), np.cumsum(pca.explained_variance_ratio_), where='mid')\n",
    "plt.ylabel('Explained variance ratio')\n",
    "plt.xlabel('Principal components')\n",
    "plt.show()"
   ]
  },
  {
   "cell_type": "code",
   "execution_count": 23,
   "metadata": {},
   "outputs": [
    {
     "data": {
      "image/png": "[encoded data removed]",
      "text/plain": [
       "<Figure size 1440x1440 with 1 Axes>"
      ]
     },
     "metadata": {
      "needs_background": "light"
     },
     "output_type": "display_data"
    }
   ],
   "source": [
    "pca = PCA(n_components=2)\n",
    "X_train_pca1 = pca.fit_transform(X_train1)\n",
    "print\n",
    "\n",
    "fig = plt.figure(figsize=(20, 20))\n",
    "ax = fig.add_subplot(2,2,1) \n",
    "\n",
    "ax.scatter(X_train_pca1[y_train1 == 0, 0], X_train_pca1[y_train1 == 0, 1],\n",
    "              color='red', marker='^', alpha=0.5)\n",
    "ax.scatter(X_train_pca1[y_train1 == 1, 0], X_train_pca1[y_train1 == 1, 1],\n",
    "              color='green', marker='o', alpha=0.5)\n",
    "\n",
    "ax.set_xlabel('PC1')\n",
    "ax.set_ylabel('PC2')\n",
    "\n",
    "# plt.savefig('./figures/half_moon_2.png', dpi=300)\n",
    "ax.grid()\n",
    "plt.show()"
   ]
  },
  {
   "cell_type": "code",
   "execution_count": 24,
   "metadata": {},
   "outputs": [
    {
     "name": "stdout",
     "output_type": "stream",
     "text": [
      "eigenvectors\n",
      " [[-0.13106622 -0.81165849  0.55114507  0.14237719]\n",
      " [-0.81139763  0.24837136  0.28754934 -0.44414065]]\n",
      "singular_ values\n",
      " [217.82527752  94.7211152 ]\n"
     ]
    }
   ],
   "source": [
    "# The eigenvectors\n",
    "print('eigenvectors\\n', pca.components_)\n",
    "# singular values\n",
    "print('singular_ values\\n', pca.singular_values_)"
   ]
  },
  {
   "cell_type": "code",
   "execution_count": 25,
   "metadata": {},
   "outputs": [
    {
     "data": {
      "image/png": "[encoded data removed]",
      "text/plain": [
       "<Figure size 1440x1440 with 1 Axes>"
      ]
     },
     "metadata": {
      "needs_background": "light"
     },
     "output_type": "display_data"
    },
    {
     "name": "stdout",
     "output_type": "stream",
     "text": [
      "            0             1\n",
      "0   -0.006113 -2.503195e-07\n",
      "1   -0.004413 -1.580494e-07\n",
      "2   -0.005797 -2.294215e-07\n",
      "3   -0.006673 -2.861594e-07\n",
      "4   -0.005679 -2.244424e-07\n",
      "5   -0.004987 -1.863181e-07\n",
      "6   -0.005731 -2.310341e-07\n",
      "7   -0.006034 -2.462231e-07\n",
      "8   -0.004429 -1.588256e-07\n",
      "9   -0.006607 -2.880769e-07\n",
      "10  -0.005171 -1.962862e-07\n",
      "11  -0.004433 -1.590919e-07\n",
      "12  -0.004418 -1.582926e-07\n",
      "13  -0.004413 -1.580490e-07\n",
      "14  -0.004438 -1.592587e-07\n",
      "15  -0.004413 -1.580540e-07\n",
      "16  -0.004472 -1.609167e-07\n",
      "17  -0.005700 -2.252909e-07\n",
      "18  -0.005644 -2.339499e-07\n",
      "19  -0.004904 -1.822721e-07\n",
      "20  -0.004436 -1.591871e-07\n",
      "21  -0.004818 -1.779870e-07\n",
      "22  -0.004609 -1.677096e-07\n",
      "23  -0.004751 -1.745749e-07\n",
      "24  -0.004420 -1.583973e-07\n",
      "25  -0.005425 -2.278909e-07\n",
      "26  -0.004547 -1.649531e-07\n",
      "27  -0.004521 -1.634784e-07\n",
      "28  -0.004435 -1.590831e-07\n",
      "29  -0.005092 -1.920264e-07\n",
      "..        ...           ...\n",
      "930 -0.004485 -1.614757e-07\n",
      "931 -0.004414 -1.580884e-07\n",
      "932 -0.005564 -2.178262e-07\n",
      "933 -0.004426 -1.586590e-07\n",
      "934 -0.004480 -1.628990e-07\n",
      "935 -0.004752 -1.747234e-07\n",
      "936 -0.004778 -1.764531e-07\n",
      "937 -0.005709 -2.257747e-07\n",
      "938 -0.005060 -1.909926e-07\n",
      "939 -0.004415 -1.581300e-07\n",
      "940 -0.004635 -1.687582e-07\n",
      "941 -0.008865 -4.741469e-07\n",
      "942 -0.005648 -2.223020e-07\n",
      "943 -0.005535 -2.212323e-07\n",
      "944 -0.007843 -3.761659e-07\n",
      "945 -0.004421 -1.584532e-07\n",
      "946 -0.008865 -4.741469e-07\n",
      "947 -0.006023 -2.445830e-07\n",
      "948 -0.005024 -1.884800e-07\n",
      "949 -0.006121 -2.486864e-07\n",
      "950 -0.004413 -1.580504e-07\n",
      "951 -0.004543 -1.642691e-07\n",
      "952 -0.005472 -2.145967e-07\n",
      "953  0.995424  7.396102e-04\n",
      "954 -0.004529 -1.635851e-07\n",
      "955 -0.005001 -1.881499e-07\n",
      "956 -0.004606 -1.676071e-07\n",
      "957 -0.005101 -1.965344e-07\n",
      "958 -0.004628 -1.685036e-07\n",
      "959 -0.004474 -1.612866e-07\n",
      "\n",
      "[960 rows x 2 columns]\n"
     ]
    }
   ],
   "source": [
    "from sklearn.decomposition import KernelPCA\n",
    "\n",
    "kpca = KernelPCA( n_components = 2, kernel=\"rbf\", fit_inverse_transform=True, gamma=10)\n",
    "X_train_kpca1 = kpca.fit_transform(X_train1)\n",
    "fig = plt.figure(figsize=(20, 20))\n",
    "\n",
    "plt.subplot(2, 2, 1, aspect='equal')\n",
    "\n",
    "plt.scatter(X_train_kpca1[y_train1 == 0, 0], X_train_kpca1[y_train1 == 0, 1], c=\"red\",\n",
    "            marker='^', alpha=0.5)\n",
    "plt.scatter(X_train_kpca1[y_train1 == 1, 0], X_train_kpca1[y_train1 == 1, 1], c=\"green\",\n",
    "            marker='o', alpha=0.5)\n",
    "plt.title(\"Projection by KPCA - Cosine\")\n",
    "plt.xlabel(\"1st principal component in space induced by $\\phi$\")\n",
    "plt.ylabel(\"2nd component\")\n",
    "plt.grid()\n",
    "plt.show()\n",
    "\n",
    "X_train1_v2 = pd.DataFrame(data=X_train_kpca1)\n",
    "print(X_train1_v2)"
   ]
  },
  {
   "cell_type": "markdown",
   "metadata": {},
   "source": [
    "### Nursery dataset"
   ]
  },
  {
   "cell_type": "code",
   "execution_count": 26,
   "metadata": {},
   "outputs": [
    {
     "name": "stdout",
     "output_type": "stream",
     "text": [
      "Explained variance ratio: [0.26980591 0.16983889 0.16842298 0.09116187 0.08989362 0.08875958\n",
      " 0.0884742  0.03364295]\n"
     ]
    },
    {
     "data": {
      "image/png": "[encoded data removed]",
      "text/plain": [
       "<Figure size 432x288 with 1 Axes>"
      ]
     },
     "metadata": {
      "needs_background": "light"
     },
     "output_type": "display_data"
    }
   ],
   "source": [
    "pca = PCA()\n",
    "principalComponents = pca.fit_transform(X_train2)\n",
    "\n",
    "print(\"Explained variance ratio:\",pca.explained_variance_ratio_)\n",
    "range_value = pca.explained_variance_ratio_.shape[0]\n",
    "\n",
    "plt.bar(range(range_value), pca.explained_variance_ratio_, alpha=0.5, align='center')\n",
    "plt.step(range(range_value), np.cumsum(pca.explained_variance_ratio_), where='mid')\n",
    "plt.ylabel('Explained variance ratio')\n",
    "plt.xlabel('Principal components')\n",
    "plt.show()"
   ]
  },
  {
   "cell_type": "code",
   "execution_count": 27,
   "metadata": {},
   "outputs": [
    {
     "name": "stdout",
     "output_type": "stream",
     "text": [
      "eigenvectors\n",
      " [[ 4.92772777e-04  9.99818471e-01  8.29728019e-04  1.67820557e-02\n",
      "   5.96273263e-03  1.40931313e-03 -5.18315287e-04  6.53043362e-03]\n",
      " [ 1.35268621e-02 -1.51416370e-02 -3.84775021e-01  9.22725584e-01\n",
      "   4.07631517e-03  2.73511691e-03  8.88683738e-04 -9.40991962e-03]\n",
      " [ 6.59806369e-03 -7.31101026e-03  9.22884710e-01  3.84701235e-01\n",
      "   5.45132029e-03 -3.95620143e-03  7.57728922e-03  9.43414979e-03]\n",
      " [-4.16751744e-01  7.43359728e-03  9.56380433e-03  9.42283088e-03\n",
      "  -7.79634714e-01 -3.41870329e-03 -1.74538142e-01 -4.33332357e-01]\n",
      " [-4.44685248e-01  1.64136592e-03  2.48855991e-03 -7.50202999e-04\n",
      "   4.41116692e-01 -1.35033475e-03  5.24140701e-01 -5.77006366e-01]\n",
      " [-2.97458970e-01 -1.82745274e-03  6.45735489e-03  4.00225398e-03\n",
      "   4.44377666e-01  3.08926045e-03 -8.25401434e-01 -1.80799684e-01]\n",
      " [ 7.34734448e-01  4.13356593e-03  8.37546899e-03 -1.39496524e-02\n",
      "   4.51201947e-03  5.89710039e-03 -1.15998197e-01 -6.68111328e-01]\n",
      " [ 5.45091390e-03  1.38772546e-03 -4.66926355e-03  9.24396952e-04\n",
      "   3.46722058e-03 -9.99958525e-01 -3.37342131e-03 -2.29182264e-03]]\n",
      "singular_ values\n",
      " [134.83606024 106.97908839 106.53222434  78.37669342  77.82959237\n",
      "  77.33710905  77.21268512  47.61319819]\n"
     ]
    }
   ],
   "source": [
    "# The eigenvectors\n",
    "print('eigenvectors\\n', pca.components_)\n",
    "# singular values\n",
    "print('singular_ values\\n', pca.singular_values_)"
   ]
  },
  {
   "cell_type": "code",
   "execution_count": 28,
   "metadata": {},
   "outputs": [
    {
     "name": "stdout",
     "output_type": "stream",
     "text": [
      "PCA(copy=True, iterated_power='auto', n_components=7, random_state=None,\n",
      "  svd_solver='auto', tol=0.0, whiten=False)\n",
      "[[-2.01804453 -1.93514808  0.80996313 ...  0.00528781 -0.13680295\n",
      "  -0.7074466 ]\n",
      " [ 1.98709161 -1.95020967  0.80296099 ...  1.10586322 -0.49487712\n",
      "   1.33969374]\n",
      " [ 1.00866415  0.11908647 -1.56026391 ... -0.49912345 -1.31439651\n",
      "  -0.04425057]\n",
      " ...\n",
      " [ 2.03040884  1.55553903  0.09565144 ... -0.44005971 -0.44247968\n",
      "  -0.01477778]\n",
      " [-1.99428866 -0.995708    1.19913646 ... -0.52317165  0.83951943\n",
      "   0.13384842]\n",
      " [-0.00554957  0.12329973 -1.57048023 ...  0.08116044 -1.28177733\n",
      "  -0.12541637]]\n"
     ]
    }
   ],
   "source": [
    "# Only two components for illustration\n",
    "pca = PCA(n_components=7)\n",
    "X_train_pca2 = pca.fit_transform(X_train2)\n",
    "print(pca)\n",
    "\n",
    "print(X_train_pca2)"
   ]
  },
  {
   "cell_type": "code",
   "execution_count": 29,
   "metadata": {},
   "outputs": [
    {
     "data": {
      "text/plain": [
       "\"\\npca = PCA(n_components=7)\\nX_spca2 = pca.fit_transform(X_train2)\\n\\nfig = plt.figure(figsize=(20, 20))\\nax = fig.add_subplot(2,2,1) \\n\\nax.scatter(X_train_pca2[y_train2 == 0, 0], X_train_pca2[y_train2 == 0, 1],\\n              color='red', marker='^', alpha=0.5)\\nax.scatter(X_train_pca2[y_train2 == 1, 0], X_train_pca2[y_train2 == 1, 1],\\n              color='green', marker='o', alpha=0.5)\\nax.scatter(X_train_pca2[y_train2 == 2, 0], X_train_pca2[y_train2 == 2, 1],\\n              color='cyan', marker='x', alpha=0.5)\\nax.scatter(X_train_pca2[y_train2 == 3, 0], X_train_pca2[y_train2 == 3, 1],\\n              color='blue', marker='s', alpha=0.5)\\nax.scatter(X_train_pca2[y_train2 == 4, 0], X_train_pca2[y_train2 == 4, 1],\\n              color='yellow', marker='*', alpha=0.5)\\n\\nax.set_xlabel('PC1')\\nax.set_ylabel('PC2')\\n\\n# plt.savefig('./figures/half_moon_2.png', dpi=300)\\nax.grid()\\nplt.show()\\n\""
      ]
     },
     "execution_count": 29,
     "metadata": {},
     "output_type": "execute_result"
    }
   ],
   "source": [
    "'''\n",
    "pca = PCA(n_components=7)\n",
    "X_spca2 = pca.fit_transform(X_train2)\n",
    "\n",
    "fig = plt.figure(figsize=(20, 20))\n",
    "ax = fig.add_subplot(2,2,1) \n",
    "\n",
    "ax.scatter(X_train_pca2[y_train2 == 0, 0], X_train_pca2[y_train2 == 0, 1],\n",
    "              color='red', marker='^', alpha=0.5)\n",
    "ax.scatter(X_train_pca2[y_train2 == 1, 0], X_train_pca2[y_train2 == 1, 1],\n",
    "              color='green', marker='o', alpha=0.5)\n",
    "ax.scatter(X_train_pca2[y_train2 == 2, 0], X_train_pca2[y_train2 == 2, 1],\n",
    "              color='cyan', marker='x', alpha=0.5)\n",
    "ax.scatter(X_train_pca2[y_train2 == 3, 0], X_train_pca2[y_train2 == 3, 1],\n",
    "              color='blue', marker='s', alpha=0.5)\n",
    "ax.scatter(X_train_pca2[y_train2 == 4, 0], X_train_pca2[y_train2 == 4, 1],\n",
    "              color='yellow', marker='*', alpha=0.5)\n",
    "\n",
    "ax.set_xlabel('PC1')\n",
    "ax.set_ylabel('PC2')\n",
    "\n",
    "# plt.savefig('./figures/half_moon_2.png', dpi=300)\n",
    "ax.grid()\n",
    "plt.show()\n",
    "'''"
   ]
  },
  {
   "cell_type": "code",
   "execution_count": 30,
   "metadata": {},
   "outputs": [
    {
     "data": {
      "text/plain": [
       "'\\nfig= plt.figure(figsize=(20, 20))\\n\\nplt.subplot(2, 2, 1, aspect=\\'equal\\')\\n\\nplt.scatter(X_train_kpca2[y_train2 == 0, 0], X_train_kpca2[y_train2 == 0, 1], c=\"red\",\\n            marker=\\'^\\', alpha=0.5)\\nplt.scatter(X_train_kpca2[y_train2 == 1, 0], X_train_kpca2[y_train2 == 1, 1], c=\"green\",\\n            marker=\\'o\\', alpha=0.5)\\nplt.scatter(X_train_kpca2[y_train2 == 2, 0], X_train_kpca2[y_train2 == 2, 1], c=\"cyan\",\\n            marker=\\'x\\', alpha=0.5)\\nplt.scatter(X_train_kpca2[y_train2 == 3, 0], X_train_kpca2[y_train2 == 3, 1], c=\"blue\",\\n            marker=\\'s\\', alpha=0.5)\\nplt.scatter(X_train_kpca2[y_train2 == 4, 0], X_train_kpca2[y_train2 == 4, 1], c=\"yellow\",\\n            marker=\\'*\\', alpha=0.5)\\nplt.title(\"Projection by KPCA\")\\nplt.xlabel(\"1st principal component in space induced by $\\\\phi$\")\\nplt.ylabel(\"2nd component\")\\nplt.grid()\\nplt.show()\\n'"
      ]
     },
     "execution_count": 30,
     "metadata": {},
     "output_type": "execute_result"
    }
   ],
   "source": [
    "#from sklearn.decomposition import KernelPCA\n",
    "\n",
    "#kpca = KernelPCA(n_components = 7 ,kernel=\"rbf\", fit_inverse_transform=True, gamma=10)\n",
    "#X_train_kpca2 = kpca.fit_transform(X_train2)\n",
    "\n",
    "'''\n",
    "fig= plt.figure(figsize=(20, 20))\n",
    "\n",
    "plt.subplot(2, 2, 1, aspect='equal')\n",
    "\n",
    "plt.scatter(X_train_kpca2[y_train2 == 0, 0], X_train_kpca2[y_train2 == 0, 1], c=\"red\",\n",
    "            marker='^', alpha=0.5)\n",
    "plt.scatter(X_train_kpca2[y_train2 == 1, 0], X_train_kpca2[y_train2 == 1, 1], c=\"green\",\n",
    "            marker='o', alpha=0.5)\n",
    "plt.scatter(X_train_kpca2[y_train2 == 2, 0], X_train_kpca2[y_train2 == 2, 1], c=\"cyan\",\n",
    "            marker='x', alpha=0.5)\n",
    "plt.scatter(X_train_kpca2[y_train2 == 3, 0], X_train_kpca2[y_train2 == 3, 1], c=\"blue\",\n",
    "            marker='s', alpha=0.5)\n",
    "plt.scatter(X_train_kpca2[y_train2 == 4, 0], X_train_kpca2[y_train2 == 4, 1], c=\"yellow\",\n",
    "            marker='*', alpha=0.5)\n",
    "plt.title(\"Projection by KPCA\")\n",
    "plt.xlabel(\"1st principal component in space induced by $\\phi$\")\n",
    "plt.ylabel(\"2nd component\")\n",
    "plt.grid()\n",
    "plt.show()\n",
    "'''\n",
    "#X_train2_v2 = pd.DataFrame(data=X_train_kpca2)"
   ]
  },
  {
   "cell_type": "markdown",
   "metadata": {},
   "source": [
    "## Task B - Predictive Model"
   ]
  },
  {
   "cell_type": "code",
   "execution_count": 31,
   "metadata": {},
   "outputs": [],
   "source": [
    "from matplotlib.colors import ListedColormap\n",
    "\n",
    "def plot_decision_regions(X, y, classifier, resolution=0.02):\n",
    "# setup marker generator and color map\n",
    "    markers = ('s', 'x', 'o', '^', 'v')\n",
    "    colors = ('red', 'blue', 'lightgreen', 'gray', 'cyan')\n",
    "    cmap = ListedColormap(colors[:len(np.unique(y))])\n",
    "    #plot the decision surface\n",
    "    x1_min, x1_max = X[:, 0].min() - 1, X[:, 0].max() + 1\n",
    "    x2_min, x2_max = X[:, 1].min() - 1, X[:, 1].max() + 1\n",
    "    xx1, xx2 = np.meshgrid(np.arange(x1_min, x1_max, resolution),\n",
    "    np.arange(x2_min, x2_max, resolution))\n",
    "    \n",
    "    Z = classifier.predict(np.array([xx1.ravel(), xx2.ravel()]).T)\n",
    "    Z = Z.reshape(xx1.shape)\n",
    "    plt.contourf(xx1, xx2, Z, alpha=0.4, cmap=cmap)\n",
    "    plt.xlim(xx1.min(), xx1.max())\n",
    "    plt.ylim(xx2.min(), xx2.max())\n",
    "    # plot class samples\n",
    "    for idx, cl in enumerate(np.unique(y)):\n",
    "        plt.scatter(x=X[y == cl, 0], y=X[y == cl, 1],\n",
    "            alpha=0.8, c=cmap(idx), marker=markers[idx], label=cl)"
   ]
  },
  {
   "cell_type": "markdown",
   "metadata": {},
   "source": [
    "### MLP"
   ]
  },
  {
   "cell_type": "markdown",
   "metadata": {},
   "source": [
    "#### Banknotes dataset"
   ]
  },
  {
   "cell_type": "code",
   "execution_count": 32,
   "metadata": {},
   "outputs": [
    {
     "data": {
      "text/plain": [
       "MLPClassifier(activation='tanh', alpha=0.01, batch_size='auto', beta_1=0.9,\n",
       "       beta_2=0.999, early_stopping=False, epsilon=1e-08,\n",
       "       hidden_layer_sizes=(10, 5), learning_rate='constant',\n",
       "       learning_rate_init=0.001, max_iter=5000, momentum=0.9,\n",
       "       n_iter_no_change=10, nesterovs_momentum=True, power_t=0.5,\n",
       "       random_state=None, shuffle=True, solver='adam', tol=0.0001,\n",
       "       validation_fraction=0.1, verbose=False, warm_start=False)"
      ]
     },
     "execution_count": 32,
     "metadata": {},
     "output_type": "execute_result"
    }
   ],
   "source": [
    "from sklearn.neural_network import MLPClassifier\n",
    "#from sklearn.metrics import accuracy_score\n",
    "\n",
    "#mlp = MLPClassifier(hidden_layer_sizes=(30,30,30), max_iter = 500)\n",
    "#mlp = MLPClassifier(hidden_layer_sizes=(30,30,30), max_iter=500, alpha=0.0001,\n",
    " #   solver='sgd', verbose=10,  random_state=21,tol=0.000000001)\n",
    "#mlp.fit(X_train1, y_train1)\n",
    "\n",
    "mlp = MLPClassifier(activation='tanh', hidden_layer_sizes=(10,5), alpha=0.01, max_iter=5000)\n",
    "mlp"
   ]
  },
  {
   "cell_type": "code",
   "execution_count": 33,
   "metadata": {},
   "outputs": [],
   "source": [
    "# Código que encontrei online\n",
    "#y_pred = mlp.predict(X_test1)\n",
    "#accuracy_score(y_test1, y_pred)"
   ]
  },
  {
   "cell_type": "code",
   "execution_count": 34,
   "metadata": {},
   "outputs": [
    {
     "name": "stdout",
     "output_type": "stream",
     "text": [
      "            0             1\n",
      "0   -0.006113 -2.503195e-07\n",
      "1   -0.004413 -1.580494e-07\n",
      "2   -0.005797 -2.294215e-07\n",
      "3   -0.006673 -2.861594e-07\n",
      "4   -0.005679 -2.244424e-07\n",
      "5   -0.004987 -1.863181e-07\n",
      "6   -0.005731 -2.310341e-07\n",
      "7   -0.006034 -2.462231e-07\n",
      "8   -0.004429 -1.588256e-07\n",
      "9   -0.006607 -2.880769e-07\n",
      "10  -0.005171 -1.962862e-07\n",
      "11  -0.004433 -1.590919e-07\n",
      "12  -0.004418 -1.582926e-07\n",
      "13  -0.004413 -1.580490e-07\n",
      "14  -0.004438 -1.592587e-07\n",
      "15  -0.004413 -1.580540e-07\n",
      "16  -0.004472 -1.609167e-07\n",
      "17  -0.005700 -2.252909e-07\n",
      "18  -0.005644 -2.339499e-07\n",
      "19  -0.004904 -1.822721e-07\n",
      "20  -0.004436 -1.591871e-07\n",
      "21  -0.004818 -1.779870e-07\n",
      "22  -0.004609 -1.677096e-07\n",
      "23  -0.004751 -1.745749e-07\n",
      "24  -0.004420 -1.583973e-07\n",
      "25  -0.005425 -2.278909e-07\n",
      "26  -0.004547 -1.649531e-07\n",
      "27  -0.004521 -1.634784e-07\n",
      "28  -0.004435 -1.590831e-07\n",
      "29  -0.005092 -1.920264e-07\n",
      "..        ...           ...\n",
      "930 -0.004485 -1.614757e-07\n",
      "931 -0.004414 -1.580884e-07\n",
      "932 -0.005564 -2.178262e-07\n",
      "933 -0.004426 -1.586590e-07\n",
      "934 -0.004480 -1.628990e-07\n",
      "935 -0.004752 -1.747234e-07\n",
      "936 -0.004778 -1.764531e-07\n",
      "937 -0.005709 -2.257747e-07\n",
      "938 -0.005060 -1.909926e-07\n",
      "939 -0.004415 -1.581300e-07\n",
      "940 -0.004635 -1.687582e-07\n",
      "941 -0.008865 -4.741469e-07\n",
      "942 -0.005648 -2.223020e-07\n",
      "943 -0.005535 -2.212323e-07\n",
      "944 -0.007843 -3.761659e-07\n",
      "945 -0.004421 -1.584532e-07\n",
      "946 -0.008865 -4.741469e-07\n",
      "947 -0.006023 -2.445830e-07\n",
      "948 -0.005024 -1.884800e-07\n",
      "949 -0.006121 -2.486864e-07\n",
      "950 -0.004413 -1.580504e-07\n",
      "951 -0.004543 -1.642691e-07\n",
      "952 -0.005472 -2.145967e-07\n",
      "953  0.995424  7.396102e-04\n",
      "954 -0.004529 -1.635851e-07\n",
      "955 -0.005001 -1.881499e-07\n",
      "956 -0.004606 -1.676071e-07\n",
      "957 -0.005101 -1.965344e-07\n",
      "958 -0.004628 -1.685036e-07\n",
      "959 -0.004474 -1.612866e-07\n",
      "\n",
      "[960 rows x 2 columns]\n"
     ]
    },
    {
     "name": "stderr",
     "output_type": "stream",
     "text": [
      "'c' argument looks like a single numeric RGB or RGBA sequence, which should be avoided as value-mapping will have precedence in case its length matches with 'x' & 'y'.  Please use a 2-D array with a single row if you really want to specify the same RGB or RGBA value for all points.\n",
      "'c' argument looks like a single numeric RGB or RGBA sequence, which should be avoided as value-mapping will have precedence in case its length matches with 'x' & 'y'.  Please use a 2-D array with a single row if you really want to specify the same RGB or RGBA value for all points.\n"
     ]
    },
    {
     "data": {
      "image/png": "[encoded data removed]",
      "text/plain": [
       "<Figure size 432x288 with 1 Axes>"
      ]
     },
     "metadata": {
      "needs_background": "light"
     },
     "output_type": "display_data"
    }
   ],
   "source": [
    "print(X_train1_v2)\n",
    "mlp.fit(X_train1_v2.values,y_train1.values)\n",
    "plot_decision_regions(X_train1_v2.values, y_train1.values, classifier=mlp)\n",
    "plt.xlabel(['x1'])\n",
    "plt.ylabel(['x2'])\n",
    "plt.legend(loc='upper left')\n",
    "plt.grid()\n",
    "plt.tight_layout()\n",
    "plt.show()"
   ]
  },
  {
   "cell_type": "code",
   "execution_count": 35,
   "metadata": {},
   "outputs": [
    {
     "name": "stdout",
     "output_type": "stream",
     "text": [
      "Banknotes dataset\n",
      "the weights are \n",
      " [array([[-0.33425004, -0.63442955, -0.22561128, -0.66411486, -0.26549241,\n",
      "        -0.58118908, -0.12637456,  0.57685955, -0.23126369, -0.35652928],\n",
      "       [-0.05159282,  0.2305072 ,  0.17910652,  0.44880173,  0.50651007,\n",
      "        -0.55801314,  0.51986347,  0.25081104,  0.18823454,  0.35139975]]), array([[-0.38456985,  0.48662751, -0.02581028, -0.58768778,  0.48726102],\n",
      "       [ 0.41045565, -0.10884319, -0.20186956, -0.13088728,  0.6302332 ],\n",
      "       [-0.21737735,  0.14915438, -0.56039288,  0.07134734,  0.49448635],\n",
      "       [ 0.61726059,  0.37456885, -0.25936711, -0.35200327,  0.16533159],\n",
      "       [-0.40721239, -0.4547088 ,  0.36499543, -0.07441006, -0.32043548],\n",
      "       [ 0.49374613,  0.3116844 ,  0.25692597,  0.16387615,  0.25785716],\n",
      "       [ 0.72849301, -0.18475482,  0.5040708 , -0.68913428, -0.4471317 ],\n",
      "       [ 0.14540792, -0.07025495,  0.45356983, -0.03599107,  0.04471057],\n",
      "       [-0.31568029,  0.55740572,  0.54950311,  0.0531583 , -0.11484896],\n",
      "       [-0.38089958, -0.38903281, -0.55158452, -0.03328229,  0.57954309]]), array([[ 0.27200253],\n",
      "       [-0.31468899],\n",
      "       [-0.39449776],\n",
      "       [-0.22827455],\n",
      "       [ 0.69926955]])]\n",
      "the bias \n",
      "  [array([-0.02480612, -0.79466984, -0.34797911, -0.3623851 ,  0.07845277,\n",
      "        0.4292899 , -0.27107758, -0.34029299,  0.03615305, -0.21424842]), array([ 0.39457533,  0.36850336,  0.39916542, -0.42402803,  0.06486319]), array([0.49344632])]\n",
      "number of iterations \n",
      " 55\n",
      "output activation logistic\n"
     ]
    }
   ],
   "source": [
    "print('Banknotes dataset')\n",
    "print('the weights are \\n',mlp.coefs_)\n",
    "print('the bias \\n ', mlp.intercepts_)\n",
    "print('number of iterations \\n', mlp.n_iter_)\n",
    "print('output activation', mlp.out_activation_)"
   ]
  },
  {
   "cell_type": "markdown",
   "metadata": {},
   "source": [
    "#### Nursery dataset"
   ]
  },
  {
   "cell_type": "code",
   "execution_count": 36,
   "metadata": {},
   "outputs": [
    {
     "data": {
      "text/plain": [
       "MLPClassifier(activation='tanh', alpha=0.01, batch_size='auto', beta_1=0.9,\n",
       "       beta_2=0.999, early_stopping=False, epsilon=1e-08,\n",
       "       hidden_layer_sizes=(10, 5), learning_rate='constant',\n",
       "       learning_rate_init=0.001, max_iter=5000, momentum=0.9,\n",
       "       n_iter_no_change=10, nesterovs_momentum=True, power_t=0.5,\n",
       "       random_state=None, shuffle=True, solver='adam', tol=0.0001,\n",
       "       validation_fraction=0.1, verbose=False, warm_start=False)"
      ]
     },
     "execution_count": 36,
     "metadata": {},
     "output_type": "execute_result"
    }
   ],
   "source": [
    "mlp = MLPClassifier(activation='tanh', hidden_layer_sizes=(10,5), alpha=0.01, max_iter=5000)\n",
    "mlp"
   ]
  },
  {
   "cell_type": "code",
   "execution_count": 37,
   "metadata": {},
   "outputs": [
    {
     "data": {
      "text/plain": [
       "MLPClassifier(activation='tanh', alpha=0.01, batch_size='auto', beta_1=0.9,\n",
       "       beta_2=0.999, early_stopping=False, epsilon=1e-08,\n",
       "       hidden_layer_sizes=(10, 5), learning_rate='constant',\n",
       "       learning_rate_init=0.001, max_iter=5000, momentum=0.9,\n",
       "       n_iter_no_change=10, nesterovs_momentum=True, power_t=0.5,\n",
       "       random_state=None, shuffle=True, solver='adam', tol=0.0001,\n",
       "       validation_fraction=0.1, verbose=False, warm_start=False)"
      ]
     },
     "execution_count": 37,
     "metadata": {},
     "output_type": "execute_result"
    }
   ],
   "source": [
    "mlp.fit(X_train2.values,y_train2.values)\n",
    "#plot_decision_regions(X_train2.values, y_train2.values, classifier=mlp)\n",
    "#plt.xlabel(['x1'])\n",
    "#plt.ylabel(['x2'])\n",
    "#plt.legend(loc='upper left')\n",
    "#plt.grid()\n",
    "#plt.tight_layout()\n",
    "#plt.show()"
   ]
  },
  {
   "cell_type": "code",
   "execution_count": 38,
   "metadata": {},
   "outputs": [
    {
     "name": "stdout",
     "output_type": "stream",
     "text": [
      "Nursery dataset\n",
      "the weights are \n",
      " [array([[-0.1148222 ,  0.02933576,  0.9045671 ,  0.1917477 , -0.08130231,\n",
      "        -0.53837107,  0.10990354,  0.74295874,  0.033296  ,  0.81643078],\n",
      "       [-0.13289285,  0.0271772 , -2.47068699,  0.1479702 , -0.0880925 ,\n",
      "        -0.55691086,  0.06546017,  0.72673165,  0.03524197, -0.35352402],\n",
      "       [-0.03524251, -0.14673343, -0.03454562, -0.0063857 ,  0.07619879,\n",
      "        -0.08256707,  0.53847985, -0.08291803, -0.33715763, -0.02492711],\n",
      "       [-0.07377327, -0.24873433, -0.05321711,  0.02305138,  0.12727826,\n",
      "        -0.12062187,  0.84985715, -0.10229701, -0.50658554,  0.09470465],\n",
      "       [-0.03265137,  0.94108467, -0.09061587,  0.01961606,  0.16379522,\n",
      "        -0.14426067, -1.20798542, -0.14172655, -0.04760388,  0.39257385],\n",
      "       [ 0.06786378,  1.6221266 , -0.09771258, -0.05560935,  0.09801183,\n",
      "        -0.17645834, -0.18705378, -0.12969499,  0.06378238, -0.15857806],\n",
      "       [-0.21299755,  0.13261732,  0.21430107, -0.92642725, -1.10824604,\n",
      "         0.56106045, -0.0263668 , -0.05090169, -0.07163872,  0.94128312],\n",
      "       [ 1.10361755,  0.17093851,  0.44895619,  0.2687625 ,  1.91339802,\n",
      "         1.21767407,  0.10194736, -0.04108661, -0.14440525,  0.30557665]]), array([[ 0.68482928,  0.66729364, -1.75277145, -2.7053885 , -2.12153405],\n",
      "       [ 2.17147034, -1.67294179, -0.90531111, -0.42677916,  0.56057176],\n",
      "       [ 0.99602951, -0.76853391, -0.33505018,  0.0136571 ,  0.98526506],\n",
      "       [-1.51857603,  1.1752392 ,  0.14530796, -0.05212633,  0.4418108 ],\n",
      "       [ 0.85146815, -1.27445537, -0.80815974, -0.68408034, -1.78056105],\n",
      "       [-1.06472526, -0.61751224, -0.99901137, -1.29707371, -2.92772818],\n",
      "       [-0.61193672,  0.40528418,  0.57076342, -0.08501624, -0.15392365],\n",
      "       [ 2.15124654, -1.84557743, -1.40130486, -1.66885402, -0.10708363],\n",
      "       [-1.77027456,  1.39561473,  1.23942744,  0.69318572, -0.23443751],\n",
      "       [-1.02593865, -0.58269385,  0.71726467,  0.45325689, -0.32529464]]), array([[ 0.28791392, -5.15629083,  9.21561326, -1.78795892],\n",
      "       [-0.63564883, -2.89348703, -1.68060912,  7.18974494],\n",
      "       [-3.5500454 ,  1.63750896,  0.3565368 ,  0.31729527],\n",
      "       [-4.87964577,  0.83195479,  0.53613705,  0.21004558],\n",
      "       [-1.73030626, -1.3390547 ,  2.75138367,  1.19815521]])]\n",
      "the bias \n",
      "  [array([-0.93061023, -1.58505075, -0.44528477,  1.05132852, -1.19201233,\n",
      "       -0.55205758,  0.60731937, -2.54428417,  1.65783173,  0.41592551]), array([-0.5760881 , -0.62249342,  0.87054099,  1.85045085,  0.24455632]), array([ 4.6499262 , -0.14454964, -0.70722466,  0.490668  ])]\n",
      "number of iterations \n",
      " 577\n",
      "output activation softmax\n"
     ]
    }
   ],
   "source": [
    "print('Nursery dataset')\n",
    "print('the weights are \\n',mlp.coefs_)\n",
    "print('the bias \\n ', mlp.intercepts_)\n",
    "print('number of iterations \\n', mlp.n_iter_)\n",
    "print('output activation', mlp.out_activation_)"
   ]
  },
  {
   "cell_type": "markdown",
   "metadata": {},
   "source": [
    "### SVM"
   ]
  },
  {
   "cell_type": "markdown",
   "metadata": {},
   "source": [
    "#### Banknotes dataset"
   ]
  },
  {
   "cell_type": "code",
   "execution_count": 39,
   "metadata": {},
   "outputs": [
    {
     "data": {
      "text/plain": [
       "SVC(C=1.0, cache_size=200, class_weight=None, coef0=0.0,\n",
       "  decision_function_shape='ovr', degree=3, gamma='auto_deprecated',\n",
       "  kernel='rbf', max_iter=2000, probability=False, random_state=None,\n",
       "  shrinking=True, tol=1e-05, verbose=0)"
      ]
     },
     "execution_count": 39,
     "metadata": {},
     "output_type": "execute_result"
    }
   ],
   "source": [
    "from sklearn.svm import SVC\n",
    "\n",
    "svm=SVC(C=1.0,kernel='rbf', max_iter=2000, tol=1e-05, verbose=0)\n",
    "svm"
   ]
  },
  {
   "cell_type": "code",
   "execution_count": 40,
   "metadata": {},
   "outputs": [
    {
     "name": "stderr",
     "output_type": "stream",
     "text": [
      "'c' argument looks like a single numeric RGB or RGBA sequence, which should be avoided as value-mapping will have precedence in case its length matches with 'x' & 'y'.  Please use a 2-D array with a single row if you really want to specify the same RGB or RGBA value for all points.\n",
      "'c' argument looks like a single numeric RGB or RGBA sequence, which should be avoided as value-mapping will have precedence in case its length matches with 'x' & 'y'.  Please use a 2-D array with a single row if you really want to specify the same RGB or RGBA value for all points.\n"
     ]
    },
    {
     "data": {
      "image/png": "[encoded data removed]",
      "text/plain": [
       "<Figure size 432x288 with 1 Axes>"
      ]
     },
     "metadata": {
      "needs_background": "light"
     },
     "output_type": "display_data"
    }
   ],
   "source": [
    "svm=svm.fit(X_train1_v2.values, y_train1.values)\n",
    "plot_decision_regions(X_train1_v2.values, y_train1.values, classifier=svm)\n",
    "plt.xlabel('x1')\n",
    "plt.ylabel('x2')\n",
    "plt.legend(loc='upper left')\n",
    "plt.grid()\n",
    "plt.tight_layout()\n",
    "plt.show()"
   ]
  },
  {
   "cell_type": "code",
   "execution_count": 41,
   "metadata": {},
   "outputs": [
    {
     "name": "stdout",
     "output_type": "stream",
     "text": [
      "Banknotes dataset\n",
      "dual coef \n",
      " [[-1.00000000e+00 -1.00000000e+00 -1.00000000e+00 -1.00000000e+00\n",
      "  -1.00000000e+00 -1.00000000e+00 -1.00000000e+00 -1.00000000e+00\n",
      "  -1.00000000e+00 -1.00000000e+00 -1.00000000e+00 -1.00000000e+00\n",
      "  -1.00000000e+00 -1.00000000e+00 -1.00000000e+00 -1.00000000e+00\n",
      "  -1.00000000e+00 -1.00000000e+00 -1.00000000e+00 -1.00000000e+00\n",
      "  -1.00000000e+00 -1.00000000e+00 -1.00000000e+00 -1.00000000e+00\n",
      "  -1.00000000e+00 -1.00000000e+00 -1.00000000e+00 -1.00000000e+00\n",
      "  -1.00000000e+00 -1.00000000e+00 -1.00000000e+00 -1.00000000e+00\n",
      "  -1.00000000e+00 -1.00000000e+00 -1.00000000e+00 -1.00000000e+00\n",
      "  -1.00000000e+00 -1.00000000e+00 -1.00000000e+00 -1.00000000e+00\n",
      "  -1.00000000e+00 -1.00000000e+00 -1.00000000e+00 -1.00000000e+00\n",
      "  -1.00000000e+00 -1.00000000e+00 -1.00000000e+00 -1.00000000e+00\n",
      "  -1.00000000e+00 -1.00000000e+00 -1.00000000e+00 -9.92730870e-01\n",
      "  -1.00000000e+00 -1.00000000e+00 -1.00000000e+00 -1.00000000e+00\n",
      "  -1.00000000e+00 -1.00000000e+00 -1.00000000e+00 -1.00000000e+00\n",
      "  -1.00000000e+00 -1.00000000e+00 -1.00000000e+00 -1.00000000e+00\n",
      "  -1.00000000e+00 -1.00000000e+00 -1.00000000e+00 -1.00000000e+00\n",
      "  -1.00000000e+00 -1.00000000e+00 -1.00000000e+00 -1.00000000e+00\n",
      "  -1.00000000e+00 -1.00000000e+00 -1.00000000e+00 -1.00000000e+00\n",
      "  -1.00000000e+00 -1.00000000e+00 -1.00000000e+00 -1.00000000e+00\n",
      "  -1.00000000e+00 -1.00000000e+00 -1.00000000e+00 -1.00000000e+00\n",
      "  -1.00000000e+00 -1.00000000e+00 -1.00000000e+00 -1.00000000e+00\n",
      "  -1.00000000e+00 -1.00000000e+00 -1.00000000e+00 -1.00000000e+00\n",
      "  -1.00000000e+00 -1.00000000e+00 -1.00000000e+00 -1.00000000e+00\n",
      "  -1.00000000e+00 -1.00000000e+00 -1.00000000e+00 -1.00000000e+00\n",
      "  -1.00000000e+00 -1.00000000e+00 -1.00000000e+00 -1.00000000e+00\n",
      "  -1.00000000e+00 -1.00000000e+00 -1.00000000e+00 -1.00000000e+00\n",
      "  -1.00000000e+00 -1.00000000e+00 -1.00000000e+00 -1.00000000e+00\n",
      "  -1.00000000e+00 -1.00000000e+00 -1.00000000e+00 -1.00000000e+00\n",
      "  -1.00000000e+00 -1.00000000e+00 -1.00000000e+00 -1.00000000e+00\n",
      "  -1.00000000e+00 -1.00000000e+00 -1.00000000e+00 -1.00000000e+00\n",
      "  -1.00000000e+00 -1.00000000e+00 -1.00000000e+00 -1.00000000e+00\n",
      "  -1.00000000e+00 -1.00000000e+00 -1.00000000e+00 -1.00000000e+00\n",
      "  -1.00000000e+00 -1.00000000e+00 -1.00000000e+00 -1.00000000e+00\n",
      "  -1.00000000e+00 -1.00000000e+00 -1.00000000e+00 -1.00000000e+00\n",
      "  -1.00000000e+00 -1.00000000e+00 -1.00000000e+00 -1.00000000e+00\n",
      "  -1.00000000e+00 -1.00000000e+00 -1.00000000e+00 -1.00000000e+00\n",
      "  -1.00000000e+00 -1.00000000e+00 -1.00000000e+00 -1.00000000e+00\n",
      "  -1.00000000e+00 -1.00000000e+00 -1.00000000e+00 -1.00000000e+00\n",
      "  -1.00000000e+00 -1.00000000e+00 -1.00000000e+00 -1.00000000e+00\n",
      "  -1.00000000e+00 -1.00000000e+00 -1.00000000e+00 -1.00000000e+00\n",
      "  -1.00000000e+00 -1.00000000e+00 -1.00000000e+00 -1.00000000e+00\n",
      "  -1.00000000e+00 -1.00000000e+00 -1.00000000e+00 -1.00000000e+00\n",
      "  -1.00000000e+00 -1.00000000e+00 -1.00000000e+00 -1.00000000e+00\n",
      "  -1.00000000e+00 -1.00000000e+00 -1.00000000e+00 -1.00000000e+00\n",
      "  -1.00000000e+00 -1.00000000e+00 -1.00000000e+00 -1.00000000e+00\n",
      "  -1.00000000e+00 -1.00000000e+00 -1.00000000e+00 -1.00000000e+00\n",
      "  -1.00000000e+00 -1.00000000e+00 -1.00000000e+00 -1.00000000e+00\n",
      "  -1.00000000e+00 -1.00000000e+00 -1.00000000e+00 -1.00000000e+00\n",
      "  -1.00000000e+00 -1.00000000e+00 -1.00000000e+00 -1.00000000e+00\n",
      "  -1.00000000e+00 -1.00000000e+00 -1.00000000e+00 -1.00000000e+00\n",
      "  -1.00000000e+00 -1.00000000e+00 -1.00000000e+00 -1.00000000e+00\n",
      "  -1.00000000e+00 -1.00000000e+00 -1.00000000e+00 -1.00000000e+00\n",
      "  -1.00000000e+00 -1.00000000e+00 -1.00000000e+00 -1.00000000e+00\n",
      "  -1.00000000e+00 -1.00000000e+00 -1.00000000e+00 -1.00000000e+00\n",
      "  -1.00000000e+00 -1.00000000e+00 -1.00000000e+00 -1.00000000e+00\n",
      "  -1.00000000e+00 -1.00000000e+00 -1.00000000e+00 -1.00000000e+00\n",
      "  -1.00000000e+00 -1.00000000e+00 -1.00000000e+00 -1.00000000e+00\n",
      "  -1.00000000e+00 -1.00000000e+00 -1.00000000e+00 -1.00000000e+00\n",
      "  -1.00000000e+00 -1.00000000e+00 -1.00000000e+00 -1.00000000e+00\n",
      "  -1.00000000e+00 -1.00000000e+00 -1.00000000e+00 -1.00000000e+00\n",
      "  -1.00000000e+00 -1.00000000e+00 -1.00000000e+00 -1.00000000e+00\n",
      "  -1.00000000e+00 -1.00000000e+00 -1.00000000e+00 -1.00000000e+00\n",
      "  -1.00000000e+00 -1.00000000e+00 -1.00000000e+00 -1.00000000e+00\n",
      "  -1.00000000e+00 -1.00000000e+00 -1.00000000e+00 -1.00000000e+00\n",
      "  -1.00000000e+00 -1.00000000e+00 -1.00000000e+00 -1.00000000e+00\n",
      "  -1.00000000e+00 -1.00000000e+00 -1.00000000e+00 -1.00000000e+00\n",
      "  -1.00000000e+00 -1.00000000e+00 -1.00000000e+00 -1.00000000e+00\n",
      "  -1.00000000e+00 -1.00000000e+00 -1.00000000e+00 -1.00000000e+00\n",
      "  -1.00000000e+00 -1.00000000e+00 -1.00000000e+00 -1.00000000e+00\n",
      "  -1.00000000e+00 -1.00000000e+00 -1.00000000e+00 -1.00000000e+00\n",
      "  -1.00000000e+00 -1.00000000e+00 -1.00000000e+00 -1.00000000e+00\n",
      "  -1.00000000e+00 -1.00000000e+00 -1.00000000e+00 -1.00000000e+00\n",
      "  -1.00000000e+00 -1.00000000e+00 -1.00000000e+00 -1.00000000e+00\n",
      "  -1.00000000e+00 -1.00000000e+00 -1.00000000e+00 -1.00000000e+00\n",
      "  -1.00000000e+00 -1.00000000e+00 -1.00000000e+00 -1.00000000e+00\n",
      "  -1.00000000e+00 -1.00000000e+00 -1.00000000e+00 -1.00000000e+00\n",
      "  -1.00000000e+00 -1.00000000e+00 -1.00000000e+00 -1.00000000e+00\n",
      "  -1.00000000e+00 -1.00000000e+00 -1.00000000e+00 -1.00000000e+00\n",
      "  -1.00000000e+00 -1.00000000e+00 -1.00000000e+00 -1.00000000e+00\n",
      "  -1.00000000e+00 -1.00000000e+00 -1.00000000e+00 -1.00000000e+00\n",
      "  -1.00000000e+00 -1.00000000e+00 -1.00000000e+00 -1.00000000e+00\n",
      "  -1.00000000e+00 -1.00000000e+00 -1.00000000e+00 -1.00000000e+00\n",
      "  -1.00000000e+00 -1.00000000e+00 -1.00000000e+00 -1.00000000e+00\n",
      "  -1.00000000e+00 -1.00000000e+00 -1.00000000e+00 -1.00000000e+00\n",
      "  -1.00000000e+00 -1.00000000e+00 -1.00000000e+00 -1.00000000e+00\n",
      "  -1.00000000e+00 -1.00000000e+00 -1.00000000e+00 -1.00000000e+00\n",
      "  -1.00000000e+00 -1.00000000e+00 -1.00000000e+00 -1.00000000e+00\n",
      "  -1.00000000e+00 -1.00000000e+00 -1.00000000e+00 -1.00000000e+00\n",
      "  -1.00000000e+00 -1.00000000e+00 -1.00000000e+00 -1.00000000e+00\n",
      "  -1.00000000e+00 -1.00000000e+00 -1.00000000e+00 -1.00000000e+00\n",
      "  -1.00000000e+00 -1.00000000e+00 -1.00000000e+00 -1.00000000e+00\n",
      "  -1.00000000e+00 -7.22342773e-03 -1.00000000e+00 -1.00000000e+00\n",
      "  -1.00000000e+00 -1.00000000e+00 -1.00000000e+00 -1.00000000e+00\n",
      "  -1.00000000e+00 -1.00000000e+00 -1.00000000e+00 -1.00000000e+00\n",
      "  -1.00000000e+00 -1.00000000e+00 -1.00000000e+00 -1.00000000e+00\n",
      "  -2.71688705e-05 -1.00000000e+00 -1.00000000e+00 -1.00000000e+00\n",
      "  -1.00000000e+00 -1.00000000e+00 -1.00000000e+00 -1.00000000e+00\n",
      "  -1.00000000e+00 -1.00000000e+00 -1.00000000e+00 -1.00000000e+00\n",
      "  -1.00000000e+00 -1.00000000e+00 -1.00000000e+00 -1.00000000e+00\n",
      "  -1.00000000e+00 -1.00000000e+00 -1.00000000e+00 -1.85334388e-05\n",
      "  -1.00000000e+00 -1.00000000e+00 -1.00000000e+00 -1.00000000e+00\n",
      "  -1.00000000e+00 -1.00000000e+00 -1.00000000e+00 -1.00000000e+00\n",
      "  -1.00000000e+00 -1.00000000e+00 -1.00000000e+00 -1.00000000e+00\n",
      "  -1.00000000e+00  1.00000000e+00  1.00000000e+00  1.00000000e+00\n",
      "   1.00000000e+00  1.00000000e+00  1.00000000e+00  1.00000000e+00\n",
      "   1.00000000e+00  1.00000000e+00  1.00000000e+00  1.00000000e+00\n",
      "   1.00000000e+00  1.00000000e+00  1.00000000e+00  1.00000000e+00\n",
      "   1.00000000e+00  1.00000000e+00  1.00000000e+00  1.00000000e+00\n",
      "   1.00000000e+00  1.00000000e+00  1.00000000e+00  1.00000000e+00\n",
      "   1.00000000e+00  1.00000000e+00  1.00000000e+00  1.00000000e+00\n",
      "   1.00000000e+00  1.00000000e+00  1.00000000e+00  1.00000000e+00\n",
      "   1.00000000e+00  1.00000000e+00  1.00000000e+00  1.00000000e+00\n",
      "   1.00000000e+00  1.00000000e+00  1.00000000e+00  1.00000000e+00\n",
      "   1.00000000e+00  1.00000000e+00  1.00000000e+00  1.00000000e+00\n",
      "   1.00000000e+00  1.00000000e+00  1.00000000e+00  1.00000000e+00\n",
      "   1.00000000e+00  1.00000000e+00  1.00000000e+00  1.00000000e+00\n",
      "   1.00000000e+00  1.00000000e+00  1.00000000e+00  1.00000000e+00\n",
      "   1.00000000e+00  1.00000000e+00  1.00000000e+00  1.00000000e+00\n",
      "   1.00000000e+00  1.00000000e+00  1.00000000e+00  1.00000000e+00\n",
      "   1.00000000e+00  1.00000000e+00  1.00000000e+00  1.00000000e+00\n",
      "   1.00000000e+00  1.00000000e+00  1.00000000e+00  1.00000000e+00\n",
      "   1.00000000e+00  1.00000000e+00  1.00000000e+00  1.00000000e+00\n",
      "   1.00000000e+00  1.00000000e+00  1.00000000e+00  1.00000000e+00\n",
      "   1.00000000e+00  1.00000000e+00  1.00000000e+00  1.00000000e+00\n",
      "   1.00000000e+00  1.00000000e+00  1.00000000e+00  1.00000000e+00\n",
      "   1.00000000e+00  1.00000000e+00  1.00000000e+00  1.00000000e+00\n",
      "   1.00000000e+00  1.00000000e+00  1.00000000e+00  1.00000000e+00\n",
      "   1.00000000e+00  1.00000000e+00  1.00000000e+00  1.00000000e+00\n",
      "   1.00000000e+00  1.00000000e+00  1.00000000e+00  1.00000000e+00\n",
      "   1.00000000e+00  1.00000000e+00  1.00000000e+00  1.00000000e+00\n",
      "   1.00000000e+00  1.00000000e+00  1.00000000e+00  1.00000000e+00\n",
      "   1.00000000e+00  1.00000000e+00  1.00000000e+00  1.00000000e+00\n",
      "   1.00000000e+00  1.00000000e+00  1.00000000e+00  1.00000000e+00\n",
      "   1.00000000e+00  1.00000000e+00  1.00000000e+00  1.00000000e+00\n",
      "   1.00000000e+00  1.00000000e+00  1.00000000e+00  1.00000000e+00\n",
      "   1.00000000e+00  1.00000000e+00  1.00000000e+00  1.00000000e+00\n",
      "   1.00000000e+00  1.00000000e+00  1.00000000e+00  1.00000000e+00\n",
      "   1.00000000e+00  1.00000000e+00  1.00000000e+00  1.00000000e+00\n",
      "   1.00000000e+00  1.00000000e+00  1.00000000e+00  1.00000000e+00\n",
      "   1.00000000e+00  1.00000000e+00  1.00000000e+00  1.00000000e+00\n",
      "   1.00000000e+00  1.00000000e+00  1.00000000e+00  1.00000000e+00\n",
      "   1.00000000e+00  1.00000000e+00  1.00000000e+00  1.00000000e+00\n",
      "   1.00000000e+00  1.00000000e+00  1.00000000e+00  1.00000000e+00\n",
      "   1.00000000e+00  1.00000000e+00  1.00000000e+00  1.00000000e+00\n",
      "   1.00000000e+00  1.00000000e+00  1.00000000e+00  1.00000000e+00\n",
      "   1.00000000e+00  1.00000000e+00  1.00000000e+00  1.00000000e+00\n",
      "   1.00000000e+00  1.00000000e+00  1.00000000e+00  1.00000000e+00\n",
      "   1.00000000e+00  1.00000000e+00  1.00000000e+00  1.00000000e+00\n",
      "   1.00000000e+00  1.00000000e+00  1.00000000e+00  1.00000000e+00\n",
      "   1.00000000e+00  1.00000000e+00  1.00000000e+00  1.00000000e+00\n",
      "   1.00000000e+00  1.00000000e+00  1.00000000e+00  1.00000000e+00\n",
      "   1.00000000e+00  1.00000000e+00  1.00000000e+00  1.00000000e+00\n",
      "   1.00000000e+00  1.00000000e+00  1.00000000e+00  1.00000000e+00\n",
      "   1.00000000e+00  1.00000000e+00  1.00000000e+00  1.00000000e+00\n",
      "   1.00000000e+00  1.00000000e+00  1.00000000e+00  1.00000000e+00\n",
      "   1.00000000e+00  1.00000000e+00  1.00000000e+00  1.00000000e+00\n",
      "   1.00000000e+00  1.00000000e+00  1.00000000e+00  1.00000000e+00\n",
      "   1.00000000e+00  1.00000000e+00  1.00000000e+00  1.00000000e+00\n",
      "   1.00000000e+00  1.00000000e+00  1.00000000e+00  1.00000000e+00\n",
      "   1.00000000e+00  1.00000000e+00  1.00000000e+00  1.00000000e+00\n",
      "   1.00000000e+00  1.00000000e+00  1.00000000e+00  1.00000000e+00\n",
      "   1.00000000e+00  1.00000000e+00  1.00000000e+00  1.00000000e+00\n",
      "   1.00000000e+00  1.00000000e+00  1.00000000e+00  1.00000000e+00\n",
      "   1.00000000e+00  1.00000000e+00  1.00000000e+00  1.00000000e+00\n",
      "   1.00000000e+00  1.00000000e+00  1.00000000e+00  1.00000000e+00\n",
      "   1.00000000e+00  1.00000000e+00  1.00000000e+00  1.00000000e+00\n",
      "   1.00000000e+00  1.00000000e+00  1.00000000e+00  1.00000000e+00\n",
      "   1.00000000e+00  1.00000000e+00  1.00000000e+00  1.00000000e+00\n",
      "   1.00000000e+00  1.00000000e+00  1.00000000e+00  1.00000000e+00\n",
      "   1.00000000e+00  1.00000000e+00  1.00000000e+00  1.00000000e+00\n",
      "   1.00000000e+00  1.00000000e+00  1.00000000e+00  1.00000000e+00\n",
      "   1.00000000e+00  1.00000000e+00  1.00000000e+00  1.00000000e+00\n",
      "   1.00000000e+00  1.00000000e+00  1.00000000e+00  1.00000000e+00\n",
      "   1.00000000e+00  1.00000000e+00  1.00000000e+00  1.00000000e+00\n",
      "   1.00000000e+00  1.00000000e+00  1.00000000e+00  1.00000000e+00\n",
      "   1.00000000e+00  1.00000000e+00  1.00000000e+00  1.00000000e+00\n",
      "   1.00000000e+00  1.00000000e+00  1.00000000e+00  1.00000000e+00\n",
      "   1.00000000e+00  1.00000000e+00  1.00000000e+00  1.00000000e+00\n",
      "   1.00000000e+00  1.00000000e+00  1.00000000e+00  1.00000000e+00\n",
      "   1.00000000e+00  1.00000000e+00  1.00000000e+00  1.00000000e+00\n",
      "   1.00000000e+00  1.00000000e+00  1.00000000e+00  1.00000000e+00\n",
      "   1.00000000e+00  1.00000000e+00  1.00000000e+00  1.00000000e+00\n",
      "   1.00000000e+00  1.00000000e+00  1.00000000e+00  1.00000000e+00\n",
      "   1.00000000e+00  1.00000000e+00  1.00000000e+00  1.00000000e+00\n",
      "   1.00000000e+00  1.00000000e+00  1.00000000e+00  1.00000000e+00\n",
      "   1.00000000e+00  1.00000000e+00  1.00000000e+00  1.00000000e+00\n",
      "   1.00000000e+00  1.00000000e+00  1.00000000e+00  1.00000000e+00\n",
      "   1.00000000e+00  1.00000000e+00  1.00000000e+00  1.00000000e+00\n",
      "   1.00000000e+00  1.00000000e+00  1.00000000e+00  1.00000000e+00\n",
      "   1.00000000e+00  1.00000000e+00  1.00000000e+00  1.00000000e+00\n",
      "   1.00000000e+00  1.00000000e+00  1.00000000e+00  1.00000000e+00\n",
      "   1.00000000e+00  1.00000000e+00  1.00000000e+00  1.00000000e+00\n",
      "   1.00000000e+00  1.00000000e+00  1.00000000e+00  1.00000000e+00\n",
      "   1.00000000e+00  1.00000000e+00  1.00000000e+00  1.00000000e+00\n",
      "   1.00000000e+00  1.00000000e+00  1.00000000e+00  1.00000000e+00\n",
      "   1.00000000e+00  1.00000000e+00  1.00000000e+00  1.00000000e+00\n",
      "   1.00000000e+00  1.00000000e+00  1.00000000e+00  1.00000000e+00\n",
      "   1.00000000e+00  1.00000000e+00  1.00000000e+00  1.00000000e+00\n",
      "   1.00000000e+00  1.00000000e+00  1.00000000e+00  1.00000000e+00\n",
      "   1.00000000e+00  1.00000000e+00  1.00000000e+00  1.00000000e+00\n",
      "   1.00000000e+00  1.00000000e+00  1.00000000e+00  1.00000000e+00\n",
      "   1.00000000e+00  1.00000000e+00  1.00000000e+00  1.00000000e+00\n",
      "   1.00000000e+00  1.00000000e+00  1.00000000e+00  1.00000000e+00\n",
      "   1.00000000e+00  1.00000000e+00  1.00000000e+00  1.00000000e+00\n",
      "   1.00000000e+00  1.00000000e+00  1.00000000e+00  1.00000000e+00\n",
      "   1.00000000e+00  1.00000000e+00  1.00000000e+00  1.00000000e+00\n",
      "   1.00000000e+00  1.00000000e+00  1.00000000e+00]]\n",
      "support vectors \n",
      " [[-4.41301894e-03 -1.58049415e-07]\n",
      " [-5.79694448e-03 -2.29421550e-07]\n",
      " [-6.67275897e-03 -2.86159449e-07]\n",
      " ...\n",
      " [-5.47201524e-03 -2.14596655e-07]\n",
      " [-5.00117770e-03 -1.88149872e-07]\n",
      " [-4.60628230e-03 -1.67607129e-07]]\n",
      "index of support vectors \n",
      "  [  1   2   3   6   7   8  10  11  13  14  15  17  19  23  24  28  30  32\n",
      "  33  34  38  41  42  47  50  55  60  67  68  69  70  76  77  78  79  80\n",
      "  82  84  88  90  92  95  96  98 100 102 105 106 108 114 119 120 121 122\n",
      " 124 125 129 130 132 133 134 135 139 140 141 143 147 152 153 155 157 159\n",
      " 160 161 163 167 169 170 172 180 183 186 187 188 195 198 201 202 203 204\n",
      " 205 206 207 209 210 211 214 216 221 224 226 227 228 229 236 239 244 246\n",
      " 247 254 256 259 260 262 263 266 267 268 270 272 274 275 276 277 278 279\n",
      " 290 291 292 293 294 296 299 300 301 302 305 306 311 315 316 317 319 322\n",
      " 324 326 327 328 330 332 335 336 337 341 345 348 353 354 355 358 359 360\n",
      " 362 363 364 366 371 374 377 378 379 381 382 384 385 386 387 388 389 390\n",
      " 392 394 395 401 402 408 412 413 416 419 422 423 424 425 427 429 430 433\n",
      " 437 438 444 445 447 449 450 451 452 453 454 455 458 459 461 465 466 473\n",
      " 480 481 484 485 486 487 490 494 495 496 497 498 499 502 503 505 507 512\n",
      " 513 514 517 521 525 526 529 531 532 533 535 540 542 544 547 549 552 555\n",
      " 556 559 560 561 563 564 565 567 577 584 593 594 595 596 597 598 601 602\n",
      " 604 605 606 607 609 610 611 612 615 620 622 625 626 632 633 636 640 641\n",
      " 642 649 650 651 654 657 659 660 661 663 664 667 673 674 686 687 688 692\n",
      " 694 698 700 704 705 707 708 711 714 722 723 725 730 736 737 740 741 745\n",
      " 746 748 750 755 757 763 764 765 766 770 772 773 778 779 783 793 794 796\n",
      " 801 803 804 805 806 808 811 812 818 819 822 824 825 828 833 835 836 838\n",
      " 840 842 843 845 848 852 859 860 862 864 867 868 871 872 874 876 877 878\n",
      " 880 884 891 894 895 897 899 902 903 906 907 912 913 914 915 916 917 918\n",
      " 921 922 923 924 925 926 927 928 931 934 935 936 938 939 941 945 946 949\n",
      " 950 957 959   0   4   5   9  12  16  18  20  25  27  29  31  36  37  39\n",
      "  40  43  44  45  46  49  51  52  53  56  57  58  59  61  63  71  72  73\n",
      "  74  75  83  85  86  87  89  91  93  94  99 103 104 107 110 111 113 115\n",
      " 116 117 118 127 131 136 137 138 142 145 146 148 149 151 154 158 165 166\n",
      " 168 171 173 174 175 176 177 178 179 181 184 185 189 190 191 192 193 194\n",
      " 197 199 208 212 213 217 219 220 222 223 225 230 231 232 233 235 238 240\n",
      " 241 242 243 245 248 249 250 251 252 253 255 257 261 264 271 273 282 283\n",
      " 285 287 288 289 295 297 298 303 304 307 309 310 312 313 314 320 323 329\n",
      " 333 334 338 340 342 344 346 347 349 350 356 361 365 368 369 370 372 375\n",
      " 376 391 393 396 397 398 399 400 404 405 406 407 409 410 411 414 415 417\n",
      " 421 426 428 431 432 434 435 436 439 441 446 460 462 463 464 467 469 472\n",
      " 474 475 476 477 478 479 488 489 493 501 504 508 509 510 515 518 519 520\n",
      " 522 523 524 527 528 530 534 536 537 538 545 546 551 553 554 557 558 562\n",
      " 566 568 569 570 571 572 573 574 575 576 578 579 581 582 583 585 586 587\n",
      " 588 589 591 592 599 608 613 614 616 617 618 619 621 623 624 627 629 630\n",
      " 631 634 637 638 639 644 645 646 647 648 652 653 655 656 658 662 665 668\n",
      " 669 670 671 678 679 680 681 682 684 685 690 691 693 696 699 702 703 706\n",
      " 709 710 715 716 717 719 721 724 726 727 728 729 731 733 734 735 739 742\n",
      " 743 744 749 751 753 754 756 760 761 762 767 768 769 771 775 776 777 781\n",
      " 782 784 785 786 787 788 789 792 795 797 798 799 800 802 807 809 814 815\n",
      " 816 820 821 823 827 829 830 831 832 837 839 841 849 850 851 853 855 856\n",
      " 858 861 863 866 869 870 875 882 883 885 887 888 889 890 892 896 898 900\n",
      " 901 905 908 909 910 911 919 920 929 930 932 933 937 942 943 944 947 948\n",
      " 952 955 956]\n",
      "bias [-1.00010284]\n",
      "the classifier \n",
      " SVC(C=1.0, cache_size=200, class_weight=None, coef0=0.0,\n",
      "  decision_function_shape='ovr', degree=3, gamma='auto_deprecated',\n",
      "  kernel='rbf', max_iter=2000, probability=False, random_state=None,\n",
      "  shrinking=True, tol=1e-05, verbose=0)\n"
     ]
    }
   ],
   "source": [
    "print('Banknotes dataset')\n",
    "print('dual coef \\n', svm.dual_coef_)\n",
    "print ('support vectors \\n', svm.support_vectors_)\n",
    "print('index of support vectors \\n ', svm.support_)\n",
    "print ('bias', svm.intercept_)\n",
    "print('the classifier \\n', svm)"
   ]
  },
  {
   "cell_type": "markdown",
   "metadata": {},
   "source": [
    "#### Nursery dataset"
   ]
  },
  {
   "cell_type": "code",
   "execution_count": 42,
   "metadata": {},
   "outputs": [
    {
     "data": {
      "text/plain": [
       "SVC(C=1.0, cache_size=200, class_weight=None, coef0=0.0,\n",
       "  decision_function_shape='ovr', degree=3, gamma='auto_deprecated',\n",
       "  kernel='rbf', max_iter=4000, probability=False, random_state=None,\n",
       "  shrinking=True, tol=1e-05, verbose=0)"
      ]
     },
     "execution_count": 42,
     "metadata": {},
     "output_type": "execute_result"
    }
   ],
   "source": [
    "svm=SVC(C=1.0,kernel='rbf', max_iter=4000, tol=1e-05, verbose=0)\n",
    "svm"
   ]
  },
  {
   "cell_type": "code",
   "execution_count": 43,
   "metadata": {},
   "outputs": [],
   "source": [
    "svm=svm.fit(X_train2.values, y_train2.values)\n",
    "#plot_decision_regions(X_train2.values, y_train2.values, classifier=svm)\n",
    "#plt.xlabel('x1')\n",
    "#plt.ylabel('x2')\n",
    "#plt.legend(loc='upper left')\n",
    "#plt.grid()\n",
    "#plt.tight_layout()\n",
    "#plt.show()"
   ]
  },
  {
   "cell_type": "code",
   "execution_count": 44,
   "metadata": {},
   "outputs": [
    {
     "name": "stdout",
     "output_type": "stream",
     "text": [
      "Nursery dataset\n",
      "dual coef \n",
      " [[ 0.03118633  0.          1.         ... -0.         -0.\n",
      "  -0.        ]\n",
      " [ 0.64002215  1.          0.14832994 ... -1.         -1.\n",
      "  -1.        ]\n",
      " [ 0.          0.          0.04198659 ... -0.         -0.\n",
      "  -0.        ]]\n",
      "support vectors \n",
      " [[3. 5. 4. ... 2. 3. 3.]\n",
      " [1. 5. 1. ... 2. 3. 3.]\n",
      " [3. 5. 1. ... 1. 1. 3.]\n",
      " ...\n",
      " [2. 2. 3. ... 1. 2. 1.]\n",
      " [1. 2. 3. ... 1. 2. 1.]\n",
      " [2. 1. 1. ... 1. 1. 1.]]\n",
      "index of support vectors \n",
      "  [  79   89  125 ... 8982 8983 8985]\n",
      "bias [ 0.32286873  0.16684542  0.55981039 -0.33573037  3.70951073  1.05406445]\n",
      "the classifier \n",
      " SVC(C=1.0, cache_size=200, class_weight=None, coef0=0.0,\n",
      "  decision_function_shape='ovr', degree=3, gamma='auto_deprecated',\n",
      "  kernel='rbf', max_iter=4000, probability=False, random_state=None,\n",
      "  shrinking=True, tol=1e-05, verbose=0)\n"
     ]
    }
   ],
   "source": [
    "print('Nursery dataset')\n",
    "print('dual coef \\n', svm.dual_coef_)\n",
    "print ('support vectors \\n', svm.support_vectors_)\n",
    "print('index of support vectors \\n ', svm.support_)\n",
    "print ('bias', svm.intercept_)\n",
    "print('the classifier \\n', svm)"
   ]
  },
  {
   "cell_type": "code",
   "execution_count": null,
   "metadata": {},
   "outputs": [],
   "source": []
  }
 ],
 "metadata": {
  "kernelspec": {
   "display_name": "Python 3",
   "language": "python",
   "name": "python3"
  },
  "language_info": {
   "codemirror_mode": {
    "name": "ipython",
    "version": 3
   },
   "file_extension": ".py",
   "mimetype": "text/x-python",
   "name": "python",
   "nbconvert_exporter": "python",
   "pygments_lexer": "ipython3",
   "version": "3.7.1"
  }
 },
 "nbformat": 4,
 "nbformat_minor": 2
}
