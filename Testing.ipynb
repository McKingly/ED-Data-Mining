{
 "cells": [
  {
   "cell_type": "markdown",
   "metadata": {},
   "source": [
    "- [Task A - Pre Processing](#Task-A---Pre-Processing)\n",
    " - [Checking missing values](#Checking-if-datasets-have-missing-values)\n",
    " - [Handling categorical data](#Handling-categorical-data)\n",
    " - [Encoding class labels](#Encoding-class-labels)\n",
    " - [Partitioning datasets](#Partitioning-datasets-in-training-and-test-sets)\n",
    " - [Rank features](#Rank-features)\n",
    "   - [1. Univariate Feature Selection](#1.-Univariate-Feature-Selection)\n",
    "     - [1.1 Mutual Info Classif](#1.1-Mutual-Info-Classif)\n",
    "     - [1.2 Chi-squared](#1.2-Chi-squared)\n",
    " - [Dimension reduction](#Dimension-reduction)\n",
    "- [Task B - Predictive Model](#Task-B---Predictive-Model)\n"
   ]
  },
  {
   "cell_type": "code",
   "execution_count": 1,
   "metadata": {},
   "outputs": [],
   "source": [
    "import pandas as pd\n",
    "import numpy as np\n",
    "import xlrd\n",
    "import copy\n",
    "%matplotlib inline"
   ]
  },
  {
   "cell_type": "code",
   "execution_count": 2,
   "metadata": {},
   "outputs": [],
   "source": [
    "#Disable warning\n",
    "import warnings\n",
    "warnings.filterwarnings(\"ignore\", category=FutureWarning)\n",
    "warnings.filterwarnings(\"ignore\", category=DeprecationWarning)"
   ]
  },
  {
   "cell_type": "markdown",
   "metadata": {},
   "source": [
    "## Reading datasets"
   ]
  },
  {
   "cell_type": "markdown",
   "metadata": {},
   "source": [
    "### Banknotes dataset"
   ]
  },
  {
   "cell_type": "code",
   "execution_count": 3,
   "metadata": {},
   "outputs": [],
   "source": [
    "df_bankNotes = pd.read_excel('./data_banknote_authentication.xlsx')\n",
    "#df_bankNotes"
   ]
  },
  {
   "cell_type": "markdown",
   "metadata": {},
   "source": [
    "### Nursery dataset"
   ]
  },
  {
   "cell_type": "code",
   "execution_count": 4,
   "metadata": {},
   "outputs": [],
   "source": [
    "df_nursery = pd.read_excel('./nursery.xlsx')\n",
    "#df_nursery"
   ]
  },
  {
   "cell_type": "markdown",
   "metadata": {},
   "source": [
    "# Task A - Pre Processing"
   ]
  },
  {
   "cell_type": "markdown",
   "metadata": {},
   "source": [
    "## Checking if datasets have missing values"
   ]
  },
  {
   "cell_type": "markdown",
   "metadata": {},
   "source": [
    "### Banknotes dataset"
   ]
  },
  {
   "cell_type": "code",
   "execution_count": 5,
   "metadata": {},
   "outputs": [
    {
     "data": {
      "text/plain": [
       "variance of Wavelet Transformed image    0\n",
       "skewness of Wavelet Transformed image    0\n",
       "curtosis of Wavelet Transformed image    0\n",
       "entropy of image                         0\n",
       "class                                    0\n",
       "dtype: int64"
      ]
     },
     "execution_count": 5,
     "metadata": {},
     "output_type": "execute_result"
    }
   ],
   "source": [
    "df_bankNotes.isnull().sum()"
   ]
  },
  {
   "cell_type": "markdown",
   "metadata": {},
   "source": [
    "### Nursery dataset"
   ]
  },
  {
   "cell_type": "code",
   "execution_count": 6,
   "metadata": {},
   "outputs": [
    {
     "data": {
      "text/plain": [
       "parents     0\n",
       "has_nurs    0\n",
       "form        0\n",
       "children    0\n",
       "housing     0\n",
       "finance     0\n",
       "social      0\n",
       "health      0\n",
       "class       0\n",
       "dtype: int64"
      ]
     },
     "execution_count": 6,
     "metadata": {},
     "output_type": "execute_result"
    }
   ],
   "source": [
    "df_nursery.isnull().sum()"
   ]
  },
  {
   "cell_type": "markdown",
   "metadata": {},
   "source": [
    "## Handling categorical data"
   ]
  },
  {
   "cell_type": "markdown",
   "metadata": {},
   "source": [
    "### Mapping ordinal features"
   ]
  },
  {
   "cell_type": "markdown",
   "metadata": {},
   "source": [
    "#### Nursery dataset"
   ]
  },
  {
   "cell_type": "code",
   "execution_count": 7,
   "metadata": {},
   "outputs": [],
   "source": [
    "# print features before mapping\n",
    "#df_nursery[df_nursery.columns[0:8]]"
   ]
  },
  {
   "cell_type": "code",
   "execution_count": 8,
   "metadata": {
    "scrolled": true
   },
   "outputs": [],
   "source": [
    "# get dataset copy\n",
    "df_nursery_copy = df_nursery.copy()\n",
    "\n",
    "# cast data to string\n",
    "df_nursery_copy = df_nursery_copy.astype(str)\n",
    "\n",
    "# map features\n",
    "parents_mapping = {'usual':1, 'pretentious':2, 'great_pret':3}\n",
    "df_nursery_copy['parents'] = df_nursery_copy['parents'].map(parents_mapping)\n",
    "\n",
    "has_nurs_mapping = {'proper':1, 'less_proper':2, 'improper':3, 'critical':4, 'very_crit':5}\n",
    "df_nursery_copy['has_nurs'] = df_nursery_copy['has_nurs'].map(has_nurs_mapping)\n",
    "\n",
    "form_mapping = {'complete':1, 'completed':2, 'incomplete':3, 'foster':4}\n",
    "df_nursery_copy['form'] = df_nursery_copy['form'].map(form_mapping)\n",
    "\n",
    "children_mapping = {'1':1, '2':2, '3':3, 'more':4}\n",
    "df_nursery_copy['children'] = df_nursery_copy['children'].map(children_mapping)\n",
    "\n",
    "housing_mapping = {'convenient':1, 'less_conv':2, 'critical':3}\n",
    "df_nursery_copy['housing'] = df_nursery_copy['housing'].map(housing_mapping)\n",
    "\n",
    "finance_mapping = {'convenient':1, 'inconv':2}\n",
    "df_nursery_copy['finance'] = df_nursery_copy['finance'].map(finance_mapping)\n",
    "\n",
    "social_mapping = {'nonprob':1, 'slightly_prob':2, 'problematic':3}\n",
    "df_nursery_copy['social'] = df_nursery_copy['social'].map(social_mapping)\n",
    "\n",
    "health_mapping = {'recommended':1, 'priority':2, 'not_recom':3}\n",
    "df_nursery_copy['health'] = df_nursery_copy['health'].map(health_mapping)"
   ]
  },
  {
   "cell_type": "code",
   "execution_count": 9,
   "metadata": {},
   "outputs": [
    {
     "data": {
      "text/html": [
       "<div>\n",
       "<style scoped>\n",
       "    .dataframe tbody tr th:only-of-type {\n",
       "        vertical-align: middle;\n",
       "    }\n",
       "\n",
       "    .dataframe tbody tr th {\n",
       "        vertical-align: top;\n",
       "    }\n",
       "\n",
       "    .dataframe thead th {\n",
       "        text-align: right;\n",
       "    }\n",
       "</style>\n",
       "<table border=\"1\" class=\"dataframe\">\n",
       "  <thead>\n",
       "    <tr style=\"text-align: right;\">\n",
       "      <th></th>\n",
       "      <th>parents</th>\n",
       "      <th>has_nurs</th>\n",
       "      <th>form</th>\n",
       "      <th>children</th>\n",
       "      <th>housing</th>\n",
       "      <th>finance</th>\n",
       "      <th>social</th>\n",
       "      <th>health</th>\n",
       "    </tr>\n",
       "  </thead>\n",
       "  <tbody>\n",
       "    <tr>\n",
       "      <th>0</th>\n",
       "      <td>1</td>\n",
       "      <td>1</td>\n",
       "      <td>1</td>\n",
       "      <td>1</td>\n",
       "      <td>1</td>\n",
       "      <td>1</td>\n",
       "      <td>1</td>\n",
       "      <td>1</td>\n",
       "    </tr>\n",
       "    <tr>\n",
       "      <th>1</th>\n",
       "      <td>1</td>\n",
       "      <td>1</td>\n",
       "      <td>1</td>\n",
       "      <td>1</td>\n",
       "      <td>1</td>\n",
       "      <td>1</td>\n",
       "      <td>1</td>\n",
       "      <td>2</td>\n",
       "    </tr>\n",
       "    <tr>\n",
       "      <th>2</th>\n",
       "      <td>1</td>\n",
       "      <td>1</td>\n",
       "      <td>1</td>\n",
       "      <td>1</td>\n",
       "      <td>1</td>\n",
       "      <td>1</td>\n",
       "      <td>1</td>\n",
       "      <td>3</td>\n",
       "    </tr>\n",
       "    <tr>\n",
       "      <th>3</th>\n",
       "      <td>1</td>\n",
       "      <td>1</td>\n",
       "      <td>1</td>\n",
       "      <td>1</td>\n",
       "      <td>1</td>\n",
       "      <td>1</td>\n",
       "      <td>2</td>\n",
       "      <td>1</td>\n",
       "    </tr>\n",
       "    <tr>\n",
       "      <th>4</th>\n",
       "      <td>1</td>\n",
       "      <td>1</td>\n",
       "      <td>1</td>\n",
       "      <td>1</td>\n",
       "      <td>1</td>\n",
       "      <td>1</td>\n",
       "      <td>2</td>\n",
       "      <td>2</td>\n",
       "    </tr>\n",
       "    <tr>\n",
       "      <th>5</th>\n",
       "      <td>1</td>\n",
       "      <td>1</td>\n",
       "      <td>1</td>\n",
       "      <td>1</td>\n",
       "      <td>1</td>\n",
       "      <td>1</td>\n",
       "      <td>2</td>\n",
       "      <td>3</td>\n",
       "    </tr>\n",
       "    <tr>\n",
       "      <th>6</th>\n",
       "      <td>1</td>\n",
       "      <td>1</td>\n",
       "      <td>1</td>\n",
       "      <td>1</td>\n",
       "      <td>1</td>\n",
       "      <td>1</td>\n",
       "      <td>3</td>\n",
       "      <td>1</td>\n",
       "    </tr>\n",
       "    <tr>\n",
       "      <th>7</th>\n",
       "      <td>1</td>\n",
       "      <td>1</td>\n",
       "      <td>1</td>\n",
       "      <td>1</td>\n",
       "      <td>1</td>\n",
       "      <td>1</td>\n",
       "      <td>3</td>\n",
       "      <td>2</td>\n",
       "    </tr>\n",
       "    <tr>\n",
       "      <th>8</th>\n",
       "      <td>1</td>\n",
       "      <td>1</td>\n",
       "      <td>1</td>\n",
       "      <td>1</td>\n",
       "      <td>1</td>\n",
       "      <td>1</td>\n",
       "      <td>3</td>\n",
       "      <td>3</td>\n",
       "    </tr>\n",
       "    <tr>\n",
       "      <th>9</th>\n",
       "      <td>1</td>\n",
       "      <td>1</td>\n",
       "      <td>1</td>\n",
       "      <td>1</td>\n",
       "      <td>1</td>\n",
       "      <td>2</td>\n",
       "      <td>1</td>\n",
       "      <td>1</td>\n",
       "    </tr>\n",
       "    <tr>\n",
       "      <th>10</th>\n",
       "      <td>1</td>\n",
       "      <td>1</td>\n",
       "      <td>1</td>\n",
       "      <td>1</td>\n",
       "      <td>1</td>\n",
       "      <td>2</td>\n",
       "      <td>1</td>\n",
       "      <td>2</td>\n",
       "    </tr>\n",
       "    <tr>\n",
       "      <th>11</th>\n",
       "      <td>1</td>\n",
       "      <td>1</td>\n",
       "      <td>1</td>\n",
       "      <td>1</td>\n",
       "      <td>1</td>\n",
       "      <td>2</td>\n",
       "      <td>1</td>\n",
       "      <td>3</td>\n",
       "    </tr>\n",
       "    <tr>\n",
       "      <th>12</th>\n",
       "      <td>1</td>\n",
       "      <td>1</td>\n",
       "      <td>1</td>\n",
       "      <td>1</td>\n",
       "      <td>1</td>\n",
       "      <td>2</td>\n",
       "      <td>2</td>\n",
       "      <td>1</td>\n",
       "    </tr>\n",
       "    <tr>\n",
       "      <th>13</th>\n",
       "      <td>1</td>\n",
       "      <td>1</td>\n",
       "      <td>1</td>\n",
       "      <td>1</td>\n",
       "      <td>1</td>\n",
       "      <td>2</td>\n",
       "      <td>2</td>\n",
       "      <td>2</td>\n",
       "    </tr>\n",
       "    <tr>\n",
       "      <th>14</th>\n",
       "      <td>1</td>\n",
       "      <td>1</td>\n",
       "      <td>1</td>\n",
       "      <td>1</td>\n",
       "      <td>1</td>\n",
       "      <td>2</td>\n",
       "      <td>2</td>\n",
       "      <td>3</td>\n",
       "    </tr>\n",
       "    <tr>\n",
       "      <th>15</th>\n",
       "      <td>1</td>\n",
       "      <td>1</td>\n",
       "      <td>1</td>\n",
       "      <td>1</td>\n",
       "      <td>1</td>\n",
       "      <td>2</td>\n",
       "      <td>3</td>\n",
       "      <td>1</td>\n",
       "    </tr>\n",
       "    <tr>\n",
       "      <th>16</th>\n",
       "      <td>1</td>\n",
       "      <td>1</td>\n",
       "      <td>1</td>\n",
       "      <td>1</td>\n",
       "      <td>1</td>\n",
       "      <td>2</td>\n",
       "      <td>3</td>\n",
       "      <td>2</td>\n",
       "    </tr>\n",
       "    <tr>\n",
       "      <th>17</th>\n",
       "      <td>1</td>\n",
       "      <td>1</td>\n",
       "      <td>1</td>\n",
       "      <td>1</td>\n",
       "      <td>1</td>\n",
       "      <td>2</td>\n",
       "      <td>3</td>\n",
       "      <td>3</td>\n",
       "    </tr>\n",
       "    <tr>\n",
       "      <th>18</th>\n",
       "      <td>1</td>\n",
       "      <td>1</td>\n",
       "      <td>1</td>\n",
       "      <td>1</td>\n",
       "      <td>2</td>\n",
       "      <td>1</td>\n",
       "      <td>1</td>\n",
       "      <td>1</td>\n",
       "    </tr>\n",
       "    <tr>\n",
       "      <th>19</th>\n",
       "      <td>1</td>\n",
       "      <td>1</td>\n",
       "      <td>1</td>\n",
       "      <td>1</td>\n",
       "      <td>2</td>\n",
       "      <td>1</td>\n",
       "      <td>1</td>\n",
       "      <td>2</td>\n",
       "    </tr>\n",
       "    <tr>\n",
       "      <th>20</th>\n",
       "      <td>1</td>\n",
       "      <td>1</td>\n",
       "      <td>1</td>\n",
       "      <td>1</td>\n",
       "      <td>2</td>\n",
       "      <td>1</td>\n",
       "      <td>1</td>\n",
       "      <td>3</td>\n",
       "    </tr>\n",
       "    <tr>\n",
       "      <th>21</th>\n",
       "      <td>1</td>\n",
       "      <td>1</td>\n",
       "      <td>1</td>\n",
       "      <td>1</td>\n",
       "      <td>2</td>\n",
       "      <td>1</td>\n",
       "      <td>2</td>\n",
       "      <td>1</td>\n",
       "    </tr>\n",
       "    <tr>\n",
       "      <th>22</th>\n",
       "      <td>1</td>\n",
       "      <td>1</td>\n",
       "      <td>1</td>\n",
       "      <td>1</td>\n",
       "      <td>2</td>\n",
       "      <td>1</td>\n",
       "      <td>2</td>\n",
       "      <td>2</td>\n",
       "    </tr>\n",
       "    <tr>\n",
       "      <th>23</th>\n",
       "      <td>1</td>\n",
       "      <td>1</td>\n",
       "      <td>1</td>\n",
       "      <td>1</td>\n",
       "      <td>2</td>\n",
       "      <td>1</td>\n",
       "      <td>2</td>\n",
       "      <td>3</td>\n",
       "    </tr>\n",
       "    <tr>\n",
       "      <th>24</th>\n",
       "      <td>1</td>\n",
       "      <td>1</td>\n",
       "      <td>1</td>\n",
       "      <td>1</td>\n",
       "      <td>2</td>\n",
       "      <td>1</td>\n",
       "      <td>3</td>\n",
       "      <td>1</td>\n",
       "    </tr>\n",
       "    <tr>\n",
       "      <th>25</th>\n",
       "      <td>1</td>\n",
       "      <td>1</td>\n",
       "      <td>1</td>\n",
       "      <td>1</td>\n",
       "      <td>2</td>\n",
       "      <td>1</td>\n",
       "      <td>3</td>\n",
       "      <td>2</td>\n",
       "    </tr>\n",
       "    <tr>\n",
       "      <th>26</th>\n",
       "      <td>1</td>\n",
       "      <td>1</td>\n",
       "      <td>1</td>\n",
       "      <td>1</td>\n",
       "      <td>2</td>\n",
       "      <td>1</td>\n",
       "      <td>3</td>\n",
       "      <td>3</td>\n",
       "    </tr>\n",
       "    <tr>\n",
       "      <th>27</th>\n",
       "      <td>1</td>\n",
       "      <td>1</td>\n",
       "      <td>1</td>\n",
       "      <td>1</td>\n",
       "      <td>2</td>\n",
       "      <td>2</td>\n",
       "      <td>1</td>\n",
       "      <td>1</td>\n",
       "    </tr>\n",
       "    <tr>\n",
       "      <th>28</th>\n",
       "      <td>1</td>\n",
       "      <td>1</td>\n",
       "      <td>1</td>\n",
       "      <td>1</td>\n",
       "      <td>2</td>\n",
       "      <td>2</td>\n",
       "      <td>1</td>\n",
       "      <td>2</td>\n",
       "    </tr>\n",
       "    <tr>\n",
       "      <th>29</th>\n",
       "      <td>1</td>\n",
       "      <td>1</td>\n",
       "      <td>1</td>\n",
       "      <td>1</td>\n",
       "      <td>2</td>\n",
       "      <td>2</td>\n",
       "      <td>1</td>\n",
       "      <td>3</td>\n",
       "    </tr>\n",
       "    <tr>\n",
       "      <th>...</th>\n",
       "      <td>...</td>\n",
       "      <td>...</td>\n",
       "      <td>...</td>\n",
       "      <td>...</td>\n",
       "      <td>...</td>\n",
       "      <td>...</td>\n",
       "      <td>...</td>\n",
       "      <td>...</td>\n",
       "    </tr>\n",
       "    <tr>\n",
       "      <th>12930</th>\n",
       "      <td>3</td>\n",
       "      <td>5</td>\n",
       "      <td>4</td>\n",
       "      <td>4</td>\n",
       "      <td>2</td>\n",
       "      <td>1</td>\n",
       "      <td>3</td>\n",
       "      <td>1</td>\n",
       "    </tr>\n",
       "    <tr>\n",
       "      <th>12931</th>\n",
       "      <td>3</td>\n",
       "      <td>5</td>\n",
       "      <td>4</td>\n",
       "      <td>4</td>\n",
       "      <td>2</td>\n",
       "      <td>1</td>\n",
       "      <td>3</td>\n",
       "      <td>2</td>\n",
       "    </tr>\n",
       "    <tr>\n",
       "      <th>12932</th>\n",
       "      <td>3</td>\n",
       "      <td>5</td>\n",
       "      <td>4</td>\n",
       "      <td>4</td>\n",
       "      <td>2</td>\n",
       "      <td>1</td>\n",
       "      <td>3</td>\n",
       "      <td>3</td>\n",
       "    </tr>\n",
       "    <tr>\n",
       "      <th>12933</th>\n",
       "      <td>3</td>\n",
       "      <td>5</td>\n",
       "      <td>4</td>\n",
       "      <td>4</td>\n",
       "      <td>2</td>\n",
       "      <td>2</td>\n",
       "      <td>1</td>\n",
       "      <td>1</td>\n",
       "    </tr>\n",
       "    <tr>\n",
       "      <th>12934</th>\n",
       "      <td>3</td>\n",
       "      <td>5</td>\n",
       "      <td>4</td>\n",
       "      <td>4</td>\n",
       "      <td>2</td>\n",
       "      <td>2</td>\n",
       "      <td>1</td>\n",
       "      <td>2</td>\n",
       "    </tr>\n",
       "    <tr>\n",
       "      <th>12935</th>\n",
       "      <td>3</td>\n",
       "      <td>5</td>\n",
       "      <td>4</td>\n",
       "      <td>4</td>\n",
       "      <td>2</td>\n",
       "      <td>2</td>\n",
       "      <td>1</td>\n",
       "      <td>3</td>\n",
       "    </tr>\n",
       "    <tr>\n",
       "      <th>12936</th>\n",
       "      <td>3</td>\n",
       "      <td>5</td>\n",
       "      <td>4</td>\n",
       "      <td>4</td>\n",
       "      <td>2</td>\n",
       "      <td>2</td>\n",
       "      <td>2</td>\n",
       "      <td>1</td>\n",
       "    </tr>\n",
       "    <tr>\n",
       "      <th>12937</th>\n",
       "      <td>3</td>\n",
       "      <td>5</td>\n",
       "      <td>4</td>\n",
       "      <td>4</td>\n",
       "      <td>2</td>\n",
       "      <td>2</td>\n",
       "      <td>2</td>\n",
       "      <td>2</td>\n",
       "    </tr>\n",
       "    <tr>\n",
       "      <th>12938</th>\n",
       "      <td>3</td>\n",
       "      <td>5</td>\n",
       "      <td>4</td>\n",
       "      <td>4</td>\n",
       "      <td>2</td>\n",
       "      <td>2</td>\n",
       "      <td>2</td>\n",
       "      <td>3</td>\n",
       "    </tr>\n",
       "    <tr>\n",
       "      <th>12939</th>\n",
       "      <td>3</td>\n",
       "      <td>5</td>\n",
       "      <td>4</td>\n",
       "      <td>4</td>\n",
       "      <td>2</td>\n",
       "      <td>2</td>\n",
       "      <td>3</td>\n",
       "      <td>1</td>\n",
       "    </tr>\n",
       "    <tr>\n",
       "      <th>12940</th>\n",
       "      <td>3</td>\n",
       "      <td>5</td>\n",
       "      <td>4</td>\n",
       "      <td>4</td>\n",
       "      <td>2</td>\n",
       "      <td>2</td>\n",
       "      <td>3</td>\n",
       "      <td>2</td>\n",
       "    </tr>\n",
       "    <tr>\n",
       "      <th>12941</th>\n",
       "      <td>3</td>\n",
       "      <td>5</td>\n",
       "      <td>4</td>\n",
       "      <td>4</td>\n",
       "      <td>2</td>\n",
       "      <td>2</td>\n",
       "      <td>3</td>\n",
       "      <td>3</td>\n",
       "    </tr>\n",
       "    <tr>\n",
       "      <th>12942</th>\n",
       "      <td>3</td>\n",
       "      <td>5</td>\n",
       "      <td>4</td>\n",
       "      <td>4</td>\n",
       "      <td>3</td>\n",
       "      <td>1</td>\n",
       "      <td>1</td>\n",
       "      <td>1</td>\n",
       "    </tr>\n",
       "    <tr>\n",
       "      <th>12943</th>\n",
       "      <td>3</td>\n",
       "      <td>5</td>\n",
       "      <td>4</td>\n",
       "      <td>4</td>\n",
       "      <td>3</td>\n",
       "      <td>1</td>\n",
       "      <td>1</td>\n",
       "      <td>2</td>\n",
       "    </tr>\n",
       "    <tr>\n",
       "      <th>12944</th>\n",
       "      <td>3</td>\n",
       "      <td>5</td>\n",
       "      <td>4</td>\n",
       "      <td>4</td>\n",
       "      <td>3</td>\n",
       "      <td>1</td>\n",
       "      <td>1</td>\n",
       "      <td>3</td>\n",
       "    </tr>\n",
       "    <tr>\n",
       "      <th>12945</th>\n",
       "      <td>3</td>\n",
       "      <td>5</td>\n",
       "      <td>4</td>\n",
       "      <td>4</td>\n",
       "      <td>3</td>\n",
       "      <td>1</td>\n",
       "      <td>2</td>\n",
       "      <td>1</td>\n",
       "    </tr>\n",
       "    <tr>\n",
       "      <th>12946</th>\n",
       "      <td>3</td>\n",
       "      <td>5</td>\n",
       "      <td>4</td>\n",
       "      <td>4</td>\n",
       "      <td>3</td>\n",
       "      <td>1</td>\n",
       "      <td>2</td>\n",
       "      <td>2</td>\n",
       "    </tr>\n",
       "    <tr>\n",
       "      <th>12947</th>\n",
       "      <td>3</td>\n",
       "      <td>5</td>\n",
       "      <td>4</td>\n",
       "      <td>4</td>\n",
       "      <td>3</td>\n",
       "      <td>1</td>\n",
       "      <td>2</td>\n",
       "      <td>3</td>\n",
       "    </tr>\n",
       "    <tr>\n",
       "      <th>12948</th>\n",
       "      <td>3</td>\n",
       "      <td>5</td>\n",
       "      <td>4</td>\n",
       "      <td>4</td>\n",
       "      <td>3</td>\n",
       "      <td>1</td>\n",
       "      <td>3</td>\n",
       "      <td>1</td>\n",
       "    </tr>\n",
       "    <tr>\n",
       "      <th>12949</th>\n",
       "      <td>3</td>\n",
       "      <td>5</td>\n",
       "      <td>4</td>\n",
       "      <td>4</td>\n",
       "      <td>3</td>\n",
       "      <td>1</td>\n",
       "      <td>3</td>\n",
       "      <td>2</td>\n",
       "    </tr>\n",
       "    <tr>\n",
       "      <th>12950</th>\n",
       "      <td>3</td>\n",
       "      <td>5</td>\n",
       "      <td>4</td>\n",
       "      <td>4</td>\n",
       "      <td>3</td>\n",
       "      <td>1</td>\n",
       "      <td>3</td>\n",
       "      <td>3</td>\n",
       "    </tr>\n",
       "    <tr>\n",
       "      <th>12951</th>\n",
       "      <td>3</td>\n",
       "      <td>5</td>\n",
       "      <td>4</td>\n",
       "      <td>4</td>\n",
       "      <td>3</td>\n",
       "      <td>2</td>\n",
       "      <td>1</td>\n",
       "      <td>1</td>\n",
       "    </tr>\n",
       "    <tr>\n",
       "      <th>12952</th>\n",
       "      <td>3</td>\n",
       "      <td>5</td>\n",
       "      <td>4</td>\n",
       "      <td>4</td>\n",
       "      <td>3</td>\n",
       "      <td>2</td>\n",
       "      <td>1</td>\n",
       "      <td>2</td>\n",
       "    </tr>\n",
       "    <tr>\n",
       "      <th>12953</th>\n",
       "      <td>3</td>\n",
       "      <td>5</td>\n",
       "      <td>4</td>\n",
       "      <td>4</td>\n",
       "      <td>3</td>\n",
       "      <td>2</td>\n",
       "      <td>1</td>\n",
       "      <td>3</td>\n",
       "    </tr>\n",
       "    <tr>\n",
       "      <th>12954</th>\n",
       "      <td>3</td>\n",
       "      <td>5</td>\n",
       "      <td>4</td>\n",
       "      <td>4</td>\n",
       "      <td>3</td>\n",
       "      <td>2</td>\n",
       "      <td>2</td>\n",
       "      <td>1</td>\n",
       "    </tr>\n",
       "    <tr>\n",
       "      <th>12955</th>\n",
       "      <td>3</td>\n",
       "      <td>5</td>\n",
       "      <td>4</td>\n",
       "      <td>4</td>\n",
       "      <td>3</td>\n",
       "      <td>2</td>\n",
       "      <td>2</td>\n",
       "      <td>2</td>\n",
       "    </tr>\n",
       "    <tr>\n",
       "      <th>12956</th>\n",
       "      <td>3</td>\n",
       "      <td>5</td>\n",
       "      <td>4</td>\n",
       "      <td>4</td>\n",
       "      <td>3</td>\n",
       "      <td>2</td>\n",
       "      <td>2</td>\n",
       "      <td>3</td>\n",
       "    </tr>\n",
       "    <tr>\n",
       "      <th>12957</th>\n",
       "      <td>3</td>\n",
       "      <td>5</td>\n",
       "      <td>4</td>\n",
       "      <td>4</td>\n",
       "      <td>3</td>\n",
       "      <td>2</td>\n",
       "      <td>3</td>\n",
       "      <td>1</td>\n",
       "    </tr>\n",
       "    <tr>\n",
       "      <th>12958</th>\n",
       "      <td>3</td>\n",
       "      <td>5</td>\n",
       "      <td>4</td>\n",
       "      <td>4</td>\n",
       "      <td>3</td>\n",
       "      <td>2</td>\n",
       "      <td>3</td>\n",
       "      <td>2</td>\n",
       "    </tr>\n",
       "    <tr>\n",
       "      <th>12959</th>\n",
       "      <td>3</td>\n",
       "      <td>5</td>\n",
       "      <td>4</td>\n",
       "      <td>4</td>\n",
       "      <td>3</td>\n",
       "      <td>2</td>\n",
       "      <td>3</td>\n",
       "      <td>3</td>\n",
       "    </tr>\n",
       "  </tbody>\n",
       "</table>\n",
       "<p>12960 rows × 8 columns</p>\n",
       "</div>"
      ],
      "text/plain": [
       "       parents  has_nurs  form  children  housing  finance  social  health\n",
       "0            1         1     1         1        1        1       1       1\n",
       "1            1         1     1         1        1        1       1       2\n",
       "2            1         1     1         1        1        1       1       3\n",
       "3            1         1     1         1        1        1       2       1\n",
       "4            1         1     1         1        1        1       2       2\n",
       "5            1         1     1         1        1        1       2       3\n",
       "6            1         1     1         1        1        1       3       1\n",
       "7            1         1     1         1        1        1       3       2\n",
       "8            1         1     1         1        1        1       3       3\n",
       "9            1         1     1         1        1        2       1       1\n",
       "10           1         1     1         1        1        2       1       2\n",
       "11           1         1     1         1        1        2       1       3\n",
       "12           1         1     1         1        1        2       2       1\n",
       "13           1         1     1         1        1        2       2       2\n",
       "14           1         1     1         1        1        2       2       3\n",
       "15           1         1     1         1        1        2       3       1\n",
       "16           1         1     1         1        1        2       3       2\n",
       "17           1         1     1         1        1        2       3       3\n",
       "18           1         1     1         1        2        1       1       1\n",
       "19           1         1     1         1        2        1       1       2\n",
       "20           1         1     1         1        2        1       1       3\n",
       "21           1         1     1         1        2        1       2       1\n",
       "22           1         1     1         1        2        1       2       2\n",
       "23           1         1     1         1        2        1       2       3\n",
       "24           1         1     1         1        2        1       3       1\n",
       "25           1         1     1         1        2        1       3       2\n",
       "26           1         1     1         1        2        1       3       3\n",
       "27           1         1     1         1        2        2       1       1\n",
       "28           1         1     1         1        2        2       1       2\n",
       "29           1         1     1         1        2        2       1       3\n",
       "...        ...       ...   ...       ...      ...      ...     ...     ...\n",
       "12930        3         5     4         4        2        1       3       1\n",
       "12931        3         5     4         4        2        1       3       2\n",
       "12932        3         5     4         4        2        1       3       3\n",
       "12933        3         5     4         4        2        2       1       1\n",
       "12934        3         5     4         4        2        2       1       2\n",
       "12935        3         5     4         4        2        2       1       3\n",
       "12936        3         5     4         4        2        2       2       1\n",
       "12937        3         5     4         4        2        2       2       2\n",
       "12938        3         5     4         4        2        2       2       3\n",
       "12939        3         5     4         4        2        2       3       1\n",
       "12940        3         5     4         4        2        2       3       2\n",
       "12941        3         5     4         4        2        2       3       3\n",
       "12942        3         5     4         4        3        1       1       1\n",
       "12943        3         5     4         4        3        1       1       2\n",
       "12944        3         5     4         4        3        1       1       3\n",
       "12945        3         5     4         4        3        1       2       1\n",
       "12946        3         5     4         4        3        1       2       2\n",
       "12947        3         5     4         4        3        1       2       3\n",
       "12948        3         5     4         4        3        1       3       1\n",
       "12949        3         5     4         4        3        1       3       2\n",
       "12950        3         5     4         4        3        1       3       3\n",
       "12951        3         5     4         4        3        2       1       1\n",
       "12952        3         5     4         4        3        2       1       2\n",
       "12953        3         5     4         4        3        2       1       3\n",
       "12954        3         5     4         4        3        2       2       1\n",
       "12955        3         5     4         4        3        2       2       2\n",
       "12956        3         5     4         4        3        2       2       3\n",
       "12957        3         5     4         4        3        2       3       1\n",
       "12958        3         5     4         4        3        2       3       2\n",
       "12959        3         5     4         4        3        2       3       3\n",
       "\n",
       "[12960 rows x 8 columns]"
      ]
     },
     "execution_count": 9,
     "metadata": {},
     "output_type": "execute_result"
    }
   ],
   "source": [
    "# print features after mapping\n",
    "df_nursery_copy[df_nursery_copy.columns[0:8]]"
   ]
  },
  {
   "cell_type": "markdown",
   "metadata": {},
   "source": [
    "## Encoding class labels"
   ]
  },
  {
   "cell_type": "markdown",
   "metadata": {},
   "source": [
    "### Nursery dataset"
   ]
  },
  {
   "cell_type": "code",
   "execution_count": 10,
   "metadata": {},
   "outputs": [],
   "source": [
    "# print labels before encoding\n",
    "#df_nursery_copy[df_nursery_copy.columns[8]]"
   ]
  },
  {
   "cell_type": "code",
   "execution_count": 11,
   "metadata": {},
   "outputs": [
    {
     "data": {
      "text/plain": [
       "{'not_recom': 0,\n",
       " 'priority': 1,\n",
       " 'recommend': 2,\n",
       " 'spec_prior': 3,\n",
       " 'very_recom': 4}"
      ]
     },
     "execution_count": 11,
     "metadata": {},
     "output_type": "execute_result"
    }
   ],
   "source": [
    "class_mapping = {label:idx for idx,label in enumerate(np.unique(df_nursery_copy[df_nursery_copy.columns[8]]))}\n",
    "\n",
    "class_mapping"
   ]
  },
  {
   "cell_type": "code",
   "execution_count": 12,
   "metadata": {},
   "outputs": [],
   "source": [
    "# map labels\n",
    "df_nursery_copy[df_nursery_copy.columns[8]] = df_nursery_copy[df_nursery_copy.columns[8]].map(class_mapping)"
   ]
  },
  {
   "cell_type": "code",
   "execution_count": 13,
   "metadata": {},
   "outputs": [
    {
     "data": {
      "text/plain": [
       "0        2\n",
       "1        1\n",
       "2        0\n",
       "3        2\n",
       "4        1\n",
       "5        0\n",
       "6        1\n",
       "7        1\n",
       "8        0\n",
       "9        4\n",
       "10       1\n",
       "11       0\n",
       "12       4\n",
       "13       1\n",
       "14       0\n",
       "15       1\n",
       "16       1\n",
       "17       0\n",
       "18       4\n",
       "19       1\n",
       "20       0\n",
       "21       4\n",
       "22       1\n",
       "23       0\n",
       "24       1\n",
       "25       1\n",
       "26       0\n",
       "27       4\n",
       "28       1\n",
       "29       0\n",
       "        ..\n",
       "12930    3\n",
       "12931    3\n",
       "12932    0\n",
       "12933    3\n",
       "12934    3\n",
       "12935    0\n",
       "12936    3\n",
       "12937    3\n",
       "12938    0\n",
       "12939    3\n",
       "12940    3\n",
       "12941    0\n",
       "12942    3\n",
       "12943    3\n",
       "12944    0\n",
       "12945    3\n",
       "12946    3\n",
       "12947    0\n",
       "12948    3\n",
       "12949    3\n",
       "12950    0\n",
       "12951    3\n",
       "12952    3\n",
       "12953    0\n",
       "12954    3\n",
       "12955    3\n",
       "12956    0\n",
       "12957    3\n",
       "12958    3\n",
       "12959    0\n",
       "Name: class, Length: 12960, dtype: int64"
      ]
     },
     "execution_count": 13,
     "metadata": {},
     "output_type": "execute_result"
    }
   ],
   "source": [
    "# print labels after encoding\n",
    "df_nursery_copy[df_nursery_copy.columns[8]]"
   ]
  },
  {
   "cell_type": "markdown",
   "metadata": {},
   "source": [
    "## Partitioning datasets in training and test sets"
   ]
  },
  {
   "cell_type": "code",
   "execution_count": 14,
   "metadata": {},
   "outputs": [],
   "source": [
    "# Added version check for recent scikit-learn 0.18 checks\n",
    "from distutils.version import LooseVersion as Version\n",
    "from sklearn import __version__ as sklearn_version\n",
    "\n",
    "if Version(sklearn_version) < '0.18':\n",
    "    from sklearn.cross_validation import train_test_split\n",
    "else:\n",
    "    from sklearn.model_selection import train_test_split"
   ]
  },
  {
   "cell_type": "markdown",
   "metadata": {},
   "source": [
    "### Banknotes dataset"
   ]
  },
  {
   "cell_type": "code",
   "execution_count": 15,
   "metadata": {},
   "outputs": [],
   "source": [
    "# labels reading\n",
    "y1=df_bankNotes[df_bankNotes.columns[4]]\n",
    "# features reading\n",
    "X1=df_bankNotes[df_bankNotes.columns[0:4]]\n",
    "\n",
    "# get training and test sets\n",
    "X_train1,X_test1,y_train1,y_test1 = train_test_split(X1,y1,test_size = 0.3)"
   ]
  },
  {
   "cell_type": "markdown",
   "metadata": {},
   "source": [
    "### Nursery dataset"
   ]
  },
  {
   "cell_type": "code",
   "execution_count": 16,
   "metadata": {},
   "outputs": [],
   "source": [
    "# labels reading\n",
    "y2=df_nursery_copy[df_nursery_copy.columns[8]]\n",
    "# features reading\n",
    "X2=df_nursery_copy[df_nursery_copy.columns[0:8]]\n",
    "\n",
    "# get training and test sets\n",
    "X_train2,X_test2,y_train2,y_test2 = train_test_split(X2,y2,test_size = 0.3)"
   ]
  },
  {
   "cell_type": "markdown",
   "metadata": {},
   "source": [
    "## Rank features"
   ]
  },
  {
   "cell_type": "markdown",
   "metadata": {},
   "source": [
    "### 1. Univariate Feature Selection\n",
    "\n",
    "Univariate feature selection selects the best features by running univariate statistical tests like **chi-squared test, F-1 test, and mutual information** methods.\n",
    "Can't use the **chi-squared** function, if there are negative values.\n",
    "#### 1.1 Mutual Info Classif"
   ]
  },
  {
   "cell_type": "code",
   "execution_count": 17,
   "metadata": {},
   "outputs": [
    {
     "data": {
      "text/plain": [
       "SelectKBest(k=2, score_func=<function mutual_info_classif at 0x108A44F8>)"
      ]
     },
     "execution_count": 17,
     "metadata": {},
     "output_type": "execute_result"
    }
   ],
   "source": [
    "from sklearn.feature_selection import SelectKBest\n",
    "from sklearn.feature_selection import chi2, mutual_info_classif\n",
    "\n",
    "test = SelectKBest(score_func = mutual_info_classif, k=2)\n",
    "test"
   ]
  },
  {
   "cell_type": "markdown",
   "metadata": {},
   "source": [
    "##### Banknotes dataset"
   ]
  },
  {
   "cell_type": "code",
   "execution_count": 18,
   "metadata": {},
   "outputs": [
    {
     "name": "stdout",
     "output_type": "stream",
     "text": [
      "[(0.3800563787569369, 'variance of Wavelet Transformed image'), (0.23002605414778188, 'skewness of Wavelet Transformed image'), (0.13381290133398127, 'curtosis of Wavelet Transformed image'), (0.025999674858312227, 'entropy of image')]\n"
     ]
    }
   ],
   "source": [
    "test.fit(X_train1, y_train1)\n",
    "num_features = len(X_train1.columns)\n",
    "\n",
    "scores = []\n",
    "for i in range(num_features):\n",
    "    score = test.scores_[i]\n",
    "    scores.append((score, X_train1.columns[i]))\n",
    "        \n",
    "print (sorted(scores, reverse = True))"
   ]
  },
  {
   "cell_type": "markdown",
   "metadata": {},
   "source": [
    "##### Nursery dataset"
   ]
  },
  {
   "cell_type": "code",
   "execution_count": 19,
   "metadata": {},
   "outputs": [
    {
     "name": "stdout",
     "output_type": "stream",
     "text": [
      "[(0.6709055594914262, 'health'), (0.13462850665043646, 'has_nurs'), (0.05484787600307328, 'parents'), (0.01693354476921005, 'social'), (0.01391946086853002, 'housing'), (0.010614752536087568, 'children'), (0.009468014396877056, 'form'), (0.0048567533620076375, 'finance')]\n"
     ]
    }
   ],
   "source": [
    "test.fit(X_train2, y_train2)\n",
    "num_features = len(X_train2.columns)\n",
    "\n",
    "scores = []\n",
    "for i in range(num_features):\n",
    "    score = test.scores_[i]\n",
    "    scores.append((score, X_train2.columns[i]))\n",
    "        \n",
    "print (sorted(scores, reverse = True))"
   ]
  },
  {
   "cell_type": "markdown",
   "metadata": {},
   "source": [
    "#### 1.2 Chi-squared"
   ]
  },
  {
   "cell_type": "code",
   "execution_count": 20,
   "metadata": {},
   "outputs": [],
   "source": [
    "from sklearn.feature_selection import chi2\n",
    "test = SelectKBest(score_func = chi2, k=2)"
   ]
  },
  {
   "cell_type": "markdown",
   "metadata": {},
   "source": [
    "##### Nursery dataset"
   ]
  },
  {
   "cell_type": "code",
   "execution_count": 21,
   "metadata": {},
   "outputs": [
    {
     "name": "stdout",
     "output_type": "stream",
     "text": [
      "[(2328.5106695680142, 'health'), (1382.5393670468638, 'has_nurs'), (272.22400049403143, 'parents'), (82.37616853342124, 'housing'), (65.99136637836094, 'children'), (54.591070070816016, 'social'), (30.993490104262953, 'form'), (8.353215124118188, 'finance')]\n"
     ]
    }
   ],
   "source": [
    "test.fit(X_train2, y_train2)\n",
    "num_features = len(X_train2.columns)\n",
    "\n",
    "scores = []\n",
    "for i in range(num_features):\n",
    "    score = test.scores_[i]\n",
    "    scores.append((score, X_train2.columns[i]))\n",
    "        \n",
    "print (sorted(scores, reverse = True))"
   ]
  },
  {
   "cell_type": "markdown",
   "metadata": {},
   "source": [
    "## Dimension reduction"
   ]
  },
  {
   "cell_type": "markdown",
   "metadata": {},
   "source": [
    "### Banknotes dataset"
   ]
  },
  {
   "cell_type": "code",
   "execution_count": 22,
   "metadata": {},
   "outputs": [
    {
     "name": "stdout",
     "output_type": "stream",
     "text": [
      "Explained variance ratio: [0.75048995 0.14883214 0.06921445 0.03146347]\n"
     ]
    },
    {
     "data": {
      "image/png": "[encoded data removed]",
      "text/plain": [
       "<Figure size 432x288 with 1 Axes>"
      ]
     },
     "metadata": {
      "needs_background": "light"
     },
     "output_type": "display_data"
    }
   ],
   "source": [
    "import matplotlib.pyplot as plt\n",
    "from sklearn.decomposition import PCA\n",
    "\n",
    "pca = PCA()\n",
    "principalComponents = pca.fit_transform(X_train1)\n",
    "\n",
    "print(\"Explained variance ratio:\",pca.explained_variance_ratio_)\n",
    "range_value = pca.explained_variance_ratio_.shape[0]\n",
    "\n",
    "plt.bar(range(range_value), pca.explained_variance_ratio_, alpha=0.5, align='center')\n",
    "plt.step(range(range_value), np.cumsum(pca.explained_variance_ratio_), where='mid')\n",
    "plt.ylabel('Explained variance ratio')\n",
    "plt.xlabel('Principal components')\n",
    "plt.show()"
   ]
  },
  {
   "cell_type": "code",
   "execution_count": 23,
   "metadata": {},
   "outputs": [
    {
     "data": {
      "image/png": "[encoded data removed]",
      "text/plain": [
       "<Figure size 1440x1440 with 1 Axes>"
      ]
     },
     "metadata": {
      "needs_background": "light"
     },
     "output_type": "display_data"
    }
   ],
   "source": [
    "pca = PCA(n_components=2)\n",
    "X_train_pca1 = pca.fit_transform(X_train1)\n",
    "print\n",
    "\n",
    "fig = plt.figure(figsize=(20, 20))\n",
    "ax = fig.add_subplot(2,2,1) \n",
    "\n",
    "ax.scatter(X_train_pca1[y_train1 == 0, 0], X_train_pca1[y_train1 == 0, 1],\n",
    "              color='red', marker='^', alpha=0.5)\n",
    "ax.scatter(X_train_pca1[y_train1 == 1, 0], X_train_pca1[y_train1 == 1, 1],\n",
    "              color='green', marker='o', alpha=0.5)\n",
    "\n",
    "ax.set_xlabel('PC1')\n",
    "ax.set_ylabel('PC2')\n",
    "\n",
    "# plt.savefig('./figures/half_moon_2.png', dpi=300)\n",
    "ax.grid()\n",
    "plt.show()"
   ]
  },
  {
   "cell_type": "code",
   "execution_count": 24,
   "metadata": {},
   "outputs": [
    {
     "name": "stdout",
     "output_type": "stream",
     "text": [
      "eigenvectors\n",
      " [[-0.1375057  -0.81463483  0.5417687   0.15475451]\n",
      " [-0.82452609  0.23304948  0.26712712 -0.44100767]]\n",
      "singular_ values\n",
      " [213.73404957  95.18086338]\n"
     ]
    }
   ],
   "source": [
    "# The eigenvectors\n",
    "print('eigenvectors\\n', pca.components_)\n",
    "# singular values\n",
    "print('singular_ values\\n', pca.singular_values_)"
   ]
  },
  {
   "cell_type": "code",
   "execution_count": 25,
   "metadata": {},
   "outputs": [
    {
     "data": {
      "image/png": "[encoded data removed]",
      "text/plain": [
       "<Figure size 1440x1440 with 1 Axes>"
      ]
     },
     "metadata": {
      "needs_background": "light"
     },
     "output_type": "display_data"
    },
    {
     "name": "stdout",
     "output_type": "stream",
     "text": [
      "            0         1\n",
      "0   -0.003259 -0.004373\n",
      "1   -0.004525 -0.006651\n",
      "2   -0.003418 -0.004664\n",
      "3   -0.003561 -0.004879\n",
      "4   -0.003744 -0.005207\n",
      "5   -0.003650 -0.005036\n",
      "6   -0.003492 -0.004765\n",
      "7   -0.003709 -0.005188\n",
      "8   -0.004517 -0.006614\n",
      "9   -0.003909 -0.005505\n",
      "10  -0.003285 -0.004415\n",
      "11  -0.003247 -0.004353\n",
      "12  -0.004477 -0.006540\n",
      "13  -0.003666 -0.005056\n",
      "14  -0.003729 -0.005175\n",
      "15  -0.004859 -0.007542\n",
      "16  -0.004546 -0.006684\n",
      "17   0.996311  0.019420\n",
      "18  -0.003415 -0.004645\n",
      "19  -0.003283 -0.004414\n",
      "20  -0.003254 -0.004367\n",
      "21  -0.003245 -0.004350\n",
      "22  -0.004522 -0.006630\n",
      "23  -0.003708 -0.005129\n",
      "24  -0.004053 -0.005747\n",
      "25  -0.004654 -0.005056\n",
      "26  -0.003252 -0.004362\n",
      "27  -0.003247 -0.004354\n",
      "28  -0.005278 -0.008264\n",
      "29  -0.003290 -0.004423\n",
      "..        ...       ...\n",
      "930 -0.003366 -0.004559\n",
      "931 -0.003301 -0.004456\n",
      "932 -0.003245 -0.004350\n",
      "933 -0.003307 -0.004454\n",
      "934 -0.004248  0.013046\n",
      "935 -0.003309 -0.004457\n",
      "936 -0.003257 -0.004369\n",
      "937 -0.023347  0.826264\n",
      "938 -0.003700 -0.005120\n",
      "939 -0.004566 -0.006703\n",
      "940 -0.003261 -0.004378\n",
      "941 -0.003246 -0.004351\n",
      "942 -0.003249 -0.004357\n",
      "943 -0.004074 -0.005770\n",
      "944 -0.005042 -0.007791\n",
      "945 -0.003245 -0.004350\n",
      "946 -0.009799 -0.023646\n",
      "947 -0.005372 -0.008332\n",
      "948 -0.004222 -0.006196\n",
      "949 -0.003573 -0.004896\n",
      "950 -0.003948 -0.005570\n",
      "951 -0.003297 -0.004439\n",
      "952 -0.003973 -0.005602\n",
      "953 -0.003578 -0.004949\n",
      "954 -0.003245 -0.004350\n",
      "955 -0.003417 -0.000595\n",
      "956 -0.003933 -0.003656\n",
      "957 -0.009799 -0.023646\n",
      "958 -0.005287 -0.008137\n",
      "959 -0.003514 -0.004801\n",
      "\n",
      "[960 rows x 2 columns]\n"
     ]
    }
   ],
   "source": [
    "from sklearn.decomposition import KernelPCA\n",
    "\n",
    "kpca = KernelPCA( n_components = 2, kernel=\"rbf\", fit_inverse_transform=True, gamma=10)\n",
    "X_train_kpca1 = kpca.fit_transform(X_train1)\n",
    "fig = plt.figure(figsize=(20, 20))\n",
    "\n",
    "plt.subplot(2, 2, 1, aspect='equal')\n",
    "\n",
    "plt.scatter(X_train_kpca1[y_train1 == 0, 0], X_train_kpca1[y_train1 == 0, 1], c=\"red\",\n",
    "            marker='^', alpha=0.5)\n",
    "plt.scatter(X_train_kpca1[y_train1 == 1, 0], X_train_kpca1[y_train1 == 1, 1], c=\"green\",\n",
    "            marker='o', alpha=0.5)\n",
    "plt.title(\"Projection by KPCA - Cosine\")\n",
    "plt.xlabel(\"1st principal component in space induced by $\\phi$\")\n",
    "plt.ylabel(\"2nd component\")\n",
    "plt.grid()\n",
    "plt.show()\n",
    "\n",
    "X_train1_v2 = pd.DataFrame(data=X_train_kpca1)\n",
    "print(X_train1_v2)"
   ]
  },
  {
   "cell_type": "markdown",
   "metadata": {},
   "source": [
    "### Nursery dataset"
   ]
  },
  {
   "cell_type": "code",
   "execution_count": 26,
   "metadata": {},
   "outputs": [
    {
     "name": "stdout",
     "output_type": "stream",
     "text": [
      "Explained variance ratio: [0.26861445 0.17014433 0.16794164 0.09056424 0.09001038 0.08968382\n",
      " 0.08933976 0.03370138]\n"
     ]
    },
    {
     "data": {
      "image/png": "[encoded data removed]",
      "text/plain": [
       "<Figure size 432x288 with 1 Axes>"
      ]
     },
     "metadata": {
      "needs_background": "light"
     },
     "output_type": "display_data"
    }
   ],
   "source": [
    "pca = PCA()\n",
    "principalComponents = pca.fit_transform(X_train2)\n",
    "\n",
    "print(\"Explained variance ratio:\",pca.explained_variance_ratio_)\n",
    "range_value = pca.explained_variance_ratio_.shape[0]\n",
    "\n",
    "plt.bar(range(range_value), pca.explained_variance_ratio_, alpha=0.5, align='center')\n",
    "plt.step(range(range_value), np.cumsum(pca.explained_variance_ratio_), where='mid')\n",
    "plt.ylabel('Explained variance ratio')\n",
    "plt.xlabel('Principal components')\n",
    "plt.show()"
   ]
  },
  {
   "cell_type": "code",
   "execution_count": 27,
   "metadata": {},
   "outputs": [
    {
     "name": "stdout",
     "output_type": "stream",
     "text": [
      "eigenvectors\n",
      " [[-5.90217248e-03 -9.99970153e-01  2.18753432e-03 -5.50993368e-04\n",
      "   1.11355290e-05 -3.70101592e-03 -1.51428222e-03  1.94351532e-03]\n",
      " [ 4.36087782e-03 -2.29320077e-03 -9.64229226e-01  2.64488555e-01\n",
      "   1.51704613e-02  1.21207511e-03  7.07480188e-03  1.36480570e-03]\n",
      " [-3.42258743e-03  6.95440481e-05  2.64540306e-01  9.64340878e-01\n",
      "   4.68257244e-03 -7.17618674e-04 -4.20392444e-03 -3.64200309e-03]\n",
      " [-5.13358297e-01  3.14549655e-03 -1.53289122e-02  1.46541444e-03\n",
      "  -5.67755717e-01 -2.87011600e-03 -5.41626208e-01 -3.47134701e-01]\n",
      " [-2.40173361e-01  3.17334317e-03 -3.68726455e-03  5.21657335e-03\n",
      "  -3.36220057e-01  1.23203445e-03 -3.41108464e-03  9.10609026e-01]\n",
      " [ 4.68070438e-01 -3.73880110e-03 -4.50446676e-03  7.88711529e-03\n",
      "  -7.50595902e-01 -2.57579843e-03  4.40776642e-01 -1.52081224e-01]\n",
      " [-6.77927996e-01  2.56930266e-03  2.25863037e-03 -6.71007114e-04\n",
      "   3.08443439e-02  9.11213316e-03  7.15700348e-01 -1.64742487e-01]\n",
      " [ 6.17629887e-03 -3.72621443e-03  1.29509149e-03  3.93641284e-04\n",
      "  -3.44491608e-03  9.99942447e-01 -6.95412919e-03 -1.00592638e-03]]\n",
      "singular_ values\n",
      " [134.42397163 106.98448101 106.28971411  78.05314478  77.8141066\n",
      "  77.6728238   77.52369028  47.61413325]\n"
     ]
    }
   ],
   "source": [
    "# The eigenvectors\n",
    "print('eigenvectors\\n', pca.components_)\n",
    "# singular values\n",
    "print('singular_ values\\n', pca.singular_values_)"
   ]
  },
  {
   "cell_type": "code",
   "execution_count": 28,
   "metadata": {},
   "outputs": [
    {
     "name": "stdout",
     "output_type": "stream",
     "text": [
      "PCA(copy=True, iterated_power='auto', n_components=7, random_state=None,\n",
      "  svd_solver='auto', tol=0.0, whiten=False)\n",
      "[[ 2.01508812  1.58146891  0.08912183 ...  1.01283078  1.08739502\n",
      "  -0.88056643]\n",
      " [ 0.01880029 -0.1000406   1.59687531 ... -0.55938206  0.47153517\n",
      "  -0.57075681]\n",
      " [-1.97876975 -1.04073255  1.85204438 ...  0.68345888  0.31621763\n",
      "  -0.83333999]\n",
      " ...\n",
      " [-1.98562289  1.05712465 -1.83095717 ... -0.23173807  0.45815091\n",
      "  -0.67336037]\n",
      " [ 0.01236406 -0.34465387  0.61706199 ...  0.09901487  1.66119055\n",
      "   0.01864441]\n",
      " [ 1.02263243 -0.85500942 -1.29033803 ... -1.25528835 -0.60622674\n",
      "   0.19696381]]\n"
     ]
    }
   ],
   "source": [
    "# Only two components for illustration\n",
    "pca = PCA(n_components=7)\n",
    "X_train_pca2 = pca.fit_transform(X_train2)\n",
    "print(pca)\n",
    "\n",
    "print(X_train_pca2)"
   ]
  },
  {
   "cell_type": "code",
   "execution_count": 29,
   "metadata": {},
   "outputs": [
    {
     "data": {
      "text/plain": [
       "\"\\npca = PCA(n_components=7)\\nX_spca2 = pca.fit_transform(X_train2)\\n\\nfig = plt.figure(figsize=(20, 20))\\nax = fig.add_subplot(2,2,1) \\n\\nax.scatter(X_train_pca2[y_train2 == 0, 0], X_train_pca2[y_train2 == 0, 1],\\n              color='red', marker='^', alpha=0.5)\\nax.scatter(X_train_pca2[y_train2 == 1, 0], X_train_pca2[y_train2 == 1, 1],\\n              color='green', marker='o', alpha=0.5)\\nax.scatter(X_train_pca2[y_train2 == 2, 0], X_train_pca2[y_train2 == 2, 1],\\n              color='cyan', marker='x', alpha=0.5)\\nax.scatter(X_train_pca2[y_train2 == 3, 0], X_train_pca2[y_train2 == 3, 1],\\n              color='blue', marker='s', alpha=0.5)\\nax.scatter(X_train_pca2[y_train2 == 4, 0], X_train_pca2[y_train2 == 4, 1],\\n              color='yellow', marker='*', alpha=0.5)\\n\\nax.set_xlabel('PC1')\\nax.set_ylabel('PC2')\\n\\n# plt.savefig('./figures/half_moon_2.png', dpi=300)\\nax.grid()\\nplt.show()\\n\""
      ]
     },
     "execution_count": 29,
     "metadata": {},
     "output_type": "execute_result"
    }
   ],
   "source": [
    "'''\n",
    "pca = PCA(n_components=7)\n",
    "X_spca2 = pca.fit_transform(X_train2)\n",
    "\n",
    "fig = plt.figure(figsize=(20, 20))\n",
    "ax = fig.add_subplot(2,2,1) \n",
    "\n",
    "ax.scatter(X_train_pca2[y_train2 == 0, 0], X_train_pca2[y_train2 == 0, 1],\n",
    "              color='red', marker='^', alpha=0.5)\n",
    "ax.scatter(X_train_pca2[y_train2 == 1, 0], X_train_pca2[y_train2 == 1, 1],\n",
    "              color='green', marker='o', alpha=0.5)\n",
    "ax.scatter(X_train_pca2[y_train2 == 2, 0], X_train_pca2[y_train2 == 2, 1],\n",
    "              color='cyan', marker='x', alpha=0.5)\n",
    "ax.scatter(X_train_pca2[y_train2 == 3, 0], X_train_pca2[y_train2 == 3, 1],\n",
    "              color='blue', marker='s', alpha=0.5)\n",
    "ax.scatter(X_train_pca2[y_train2 == 4, 0], X_train_pca2[y_train2 == 4, 1],\n",
    "              color='yellow', marker='*', alpha=0.5)\n",
    "\n",
    "ax.set_xlabel('PC1')\n",
    "ax.set_ylabel('PC2')\n",
    "\n",
    "# plt.savefig('./figures/half_moon_2.png', dpi=300)\n",
    "ax.grid()\n",
    "plt.show()\n",
    "'''"
   ]
  },
  {
   "cell_type": "code",
   "execution_count": 30,
   "metadata": {},
   "outputs": [
    {
     "data": {
      "text/plain": [
       "'\\nfig= plt.figure(figsize=(20, 20))\\n\\nplt.subplot(2, 2, 1, aspect=\\'equal\\')\\n\\nplt.scatter(X_train_kpca2[y_train2 == 0, 0], X_train_kpca2[y_train2 == 0, 1], c=\"red\",\\n            marker=\\'^\\', alpha=0.5)\\nplt.scatter(X_train_kpca2[y_train2 == 1, 0], X_train_kpca2[y_train2 == 1, 1], c=\"green\",\\n            marker=\\'o\\', alpha=0.5)\\nplt.scatter(X_train_kpca2[y_train2 == 2, 0], X_train_kpca2[y_train2 == 2, 1], c=\"cyan\",\\n            marker=\\'x\\', alpha=0.5)\\nplt.scatter(X_train_kpca2[y_train2 == 3, 0], X_train_kpca2[y_train2 == 3, 1], c=\"blue\",\\n            marker=\\'s\\', alpha=0.5)\\nplt.scatter(X_train_kpca2[y_train2 == 4, 0], X_train_kpca2[y_train2 == 4, 1], c=\"yellow\",\\n            marker=\\'*\\', alpha=0.5)\\nplt.title(\"Projection by KPCA\")\\nplt.xlabel(\"1st principal component in space induced by $\\\\phi$\")\\nplt.ylabel(\"2nd component\")\\nplt.grid()\\nplt.show()\\n'"
      ]
     },
     "execution_count": 30,
     "metadata": {},
     "output_type": "execute_result"
    }
   ],
   "source": [
    "#from sklearn.decomposition import KernelPCA\n",
    "\n",
    "#kpca = KernelPCA(n_components = 7 ,kernel=\"rbf\", fit_inverse_transform=True, gamma=10)\n",
    "#X_train_kpca2 = kpca.fit_transform(X_train2)\n",
    "\n",
    "'''\n",
    "fig= plt.figure(figsize=(20, 20))\n",
    "\n",
    "plt.subplot(2, 2, 1, aspect='equal')\n",
    "\n",
    "plt.scatter(X_train_kpca2[y_train2 == 0, 0], X_train_kpca2[y_train2 == 0, 1], c=\"red\",\n",
    "            marker='^', alpha=0.5)\n",
    "plt.scatter(X_train_kpca2[y_train2 == 1, 0], X_train_kpca2[y_train2 == 1, 1], c=\"green\",\n",
    "            marker='o', alpha=0.5)\n",
    "plt.scatter(X_train_kpca2[y_train2 == 2, 0], X_train_kpca2[y_train2 == 2, 1], c=\"cyan\",\n",
    "            marker='x', alpha=0.5)\n",
    "plt.scatter(X_train_kpca2[y_train2 == 3, 0], X_train_kpca2[y_train2 == 3, 1], c=\"blue\",\n",
    "            marker='s', alpha=0.5)\n",
    "plt.scatter(X_train_kpca2[y_train2 == 4, 0], X_train_kpca2[y_train2 == 4, 1], c=\"yellow\",\n",
    "            marker='*', alpha=0.5)\n",
    "plt.title(\"Projection by KPCA\")\n",
    "plt.xlabel(\"1st principal component in space induced by $\\phi$\")\n",
    "plt.ylabel(\"2nd component\")\n",
    "plt.grid()\n",
    "plt.show()\n",
    "'''\n",
    "#X_train2_v2 = pd.DataFrame(data=X_train_kpca2)"
   ]
  },
  {
   "cell_type": "markdown",
   "metadata": {},
   "source": [
    "## Task B - Predictive Model"
   ]
  },
  {
   "cell_type": "code",
   "execution_count": 31,
   "metadata": {},
   "outputs": [],
   "source": [
    "from matplotlib.colors import ListedColormap\n",
    "\n",
    "def plot_decision_regions(X, y, classifier, banknotes=0, mlp=0, resolution=0.02):\n",
    "# setup marker generator and color map\n",
    "    markers = ('s', 'x', 'o', '^', 'v')\n",
    "    colors = ('red', 'blue', 'lightgreen', 'gray', 'cyan')\n",
    "    cmap = ListedColormap(colors[:len(np.unique(y))])\n",
    "    #plot the decision surface\n",
    "    x1_min, x1_max = X[:, 0].min() - 1, X[:, 0].max() + 1\n",
    "    x2_min, x2_max = X[:, 1].min() - 1, X[:, 1].max() + 1\n",
    "    xx1, xx2 = np.meshgrid(np.arange(x1_min, x1_max, resolution),\n",
    "    np.arange(x2_min, x2_max, resolution))\n",
    "    \n",
    "    if(banknotes == 1 and mlp == 1): # banknotes dataset and mlp\n",
    "        Z = classifier.predict(np.array([xx1.ravel(), xx2.ravel()]).T)\n",
    "    elif(banknotes == 1 and mlp == 0): # banknotes dataset and svm\n",
    "        Xpred = np.array([xx1.ravel(), xx2.ravel()] + [np.repeat(0, xx1.ravel().size) for _ in range(2)]).T\n",
    "        Z = classifier.predict(Xpred)\n",
    "    else: # nursery dataset\n",
    "        Xpred = np.array([xx1.ravel(), xx2.ravel()] + [np.repeat(0, xx1.ravel().size) for _ in range(6)]).T\n",
    "        Z = classifier.predict(Xpred)\n",
    "    \n",
    "    Z = Z.reshape(xx1.shape)\n",
    "    plt.contourf(xx1, xx2, Z, alpha=0.4, cmap=cmap)\n",
    "    plt.xlim(xx1.min(), xx1.max())\n",
    "    plt.ylim(xx2.min(), xx2.max())\n",
    "    # plot class samples\n",
    "    for idx, cl in enumerate(np.unique(y)):\n",
    "        plt.scatter(x=X[y == cl, 0], y=X[y == cl, 1],\n",
    "            alpha=0.8, c=cmap(idx), marker=markers[idx], label=cl)"
   ]
  },
  {
   "cell_type": "markdown",
   "metadata": {},
   "source": [
    "### MLP"
   ]
  },
  {
   "cell_type": "markdown",
   "metadata": {},
   "source": [
    "#### Banknotes dataset"
   ]
  },
  {
   "cell_type": "code",
   "execution_count": 32,
   "metadata": {},
   "outputs": [
    {
     "data": {
      "text/plain": [
       "MLPClassifier(activation='tanh', alpha=0.01, batch_size='auto', beta_1=0.9,\n",
       "       beta_2=0.999, early_stopping=False, epsilon=1e-08,\n",
       "       hidden_layer_sizes=(10, 5), learning_rate='constant',\n",
       "       learning_rate_init=0.001, max_iter=5000, momentum=0.9,\n",
       "       n_iter_no_change=10, nesterovs_momentum=True, power_t=0.5,\n",
       "       random_state=None, shuffle=True, solver='adam', tol=0.0001,\n",
       "       validation_fraction=0.1, verbose=False, warm_start=False)"
      ]
     },
     "execution_count": 32,
     "metadata": {},
     "output_type": "execute_result"
    }
   ],
   "source": [
    "from sklearn.neural_network import MLPClassifier\n",
    "#from sklearn.metrics import accuracy_score\n",
    "\n",
    "#mlp = MLPClassifier(hidden_layer_sizes=(30,30,30), max_iter = 500)\n",
    "#mlp = MLPClassifier(hidden_layer_sizes=(30,30,30), max_iter=500, alpha=0.0001,\n",
    " #   solver='sgd', verbose=10,  random_state=21,tol=0.000000001)\n",
    "#mlp.fit(X_train1, y_train1)\n",
    "\n",
    "mlp = MLPClassifier(activation='tanh', hidden_layer_sizes=(10,5), alpha=0.01, max_iter=5000)\n",
    "mlp"
   ]
  },
  {
   "cell_type": "code",
   "execution_count": 33,
   "metadata": {},
   "outputs": [],
   "source": [
    "# Código que encontrei online\n",
    "#y_pred = mlp.predict(X_test1)\n",
    "#accuracy_score(y_test1, y_pred)"
   ]
  },
  {
   "cell_type": "code",
   "execution_count": 34,
   "metadata": {},
   "outputs": [
    {
     "name": "stdout",
     "output_type": "stream",
     "text": [
      "            0         1\n",
      "0   -0.003259 -0.004373\n",
      "1   -0.004525 -0.006651\n",
      "2   -0.003418 -0.004664\n",
      "3   -0.003561 -0.004879\n",
      "4   -0.003744 -0.005207\n",
      "5   -0.003650 -0.005036\n",
      "6   -0.003492 -0.004765\n",
      "7   -0.003709 -0.005188\n",
      "8   -0.004517 -0.006614\n",
      "9   -0.003909 -0.005505\n",
      "10  -0.003285 -0.004415\n",
      "11  -0.003247 -0.004353\n",
      "12  -0.004477 -0.006540\n",
      "13  -0.003666 -0.005056\n",
      "14  -0.003729 -0.005175\n",
      "15  -0.004859 -0.007542\n",
      "16  -0.004546 -0.006684\n",
      "17   0.996311  0.019420\n",
      "18  -0.003415 -0.004645\n",
      "19  -0.003283 -0.004414\n",
      "20  -0.003254 -0.004367\n",
      "21  -0.003245 -0.004350\n",
      "22  -0.004522 -0.006630\n",
      "23  -0.003708 -0.005129\n",
      "24  -0.004053 -0.005747\n",
      "25  -0.004654 -0.005056\n",
      "26  -0.003252 -0.004362\n",
      "27  -0.003247 -0.004354\n",
      "28  -0.005278 -0.008264\n",
      "29  -0.003290 -0.004423\n",
      "..        ...       ...\n",
      "930 -0.003366 -0.004559\n",
      "931 -0.003301 -0.004456\n",
      "932 -0.003245 -0.004350\n",
      "933 -0.003307 -0.004454\n",
      "934 -0.004248  0.013046\n",
      "935 -0.003309 -0.004457\n",
      "936 -0.003257 -0.004369\n",
      "937 -0.023347  0.826264\n",
      "938 -0.003700 -0.005120\n",
      "939 -0.004566 -0.006703\n",
      "940 -0.003261 -0.004378\n",
      "941 -0.003246 -0.004351\n",
      "942 -0.003249 -0.004357\n",
      "943 -0.004074 -0.005770\n",
      "944 -0.005042 -0.007791\n",
      "945 -0.003245 -0.004350\n",
      "946 -0.009799 -0.023646\n",
      "947 -0.005372 -0.008332\n",
      "948 -0.004222 -0.006196\n",
      "949 -0.003573 -0.004896\n",
      "950 -0.003948 -0.005570\n",
      "951 -0.003297 -0.004439\n",
      "952 -0.003973 -0.005602\n",
      "953 -0.003578 -0.004949\n",
      "954 -0.003245 -0.004350\n",
      "955 -0.003417 -0.000595\n",
      "956 -0.003933 -0.003656\n",
      "957 -0.009799 -0.023646\n",
      "958 -0.005287 -0.008137\n",
      "959 -0.003514 -0.004801\n",
      "\n",
      "[960 rows x 2 columns]\n"
     ]
    },
    {
     "name": "stderr",
     "output_type": "stream",
     "text": [
      "'c' argument looks like a single numeric RGB or RGBA sequence, which should be avoided as value-mapping will have precedence in case its length matches with 'x' & 'y'.  Please use a 2-D array with a single row if you really want to specify the same RGB or RGBA value for all points.\n",
      "'c' argument looks like a single numeric RGB or RGBA sequence, which should be avoided as value-mapping will have precedence in case its length matches with 'x' & 'y'.  Please use a 2-D array with a single row if you really want to specify the same RGB or RGBA value for all points.\n"
     ]
    },
    {
     "data": {
      "image/png": "[encoded data removed]",
      "text/plain": [
       "<Figure size 432x288 with 1 Axes>"
      ]
     },
     "metadata": {
      "needs_background": "light"
     },
     "output_type": "display_data"
    }
   ],
   "source": [
    "print(X_train1_v2)\n",
    "mlp.fit(X_train1_v2.values,y_train1.values)\n",
    "plot_decision_regions(X_train1_v2.values, y_train1.values, classifier=mlp, banknotes=1, mlp=1)\n",
    "plt.xlabel(['x1'])\n",
    "plt.ylabel(['x2'])\n",
    "plt.legend(loc='upper left')\n",
    "plt.grid()\n",
    "plt.tight_layout()\n",
    "plt.show()"
   ]
  },
  {
   "cell_type": "code",
   "execution_count": 35,
   "metadata": {},
   "outputs": [
    {
     "name": "stdout",
     "output_type": "stream",
     "text": [
      "Banknotes dataset\n",
      "the weights are \n",
      " [array([[ 0.00967489, -0.58422577, -0.60199885, -0.21467373,  0.47362489,\n",
      "         0.25511696,  0.27172269, -0.21260188, -0.60579426, -0.34066642],\n",
      "       [ 0.45788708,  0.71301928,  0.33068972,  0.19574743,  0.48763174,\n",
      "        -0.30279877, -0.01723691, -0.26963052,  0.32771525, -0.60043143]]), array([[-0.19845898,  0.500356  , -0.37091847, -0.32969882,  0.0640724 ],\n",
      "       [-0.32824408, -0.45085172, -0.46386661,  0.46546529,  0.67210372],\n",
      "       [-0.32291908, -0.24612729,  0.10391599, -0.38559817, -0.00304147],\n",
      "       [-0.52153803,  0.32554094,  0.48599546,  0.0207757 ,  0.39792227],\n",
      "       [ 0.00638689, -0.27625302, -0.4592047 , -0.51980663,  0.30445507],\n",
      "       [ 0.44989347,  0.37718935,  0.49140867,  0.30819623,  0.45975746],\n",
      "       [ 0.63679437, -0.31730636, -0.06759547,  0.61887985,  0.47607654],\n",
      "       [ 0.16569206, -0.23893914,  0.43013967,  0.41421347, -0.45922134],\n",
      "       [ 0.42862574, -0.42116954, -0.62896282,  0.09055403,  0.03383422],\n",
      "       [-0.40100495, -0.43636926,  0.17090917,  0.49266885, -0.08332294]]), array([[ 0.25401337],\n",
      "       [ 0.60167329],\n",
      "       [-0.18131364],\n",
      "       [ 0.29706364],\n",
      "       [-0.27104379]])]\n",
      "the bias \n",
      "  [array([-0.74247241,  0.36257747, -0.64210788,  0.59862517,  0.63705133,\n",
      "       -0.56897932, -0.49632969, -0.70229914, -0.22817944, -0.15955279]), array([-0.56640386, -0.0506163 , -0.51592164, -0.04425455, -0.53962973]), array([0.02679071])]\n",
      "number of iterations \n",
      " 25\n",
      "output activation logistic\n"
     ]
    }
   ],
   "source": [
    "print('Banknotes dataset')\n",
    "print('the weights are \\n',mlp.coefs_)\n",
    "print('the bias \\n ', mlp.intercepts_)\n",
    "print('number of iterations \\n', mlp.n_iter_)\n",
    "print('output activation', mlp.out_activation_)"
   ]
  },
  {
   "cell_type": "markdown",
   "metadata": {},
   "source": [
    "#### Nursery dataset"
   ]
  },
  {
   "cell_type": "code",
   "execution_count": 36,
   "metadata": {},
   "outputs": [
    {
     "data": {
      "text/plain": [
       "MLPClassifier(activation='tanh', alpha=0.01, batch_size='auto', beta_1=0.9,\n",
       "       beta_2=0.999, early_stopping=False, epsilon=1e-08,\n",
       "       hidden_layer_sizes=(10, 5), learning_rate='constant',\n",
       "       learning_rate_init=0.001, max_iter=5000, momentum=0.9,\n",
       "       n_iter_no_change=10, nesterovs_momentum=True, power_t=0.5,\n",
       "       random_state=None, shuffle=True, solver='adam', tol=0.0001,\n",
       "       validation_fraction=0.1, verbose=False, warm_start=False)"
      ]
     },
     "execution_count": 36,
     "metadata": {},
     "output_type": "execute_result"
    }
   ],
   "source": [
    "mlp = MLPClassifier(activation='tanh', hidden_layer_sizes=(10,5), alpha=0.01, max_iter=5000)\n",
    "mlp"
   ]
  },
  {
   "cell_type": "code",
   "execution_count": 37,
   "metadata": {},
   "outputs": [
    {
     "data": {
      "text/plain": [
       "MLPClassifier(activation='tanh', alpha=0.01, batch_size='auto', beta_1=0.9,\n",
       "       beta_2=0.999, early_stopping=False, epsilon=1e-08,\n",
       "       hidden_layer_sizes=(10, 5), learning_rate='constant',\n",
       "       learning_rate_init=0.001, max_iter=5000, momentum=0.9,\n",
       "       n_iter_no_change=10, nesterovs_momentum=True, power_t=0.5,\n",
       "       random_state=None, shuffle=True, solver='adam', tol=0.0001,\n",
       "       validation_fraction=0.1, verbose=False, warm_start=False)"
      ]
     },
     "execution_count": 37,
     "metadata": {},
     "output_type": "execute_result"
    }
   ],
   "source": [
    "mlp.fit(X_train2.values,y_train2.values)\n",
    "#plot_decision_regions(X_train2.values, y_train2.values, classifier=mlp)\n",
    "#plt.xlabel(['x1'])\n",
    "#plt.ylabel(['x2'])\n",
    "#plt.legend(loc='upper left')\n",
    "#plt.grid()\n",
    "#plt.tight_layout()\n",
    "#plt.show()"
   ]
  },
  {
   "cell_type": "code",
   "execution_count": 38,
   "metadata": {},
   "outputs": [
    {
     "name": "stdout",
     "output_type": "stream",
     "text": [
      "Nursery dataset\n",
      "the weights are \n",
      " [array([[ 0.12844576,  0.07770219, -0.08546002,  0.9453078 ,  0.06118275,\n",
      "        -0.92633185,  0.01090577,  0.14057183, -0.02004764,  0.49121264],\n",
      "       [-0.26503109,  0.10734297,  0.02191066, -0.28518979, -0.01575924,\n",
      "        -0.4301291 ,  0.16056861, -0.05856809,  0.06621664,  0.98735485],\n",
      "       [ 0.22809915, -0.77641368, -0.44343996, -0.12867613,  0.05516064,\n",
      "         0.12520092, -0.07755651,  0.09919171,  0.0335063 , -0.13014741],\n",
      "       [ 0.34597917,  0.11150688, -0.5777733 , -0.0647824 ,  0.06142838,\n",
      "         0.1600923 , -0.04290307,  0.00628317,  0.06504692, -0.10579442],\n",
      "       [ 0.46296633, -0.79200696,  0.16239672, -0.11226023,  0.48913615,\n",
      "         0.21783572, -0.14340524, -0.84449809,  0.21989328, -0.20523806],\n",
      "       [ 0.0356615 ,  0.72751507,  0.77781722, -0.20824809,  0.6118296 ,\n",
      "         0.19227174, -0.44690002,  1.02348703,  0.15507888, -0.27776839],\n",
      "       [ 0.28134958,  0.01523573, -0.13892136,  0.17558134, -0.18485999,\n",
      "        -0.19680095, -0.37252961, -0.44356691, -1.34481458, -0.23716856],\n",
      "       [-1.52482503, -0.5346925 ,  0.3024136 ,  0.17400568, -1.17139784,\n",
      "        -0.14524391, -0.41872696, -0.39214555,  1.22214188, -0.60725634]]), array([[-1.12618559, -0.10358358, -0.65345591, -2.070256  , -0.04364747],\n",
      "       [ 1.04030713, -0.1365619 ,  0.54984463, -0.11030937,  0.45055647],\n",
      "       [-0.33264216,  0.89528989, -0.92461467, -0.06783439, -0.76418457],\n",
      "       [-0.13078552, -0.06923624, -0.75299496,  1.02993585, -0.34794914],\n",
      "       [-1.62149611, -0.53261817,  0.64854767, -1.40150744, -0.00647055],\n",
      "       [-0.15809985,  0.76240389, -1.33433354,  1.62078107, -1.44857203],\n",
      "       [-2.79664413,  2.61530546, -2.74329831, -0.76184932, -2.46468961],\n",
      "       [-0.74307291,  0.40806412, -0.55071677, -0.79366824, -0.61891926],\n",
      "       [ 1.65111939, -1.29246501,  0.84683585,  0.39745554,  1.11744526],\n",
      "       [-0.10567988, -1.23156663,  0.92923347, -1.39739292,  1.45998497]]), array([[ 5.51748534, -2.32742163,  0.30590265, -1.36642619,  0.32066695],\n",
      "       [-1.4669324 , -2.78233561,  2.24511301, -0.74111677,  4.10565896],\n",
      "       [ 0.52901114, -2.56464779, -0.86365829,  4.66052269, -2.48047397],\n",
      "       [ 2.74614118,  2.45390566,  0.70276993, -3.06430717, -0.67721003],\n",
      "       [ 0.47617422, -2.08520541, -0.86638511,  3.55016992, -1.82518023]])]\n",
      "the bias \n",
      "  [array([ 1.45792518, -0.24199421,  0.1090895 ,  1.00547911,  0.99646202,\n",
      "        1.53383375,  1.92634811,  1.5160279 , -0.91908658, -1.56215304]), array([-0.65491838, -0.95157814,  0.26037157,  0.41091778, -0.27560034]), array([ 2.82414765,  1.4186403 , -0.71102665, -0.02935461,  0.03338857])]\n",
      "number of iterations \n",
      " 316\n",
      "output activation softmax\n"
     ]
    }
   ],
   "source": [
    "print('Nursery dataset')\n",
    "print('the weights are \\n',mlp.coefs_)\n",
    "print('the bias \\n ', mlp.intercepts_)\n",
    "print('number of iterations \\n', mlp.n_iter_)\n",
    "print('output activation', mlp.out_activation_)"
   ]
  },
  {
   "cell_type": "markdown",
   "metadata": {},
   "source": [
    "### SVM"
   ]
  },
  {
   "cell_type": "markdown",
   "metadata": {},
   "source": [
    "#### Banknotes dataset"
   ]
  },
  {
   "cell_type": "code",
   "execution_count": 39,
   "metadata": {},
   "outputs": [
    {
     "data": {
      "text/plain": [
       "SVC(C=1.0, cache_size=200, class_weight=None, coef0=0.0,\n",
       "  decision_function_shape='ovr', degree=3, gamma='auto_deprecated',\n",
       "  kernel='rbf', max_iter=2000, probability=False, random_state=None,\n",
       "  shrinking=True, tol=1e-05, verbose=0)"
      ]
     },
     "execution_count": 39,
     "metadata": {},
     "output_type": "execute_result"
    }
   ],
   "source": [
    "from sklearn.svm import SVC\n",
    "\n",
    "svm=SVC(C=1.0,kernel='rbf', max_iter=2000, tol=1e-05, verbose=0)\n",
    "svm"
   ]
  },
  {
   "cell_type": "code",
   "execution_count": 40,
   "metadata": {},
   "outputs": [
    {
     "name": "stderr",
     "output_type": "stream",
     "text": [
      "'c' argument looks like a single numeric RGB or RGBA sequence, which should be avoided as value-mapping will have precedence in case its length matches with 'x' & 'y'.  Please use a 2-D array with a single row if you really want to specify the same RGB or RGBA value for all points.\n",
      "'c' argument looks like a single numeric RGB or RGBA sequence, which should be avoided as value-mapping will have precedence in case its length matches with 'x' & 'y'.  Please use a 2-D array with a single row if you really want to specify the same RGB or RGBA value for all points.\n"
     ]
    },
    {
     "data": {
      "image/png": "[encoded data removed]",
      "text/plain": [
       "<Figure size 432x288 with 1 Axes>"
      ]
     },
     "metadata": {
      "needs_background": "light"
     },
     "output_type": "display_data"
    }
   ],
   "source": [
    "svm=svm.fit(X_train1.values, y_train1.values)\n",
    "plot_decision_regions(X_train1.values, y_train1.values, classifier=svm, banknotes=1, mlp=0)\n",
    "plt.xlabel('x1')\n",
    "plt.ylabel('x2')\n",
    "plt.legend(loc='upper left')\n",
    "plt.grid()\n",
    "plt.tight_layout()\n",
    "plt.show()"
   ]
  },
  {
   "cell_type": "code",
   "execution_count": 41,
   "metadata": {},
   "outputs": [
    {
     "name": "stdout",
     "output_type": "stream",
     "text": [
      "Banknotes dataset\n",
      "dual coef \n",
      " [[-3.22629078e-01 -3.09186726e-01 -1.49102870e-01 -8.63622384e-01\n",
      "  -6.17763335e-01 -5.13543879e-01 -1.96431611e-01 -1.64792128e-01\n",
      "  -4.95607324e-01 -4.75183007e-01 -3.35820993e-01 -1.16610622e-01\n",
      "  -4.26411892e-01 -1.22630349e-01 -1.36373705e-01 -4.68601887e-01\n",
      "  -1.92183722e-01 -1.40145659e-01 -3.69105787e-01 -5.19326311e-01\n",
      "  -7.06249609e-02 -1.41256151e-01 -4.43149575e-01 -4.31703883e-01\n",
      "  -6.20080126e-01 -1.67468787e-01 -7.23635124e-01 -2.31674550e-01\n",
      "  -1.41056170e-01 -3.11424644e-01 -1.49070311e-01 -1.59914306e-01\n",
      "  -3.48436328e-01 -4.37453341e-01 -3.13691632e-02 -1.82777712e-01\n",
      "  -2.15688453e-01 -4.00842873e-01 -8.19433272e-02 -1.17497957e-01\n",
      "  -4.94366261e-01 -4.71064645e-01 -5.98138575e-01 -1.04485585e-01\n",
      "  -5.87008178e-02 -3.49326950e-01 -3.72387051e-01 -3.11988971e-01\n",
      "  -3.56086037e-02 -1.78411437e-01 -1.00000000e+00 -4.17031879e-01\n",
      "  -2.67826554e-01 -1.86632830e-01 -6.21095778e-01 -1.63706050e-01\n",
      "  -9.79386742e-02 -1.71565029e-01 -2.52248574e-01 -4.41674926e-01\n",
      "  -2.61831753e-01 -1.55033910e-01 -2.25667178e-01 -2.61701156e-01\n",
      "  -6.48213994e-02 -2.19425859e-01 -4.89158202e-01 -2.04646664e-01\n",
      "  -4.05722564e-01 -6.55354442e-02 -6.08362621e-01 -1.76087652e-01\n",
      "  -5.11084998e-01 -9.49855583e-02 -7.15300640e-03 -1.50512868e-04\n",
      "  -1.22876871e-01 -1.06262574e-01 -1.74652594e-01 -1.00692570e-01\n",
      "  -2.28588701e-01 -4.74535153e-01 -1.00000000e+00 -3.15562731e-01\n",
      "  -5.77898039e-01 -8.33924742e-02 -3.76120747e-03 -9.99492193e-01\n",
      "  -9.24768938e-02 -6.86596915e-01 -7.35231455e-03 -3.42455311e-02\n",
      "  -2.52231356e-01 -4.56346810e-01 -2.02245572e-01 -1.08117800e-01\n",
      "  -3.19129477e-01 -1.65438856e-01 -2.37181320e-01 -7.38714454e-01\n",
      "  -3.02408083e-01 -2.75524705e-01 -5.30858214e-02 -6.04211998e-01\n",
      "  -8.79100756e-01 -6.26110882e-01 -1.03592244e-01 -4.02890343e-01\n",
      "  -4.19273139e-01 -1.78141581e-01 -1.48364520e-01 -1.89530838e-01\n",
      "  -6.16491643e-01 -7.83394960e-02 -1.00396715e-01 -3.38389751e-01\n",
      "  -6.16879515e-01 -3.15724147e-01 -3.34659198e-01 -5.09517881e-01\n",
      "  -4.25610978e-02 -3.04710966e-01 -9.40261335e-02 -5.66046437e-01\n",
      "  -1.99609850e-01 -7.87602361e-01  3.37178001e-01  3.38023663e-01\n",
      "   6.79849291e-01  1.14532481e-01  1.44041089e-01  1.31063618e-01\n",
      "   9.86991042e-01  2.76103817e-01  3.51349413e-01  2.41240329e-01\n",
      "   1.35390886e-01  1.00000000e+00  1.68678436e-01  4.40107083e-01\n",
      "   8.43260288e-01  6.60803324e-01  1.20178576e-01  3.28658918e-01\n",
      "   2.77984258e-01  7.10554866e-01  1.39976573e-01  8.92441937e-01\n",
      "   2.54559332e-01  5.71163096e-01  5.10215054e-02  1.44311828e-01\n",
      "   5.45466580e-01  3.59349562e-01  4.27677556e-01  6.87439506e-01\n",
      "   1.01725329e-02  7.60962569e-02  5.99056298e-01  3.64986308e-01\n",
      "   6.06750201e-01  7.12904925e-01  1.39272409e-01  1.81551029e-02\n",
      "   2.08784660e-01  6.56495820e-01  7.71298080e-01  4.45110766e-01\n",
      "   2.48511820e-01  6.40708078e-01  1.68254229e-01  6.13217250e-01\n",
      "   2.00603561e-01  4.33863340e-01  2.85418648e-01  8.32967078e-01\n",
      "   5.43518405e-03  7.44927480e-02  4.47448852e-01  8.36350327e-02\n",
      "   4.21969531e-01  9.87099842e-01  4.27624042e-01  2.25485092e-01\n",
      "   4.91306811e-01  3.48009928e-01  4.43677994e-01  3.02595870e-01\n",
      "   1.65943911e-01  8.65468099e-02  3.06738425e-01  1.00801509e-01\n",
      "   7.35893830e-01  6.35276372e-01  1.54874974e-01  4.89662190e-01\n",
      "   5.22839514e-01  4.45386490e-01  5.93484770e-01  5.21990418e-01\n",
      "   3.64184961e-01  1.76362057e-01  4.90079906e-01  6.79154637e-02\n",
      "   7.76923062e-01  1.96454758e-01  3.11291244e-01  3.80177184e-01\n",
      "   3.95546288e-01  3.63526673e-01  6.04561487e-01  1.10617420e-01\n",
      "   2.38257771e-01  6.99383838e-01  1.00000000e+00  7.46674406e-02\n",
      "   3.72457828e-01  3.20923320e-01  1.66276831e-01  4.22167988e-01\n",
      "   4.74603452e-01  2.57069062e-02  4.96850644e-02  4.96857183e-01\n",
      "   5.09408173e-01  1.73037319e-01  5.91373210e-01]]\n",
      "support vectors \n",
      " [[-1.13130e+00  1.90370e+00  7.53390e+00  1.02200e+00]\n",
      " [ 4.82720e+00  3.06870e+00  6.86040e-01  8.07310e-01]\n",
      " [ 4.98800e+00  7.20520e+00 -3.28460e+00 -1.16080e+00]\n",
      " [-1.61080e-01 -6.46240e+00  8.35730e+00 -1.52160e+00]\n",
      " [ 7.43070e-01  1.11700e+01 -1.38240e+00 -4.07280e+00]\n",
      " [-1.69520e+00  1.06570e+00  8.82940e+00  9.49550e-01]\n",
      " [ 1.76200e+00  4.36820e+00  2.13840e+00  7.54290e-01]\n",
      " [ 3.35770e+00 -4.30620e+00  6.02410e+00  1.82740e-01]\n",
      " [ 1.94760e+00 -4.77380e+00  8.52700e+00 -1.86680e+00]\n",
      " [-9.59230e-01  9.10390e-02  6.22040e+00 -1.48280e+00]\n",
      " [ 1.37540e+00  8.87930e+00 -1.91360e+00 -5.37510e-01]\n",
      " [ 4.24060e+00 -2.48520e+00  1.60800e+00  7.15500e-01]\n",
      " [ 4.56790e+00  3.19290e+00 -2.10550e+00  2.96530e-01]\n",
      " [-3.82140e-01  8.39090e+00  2.16240e+00 -3.74050e+00]\n",
      " [ 1.73460e-01  7.86950e+00  2.68760e-01 -3.78830e+00]\n",
      " [ 3.15410e+00 -5.17110e+00  6.59910e+00  5.74550e-01]\n",
      " [ 2.09300e+00  8.30610e+00  2.28440e-02 -3.27240e+00]\n",
      " [ 2.96950e+00  5.62220e+00  2.75610e-01 -1.15560e+00]\n",
      " [ 4.16650e+00 -4.44900e-01  2.34480e-01  2.78430e-01]\n",
      " [-1.61030e-02  9.74840e+00  1.53940e-01 -1.61340e+00]\n",
      " [-2.36100e-01  9.32210e+00  2.13070e+00 -4.37930e+00]\n",
      " [ 2.36780e+00 -6.83900e+00  8.42070e+00 -4.48290e-01]\n",
      " [-1.31440e-01 -1.77750e+00  8.33160e+00  3.52140e-01]\n",
      " [ 3.46670e+00 -4.07240e+00  4.28820e+00  1.54180e+00]\n",
      " [-7.86890e-01  9.56630e+00 -3.78670e+00 -7.50340e+00]\n",
      " [ 5.13020e+00  8.67030e+00 -2.89130e+00 -1.50860e+00]\n",
      " [-2.64790e+00  1.01374e+01 -1.33100e+00 -5.47070e+00]\n",
      " [ 3.31110e-01  4.57310e+00  2.05700e+00 -1.89670e-01]\n",
      " [ 3.84780e-01  6.59890e+00 -3.33600e-01 -5.64660e-01]\n",
      " [ 2.48600e+00 -9.95330e-01  5.34040e+00 -1.54750e-01]\n",
      " [ 1.74960e+00 -1.75900e-01  5.18270e+00  1.29220e+00]\n",
      " [ 2.09770e-01 -4.61460e-01  7.72670e+00  9.09460e-01]\n",
      " [-1.57680e+00  1.08430e+01  2.54620e+00 -2.93620e+00]\n",
      " [ 2.12740e+00  5.19390e+00 -1.79710e+00 -1.17630e+00]\n",
      " [ 2.20340e+00  5.99470e+00  5.30090e-01  8.49980e-01]\n",
      " [ 5.74560e+00  1.01808e+01 -4.78570e+00 -4.33660e+00]\n",
      " [ 4.89060e+00 -3.35840e+00  3.42020e+00  1.09050e+00]\n",
      " [ 3.22940e+00  7.73910e+00 -3.78160e-01 -2.54050e+00]\n",
      " [ 2.48350e-01  7.64390e+00  9.88500e-01 -8.73710e-01]\n",
      " [ 2.55590e+00  3.36050e+00  2.03210e+00  2.68090e-01]\n",
      " [-3.98160e-01  5.97810e+00  1.39120e+00 -1.16210e+00]\n",
      " [ 3.47690e+00 -1.53140e-01  2.53000e+00  2.44950e+00]\n",
      " [-2.34300e+00  1.29516e+01  3.32850e+00 -5.94260e+00]\n",
      " [-1.26240e-01  1.03216e+01 -3.71210e+00 -6.11850e+00]\n",
      " [ 1.50990e+00  3.93070e-02  6.23320e+00 -3.03460e-01]\n",
      " [ 2.13190e+00 -2.04030e+00  2.55740e+00 -6.16520e-02]\n",
      " [ 5.19790e-02  7.05210e+00 -2.05410e+00 -3.15080e+00]\n",
      " [ 3.12190e+00 -3.13700e+00  1.92590e+00 -3.74580e-01]\n",
      " [ 5.24230e+00  1.10272e+01 -4.35300e+00 -4.10130e+00]\n",
      " [-2.49530e+00  1.11472e+01  1.93530e+00 -3.46380e+00]\n",
      " [ 3.79840e-01  7.09750e-01  7.57160e-01 -4.44410e-01]\n",
      " [ 5.78670e+00  7.89020e+00 -2.61960e+00 -4.87080e-01]\n",
      " [ 1.90810e-01  9.12970e+00 -3.72500e+00 -5.82240e+00]\n",
      " [-1.32740e+00  9.49800e+00  2.44080e+00 -5.26890e+00]\n",
      " [ 6.82480e+00  5.21870e+00 -2.54250e+00  5.46100e-01]\n",
      " [ 7.40540e-01  3.66250e-01  2.19920e+00  4.84030e-01]\n",
      " [ 3.42460e+00 -1.46930e-01  8.03420e-01  2.91360e-01]\n",
      " [-2.74190e+00  1.14038e+01  2.53940e+00 -5.57930e+00]\n",
      " [ 3.53400e+00  9.36140e+00 -3.63160e+00 -1.24610e+00]\n",
      " [-2.22610e+00  1.25398e+01  2.94380e+00 -3.52580e+00]\n",
      " [ 4.55970e+00 -2.42110e+00  2.64130e+00  1.61680e+00]\n",
      " [ 2.20910e+00  7.45560e+00 -1.32840e+00 -3.30210e+00]\n",
      " [ 3.29200e-01 -4.45520e+00  4.57180e+00 -9.88800e-01]\n",
      " [ 1.35620e+00  3.21360e+00  4.34650e+00  7.86620e-01]\n",
      " [ 5.88620e+00  5.87470e+00 -2.81670e+00 -3.00870e-01]\n",
      " [ 3.39510e+00  1.14840e+00  2.14010e+00  2.08620e+00]\n",
      " [ 3.79800e-01  7.09800e-01  7.57200e-01 -4.44400e-01]\n",
      " [ 9.64410e-01  5.83950e+00  2.32350e+00  6.63650e-02]\n",
      " [ 3.81970e+00  8.99510e+00 -4.38300e+00 -4.03270e+00]\n",
      " [-1.96670e+00  1.18052e+01 -4.04720e-01 -7.87190e+00]\n",
      " [ 6.56330e+00  9.81870e+00 -4.41130e+00 -3.22580e+00]\n",
      " [-2.16610e-01  8.03290e+00  1.88480e+00 -3.88530e+00]\n",
      " [ 5.74030e+00 -4.42840e-01  3.80150e-01  1.37630e+00]\n",
      " [ 2.82610e+00  9.40070e+00 -3.30340e+00 -1.05090e+00]\n",
      " [ 3.82000e+00  1.09279e+01 -4.01120e+00 -5.02840e+00]\n",
      " [-1.30000e+00  1.02678e+01 -2.95300e+00 -5.86380e+00]\n",
      " [ 1.93210e+00  6.04230e+00  2.60190e-01 -2.05300e+00]\n",
      " [ 7.22520e-01 -5.38110e-02  5.67030e+00 -1.35090e+00]\n",
      " [-1.11930e+00  1.07271e+01  2.09380e+00 -5.65040e+00]\n",
      " [ 3.66670e+00  4.30200e+00  5.59230e-01  3.37910e-01]\n",
      " [ 4.66890e+00  1.30980e+00  5.54040e-02  1.90900e+00]\n",
      " [ 6.09190e+00  2.96730e+00 -1.32670e+00  1.45510e+00]\n",
      " [ 3.79800e-01  7.09800e-01  7.57200e-01 -4.44400e-01]\n",
      " [ 4.04460e+00  1.11741e+01 -4.35820e+00 -4.74010e+00]\n",
      " [-6.44720e-01 -4.60620e+00  8.34700e+00 -2.70990e+00]\n",
      " [-1.30000e+00  1.02678e+01 -2.95300e+00 -5.86380e+00]\n",
      " [ 1.48060e+00  7.63770e+00 -2.78760e+00 -1.03410e+00]\n",
      " [ 3.29200e-01 -4.45520e+00  4.57180e+00 -9.88800e-01]\n",
      " [ 3.03290e+00  2.29480e+00  2.11350e+00  3.50840e-01]\n",
      " [ 5.70600e-01 -2.48000e-02  1.24210e+00 -5.62100e-01]\n",
      " [ 2.73650e+00 -5.03250e+00  6.66080e+00 -5.78890e-01]\n",
      " [ 4.38460e+00 -4.87940e+00  3.36620e+00 -2.93240e-02]\n",
      " [-4.80080e-02 -1.60370e+00  8.47560e+00  7.55580e-01]\n",
      " [ 2.16160e+00 -6.88040e+00  8.15170e+00 -8.10480e-02]\n",
      " [-2.46040e+00  1.27302e+01  9.17380e-01 -7.64180e+00]\n",
      " [ 1.13170e+00  3.96470e+00  3.39790e+00  8.43510e-01]\n",
      " [ 4.41250e-01  2.94870e+00  4.32250e+00  7.15500e-01]\n",
      " [ 2.25260e+00  9.96360e+00 -3.17490e+00 -2.99440e+00]\n",
      " [ 5.69530e-01  7.62940e+00  1.57540e+00 -3.22330e+00]\n",
      " [ 2.53310e+00  2.91350e+00 -8.22000e-01 -1.22430e-01]\n",
      " [ 2.31360e+00  1.06651e+01 -3.52880e+00 -4.76720e+00]\n",
      " [-1.45720e+00  9.12140e+00  1.74250e+00 -5.12410e+00]\n",
      " [ 1.01910e+00  2.33000e+00  4.93340e+00  8.29290e-01]\n",
      " [-1.85840e+00  7.88600e+00 -1.66430e+00 -1.83840e+00]\n",
      " [-4.28590e+00  8.52340e+00  3.13920e+00 -9.16390e-01]\n",
      " [ 3.75700e+00 -5.42360e+00  3.82550e+00 -1.25260e+00]\n",
      " [ 3.24500e+00  6.63000e+00 -6.34350e-01  8.69370e-01]\n",
      " [ 4.21880e+00  6.81620e+00 -1.28040e+00  7.60760e-01]\n",
      " [ 1.96470e+00  6.93830e+00  5.77220e-01  6.63770e-01]\n",
      " [ 2.01930e+00  8.23560e-01  4.63690e+00  1.42020e+00]\n",
      " [ 4.60540e+00 -4.07650e+00  2.75870e+00  3.19810e-01]\n",
      " [ 2.74510e-01  9.21860e+00 -3.28630e+00 -4.84480e+00]\n",
      " [-2.48110e-01 -1.77970e-01  4.90680e+00  1.54290e-01]\n",
      " [ 3.94330e+00  2.50170e+00  1.52150e+00  9.03000e-01]\n",
      " [ 5.28550e-01  9.64270e-01  4.02430e+00 -1.04830e+00]\n",
      " [ 3.40920e+00  5.40490e+00 -2.52280e+00 -8.99580e-01]\n",
      " [-2.79140e+00  1.77340e+00  6.77560e+00 -3.99150e-01]\n",
      " [ 2.61400e+00  8.00810e+00 -3.72580e+00 -1.30690e+00]\n",
      " [ 2.88800e+00  4.46960e-01  4.59070e+00 -2.43980e-01]\n",
      " [-7.82890e-01  1.13603e+01 -3.76440e-01 -7.04950e+00]\n",
      " [ 2.95430e+00  1.07600e+00  6.45770e-01  8.93940e-01]\n",
      " [-2.78020e-01  8.18810e+00 -3.13380e+00 -2.52760e+00]\n",
      " [ 1.16760e+00  9.15660e+00 -2.08670e+00 -8.06470e-01]\n",
      " [-2.69890e+00  1.21984e+01  6.76610e-01 -8.54820e+00]\n",
      " [ 4.16050e+00  1.12196e+01 -3.61360e+00 -4.08190e+00]\n",
      " [ 5.19470e-01 -3.26330e+00  3.08950e+00 -9.84920e-01]\n",
      " [-3.53590e+00  3.04170e-01  6.56900e-01 -2.95700e-01]\n",
      " [-5.38570e+00  9.12140e+00 -4.19290e-01 -5.91810e+00]\n",
      " [-2.02850e+00  3.84680e+00 -6.34350e-01 -1.17500e+00]\n",
      " [-6.75260e+00  8.81720e+00 -6.19830e-02 -3.72500e+00]\n",
      " [ 3.33250e-01  3.31080e+00 -4.50810e+00 -4.01200e+00]\n",
      " [-2.62000e+00 -6.85550e+00  6.21690e+00 -6.22850e-01]\n",
      " [ 2.03100e+00  1.85200e+00 -3.01210e+00  3.00300e-03]\n",
      " [-2.90200e+00 -7.65630e+00  1.18318e+01 -8.42680e-01]\n",
      " [ 9.66130e-03  3.56120e+00 -4.40700e+00 -4.41030e+00]\n",
      " [-1.68200e+00 -6.81210e+00  7.13980e+00  1.33230e+00]\n",
      " [-1.95550e+00  2.06920e-01  1.24730e+00 -3.70700e-01]\n",
      " [-5.39000e-01 -5.16700e+00  3.43990e+00  5.21410e-02]\n",
      " [-9.85400e-01 -6.66100e+00  5.82450e+00  5.46100e-01]\n",
      " [ 1.25720e+00  4.87310e+00 -5.28610e+00 -5.87410e+00]\n",
      " [-1.56210e+00 -2.21210e+00  4.25910e+00  2.79720e-01]\n",
      " [-1.59510e+00 -6.57200e+00  4.76890e+00 -9.43540e-01]\n",
      " [-6.09750e-01 -4.00200e+00  1.84710e+00  6.01700e-01]\n",
      " [-4.55310e+00 -1.25854e+01  1.54417e+01 -1.49830e+00]\n",
      " [-3.56810e+00 -8.21300e+00  1.00830e+01  9.67650e-01]\n",
      " [-5.29430e+00 -5.14630e+00  1.03332e+01 -1.11810e+00]\n",
      " [-3.57130e+00 -1.24922e+01  1.48881e+01 -4.70270e-01]\n",
      " [-5.88180e+00  7.65840e+00  5.55800e-01 -2.91550e+00]\n",
      " [-3.07990e+00  6.08360e-01  2.70390e+00 -2.37510e-01]\n",
      " [ 1.34510e+00  2.35890e-01 -1.87850e+00  1.32580e+00]\n",
      " [-2.98580e-01  2.47690e+00 -2.95120e+00 -6.61650e-01]\n",
      " [-3.81670e+00  5.14010e+00 -6.50630e-01 -5.43060e+00]\n",
      " [-6.65100e+00  6.79340e+00  6.86040e-01 -7.58870e+00]\n",
      " [-3.59160e+00 -6.22850e+00  1.02389e+01 -1.15430e+00]\n",
      " [-3.32030e+00 -2.69100e-02  2.96180e+00 -4.49580e-01]\n",
      " [-6.52350e+00  9.60140e+00 -2.53920e-01 -6.96420e+00]\n",
      " [-1.44540e+00 -8.43850e+00  8.84830e+00  9.68940e-01]\n",
      " [-3.92040e+00  4.07230e+00 -2.36780e-01 -2.11510e+00]\n",
      " [-3.70130e-01 -5.55400e+00  4.77490e+00  1.54700e+00]\n",
      " [-8.95690e-01  3.00250e+00 -3.60670e+00 -3.44570e+00]\n",
      " [-6.20430e-01  5.58700e-01 -3.85870e-01 -6.64230e-01]\n",
      " [ 2.59430e-01  5.00970e+00 -5.03940e+00 -6.38620e+00]\n",
      " [-3.12730e+00 -7.11210e+00  1.13897e+01 -8.36340e-02]\n",
      " [-2.16520e+00  3.02110e+00 -2.41320e+00 -2.42410e+00]\n",
      " [ 2.43940e-01  1.47330e+00 -1.41920e+00 -5.85350e-01]\n",
      " [-2.89570e+00 -1.20205e+01  1.19149e+01 -2.75520e+00]\n",
      " [-3.09860e+00 -1.04602e+01  8.97170e+00 -2.34270e+00]\n",
      " [-3.27780e+00  1.80230e+00  1.80500e-01 -2.39310e+00]\n",
      " [-5.50080e-01  2.86590e+00 -1.64880e+00 -2.43190e+00]\n",
      " [ 1.74250e+00  3.68330e+00 -4.01290e+00 -1.72070e+00]\n",
      " [-1.27920e+00  2.13760e+00 -4.75840e-01 -1.39740e+00]\n",
      " [-1.78600e+00 -8.11570e+00  7.08580e+00 -1.21120e+00]\n",
      " [-4.84260e+00 -4.99320e+00  1.04052e+01 -5.31040e-01]\n",
      " [-4.14790e+00  7.12250e+00 -8.34040e-02 -6.41720e+00]\n",
      " [-5.03010e+00  7.50320e+00 -1.33960e-01 -7.50340e+00]\n",
      " [-4.02180e+00 -8.30400e+00  1.25550e+01 -1.50990e+00]\n",
      " [-2.91460e+00  4.05370e+00 -4.56990e-01 -4.03270e+00]\n",
      " [-1.39070e+00 -1.37810e+00  2.30550e+00 -2.15660e-02]\n",
      " [-9.60700e-01  2.69630e+00 -3.12260e+00 -1.31210e+00]\n",
      " [-5.16610e+00  8.04330e+00  4.42650e-02 -4.49830e+00]\n",
      " [-6.39790e+00  6.44790e+00  1.08360e+00 -6.61760e+00]\n",
      " [ 5.59390e-01 -3.10400e-01  1.83070e-01  4.46530e-01]\n",
      " [-2.96720e+00 -1.32869e+01  1.34727e+01 -2.62710e+00]\n",
      " [-2.89900e+00 -6.04240e-01  2.60450e+00  1.37760e+00]\n",
      " [-2.45610e+00 -4.55660e+00  6.45340e+00 -5.64790e-02]\n",
      " [ 1.78750e+00  4.78000e+00 -5.13620e+00 -3.23620e+00]\n",
      " [-1.40940e+00 -2.12520e+00 -1.03970e-01 -1.92250e-01]\n",
      " [-2.59190e+00 -1.05530e+00  3.89490e+00  7.77570e-01]\n",
      " [-2.65900e+00 -1.60580e+00  1.36470e+00  1.64640e-01]\n",
      " [ 2.66370e-01  7.32520e-01 -6.78910e-01  3.53300e-02]\n",
      " [-3.77470e+00  2.51620e+00  8.33410e-01 -3.09930e-01]\n",
      " [-2.70280e+00  1.63270e+00  8.35980e-01 -9.13930e-02]\n",
      " [-3.69610e+00 -1.36779e+01  1.75795e+01 -2.61810e+00]\n",
      " [-1.48000e+00 -1.05244e+01  9.91760e+00 -5.02600e-01]\n",
      " [-1.77130e+00 -1.07665e+01  1.02184e+01 -1.00430e+00]\n",
      " [-1.65140e+00 -8.49850e+00  9.11220e+00  1.23790e+00]\n",
      " [-2.99150e+00 -6.62580e+00  8.65210e+00  1.81980e+00]\n",
      " [ 2.19430e+00  4.55030e+00 -4.97600e+00 -2.72540e+00]\n",
      " [-7.03640e+00  9.29310e+00  1.65940e-01 -4.53960e+00]\n",
      " [-1.75890e+00 -6.46240e+00  8.47730e+00  3.19810e-01]\n",
      " [-2.64060e+00 -4.41590e+00  5.98300e+00 -1.39240e-01]\n",
      " [-3.94160e-01 -2.07020e-02 -6.62670e-02 -4.46990e-01]\n",
      " [-3.99340e+00  5.83330e+00  5.47230e-01 -4.93790e+00]\n",
      " [ 2.38740e-01  2.08790e+00 -3.35220e+00 -6.65530e-01]\n",
      " [-3.26920e+00 -1.27406e+01  1.55573e+01 -1.41820e-01]\n",
      " [-3.80730e+00 -8.09710e+00  1.01772e+01  6.50840e-01]\n",
      " [-6.60080e-01 -3.22600e+00  3.80580e+00  1.18360e+00]\n",
      " [-1.73220e+00 -9.28280e+00  7.71900e+00 -1.71680e+00]\n",
      " [-4.94620e+00  3.57160e+00  8.27420e-01 -1.49570e+00]\n",
      " [-3.88260e+00  4.89800e+00 -9.23110e-01 -5.08010e+00]\n",
      " [-4.63380e+00 -1.27509e+01  1.67166e+01 -3.21680e+00]\n",
      " [-4.67650e+00 -5.66360e+00  1.09690e+01 -3.34490e-01]\n",
      " [-1.60290e+00 -3.89030e-01  1.62000e+00  1.91030e+00]\n",
      " [-1.17160e-01  6.04220e-01 -3.85870e-01 -5.90650e-02]\n",
      " [ 2.14310e-01 -6.95290e-01  8.77110e-01  2.96530e-01]\n",
      " [-3.38840e+00 -8.21500e+00  1.03315e+01  9.81870e-01]\n",
      " [-4.94470e+00  3.30050e+00  1.06300e+00 -1.44400e+00]\n",
      " [-1.30660e+00  2.52440e-01  7.62300e-01  1.77580e+00]\n",
      " [-1.94230e+00  3.76600e-01 -1.28980e+00 -8.24580e-01]\n",
      " [ 2.34600e-01 -4.51520e+00  2.11950e+00  1.44480e+00]\n",
      " [ 1.63580e-01 -3.35840e+00  1.37490e+00  1.35690e+00]\n",
      " [-4.38760e+00 -7.72670e+00  1.19655e+01 -1.45430e+00]\n",
      " [-1.55720e+00 -9.88080e+00  8.10880e+00 -1.08060e+00]\n",
      " [-4.14090e+00  3.46190e+00 -4.78410e-01 -3.88790e+00]\n",
      " [-3.94110e+00 -1.28792e+01  1.30597e+01 -3.31250e+00]\n",
      " [-2.40370e-01 -1.78370e+00  2.13500e+00  1.24180e+00]\n",
      " [-2.01490e+00  3.68740e+00 -1.93850e+00 -3.89180e+00]]\n",
      "index of support vectors \n",
      "  [ 10  19  21  54  59  83  93  97 126 128 142 144 149 154 166 167 174 176\n",
      " 188 206 218 232 235 241 242 247 248 253 280 285 302 306 316 322 329 332\n",
      " 334 335 356 359 363 364 381 384 389 392 393 394 404 414 420 428 431 436\n",
      " 439 440 444 446 466 467 469 476 481 491 509 524 536 541 549 553 559 566\n",
      " 572 579 583 587 591 592 600 604 605 610 645 649 653 658 667 683 690 700\n",
      " 706 714 716 719 721 728 730 732 733 734 761 773 774 780 784 821 828 847\n",
      " 852 860 863 866 873 874 876 879 884 889 927 932 941 946 948 954 956 957\n",
      "   4  16  18  30  31  71  78  82  90 102 105 110 112 130 138 146 152 155\n",
      " 164 173 177 199 211 224 252 261 263 267 270 273 290 299 304 315 320 327\n",
      " 333 344 353 368 373 376 387 421 426 447 462 465 471 477 488 494 499 525\n",
      " 526 532 542 544 547 563 565 569 576 589 593 596 599 617 628 630 636 641\n",
      " 652 676 678 693 717 735 739 740 754 756 791 793 796 804 806 829 835 838\n",
      " 851 858 859 868 885 905 913 926 938 945 950]\n",
      "bias [-0.13937616]\n",
      "the classifier \n",
      " SVC(C=1.0, cache_size=200, class_weight=None, coef0=0.0,\n",
      "  decision_function_shape='ovr', degree=3, gamma='auto_deprecated',\n",
      "  kernel='rbf', max_iter=2000, probability=False, random_state=None,\n",
      "  shrinking=True, tol=1e-05, verbose=0)\n"
     ]
    }
   ],
   "source": [
    "print('Banknotes dataset')\n",
    "print('dual coef \\n', svm.dual_coef_)\n",
    "print ('support vectors \\n', svm.support_vectors_)\n",
    "print('index of support vectors \\n ', svm.support_)\n",
    "print ('bias', svm.intercept_)\n",
    "print('the classifier \\n', svm)"
   ]
  },
  {
   "cell_type": "markdown",
   "metadata": {},
   "source": [
    "#### Nursery dataset"
   ]
  },
  {
   "cell_type": "code",
   "execution_count": 42,
   "metadata": {},
   "outputs": [
    {
     "data": {
      "text/plain": [
       "SVC(C=1.0, cache_size=200, class_weight=None, coef0=0.0,\n",
       "  decision_function_shape='ovr', degree=3, gamma='auto_deprecated',\n",
       "  kernel='rbf', max_iter=4000, probability=False, random_state=None,\n",
       "  shrinking=True, tol=1e-05, verbose=0)"
      ]
     },
     "execution_count": 42,
     "metadata": {},
     "output_type": "execute_result"
    }
   ],
   "source": [
    "svm=SVC(C=1.0,kernel='rbf', max_iter=4000, tol=1e-05, verbose=0)\n",
    "svm"
   ]
  },
  {
   "cell_type": "code",
   "execution_count": 43,
   "metadata": {},
   "outputs": [
    {
     "name": "stderr",
     "output_type": "stream",
     "text": [
      "C:\\Users\\NelsonCosta\\AppData\\Local\\Programs\\Python\\Python37-32\\lib\\site-packages\\sklearn\\svm\\base.py:244: ConvergenceWarning: Solver terminated early (max_iter=4000).  Consider pre-processing your data with StandardScaler or MinMaxScaler.\n",
      "  % self.max_iter, ConvergenceWarning)\n"
     ]
    }
   ],
   "source": [
    "svm=svm.fit(X_train2.values, y_train2.values)\n",
    "#plot_decision_regions(X_train2.values, y_train2.values, classifier=svm)\n",
    "#plt.xlabel('x1')\n",
    "#plt.ylabel('x2')\n",
    "#plt.legend(loc='upper left')\n",
    "#plt.grid()\n",
    "#plt.tight_layout()\n",
    "#plt.show()"
   ]
  },
  {
   "cell_type": "code",
   "execution_count": 44,
   "metadata": {},
   "outputs": [
    {
     "name": "stdout",
     "output_type": "stream",
     "text": [
      "Nursery dataset\n",
      "dual coef \n",
      " [[ 0.10341707  0.          0.         ... -0.33269826 -0.07250174\n",
      "  -0.        ]\n",
      " [ 0.00889485  0.14908641  0.         ... -1.         -1.\n",
      "  -1.        ]\n",
      " [ 0.9129911   0.          0.33290763 ... -0.         -0.\n",
      "  -0.        ]\n",
      " [ 0.11254619  0.          0.         ... -0.         -0.\n",
      "  -0.        ]]\n",
      "support vectors \n",
      " [[1. 5. 1. ... 2. 3. 3.]\n",
      " [2. 1. 1. ... 1. 1. 3.]\n",
      " [3. 1. 1. ... 1. 3. 3.]\n",
      " ...\n",
      " [1. 1. 1. ... 2. 1. 1.]\n",
      " [1. 1. 1. ... 1. 2. 1.]\n",
      " [1. 3. 2. ... 1. 2. 1.]]\n",
      "index of support vectors \n",
      "  [  27   84  122 ... 8848 8939 9014]\n",
      "bias [ 0.31398584  0.89560818  0.23151832  0.56953228  1.15773937 -0.25814474\n",
      "  3.70914447 -0.88134047 -1.12442017  1.03646128]\n",
      "the classifier \n",
      " SVC(C=1.0, cache_size=200, class_weight=None, coef0=0.0,\n",
      "  decision_function_shape='ovr', degree=3, gamma='auto_deprecated',\n",
      "  kernel='rbf', max_iter=4000, probability=False, random_state=None,\n",
      "  shrinking=True, tol=1e-05, verbose=0)\n"
     ]
    }
   ],
   "source": [
    "print('Nursery dataset')\n",
    "print('dual coef \\n', svm.dual_coef_)\n",
    "print ('support vectors \\n', svm.support_vectors_)\n",
    "print('index of support vectors \\n ', svm.support_)\n",
    "print ('bias', svm.intercept_)\n",
    "print('the classifier \\n', svm)"
   ]
  },
  {
   "cell_type": "code",
   "execution_count": null,
   "metadata": {},
   "outputs": [],
   "source": []
  }
 ],
 "metadata": {
  "kernelspec": {
   "display_name": "Python 3",
   "language": "python",
   "name": "python3"
  },
  "language_info": {
   "codemirror_mode": {
    "name": "ipython",
    "version": 3
   },
   "file_extension": ".py",
   "mimetype": "text/x-python",
   "name": "python",
   "nbconvert_exporter": "python",
   "pygments_lexer": "ipython3",
   "version": "3.7.1"
  }
 },
 "nbformat": 4,
 "nbformat_minor": 2
}
