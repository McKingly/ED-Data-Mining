{
 "cells": [
  {
   "cell_type": "markdown",
   "metadata": {},
   "source": [
    "- [Task A - Pre Processing](#Task-A---Pre-Processing) \n",
    " - [Mapping categorial data into numeric data](#Mapping-categorial-data-into-numeric-data)\n",
    " - [Rank features](#Rank-features)\n",
    " - [Dimension reduction](#Dimension-reduction)"
   ]
  },
  {
   "cell_type": "code",
   "execution_count": 1,
   "metadata": {},
   "outputs": [],
   "source": [
    "import pandas as pd\n",
    "import numpy as np\n",
    "import xlrd\n",
    "import copy\n",
    "%matplotlib inline"
   ]
  },
  {
   "cell_type": "code",
   "execution_count": 2,
   "metadata": {},
   "outputs": [],
   "source": [
    "# Read banknote dataset\n",
    "df_bankNotes = pd.read_excel('./data_banknote_authentication.xlsx')\n",
    "#df_bankNotes\n",
    "\n",
    "# Read nursery dataset\n",
    "df_nursery = pd.read_excel('./nursery.xlsx')\n",
    "#df_nursery"
   ]
  },
  {
   "cell_type": "markdown",
   "metadata": {},
   "source": [
    "## Task A - Pre Processing"
   ]
  },
  {
   "cell_type": "markdown",
   "metadata": {},
   "source": [
    "### Partitioning datasets in training and test sets"
   ]
  },
  {
   "cell_type": "code",
   "execution_count": 3,
   "metadata": {},
   "outputs": [],
   "source": [
    "# Added version check for recent scikit-learn 0.18 checks\n",
    "from distutils.version import LooseVersion as Version\n",
    "from sklearn import __version__ as sklearn_version\n",
    "\n",
    "if Version(sklearn_version) < '0.18':\n",
    "    from sklearn.cross_validation import train_test_split\n",
    "else:\n",
    "    from sklearn.model_selection import train_test_split\n",
    "\n",
    "# Banknote dataset\n",
    "# class reading\n",
    "y1=df_bankNotes[df_bankNotes.columns[4]]\n",
    "# features reading\n",
    "X1=df_bankNotes[df_bankNotes.columns[0:3]]\n",
    "\n",
    "X_train1,X_test1,y_train1,y_test1 = train_test_split(X1,y1,test_size = 0.3)\n",
    "\n",
    "# Nursery dataset\n",
    "# class reading\n",
    "y2=df_nursery[df_nursery.columns[8]]\n",
    "# features reading\n",
    "X2=df_nursery[df_nursery.columns[0:7]]\n",
    "\n",
    "X_train2,X_test2,y_train2,y_test2 = train_test_split(X2,y2,test_size = 0.3)"
   ]
  },
  {
   "cell_type": "markdown",
   "metadata": {},
   "source": [
    "### Check if datasets have missing values"
   ]
  },
  {
   "cell_type": "code",
   "execution_count": 4,
   "metadata": {},
   "outputs": [
    {
     "data": {
      "text/plain": [
       "variance of Wavelet Transformed image    0\n",
       "skewness of Wavelet Transformed image    0\n",
       "curtosis of Wavelet Transformed image    0\n",
       "entropy of image                         0\n",
       "class                                    0\n",
       "dtype: int64"
      ]
     },
     "execution_count": 4,
     "metadata": {},
     "output_type": "execute_result"
    }
   ],
   "source": [
    "# Banknote dataset\n",
    "df_bankNotes.isnull().sum()"
   ]
  },
  {
   "cell_type": "code",
   "execution_count": 5,
   "metadata": {},
   "outputs": [
    {
     "data": {
      "text/plain": [
       "parents     0\n",
       "has_nurs    0\n",
       "form        0\n",
       "children    0\n",
       "housing     0\n",
       "finance     0\n",
       "social      0\n",
       "health      0\n",
       "class       0\n",
       "dtype: int64"
      ]
     },
     "execution_count": 5,
     "metadata": {},
     "output_type": "execute_result"
    }
   ],
   "source": [
    "# Nursery dataset\n",
    "df_nursery.isnull().sum()"
   ]
  },
  {
   "cell_type": "markdown",
   "metadata": {},
   "source": [
    "### Rank features\n",
    "#### 1. Model Based Ranking\n",
    "We can fit a classfier to each feature and rank the predictive power. This method selects the most powerful features individually but ignores the predictive power when features are combined.\n",
    "\n",
    "Random Forest Classifier is used in this case because it is robust, nonlinear, and doesn't require scaling.\n",
    "\n"
   ]
  },
  {
   "cell_type": "code",
   "execution_count": 6,
   "metadata": {},
   "outputs": [
    {
     "name": "stdout",
     "output_type": "stream",
     "text": [
      "[(84, 'variance of Wavelet Transformed image'), (76, 'skewness of Wavelet Transformed image'), (67, 'curtosis of Wavelet Transformed image'), (55, 'entropy of image')]\n"
     ]
    }
   ],
   "source": [
    "from sklearn.ensemble import RandomForestClassifier\n",
    "from sklearn.model_selection import cross_val_score\n",
    "\n",
    "data = df_bankNotes['class']\n",
    "\n",
    "X = df_bankNotes.drop('class', axis = 1)\n",
    "y = data\n",
    "\n",
    "clf = RandomForestClassifier(n_estimators = 50, max_depth = 4)\n",
    "\n",
    "scores = []\n",
    "num_features = len(X.columns)\n",
    "for i in range(num_features):\n",
    "    col = X.columns[i]\n",
    "    score = np.mean(cross_val_score(clf, X[col].values.reshape(-1,1), y, cv=10))\n",
    "    scores.append((int(score*100), col))\n",
    "\n",
    "print(sorted(scores, reverse = True))"
   ]
  },
  {
   "cell_type": "markdown",
   "metadata": {},
   "source": [
    "#### 2. Univariate Feature Selection\n",
    "\n",
    "Univariate feature selection selects the best features by running univariate statistical tests like **chi-squared test, F-1 test, and mutual information** methods.\n",
    "Can't use the **chi-squared** if there are negative values\n",
    "##### 2.1 Mutual Info Classif"
   ]
  },
  {
   "cell_type": "code",
   "execution_count": 7,
   "metadata": {},
   "outputs": [
    {
     "data": {
      "text/plain": [
       "SelectKBest(k=2, score_func=<function mutual_info_classif at 0x118A82B8>)"
      ]
     },
     "execution_count": 7,
     "metadata": {},
     "output_type": "execute_result"
    }
   ],
   "source": [
    "from sklearn.feature_selection import SelectKBest\n",
    "from sklearn.feature_selection import chi2, mutual_info_classif\n",
    "\n",
    "test = SelectKBest(score_func = mutual_info_classif, k=2)\n",
    "test.fit(X, y)\n"
   ]
  },
  {
   "cell_type": "code",
   "execution_count": 8,
   "metadata": {},
   "outputs": [
    {
     "name": "stdout",
     "output_type": "stream",
     "text": [
      "[(0.3784252966010686, 'variance of Wavelet Transformed image'), (0.22582951766426818, 'skewness of Wavelet Transformed image'), (0.12276548389275455, 'curtosis of Wavelet Transformed image'), (0.0231808399564577, 'entropy of image')]\n"
     ]
    }
   ],
   "source": [
    "scores = []\n",
    "for i in range(num_features):\n",
    "    score = test.scores_[i]\n",
    "    scores.append((score, X.columns[i]))\n",
    "        \n",
    "print (sorted(scores, reverse = True))"
   ]
  },
  {
   "cell_type": "markdown",
   "metadata": {},
   "source": [
    "### Dimension reduction"
   ]
  },
  {
   "cell_type": "code",
   "execution_count": 9,
   "metadata": {},
   "outputs": [
    {
     "data": {
      "text/html": [
       "<div>\n",
       "<style scoped>\n",
       "    .dataframe tbody tr th:only-of-type {\n",
       "        vertical-align: middle;\n",
       "    }\n",
       "\n",
       "    .dataframe tbody tr th {\n",
       "        vertical-align: top;\n",
       "    }\n",
       "\n",
       "    .dataframe thead th {\n",
       "        text-align: right;\n",
       "    }\n",
       "</style>\n",
       "<table border=\"1\" class=\"dataframe\">\n",
       "  <thead>\n",
       "    <tr style=\"text-align: right;\">\n",
       "      <th></th>\n",
       "      <th>principal component 1</th>\n",
       "      <th>principal component 2</th>\n",
       "      <th>class</th>\n",
       "    </tr>\n",
       "  </thead>\n",
       "  <tbody>\n",
       "    <tr>\n",
       "      <th>0</th>\n",
       "      <td>-8.117954</td>\n",
       "      <td>-2.372615</td>\n",
       "      <td>0</td>\n",
       "    </tr>\n",
       "    <tr>\n",
       "      <th>1</th>\n",
       "      <td>-7.800124</td>\n",
       "      <td>-2.689555</td>\n",
       "      <td>0</td>\n",
       "    </tr>\n",
       "    <tr>\n",
       "      <th>2</th>\n",
       "      <td>3.690195</td>\n",
       "      <td>-4.372720</td>\n",
       "      <td>0</td>\n",
       "    </tr>\n",
       "    <tr>\n",
       "      <th>3</th>\n",
       "      <td>-9.908612</td>\n",
       "      <td>-0.978030</td>\n",
       "      <td>0</td>\n",
       "    </tr>\n",
       "    <tr>\n",
       "      <th>4</th>\n",
       "      <td>6.957545</td>\n",
       "      <td>-0.733813</td>\n",
       "      <td>0</td>\n",
       "    </tr>\n",
       "    <tr>\n",
       "      <th>5</th>\n",
       "      <td>-10.067304</td>\n",
       "      <td>-1.846547</td>\n",
       "      <td>0</td>\n",
       "    </tr>\n",
       "    <tr>\n",
       "      <th>6</th>\n",
       "      <td>-1.441275</td>\n",
       "      <td>-3.225253</td>\n",
       "      <td>0</td>\n",
       "    </tr>\n",
       "    <tr>\n",
       "      <th>7</th>\n",
       "      <td>10.812967</td>\n",
       "      <td>-1.770845</td>\n",
       "      <td>0</td>\n",
       "    </tr>\n",
       "    <tr>\n",
       "      <th>8</th>\n",
       "      <td>-4.597883</td>\n",
       "      <td>-2.112941</td>\n",
       "      <td>0</td>\n",
       "    </tr>\n",
       "    <tr>\n",
       "      <th>9</th>\n",
       "      <td>-7.985529</td>\n",
       "      <td>-0.276277</td>\n",
       "      <td>0</td>\n",
       "    </tr>\n",
       "    <tr>\n",
       "      <th>10</th>\n",
       "      <td>-7.596390</td>\n",
       "      <td>-0.083119</td>\n",
       "      <td>0</td>\n",
       "    </tr>\n",
       "    <tr>\n",
       "      <th>11</th>\n",
       "      <td>4.096707</td>\n",
       "      <td>-4.684798</td>\n",
       "      <td>0</td>\n",
       "    </tr>\n",
       "    <tr>\n",
       "      <th>12</th>\n",
       "      <td>-5.821323</td>\n",
       "      <td>0.816694</td>\n",
       "      <td>0</td>\n",
       "    </tr>\n",
       "    <tr>\n",
       "      <th>13</th>\n",
       "      <td>-6.568042</td>\n",
       "      <td>5.083368</td>\n",
       "      <td>0</td>\n",
       "    </tr>\n",
       "    <tr>\n",
       "      <th>14</th>\n",
       "      <td>-8.255399</td>\n",
       "      <td>-2.181929</td>\n",
       "      <td>0</td>\n",
       "    </tr>\n",
       "    <tr>\n",
       "      <th>15</th>\n",
       "      <td>5.244606</td>\n",
       "      <td>-5.359260</td>\n",
       "      <td>0</td>\n",
       "    </tr>\n",
       "    <tr>\n",
       "      <th>16</th>\n",
       "      <td>-1.546755</td>\n",
       "      <td>-2.591567</td>\n",
       "      <td>0</td>\n",
       "    </tr>\n",
       "    <tr>\n",
       "      <th>17</th>\n",
       "      <td>1.078833</td>\n",
       "      <td>0.035637</td>\n",
       "      <td>0</td>\n",
       "    </tr>\n",
       "    <tr>\n",
       "      <th>18</th>\n",
       "      <td>9.053746</td>\n",
       "      <td>-0.112465</td>\n",
       "      <td>0</td>\n",
       "    </tr>\n",
       "    <tr>\n",
       "      <th>19</th>\n",
       "      <td>-11.641229</td>\n",
       "      <td>-1.890892</td>\n",
       "      <td>0</td>\n",
       "    </tr>\n",
       "    <tr>\n",
       "      <th>20</th>\n",
       "      <td>-7.697146</td>\n",
       "      <td>-4.239038</td>\n",
       "      <td>0</td>\n",
       "    </tr>\n",
       "    <tr>\n",
       "      <th>21</th>\n",
       "      <td>6.957550</td>\n",
       "      <td>-0.733781</td>\n",
       "      <td>0</td>\n",
       "    </tr>\n",
       "    <tr>\n",
       "      <th>22</th>\n",
       "      <td>-10.452727</td>\n",
       "      <td>-0.949880</td>\n",
       "      <td>0</td>\n",
       "    </tr>\n",
       "    <tr>\n",
       "      <th>23</th>\n",
       "      <td>-7.475411</td>\n",
       "      <td>0.715289</td>\n",
       "      <td>0</td>\n",
       "    </tr>\n",
       "    <tr>\n",
       "      <th>24</th>\n",
       "      <td>-10.731345</td>\n",
       "      <td>-1.797995</td>\n",
       "      <td>0</td>\n",
       "    </tr>\n",
       "    <tr>\n",
       "      <th>25</th>\n",
       "      <td>9.545532</td>\n",
       "      <td>0.656686</td>\n",
       "      <td>0</td>\n",
       "    </tr>\n",
       "    <tr>\n",
       "      <th>26</th>\n",
       "      <td>6.868554</td>\n",
       "      <td>-1.052989</td>\n",
       "      <td>0</td>\n",
       "    </tr>\n",
       "    <tr>\n",
       "      <th>27</th>\n",
       "      <td>-5.077339</td>\n",
       "      <td>3.721098</td>\n",
       "      <td>0</td>\n",
       "    </tr>\n",
       "    <tr>\n",
       "      <th>28</th>\n",
       "      <td>-10.752860</td>\n",
       "      <td>-3.675094</td>\n",
       "      <td>0</td>\n",
       "    </tr>\n",
       "    <tr>\n",
       "      <th>29</th>\n",
       "      <td>5.094822</td>\n",
       "      <td>-5.371856</td>\n",
       "      <td>0</td>\n",
       "    </tr>\n",
       "    <tr>\n",
       "      <th>...</th>\n",
       "      <td>...</td>\n",
       "      <td>...</td>\n",
       "      <td>...</td>\n",
       "    </tr>\n",
       "    <tr>\n",
       "      <th>1342</th>\n",
       "      <td>9.392679</td>\n",
       "      <td>-0.016441</td>\n",
       "      <td>1</td>\n",
       "    </tr>\n",
       "    <tr>\n",
       "      <th>1343</th>\n",
       "      <td>9.388000</td>\n",
       "      <td>-0.756672</td>\n",
       "      <td>1</td>\n",
       "    </tr>\n",
       "    <tr>\n",
       "      <th>1344</th>\n",
       "      <td>-0.196658</td>\n",
       "      <td>-3.277658</td>\n",
       "      <td>1</td>\n",
       "    </tr>\n",
       "    <tr>\n",
       "      <th>1345</th>\n",
       "      <td>-5.556688</td>\n",
       "      <td>-2.320287</td>\n",
       "      <td>1</td>\n",
       "    </tr>\n",
       "    <tr>\n",
       "      <th>1346</th>\n",
       "      <td>-6.862836</td>\n",
       "      <td>0.189744</td>\n",
       "      <td>1</td>\n",
       "    </tr>\n",
       "    <tr>\n",
       "      <th>1347</th>\n",
       "      <td>-6.699732</td>\n",
       "      <td>8.117606</td>\n",
       "      <td>1</td>\n",
       "    </tr>\n",
       "    <tr>\n",
       "      <th>1348</th>\n",
       "      <td>-0.224783</td>\n",
       "      <td>2.234969</td>\n",
       "      <td>1</td>\n",
       "    </tr>\n",
       "    <tr>\n",
       "      <th>1349</th>\n",
       "      <td>4.065173</td>\n",
       "      <td>-0.292773</td>\n",
       "      <td>1</td>\n",
       "    </tr>\n",
       "    <tr>\n",
       "      <th>1350</th>\n",
       "      <td>2.870471</td>\n",
       "      <td>-1.792689</td>\n",
       "      <td>1</td>\n",
       "    </tr>\n",
       "    <tr>\n",
       "      <th>1351</th>\n",
       "      <td>-2.513787</td>\n",
       "      <td>-2.687405</td>\n",
       "      <td>1</td>\n",
       "    </tr>\n",
       "    <tr>\n",
       "      <th>1352</th>\n",
       "      <td>-4.388080</td>\n",
       "      <td>-1.976174</td>\n",
       "      <td>1</td>\n",
       "    </tr>\n",
       "    <tr>\n",
       "      <th>1353</th>\n",
       "      <td>-3.902985</td>\n",
       "      <td>-0.118083</td>\n",
       "      <td>1</td>\n",
       "    </tr>\n",
       "    <tr>\n",
       "      <th>1354</th>\n",
       "      <td>-2.125902</td>\n",
       "      <td>3.845626</td>\n",
       "      <td>1</td>\n",
       "    </tr>\n",
       "    <tr>\n",
       "      <th>1355</th>\n",
       "      <td>-5.812548</td>\n",
       "      <td>7.679120</td>\n",
       "      <td>1</td>\n",
       "    </tr>\n",
       "    <tr>\n",
       "      <th>1356</th>\n",
       "      <td>-0.386992</td>\n",
       "      <td>3.484950</td>\n",
       "      <td>1</td>\n",
       "    </tr>\n",
       "    <tr>\n",
       "      <th>1357</th>\n",
       "      <td>2.282469</td>\n",
       "      <td>0.955428</td>\n",
       "      <td>1</td>\n",
       "    </tr>\n",
       "    <tr>\n",
       "      <th>1358</th>\n",
       "      <td>0.823363</td>\n",
       "      <td>-0.620542</td>\n",
       "      <td>1</td>\n",
       "    </tr>\n",
       "    <tr>\n",
       "      <th>1359</th>\n",
       "      <td>-2.711015</td>\n",
       "      <td>-1.111462</td>\n",
       "      <td>1</td>\n",
       "    </tr>\n",
       "    <tr>\n",
       "      <th>1360</th>\n",
       "      <td>-1.985460</td>\n",
       "      <td>-0.783329</td>\n",
       "      <td>1</td>\n",
       "    </tr>\n",
       "    <tr>\n",
       "      <th>1361</th>\n",
       "      <td>-0.129647</td>\n",
       "      <td>0.592404</td>\n",
       "      <td>1</td>\n",
       "    </tr>\n",
       "    <tr>\n",
       "      <th>1362</th>\n",
       "      <td>-0.180874</td>\n",
       "      <td>1.808304</td>\n",
       "      <td>1</td>\n",
       "    </tr>\n",
       "    <tr>\n",
       "      <th>1363</th>\n",
       "      <td>4.046002</td>\n",
       "      <td>0.036868</td>\n",
       "      <td>1</td>\n",
       "    </tr>\n",
       "    <tr>\n",
       "      <th>1364</th>\n",
       "      <td>12.500053</td>\n",
       "      <td>2.757556</td>\n",
       "      <td>1</td>\n",
       "    </tr>\n",
       "    <tr>\n",
       "      <th>1365</th>\n",
       "      <td>12.277787</td>\n",
       "      <td>4.476869</td>\n",
       "      <td>1</td>\n",
       "    </tr>\n",
       "    <tr>\n",
       "      <th>1366</th>\n",
       "      <td>-2.079138</td>\n",
       "      <td>2.265649</td>\n",
       "      <td>1</td>\n",
       "    </tr>\n",
       "    <tr>\n",
       "      <th>1367</th>\n",
       "      <td>-1.005189</td>\n",
       "      <td>-1.265160</td>\n",
       "      <td>1</td>\n",
       "    </tr>\n",
       "    <tr>\n",
       "      <th>1368</th>\n",
       "      <td>8.783021</td>\n",
       "      <td>0.513829</td>\n",
       "      <td>1</td>\n",
       "    </tr>\n",
       "    <tr>\n",
       "      <th>1369</th>\n",
       "      <td>21.727432</td>\n",
       "      <td>4.870114</td>\n",
       "      <td>1</td>\n",
       "    </tr>\n",
       "    <tr>\n",
       "      <th>1370</th>\n",
       "      <td>14.946310</td>\n",
       "      <td>3.832314</td>\n",
       "      <td>1</td>\n",
       "    </tr>\n",
       "    <tr>\n",
       "      <th>1371</th>\n",
       "      <td>3.565247</td>\n",
       "      <td>1.032120</td>\n",
       "      <td>1</td>\n",
       "    </tr>\n",
       "  </tbody>\n",
       "</table>\n",
       "<p>1372 rows × 3 columns</p>\n",
       "</div>"
      ],
      "text/plain": [
       "      principal component 1  principal component 2  class\n",
       "0                 -8.117954              -2.372615      0\n",
       "1                 -7.800124              -2.689555      0\n",
       "2                  3.690195              -4.372720      0\n",
       "3                 -9.908612              -0.978030      0\n",
       "4                  6.957545              -0.733813      0\n",
       "5                -10.067304              -1.846547      0\n",
       "6                 -1.441275              -3.225253      0\n",
       "7                 10.812967              -1.770845      0\n",
       "8                 -4.597883              -2.112941      0\n",
       "9                 -7.985529              -0.276277      0\n",
       "10                -7.596390              -0.083119      0\n",
       "11                 4.096707              -4.684798      0\n",
       "12                -5.821323               0.816694      0\n",
       "13                -6.568042               5.083368      0\n",
       "14                -8.255399              -2.181929      0\n",
       "15                 5.244606              -5.359260      0\n",
       "16                -1.546755              -2.591567      0\n",
       "17                 1.078833               0.035637      0\n",
       "18                 9.053746              -0.112465      0\n",
       "19               -11.641229              -1.890892      0\n",
       "20                -7.697146              -4.239038      0\n",
       "21                 6.957550              -0.733781      0\n",
       "22               -10.452727              -0.949880      0\n",
       "23                -7.475411               0.715289      0\n",
       "24               -10.731345              -1.797995      0\n",
       "25                 9.545532               0.656686      0\n",
       "26                 6.868554              -1.052989      0\n",
       "27                -5.077339               3.721098      0\n",
       "28               -10.752860              -3.675094      0\n",
       "29                 5.094822              -5.371856      0\n",
       "...                     ...                    ...    ...\n",
       "1342               9.392679              -0.016441      1\n",
       "1343               9.388000              -0.756672      1\n",
       "1344              -0.196658              -3.277658      1\n",
       "1345              -5.556688              -2.320287      1\n",
       "1346              -6.862836               0.189744      1\n",
       "1347              -6.699732               8.117606      1\n",
       "1348              -0.224783               2.234969      1\n",
       "1349               4.065173              -0.292773      1\n",
       "1350               2.870471              -1.792689      1\n",
       "1351              -2.513787              -2.687405      1\n",
       "1352              -4.388080              -1.976174      1\n",
       "1353              -3.902985              -0.118083      1\n",
       "1354              -2.125902               3.845626      1\n",
       "1355              -5.812548               7.679120      1\n",
       "1356              -0.386992               3.484950      1\n",
       "1357               2.282469               0.955428      1\n",
       "1358               0.823363              -0.620542      1\n",
       "1359              -2.711015              -1.111462      1\n",
       "1360              -1.985460              -0.783329      1\n",
       "1361              -0.129647               0.592404      1\n",
       "1362              -0.180874               1.808304      1\n",
       "1363               4.046002               0.036868      1\n",
       "1364              12.500053               2.757556      1\n",
       "1365              12.277787               4.476869      1\n",
       "1366              -2.079138               2.265649      1\n",
       "1367              -1.005189              -1.265160      1\n",
       "1368               8.783021               0.513829      1\n",
       "1369              21.727432               4.870114      1\n",
       "1370              14.946310               3.832314      1\n",
       "1371               3.565247               1.032120      1\n",
       "\n",
       "[1372 rows x 3 columns]"
      ]
     },
     "execution_count": 9,
     "metadata": {},
     "output_type": "execute_result"
    }
   ],
   "source": [
    "from sklearn.decomposition import PCA\n",
    "\n",
    "pca = PCA(n_components=2)\n",
    "principalComponents = pca.fit_transform(X)\n",
    "principalDf = pd.DataFrame(data = principalComponents\n",
    ", columns = ['principal component 1', 'principal component 2'])\n",
    "\n",
    "finalDf = pd.concat([principalDf, df_bankNotes[['class']]], axis = 1)\n",
    "finalDf"
   ]
  },
  {
   "cell_type": "code",
   "execution_count": 10,
   "metadata": {},
   "outputs": [
    {
     "name": "stdout",
     "output_type": "stream",
     "text": [
      "<class 'int'>\n"
     ]
    },
    {
     "data": {
      "text/plain": [
       "principal component 1    float64\n",
       "principal component 2    float64\n",
       "class                      int64\n",
       "dtype: object"
      ]
     },
     "execution_count": 10,
     "metadata": {},
     "output_type": "execute_result"
    }
   ],
   "source": [
    "import matplotlib.pyplot as plt\n",
    "targets = ['0', '1']\n",
    "color = ['r', 'g']\n",
    "\n",
    "targets = ['0', '1']\n",
    "print(type(int(targets[0])))\n",
    "\n",
    "finalDf.dtypes\n",
    "\n",
    "#for target, color in zip(targets,colors):\n",
    "    #indicesToKeep = finalDf['class'] == target\n",
    "    #plt.scatter(finalDf.loc[indicesToKeep, 'principal component 1']\n",
    "     #          , finalDf.loc[indicesToKeep, 'principal component 2']\n",
    "      #         , c = color\n",
    "       #        , s = 50)"
   ]
  },
  {
   "cell_type": "code",
   "execution_count": 11,
   "metadata": {},
   "outputs": [
    {
     "data": {
      "image/png": "[encoded data removed]",
      "text/plain": [
       "<Figure size 1440x72 with 1 Axes>"
      ]
     },
     "metadata": {
      "needs_background": "light"
     },
     "output_type": "display_data"
    }
   ],
   "source": [
    "import matplotlib.pyplot as plt\n",
    "plt.figure(figsize = (20,1))\n",
    "\n",
    "for i in range(0,len(finalDf)):\n",
    "    if finalDf.iloc[i]['class'] == 0:\n",
    "        plt.plot(finalDf.iloc[i]['principal component 1'],0,'x',c = 'g')\n",
    "    else:\n",
    "        plt.plot(finalDf.iloc[i]['principal component 1'],0,'o',c = 'r')\n",
    "plt.show()"
   ]
  },
  {
   "cell_type": "code",
   "execution_count": 12,
   "metadata": {},
   "outputs": [
    {
     "data": {
      "image/png": "[encoded data removed]",
      "text/plain": [
       "<Figure size 72x1440 with 1 Axes>"
      ]
     },
     "metadata": {
      "needs_background": "light"
     },
     "output_type": "display_data"
    }
   ],
   "source": [
    "plt.figure(figsize = (1,20))\n",
    "\n",
    "for i in range(0,len(finalDf)):\n",
    "    if finalDf.iloc[i]['class'] == 0:\n",
    "        plt.plot(0,finalDf.iloc[i]['principal component 2'],'x',c = 'g')\n",
    "    else:\n",
    "        plt.plot(0,finalDf.iloc[i]['principal component 2'],'o',c = 'r')\n",
    "plt.show()"
   ]
  },
  {
   "cell_type": "code",
   "execution_count": 13,
   "metadata": {
    "scrolled": true
   },
   "outputs": [
    {
     "data": {
      "image/png": "[encoded data removed]",
      "text/plain": [
       "<Figure size 576x576 with 1 Axes>"
      ]
     },
     "metadata": {
      "needs_background": "light"
     },
     "output_type": "display_data"
    }
   ],
   "source": [
    "\n",
    "fig = plt.figure(figsize = (8,8))\n",
    "ax = fig.add_subplot(1,1,1) \n",
    "ax.set_xlabel('Principal Component 1', fontsize = 15)\n",
    "ax.set_ylabel('Principal Component 2', fontsize = 15)\n",
    "ax.set_title('2 component PCA', fontsize = 20)\n",
    "targets = ['0', '1']\n",
    "colors = ['g', 'r']\n",
    "for target, color in zip(targets,colors):\n",
    "    indicesToKeep = finalDf['class'] == int(target)\n",
    "    ax.scatter(finalDf.loc[indicesToKeep, 'principal component 1']\n",
    "               , finalDf.loc[indicesToKeep, 'principal component 2']\n",
    "               , c = color\n",
    "               , s = 50)\n",
    "ax.legend(targets)\n",
    "ax.grid()"
   ]
  }
 ],
 "metadata": {
  "kernelspec": {
   "display_name": "Python 3",
   "language": "python",
   "name": "python3"
  },
  "language_info": {
   "codemirror_mode": {
    "name": "ipython",
    "version": 3
   },
   "file_extension": ".py",
   "mimetype": "text/x-python",
   "name": "python",
   "nbconvert_exporter": "python",
   "pygments_lexer": "ipython3",
   "version": "3.7.1"
  }
 },
 "nbformat": 4,
 "nbformat_minor": 2
}
