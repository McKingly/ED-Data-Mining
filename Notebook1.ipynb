{
 "cells": [
  {
   "cell_type": "markdown",
   "metadata": {},
   "source": [
    "# Notebook 1\n",
    "## Exploração de Dados 2018/2019 \n",
    "### Nelson Costa 42983\n",
    "### Armando Sousa 76498"
   ]
  },
  {
   "cell_type": "markdown",
   "metadata": {},
   "source": [
    "## Index\n",
    "- [Task A - Pre Processing](#Task-A---Pre-Processing)\n",
    " - [Checking missing values](#Checking-if-datasets-have-missing-values)\n",
    " - [Handling categorical data](#Handling-categorical-data)\n",
    " - [Encoding class labels](#Encoding-class-labels)\n",
    " - [Partitioning datasets](#Partitioning-datasets-in-training-and-test-sets)\n",
    " - [Rank features](#Rank-features)\n",
    "   - [Univariate Feature Selection](#1.-Univariate-Feature-Selection)\n",
    "     - [1. Mutual Info Classif](#1.-Mutual-Info-Classif)\n",
    "     - [2. Chi-squared](#2.-Chi-squared)\n",
    " - [Dimension reduction](#Dimension-reduction)\n",
    "   - [Principal Component Analysis - Banknotes](#PCA---Banknotes-dataset)\n",
    "   - [Kernel PCA - Banknotes](#KPCA---Banknotes-dataset)\n",
    "   - [Principal Component Analysis - Nursery](#PCA---Nursery-dataset)\n",
    "   - [Kernel PCA - Nursery](#KPCA---Nursery-dataset)\n",
    "- [Task B - Predictive Model](#Task-B---Predictive-Model)\n",
    " - [Multilayer Perceptron - Banknotes dataset](#MLP---Banknotes-dataset)\n",
    " - [Support Vector Machine - Banknotes dataset](#SVM---Banknotes-dataset)\n",
    " - [Multilayer Perceptron - Nursery dataset](#MLP---Nursery-dataset)\n",
    " - [Support Vector Machine - Nursery dataset](#SVM---Nursery-dataset)"
   ]
  },
  {
   "cell_type": "code",
   "execution_count": 1,
   "metadata": {},
   "outputs": [],
   "source": [
    "import pandas as pd\n",
    "import numpy as np\n",
    "import xlrd\n",
    "import copy\n",
    "%matplotlib inline"
   ]
  },
  {
   "cell_type": "code",
   "execution_count": 2,
   "metadata": {},
   "outputs": [],
   "source": [
    "#Disable warning\n",
    "import warnings\n",
    "warnings.filterwarnings(\"ignore\", category=FutureWarning)\n",
    "warnings.filterwarnings(\"ignore\", category=DeprecationWarning)"
   ]
  },
  {
   "cell_type": "markdown",
   "metadata": {},
   "source": [
    "## Reading datasets\n",
    "Notebook 1 is divided into 3 parts: Pre processing and predictive model. The datasets used are 'Banknote Authentication Data Set' \n",
    "(https://archive.ics.uci.edu/ml/datasets/banknote+authentication) and 'Nursery Data Set' (https://archive.ics.uci.edu/ml/datasets/Nursery)."
   ]
  },
  {
   "cell_type": "markdown",
   "metadata": {},
   "source": [
    "### Banknotes dataset"
   ]
  },
  {
   "cell_type": "code",
   "execution_count": 3,
   "metadata": {},
   "outputs": [],
   "source": [
    "df_bankNotes = pd.read_excel('./data_banknote_authentication.xlsx')\n",
    "#df_bankNotes"
   ]
  },
  {
   "cell_type": "markdown",
   "metadata": {},
   "source": [
    "### Nursery dataset"
   ]
  },
  {
   "cell_type": "code",
   "execution_count": 4,
   "metadata": {},
   "outputs": [],
   "source": [
    "df_nursery = pd.read_excel('./nursery.xlsx')\n",
    "#df_nursery"
   ]
  },
  {
   "cell_type": "markdown",
   "metadata": {},
   "source": [
    "# Task A - Pre Processing"
   ]
  },
  {
   "cell_type": "markdown",
   "metadata": {},
   "source": [
    "## Checking if datasets have missing values\n",
    "\n",
    "In this case none of the datasets have missing values,"
   ]
  },
  {
   "cell_type": "markdown",
   "metadata": {},
   "source": [
    "### Banknotes dataset"
   ]
  },
  {
   "cell_type": "code",
   "execution_count": 5,
   "metadata": {},
   "outputs": [
    {
     "data": {
      "text/plain": [
       "variance of Wavelet Transformed image    0\n",
       "skewness of Wavelet Transformed image    0\n",
       "curtosis of Wavelet Transformed image    0\n",
       "entropy of image                         0\n",
       "class                                    0\n",
       "dtype: int64"
      ]
     },
     "execution_count": 5,
     "metadata": {},
     "output_type": "execute_result"
    }
   ],
   "source": [
    "df_bankNotes.isnull().sum()"
   ]
  },
  {
   "cell_type": "markdown",
   "metadata": {},
   "source": [
    "### Nursery dataset"
   ]
  },
  {
   "cell_type": "code",
   "execution_count": 6,
   "metadata": {},
   "outputs": [
    {
     "data": {
      "text/plain": [
       "parents     0\n",
       "has_nurs    0\n",
       "form        0\n",
       "children    0\n",
       "housing     0\n",
       "finance     0\n",
       "social      0\n",
       "health      0\n",
       "class       0\n",
       "dtype: int64"
      ]
     },
     "execution_count": 6,
     "metadata": {},
     "output_type": "execute_result"
    }
   ],
   "source": [
    "df_nursery.isnull().sum()"
   ]
  },
  {
   "cell_type": "markdown",
   "metadata": {},
   "source": [
    "## Handling categorical data"
   ]
  },
  {
   "cell_type": "markdown",
   "metadata": {},
   "source": [
    "### Mapping ordinal features"
   ]
  },
  {
   "cell_type": "markdown",
   "metadata": {},
   "source": [
    "#### Nursery dataset"
   ]
  },
  {
   "cell_type": "code",
   "execution_count": 7,
   "metadata": {},
   "outputs": [],
   "source": [
    "# print features before mapping\n",
    "#df_nursery[df_nursery.columns[0:8]]"
   ]
  },
  {
   "cell_type": "code",
   "execution_count": 8,
   "metadata": {
    "scrolled": true
   },
   "outputs": [],
   "source": [
    "# get dataset copy\n",
    "df_nursery_copy = df_nursery.copy()\n",
    "\n",
    "# cast data to string\n",
    "df_nursery_copy = df_nursery_copy.astype(str)\n",
    "\n",
    "# map features\n",
    "parents_mapping = {'usual':1, 'pretentious':2, 'great_pret':3}\n",
    "df_nursery_copy['parents'] = df_nursery_copy['parents'].map(parents_mapping)\n",
    "\n",
    "has_nurs_mapping = {'proper':1, 'less_proper':2, 'improper':3, 'critical':4, 'very_crit':5}\n",
    "df_nursery_copy['has_nurs'] = df_nursery_copy['has_nurs'].map(has_nurs_mapping)\n",
    "\n",
    "form_mapping = {'complete':1, 'completed':2, 'incomplete':3, 'foster':4}\n",
    "df_nursery_copy['form'] = df_nursery_copy['form'].map(form_mapping)\n",
    "\n",
    "children_mapping = {'1':1, '2':2, '3':3, 'more':4}\n",
    "df_nursery_copy['children'] = df_nursery_copy['children'].map(children_mapping)\n",
    "\n",
    "housing_mapping = {'convenient':1, 'less_conv':2, 'critical':3}\n",
    "df_nursery_copy['housing'] = df_nursery_copy['housing'].map(housing_mapping)\n",
    "\n",
    "finance_mapping = {'convenient':1, 'inconv':2}\n",
    "df_nursery_copy['finance'] = df_nursery_copy['finance'].map(finance_mapping)\n",
    "\n",
    "social_mapping = {'nonprob':1, 'slightly_prob':2, 'problematic':3}\n",
    "df_nursery_copy['social'] = df_nursery_copy['social'].map(social_mapping)\n",
    "\n",
    "health_mapping = {'recommended':1, 'priority':2, 'not_recom':3}\n",
    "df_nursery_copy['health'] = df_nursery_copy['health'].map(health_mapping)"
   ]
  },
  {
   "cell_type": "code",
   "execution_count": 9,
   "metadata": {},
   "outputs": [
    {
     "data": {
      "text/html": [
       "<div>\n",
       "<style scoped>\n",
       "    .dataframe tbody tr th:only-of-type {\n",
       "        vertical-align: middle;\n",
       "    }\n",
       "\n",
       "    .dataframe tbody tr th {\n",
       "        vertical-align: top;\n",
       "    }\n",
       "\n",
       "    .dataframe thead th {\n",
       "        text-align: right;\n",
       "    }\n",
       "</style>\n",
       "<table border=\"1\" class=\"dataframe\">\n",
       "  <thead>\n",
       "    <tr style=\"text-align: right;\">\n",
       "      <th></th>\n",
       "      <th>parents</th>\n",
       "      <th>has_nurs</th>\n",
       "      <th>form</th>\n",
       "      <th>children</th>\n",
       "      <th>housing</th>\n",
       "      <th>finance</th>\n",
       "      <th>social</th>\n",
       "      <th>health</th>\n",
       "    </tr>\n",
       "  </thead>\n",
       "  <tbody>\n",
       "    <tr>\n",
       "      <th>0</th>\n",
       "      <td>1</td>\n",
       "      <td>1</td>\n",
       "      <td>1</td>\n",
       "      <td>1</td>\n",
       "      <td>1</td>\n",
       "      <td>1</td>\n",
       "      <td>1</td>\n",
       "      <td>1</td>\n",
       "    </tr>\n",
       "    <tr>\n",
       "      <th>1</th>\n",
       "      <td>1</td>\n",
       "      <td>1</td>\n",
       "      <td>1</td>\n",
       "      <td>1</td>\n",
       "      <td>1</td>\n",
       "      <td>1</td>\n",
       "      <td>1</td>\n",
       "      <td>2</td>\n",
       "    </tr>\n",
       "    <tr>\n",
       "      <th>2</th>\n",
       "      <td>1</td>\n",
       "      <td>1</td>\n",
       "      <td>1</td>\n",
       "      <td>1</td>\n",
       "      <td>1</td>\n",
       "      <td>1</td>\n",
       "      <td>1</td>\n",
       "      <td>3</td>\n",
       "    </tr>\n",
       "    <tr>\n",
       "      <th>3</th>\n",
       "      <td>1</td>\n",
       "      <td>1</td>\n",
       "      <td>1</td>\n",
       "      <td>1</td>\n",
       "      <td>1</td>\n",
       "      <td>1</td>\n",
       "      <td>2</td>\n",
       "      <td>1</td>\n",
       "    </tr>\n",
       "    <tr>\n",
       "      <th>4</th>\n",
       "      <td>1</td>\n",
       "      <td>1</td>\n",
       "      <td>1</td>\n",
       "      <td>1</td>\n",
       "      <td>1</td>\n",
       "      <td>1</td>\n",
       "      <td>2</td>\n",
       "      <td>2</td>\n",
       "    </tr>\n",
       "    <tr>\n",
       "      <th>5</th>\n",
       "      <td>1</td>\n",
       "      <td>1</td>\n",
       "      <td>1</td>\n",
       "      <td>1</td>\n",
       "      <td>1</td>\n",
       "      <td>1</td>\n",
       "      <td>2</td>\n",
       "      <td>3</td>\n",
       "    </tr>\n",
       "    <tr>\n",
       "      <th>6</th>\n",
       "      <td>1</td>\n",
       "      <td>1</td>\n",
       "      <td>1</td>\n",
       "      <td>1</td>\n",
       "      <td>1</td>\n",
       "      <td>1</td>\n",
       "      <td>3</td>\n",
       "      <td>1</td>\n",
       "    </tr>\n",
       "    <tr>\n",
       "      <th>7</th>\n",
       "      <td>1</td>\n",
       "      <td>1</td>\n",
       "      <td>1</td>\n",
       "      <td>1</td>\n",
       "      <td>1</td>\n",
       "      <td>1</td>\n",
       "      <td>3</td>\n",
       "      <td>2</td>\n",
       "    </tr>\n",
       "    <tr>\n",
       "      <th>8</th>\n",
       "      <td>1</td>\n",
       "      <td>1</td>\n",
       "      <td>1</td>\n",
       "      <td>1</td>\n",
       "      <td>1</td>\n",
       "      <td>1</td>\n",
       "      <td>3</td>\n",
       "      <td>3</td>\n",
       "    </tr>\n",
       "    <tr>\n",
       "      <th>9</th>\n",
       "      <td>1</td>\n",
       "      <td>1</td>\n",
       "      <td>1</td>\n",
       "      <td>1</td>\n",
       "      <td>1</td>\n",
       "      <td>2</td>\n",
       "      <td>1</td>\n",
       "      <td>1</td>\n",
       "    </tr>\n",
       "    <tr>\n",
       "      <th>10</th>\n",
       "      <td>1</td>\n",
       "      <td>1</td>\n",
       "      <td>1</td>\n",
       "      <td>1</td>\n",
       "      <td>1</td>\n",
       "      <td>2</td>\n",
       "      <td>1</td>\n",
       "      <td>2</td>\n",
       "    </tr>\n",
       "    <tr>\n",
       "      <th>11</th>\n",
       "      <td>1</td>\n",
       "      <td>1</td>\n",
       "      <td>1</td>\n",
       "      <td>1</td>\n",
       "      <td>1</td>\n",
       "      <td>2</td>\n",
       "      <td>1</td>\n",
       "      <td>3</td>\n",
       "    </tr>\n",
       "    <tr>\n",
       "      <th>12</th>\n",
       "      <td>1</td>\n",
       "      <td>1</td>\n",
       "      <td>1</td>\n",
       "      <td>1</td>\n",
       "      <td>1</td>\n",
       "      <td>2</td>\n",
       "      <td>2</td>\n",
       "      <td>1</td>\n",
       "    </tr>\n",
       "    <tr>\n",
       "      <th>13</th>\n",
       "      <td>1</td>\n",
       "      <td>1</td>\n",
       "      <td>1</td>\n",
       "      <td>1</td>\n",
       "      <td>1</td>\n",
       "      <td>2</td>\n",
       "      <td>2</td>\n",
       "      <td>2</td>\n",
       "    </tr>\n",
       "    <tr>\n",
       "      <th>14</th>\n",
       "      <td>1</td>\n",
       "      <td>1</td>\n",
       "      <td>1</td>\n",
       "      <td>1</td>\n",
       "      <td>1</td>\n",
       "      <td>2</td>\n",
       "      <td>2</td>\n",
       "      <td>3</td>\n",
       "    </tr>\n",
       "    <tr>\n",
       "      <th>15</th>\n",
       "      <td>1</td>\n",
       "      <td>1</td>\n",
       "      <td>1</td>\n",
       "      <td>1</td>\n",
       "      <td>1</td>\n",
       "      <td>2</td>\n",
       "      <td>3</td>\n",
       "      <td>1</td>\n",
       "    </tr>\n",
       "    <tr>\n",
       "      <th>16</th>\n",
       "      <td>1</td>\n",
       "      <td>1</td>\n",
       "      <td>1</td>\n",
       "      <td>1</td>\n",
       "      <td>1</td>\n",
       "      <td>2</td>\n",
       "      <td>3</td>\n",
       "      <td>2</td>\n",
       "    </tr>\n",
       "    <tr>\n",
       "      <th>17</th>\n",
       "      <td>1</td>\n",
       "      <td>1</td>\n",
       "      <td>1</td>\n",
       "      <td>1</td>\n",
       "      <td>1</td>\n",
       "      <td>2</td>\n",
       "      <td>3</td>\n",
       "      <td>3</td>\n",
       "    </tr>\n",
       "    <tr>\n",
       "      <th>18</th>\n",
       "      <td>1</td>\n",
       "      <td>1</td>\n",
       "      <td>1</td>\n",
       "      <td>1</td>\n",
       "      <td>2</td>\n",
       "      <td>1</td>\n",
       "      <td>1</td>\n",
       "      <td>1</td>\n",
       "    </tr>\n",
       "    <tr>\n",
       "      <th>19</th>\n",
       "      <td>1</td>\n",
       "      <td>1</td>\n",
       "      <td>1</td>\n",
       "      <td>1</td>\n",
       "      <td>2</td>\n",
       "      <td>1</td>\n",
       "      <td>1</td>\n",
       "      <td>2</td>\n",
       "    </tr>\n",
       "    <tr>\n",
       "      <th>20</th>\n",
       "      <td>1</td>\n",
       "      <td>1</td>\n",
       "      <td>1</td>\n",
       "      <td>1</td>\n",
       "      <td>2</td>\n",
       "      <td>1</td>\n",
       "      <td>1</td>\n",
       "      <td>3</td>\n",
       "    </tr>\n",
       "    <tr>\n",
       "      <th>21</th>\n",
       "      <td>1</td>\n",
       "      <td>1</td>\n",
       "      <td>1</td>\n",
       "      <td>1</td>\n",
       "      <td>2</td>\n",
       "      <td>1</td>\n",
       "      <td>2</td>\n",
       "      <td>1</td>\n",
       "    </tr>\n",
       "    <tr>\n",
       "      <th>22</th>\n",
       "      <td>1</td>\n",
       "      <td>1</td>\n",
       "      <td>1</td>\n",
       "      <td>1</td>\n",
       "      <td>2</td>\n",
       "      <td>1</td>\n",
       "      <td>2</td>\n",
       "      <td>2</td>\n",
       "    </tr>\n",
       "    <tr>\n",
       "      <th>23</th>\n",
       "      <td>1</td>\n",
       "      <td>1</td>\n",
       "      <td>1</td>\n",
       "      <td>1</td>\n",
       "      <td>2</td>\n",
       "      <td>1</td>\n",
       "      <td>2</td>\n",
       "      <td>3</td>\n",
       "    </tr>\n",
       "    <tr>\n",
       "      <th>24</th>\n",
       "      <td>1</td>\n",
       "      <td>1</td>\n",
       "      <td>1</td>\n",
       "      <td>1</td>\n",
       "      <td>2</td>\n",
       "      <td>1</td>\n",
       "      <td>3</td>\n",
       "      <td>1</td>\n",
       "    </tr>\n",
       "    <tr>\n",
       "      <th>25</th>\n",
       "      <td>1</td>\n",
       "      <td>1</td>\n",
       "      <td>1</td>\n",
       "      <td>1</td>\n",
       "      <td>2</td>\n",
       "      <td>1</td>\n",
       "      <td>3</td>\n",
       "      <td>2</td>\n",
       "    </tr>\n",
       "    <tr>\n",
       "      <th>26</th>\n",
       "      <td>1</td>\n",
       "      <td>1</td>\n",
       "      <td>1</td>\n",
       "      <td>1</td>\n",
       "      <td>2</td>\n",
       "      <td>1</td>\n",
       "      <td>3</td>\n",
       "      <td>3</td>\n",
       "    </tr>\n",
       "    <tr>\n",
       "      <th>27</th>\n",
       "      <td>1</td>\n",
       "      <td>1</td>\n",
       "      <td>1</td>\n",
       "      <td>1</td>\n",
       "      <td>2</td>\n",
       "      <td>2</td>\n",
       "      <td>1</td>\n",
       "      <td>1</td>\n",
       "    </tr>\n",
       "    <tr>\n",
       "      <th>28</th>\n",
       "      <td>1</td>\n",
       "      <td>1</td>\n",
       "      <td>1</td>\n",
       "      <td>1</td>\n",
       "      <td>2</td>\n",
       "      <td>2</td>\n",
       "      <td>1</td>\n",
       "      <td>2</td>\n",
       "    </tr>\n",
       "    <tr>\n",
       "      <th>29</th>\n",
       "      <td>1</td>\n",
       "      <td>1</td>\n",
       "      <td>1</td>\n",
       "      <td>1</td>\n",
       "      <td>2</td>\n",
       "      <td>2</td>\n",
       "      <td>1</td>\n",
       "      <td>3</td>\n",
       "    </tr>\n",
       "    <tr>\n",
       "      <th>...</th>\n",
       "      <td>...</td>\n",
       "      <td>...</td>\n",
       "      <td>...</td>\n",
       "      <td>...</td>\n",
       "      <td>...</td>\n",
       "      <td>...</td>\n",
       "      <td>...</td>\n",
       "      <td>...</td>\n",
       "    </tr>\n",
       "    <tr>\n",
       "      <th>12930</th>\n",
       "      <td>3</td>\n",
       "      <td>5</td>\n",
       "      <td>4</td>\n",
       "      <td>4</td>\n",
       "      <td>2</td>\n",
       "      <td>1</td>\n",
       "      <td>3</td>\n",
       "      <td>1</td>\n",
       "    </tr>\n",
       "    <tr>\n",
       "      <th>12931</th>\n",
       "      <td>3</td>\n",
       "      <td>5</td>\n",
       "      <td>4</td>\n",
       "      <td>4</td>\n",
       "      <td>2</td>\n",
       "      <td>1</td>\n",
       "      <td>3</td>\n",
       "      <td>2</td>\n",
       "    </tr>\n",
       "    <tr>\n",
       "      <th>12932</th>\n",
       "      <td>3</td>\n",
       "      <td>5</td>\n",
       "      <td>4</td>\n",
       "      <td>4</td>\n",
       "      <td>2</td>\n",
       "      <td>1</td>\n",
       "      <td>3</td>\n",
       "      <td>3</td>\n",
       "    </tr>\n",
       "    <tr>\n",
       "      <th>12933</th>\n",
       "      <td>3</td>\n",
       "      <td>5</td>\n",
       "      <td>4</td>\n",
       "      <td>4</td>\n",
       "      <td>2</td>\n",
       "      <td>2</td>\n",
       "      <td>1</td>\n",
       "      <td>1</td>\n",
       "    </tr>\n",
       "    <tr>\n",
       "      <th>12934</th>\n",
       "      <td>3</td>\n",
       "      <td>5</td>\n",
       "      <td>4</td>\n",
       "      <td>4</td>\n",
       "      <td>2</td>\n",
       "      <td>2</td>\n",
       "      <td>1</td>\n",
       "      <td>2</td>\n",
       "    </tr>\n",
       "    <tr>\n",
       "      <th>12935</th>\n",
       "      <td>3</td>\n",
       "      <td>5</td>\n",
       "      <td>4</td>\n",
       "      <td>4</td>\n",
       "      <td>2</td>\n",
       "      <td>2</td>\n",
       "      <td>1</td>\n",
       "      <td>3</td>\n",
       "    </tr>\n",
       "    <tr>\n",
       "      <th>12936</th>\n",
       "      <td>3</td>\n",
       "      <td>5</td>\n",
       "      <td>4</td>\n",
       "      <td>4</td>\n",
       "      <td>2</td>\n",
       "      <td>2</td>\n",
       "      <td>2</td>\n",
       "      <td>1</td>\n",
       "    </tr>\n",
       "    <tr>\n",
       "      <th>12937</th>\n",
       "      <td>3</td>\n",
       "      <td>5</td>\n",
       "      <td>4</td>\n",
       "      <td>4</td>\n",
       "      <td>2</td>\n",
       "      <td>2</td>\n",
       "      <td>2</td>\n",
       "      <td>2</td>\n",
       "    </tr>\n",
       "    <tr>\n",
       "      <th>12938</th>\n",
       "      <td>3</td>\n",
       "      <td>5</td>\n",
       "      <td>4</td>\n",
       "      <td>4</td>\n",
       "      <td>2</td>\n",
       "      <td>2</td>\n",
       "      <td>2</td>\n",
       "      <td>3</td>\n",
       "    </tr>\n",
       "    <tr>\n",
       "      <th>12939</th>\n",
       "      <td>3</td>\n",
       "      <td>5</td>\n",
       "      <td>4</td>\n",
       "      <td>4</td>\n",
       "      <td>2</td>\n",
       "      <td>2</td>\n",
       "      <td>3</td>\n",
       "      <td>1</td>\n",
       "    </tr>\n",
       "    <tr>\n",
       "      <th>12940</th>\n",
       "      <td>3</td>\n",
       "      <td>5</td>\n",
       "      <td>4</td>\n",
       "      <td>4</td>\n",
       "      <td>2</td>\n",
       "      <td>2</td>\n",
       "      <td>3</td>\n",
       "      <td>2</td>\n",
       "    </tr>\n",
       "    <tr>\n",
       "      <th>12941</th>\n",
       "      <td>3</td>\n",
       "      <td>5</td>\n",
       "      <td>4</td>\n",
       "      <td>4</td>\n",
       "      <td>2</td>\n",
       "      <td>2</td>\n",
       "      <td>3</td>\n",
       "      <td>3</td>\n",
       "    </tr>\n",
       "    <tr>\n",
       "      <th>12942</th>\n",
       "      <td>3</td>\n",
       "      <td>5</td>\n",
       "      <td>4</td>\n",
       "      <td>4</td>\n",
       "      <td>3</td>\n",
       "      <td>1</td>\n",
       "      <td>1</td>\n",
       "      <td>1</td>\n",
       "    </tr>\n",
       "    <tr>\n",
       "      <th>12943</th>\n",
       "      <td>3</td>\n",
       "      <td>5</td>\n",
       "      <td>4</td>\n",
       "      <td>4</td>\n",
       "      <td>3</td>\n",
       "      <td>1</td>\n",
       "      <td>1</td>\n",
       "      <td>2</td>\n",
       "    </tr>\n",
       "    <tr>\n",
       "      <th>12944</th>\n",
       "      <td>3</td>\n",
       "      <td>5</td>\n",
       "      <td>4</td>\n",
       "      <td>4</td>\n",
       "      <td>3</td>\n",
       "      <td>1</td>\n",
       "      <td>1</td>\n",
       "      <td>3</td>\n",
       "    </tr>\n",
       "    <tr>\n",
       "      <th>12945</th>\n",
       "      <td>3</td>\n",
       "      <td>5</td>\n",
       "      <td>4</td>\n",
       "      <td>4</td>\n",
       "      <td>3</td>\n",
       "      <td>1</td>\n",
       "      <td>2</td>\n",
       "      <td>1</td>\n",
       "    </tr>\n",
       "    <tr>\n",
       "      <th>12946</th>\n",
       "      <td>3</td>\n",
       "      <td>5</td>\n",
       "      <td>4</td>\n",
       "      <td>4</td>\n",
       "      <td>3</td>\n",
       "      <td>1</td>\n",
       "      <td>2</td>\n",
       "      <td>2</td>\n",
       "    </tr>\n",
       "    <tr>\n",
       "      <th>12947</th>\n",
       "      <td>3</td>\n",
       "      <td>5</td>\n",
       "      <td>4</td>\n",
       "      <td>4</td>\n",
       "      <td>3</td>\n",
       "      <td>1</td>\n",
       "      <td>2</td>\n",
       "      <td>3</td>\n",
       "    </tr>\n",
       "    <tr>\n",
       "      <th>12948</th>\n",
       "      <td>3</td>\n",
       "      <td>5</td>\n",
       "      <td>4</td>\n",
       "      <td>4</td>\n",
       "      <td>3</td>\n",
       "      <td>1</td>\n",
       "      <td>3</td>\n",
       "      <td>1</td>\n",
       "    </tr>\n",
       "    <tr>\n",
       "      <th>12949</th>\n",
       "      <td>3</td>\n",
       "      <td>5</td>\n",
       "      <td>4</td>\n",
       "      <td>4</td>\n",
       "      <td>3</td>\n",
       "      <td>1</td>\n",
       "      <td>3</td>\n",
       "      <td>2</td>\n",
       "    </tr>\n",
       "    <tr>\n",
       "      <th>12950</th>\n",
       "      <td>3</td>\n",
       "      <td>5</td>\n",
       "      <td>4</td>\n",
       "      <td>4</td>\n",
       "      <td>3</td>\n",
       "      <td>1</td>\n",
       "      <td>3</td>\n",
       "      <td>3</td>\n",
       "    </tr>\n",
       "    <tr>\n",
       "      <th>12951</th>\n",
       "      <td>3</td>\n",
       "      <td>5</td>\n",
       "      <td>4</td>\n",
       "      <td>4</td>\n",
       "      <td>3</td>\n",
       "      <td>2</td>\n",
       "      <td>1</td>\n",
       "      <td>1</td>\n",
       "    </tr>\n",
       "    <tr>\n",
       "      <th>12952</th>\n",
       "      <td>3</td>\n",
       "      <td>5</td>\n",
       "      <td>4</td>\n",
       "      <td>4</td>\n",
       "      <td>3</td>\n",
       "      <td>2</td>\n",
       "      <td>1</td>\n",
       "      <td>2</td>\n",
       "    </tr>\n",
       "    <tr>\n",
       "      <th>12953</th>\n",
       "      <td>3</td>\n",
       "      <td>5</td>\n",
       "      <td>4</td>\n",
       "      <td>4</td>\n",
       "      <td>3</td>\n",
       "      <td>2</td>\n",
       "      <td>1</td>\n",
       "      <td>3</td>\n",
       "    </tr>\n",
       "    <tr>\n",
       "      <th>12954</th>\n",
       "      <td>3</td>\n",
       "      <td>5</td>\n",
       "      <td>4</td>\n",
       "      <td>4</td>\n",
       "      <td>3</td>\n",
       "      <td>2</td>\n",
       "      <td>2</td>\n",
       "      <td>1</td>\n",
       "    </tr>\n",
       "    <tr>\n",
       "      <th>12955</th>\n",
       "      <td>3</td>\n",
       "      <td>5</td>\n",
       "      <td>4</td>\n",
       "      <td>4</td>\n",
       "      <td>3</td>\n",
       "      <td>2</td>\n",
       "      <td>2</td>\n",
       "      <td>2</td>\n",
       "    </tr>\n",
       "    <tr>\n",
       "      <th>12956</th>\n",
       "      <td>3</td>\n",
       "      <td>5</td>\n",
       "      <td>4</td>\n",
       "      <td>4</td>\n",
       "      <td>3</td>\n",
       "      <td>2</td>\n",
       "      <td>2</td>\n",
       "      <td>3</td>\n",
       "    </tr>\n",
       "    <tr>\n",
       "      <th>12957</th>\n",
       "      <td>3</td>\n",
       "      <td>5</td>\n",
       "      <td>4</td>\n",
       "      <td>4</td>\n",
       "      <td>3</td>\n",
       "      <td>2</td>\n",
       "      <td>3</td>\n",
       "      <td>1</td>\n",
       "    </tr>\n",
       "    <tr>\n",
       "      <th>12958</th>\n",
       "      <td>3</td>\n",
       "      <td>5</td>\n",
       "      <td>4</td>\n",
       "      <td>4</td>\n",
       "      <td>3</td>\n",
       "      <td>2</td>\n",
       "      <td>3</td>\n",
       "      <td>2</td>\n",
       "    </tr>\n",
       "    <tr>\n",
       "      <th>12959</th>\n",
       "      <td>3</td>\n",
       "      <td>5</td>\n",
       "      <td>4</td>\n",
       "      <td>4</td>\n",
       "      <td>3</td>\n",
       "      <td>2</td>\n",
       "      <td>3</td>\n",
       "      <td>3</td>\n",
       "    </tr>\n",
       "  </tbody>\n",
       "</table>\n",
       "<p>12960 rows × 8 columns</p>\n",
       "</div>"
      ],
      "text/plain": [
       "       parents  has_nurs  form  children  housing  finance  social  health\n",
       "0            1         1     1         1        1        1       1       1\n",
       "1            1         1     1         1        1        1       1       2\n",
       "2            1         1     1         1        1        1       1       3\n",
       "3            1         1     1         1        1        1       2       1\n",
       "4            1         1     1         1        1        1       2       2\n",
       "5            1         1     1         1        1        1       2       3\n",
       "6            1         1     1         1        1        1       3       1\n",
       "7            1         1     1         1        1        1       3       2\n",
       "8            1         1     1         1        1        1       3       3\n",
       "9            1         1     1         1        1        2       1       1\n",
       "10           1         1     1         1        1        2       1       2\n",
       "11           1         1     1         1        1        2       1       3\n",
       "12           1         1     1         1        1        2       2       1\n",
       "13           1         1     1         1        1        2       2       2\n",
       "14           1         1     1         1        1        2       2       3\n",
       "15           1         1     1         1        1        2       3       1\n",
       "16           1         1     1         1        1        2       3       2\n",
       "17           1         1     1         1        1        2       3       3\n",
       "18           1         1     1         1        2        1       1       1\n",
       "19           1         1     1         1        2        1       1       2\n",
       "20           1         1     1         1        2        1       1       3\n",
       "21           1         1     1         1        2        1       2       1\n",
       "22           1         1     1         1        2        1       2       2\n",
       "23           1         1     1         1        2        1       2       3\n",
       "24           1         1     1         1        2        1       3       1\n",
       "25           1         1     1         1        2        1       3       2\n",
       "26           1         1     1         1        2        1       3       3\n",
       "27           1         1     1         1        2        2       1       1\n",
       "28           1         1     1         1        2        2       1       2\n",
       "29           1         1     1         1        2        2       1       3\n",
       "...        ...       ...   ...       ...      ...      ...     ...     ...\n",
       "12930        3         5     4         4        2        1       3       1\n",
       "12931        3         5     4         4        2        1       3       2\n",
       "12932        3         5     4         4        2        1       3       3\n",
       "12933        3         5     4         4        2        2       1       1\n",
       "12934        3         5     4         4        2        2       1       2\n",
       "12935        3         5     4         4        2        2       1       3\n",
       "12936        3         5     4         4        2        2       2       1\n",
       "12937        3         5     4         4        2        2       2       2\n",
       "12938        3         5     4         4        2        2       2       3\n",
       "12939        3         5     4         4        2        2       3       1\n",
       "12940        3         5     4         4        2        2       3       2\n",
       "12941        3         5     4         4        2        2       3       3\n",
       "12942        3         5     4         4        3        1       1       1\n",
       "12943        3         5     4         4        3        1       1       2\n",
       "12944        3         5     4         4        3        1       1       3\n",
       "12945        3         5     4         4        3        1       2       1\n",
       "12946        3         5     4         4        3        1       2       2\n",
       "12947        3         5     4         4        3        1       2       3\n",
       "12948        3         5     4         4        3        1       3       1\n",
       "12949        3         5     4         4        3        1       3       2\n",
       "12950        3         5     4         4        3        1       3       3\n",
       "12951        3         5     4         4        3        2       1       1\n",
       "12952        3         5     4         4        3        2       1       2\n",
       "12953        3         5     4         4        3        2       1       3\n",
       "12954        3         5     4         4        3        2       2       1\n",
       "12955        3         5     4         4        3        2       2       2\n",
       "12956        3         5     4         4        3        2       2       3\n",
       "12957        3         5     4         4        3        2       3       1\n",
       "12958        3         5     4         4        3        2       3       2\n",
       "12959        3         5     4         4        3        2       3       3\n",
       "\n",
       "[12960 rows x 8 columns]"
      ]
     },
     "execution_count": 9,
     "metadata": {},
     "output_type": "execute_result"
    }
   ],
   "source": [
    "# print features after mapping\n",
    "df_nursery_copy[df_nursery_copy.columns[0:8]]"
   ]
  },
  {
   "cell_type": "markdown",
   "metadata": {},
   "source": [
    "## Encoding class labels"
   ]
  },
  {
   "cell_type": "markdown",
   "metadata": {},
   "source": [
    "### Nursery dataset"
   ]
  },
  {
   "cell_type": "code",
   "execution_count": 10,
   "metadata": {},
   "outputs": [],
   "source": [
    "# print labels before encoding\n",
    "#df_nursery_copy[df_nursery_copy.columns[8]]"
   ]
  },
  {
   "cell_type": "code",
   "execution_count": 11,
   "metadata": {},
   "outputs": [
    {
     "data": {
      "text/plain": [
       "{'not_recom': 0,\n",
       " 'priority': 1,\n",
       " 'recommend': 2,\n",
       " 'spec_prior': 3,\n",
       " 'very_recom': 4}"
      ]
     },
     "execution_count": 11,
     "metadata": {},
     "output_type": "execute_result"
    }
   ],
   "source": [
    "class_mapping = {label:idx for idx,label in enumerate(np.unique(df_nursery_copy[df_nursery_copy.columns[8]]))}\n",
    "\n",
    "class_mapping"
   ]
  },
  {
   "cell_type": "code",
   "execution_count": 12,
   "metadata": {},
   "outputs": [],
   "source": [
    "# map labels\n",
    "df_nursery_copy[df_nursery_copy.columns[8]] = df_nursery_copy[df_nursery_copy.columns[8]].map(class_mapping)"
   ]
  },
  {
   "cell_type": "code",
   "execution_count": 13,
   "metadata": {},
   "outputs": [
    {
     "data": {
      "text/plain": [
       "0        2\n",
       "1        1\n",
       "2        0\n",
       "3        2\n",
       "4        1\n",
       "5        0\n",
       "6        1\n",
       "7        1\n",
       "8        0\n",
       "9        4\n",
       "10       1\n",
       "11       0\n",
       "12       4\n",
       "13       1\n",
       "14       0\n",
       "15       1\n",
       "16       1\n",
       "17       0\n",
       "18       4\n",
       "19       1\n",
       "20       0\n",
       "21       4\n",
       "22       1\n",
       "23       0\n",
       "24       1\n",
       "25       1\n",
       "26       0\n",
       "27       4\n",
       "28       1\n",
       "29       0\n",
       "        ..\n",
       "12930    3\n",
       "12931    3\n",
       "12932    0\n",
       "12933    3\n",
       "12934    3\n",
       "12935    0\n",
       "12936    3\n",
       "12937    3\n",
       "12938    0\n",
       "12939    3\n",
       "12940    3\n",
       "12941    0\n",
       "12942    3\n",
       "12943    3\n",
       "12944    0\n",
       "12945    3\n",
       "12946    3\n",
       "12947    0\n",
       "12948    3\n",
       "12949    3\n",
       "12950    0\n",
       "12951    3\n",
       "12952    3\n",
       "12953    0\n",
       "12954    3\n",
       "12955    3\n",
       "12956    0\n",
       "12957    3\n",
       "12958    3\n",
       "12959    0\n",
       "Name: class, Length: 12960, dtype: int64"
      ]
     },
     "execution_count": 13,
     "metadata": {},
     "output_type": "execute_result"
    }
   ],
   "source": [
    "# print labels after encoding\n",
    "df_nursery_copy[df_nursery_copy.columns[8]]"
   ]
  },
  {
   "cell_type": "markdown",
   "metadata": {},
   "source": [
    "## Partitioning datasets in training and test sets"
   ]
  },
  {
   "cell_type": "code",
   "execution_count": 14,
   "metadata": {},
   "outputs": [],
   "source": [
    "# Added version check for recent scikit-learn 0.18 checks\n",
    "from distutils.version import LooseVersion as Version\n",
    "from sklearn import __version__ as sklearn_version\n",
    "\n",
    "if Version(sklearn_version) < '0.18':\n",
    "    from sklearn.cross_validation import train_test_split\n",
    "else:\n",
    "    from sklearn.model_selection import train_test_split"
   ]
  },
  {
   "cell_type": "markdown",
   "metadata": {},
   "source": [
    "### Banknotes dataset"
   ]
  },
  {
   "cell_type": "code",
   "execution_count": 15,
   "metadata": {},
   "outputs": [],
   "source": [
    "# labels reading\n",
    "y1=df_bankNotes[df_bankNotes.columns[4]]\n",
    "# features reading\n",
    "X1=df_bankNotes[df_bankNotes.columns[0:4]]\n",
    "\n",
    "# get training and test sets\n",
    "X_train1,X_test1,y_train1,y_test1 = train_test_split(X1,y1,test_size = 0.3)"
   ]
  },
  {
   "cell_type": "markdown",
   "metadata": {},
   "source": [
    "### Nursery dataset"
   ]
  },
  {
   "cell_type": "code",
   "execution_count": 16,
   "metadata": {},
   "outputs": [],
   "source": [
    "# labels reading\n",
    "y2=df_nursery_copy[df_nursery_copy.columns[8]]\n",
    "# features reading\n",
    "X2=df_nursery_copy[df_nursery_copy.columns[0:8]]\n",
    "\n",
    "# get training and test sets\n",
    "X_train2,X_test2,y_train2,y_test2 = train_test_split(X2,y2,test_size = 0.3)"
   ]
  },
  {
   "cell_type": "markdown",
   "metadata": {},
   "source": [
    "## Rank features"
   ]
  },
  {
   "cell_type": "markdown",
   "metadata": {},
   "source": [
    "### Univariate Feature Selection\n",
    "\n",
    "Univariate feature selection selects the best features by running univariate statistical tests like **chi-squared test, F-1 test, and mutual information** methods.\n",
    "Can't use the **chi-squared** function, if there are negative values.\n",
    "#### 1. Mutual Info Classif"
   ]
  },
  {
   "cell_type": "code",
   "execution_count": 17,
   "metadata": {},
   "outputs": [
    {
     "data": {
      "text/plain": [
       "SelectKBest(k=2, score_func=<function mutual_info_classif at 0x7f3162a480d0>)"
      ]
     },
     "execution_count": 17,
     "metadata": {},
     "output_type": "execute_result"
    }
   ],
   "source": [
    "from sklearn.feature_selection import SelectKBest\n",
    "from sklearn.feature_selection import chi2, mutual_info_classif\n",
    "\n",
    "test = SelectKBest(score_func = mutual_info_classif, k=2)\n",
    "test"
   ]
  },
  {
   "cell_type": "markdown",
   "metadata": {},
   "source": [
    "##### Banknotes dataset"
   ]
  },
  {
   "cell_type": "code",
   "execution_count": 18,
   "metadata": {},
   "outputs": [
    {
     "name": "stdout",
     "output_type": "stream",
     "text": [
      "[(0.3651135027748482, 'variance of Wavelet Transformed image'), (0.23575549040416321, 'skewness of Wavelet Transformed image'), (0.12651335887606008, 'curtosis of Wavelet Transformed image'), (0.01604477828245643, 'entropy of image')]\n"
     ]
    }
   ],
   "source": [
    "test.fit(X_train1, y_train1)\n",
    "num_features = len(X_train1.columns)\n",
    "\n",
    "scores = []\n",
    "for i in range(num_features):\n",
    "    score = test.scores_[i]\n",
    "    scores.append((score, X_train1.columns[i]))\n",
    "        \n",
    "print (sorted(scores, reverse = True))"
   ]
  },
  {
   "cell_type": "markdown",
   "metadata": {},
   "source": [
    "##### Nursery dataset"
   ]
  },
  {
   "cell_type": "code",
   "execution_count": 19,
   "metadata": {},
   "outputs": [
    {
     "name": "stdout",
     "output_type": "stream",
     "text": [
      "[(0.6671626913475868, 'health'), (0.15002428064610718, 'has_nurs'), (0.049082432264722975, 'parents'), (0.019430268361006142, 'social'), (0.01479428914029901, 'housing'), (0.008336981751714045, 'form'), (0.008329247089529979, 'finance'), (0.0049258133024050466, 'children')]\n"
     ]
    }
   ],
   "source": [
    "test.fit(X_train2, y_train2)\n",
    "num_features = len(X_train2.columns)\n",
    "\n",
    "scores = []\n",
    "for i in range(num_features):\n",
    "    score = test.scores_[i]\n",
    "    scores.append((score, X_train2.columns[i]))\n",
    "        \n",
    "print (sorted(scores, reverse = True))"
   ]
  },
  {
   "cell_type": "markdown",
   "metadata": {},
   "source": [
    "#### 2. Chi-squared"
   ]
  },
  {
   "cell_type": "code",
   "execution_count": 20,
   "metadata": {},
   "outputs": [],
   "source": [
    "from sklearn.feature_selection import chi2\n",
    "test = SelectKBest(score_func = chi2, k=2)"
   ]
  },
  {
   "cell_type": "markdown",
   "metadata": {},
   "source": [
    "##### Nursery dataset"
   ]
  },
  {
   "cell_type": "code",
   "execution_count": 21,
   "metadata": {},
   "outputs": [
    {
     "name": "stdout",
     "output_type": "stream",
     "text": [
      "[(2330.18746786419, 'health'), (1411.86832073306, 'has_nurs'), (277.77034581620404, 'parents'), (77.60311192178953, 'housing'), (65.42916585994789, 'children'), (54.447857258526255, 'social'), (31.315428926512134, 'form'), (8.674972717871512, 'finance')]\n"
     ]
    }
   ],
   "source": [
    "test.fit(X_train2, y_train2)\n",
    "num_features = len(X_train2.columns)\n",
    "\n",
    "scores = []\n",
    "for i in range(num_features):\n",
    "    score = test.scores_[i]\n",
    "    scores.append((score, X_train2.columns[i]))\n",
    "        \n",
    "print (sorted(scores, reverse = True))"
   ]
  },
  {
   "cell_type": "markdown",
   "metadata": {},
   "source": [
    "## Dimension reduction\n",
    "### PCA - Banknotes dataset\n",
    "\n",
    "Check to see the overall weight of each principal component has on the variance of values."
   ]
  },
  {
   "cell_type": "code",
   "execution_count": 22,
   "metadata": {},
   "outputs": [
    {
     "name": "stdout",
     "output_type": "stream",
     "text": [
      "Explained variance ratio: [0.76650539 0.1412553  0.06298564 0.02925368]\n"
     ]
    },
    {
     "data": {
      "image/png": "[encoded data removed]",
      "text/plain": [
       "<Figure size 432x288 with 1 Axes>"
      ]
     },
     "metadata": {
      "needs_background": "light"
     },
     "output_type": "display_data"
    }
   ],
   "source": [
    "import matplotlib.pyplot as plt\n",
    "from sklearn.decomposition import PCA\n",
    "\n",
    "pca = PCA()\n",
    "principalComponents = pca.fit_transform(X_train1)\n",
    "\n",
    "print(\"Explained variance ratio:\",pca.explained_variance_ratio_)\n",
    "range_value = pca.explained_variance_ratio_.shape[0]\n",
    "\n",
    "plt.bar(range(range_value), pca.explained_variance_ratio_, alpha=0.5, align='center')\n",
    "plt.step(range(range_value), np.cumsum(pca.explained_variance_ratio_), where='mid')\n",
    "plt.ylabel('Explained variance ratio')\n",
    "plt.xlabel('Principal components')\n",
    "plt.show()"
   ]
  },
  {
   "cell_type": "code",
   "execution_count": 23,
   "metadata": {},
   "outputs": [
    {
     "name": "stdout",
     "output_type": "stream",
     "text": [
      "eigenvectors\n",
      " [[-0.13990472 -0.81245605  0.54669634  0.14650921]\n",
      " [-0.78690389  0.26645552  0.31717771 -0.45736421]\n",
      " [ 0.45600508  0.44257498  0.77208222  0.00870563]\n",
      " [ 0.39149495 -0.27026657 -0.06641119 -0.87708451]]\n",
      "singular_ values\n",
      " [222.008877    95.30487265  63.64048863  43.37135357]\n"
     ]
    }
   ],
   "source": [
    "# The eigenvectors\n",
    "print('eigenvectors\\n', pca.components_)\n",
    "# singular values\n",
    "print('singular_ values\\n', pca.singular_values_)"
   ]
  },
  {
   "cell_type": "markdown",
   "metadata": {},
   "source": [
    "Drawing graph using first 2 components."
   ]
  },
  {
   "cell_type": "code",
   "execution_count": 24,
   "metadata": {},
   "outputs": [
    {
     "data": {
      "image/png": "[encoded data removed]",
      "text/plain": [
       "<Figure size 1440x1440 with 1 Axes>"
      ]
     },
     "metadata": {
      "needs_background": "light"
     },
     "output_type": "display_data"
    }
   ],
   "source": [
    "pca = PCA(n_components=2)\n",
    "X_train_pca1 = pca.fit_transform(X_train1)\n",
    "\n",
    "fig = plt.figure(figsize=(20, 20))\n",
    "ax = fig.add_subplot(2,2,1) \n",
    "\n",
    "ax.scatter(X_train_pca1[y_train1 == 0, 0], X_train_pca1[y_train1 == 0, 1],\n",
    "              color='red', marker='^', alpha=0.5)\n",
    "ax.scatter(X_train_pca1[y_train1 == 1, 0], X_train_pca1[y_train1 == 1, 1],\n",
    "              color='blue', marker='o', alpha=0.5)\n",
    "\n",
    "ax.set_xlabel('PC1')\n",
    "ax.set_ylabel('PC2')\n",
    "\n",
    "ax.grid()\n",
    "plt.show()"
   ]
  },
  {
   "cell_type": "markdown",
   "metadata": {},
   "source": [
    "### KPCA - Banknotes dataset"
   ]
  },
  {
   "cell_type": "code",
   "execution_count": 25,
   "metadata": {},
   "outputs": [
    {
     "data": {
      "image/png": "[encoded data removed]",
      "text/plain": [
       "<Figure size 1440x1440 with 1 Axes>"
      ]
     },
     "metadata": {
      "needs_background": "light"
     },
     "output_type": "display_data"
    }
   ],
   "source": [
    "from sklearn.decomposition import KernelPCA\n",
    "\n",
    "kpca = KernelPCA( n_components = 2, kernel=\"rbf\", fit_inverse_transform=True, gamma=10)\n",
    "X_train_kpca1 = kpca.fit_transform(X_train1)\n",
    "fig = plt.figure(figsize=(20, 20))\n",
    "\n",
    "plt.subplot(2, 2, 1, aspect='equal')\n",
    "\n",
    "plt.scatter(X_train_kpca1[y_train1 == 0, 0], X_train_kpca1[y_train1 == 0, 1], c=\"red\",\n",
    "            marker='^', alpha=0.5)\n",
    "plt.scatter(X_train_kpca1[y_train1 == 1, 0], X_train_kpca1[y_train1 == 1, 1], c=\"blue\",\n",
    "            marker='o', alpha=0.5)\n",
    "plt.title(\"Projection by KPCA - RBF\")\n",
    "plt.xlabel(\"1st principal component in space induced by $\\phi$\")\n",
    "plt.ylabel(\"2nd component\")\n",
    "plt.grid()\n",
    "plt.show()"
   ]
  },
  {
   "cell_type": "markdown",
   "metadata": {},
   "source": [
    "### PCA - Nursery dataset\n",
    "Unlike with the first dataset, the principal components here are much similar."
   ]
  },
  {
   "cell_type": "code",
   "execution_count": 26,
   "metadata": {},
   "outputs": [
    {
     "name": "stdout",
     "output_type": "stream",
     "text": [
      "Explained variance ratio: [0.26999765 0.1687268  0.16783652 0.09156663 0.09001125 0.08938557\n",
      " 0.08874903 0.03372655]\n"
     ]
    },
    {
     "data": {
      "image/png": "[encoded data removed]",
      "text/plain": [
       "<Figure size 432x288 with 1 Axes>"
      ]
     },
     "metadata": {
      "needs_background": "light"
     },
     "output_type": "display_data"
    }
   ],
   "source": [
    "pca = PCA()\n",
    "principalComponents = pca.fit_transform(X_train2)\n",
    "\n",
    "print(\"Explained variance ratio:\",pca.explained_variance_ratio_)\n",
    "range_value = pca.explained_variance_ratio_.shape[0]\n",
    "\n",
    "plt.bar(range(range_value), pca.explained_variance_ratio_, alpha=0.5, align='center')\n",
    "plt.step(range(range_value), np.cumsum(pca.explained_variance_ratio_), where='mid')\n",
    "plt.ylabel('Explained variance ratio')\n",
    "plt.xlabel('Principal components')\n",
    "plt.show()"
   ]
  },
  {
   "cell_type": "code",
   "execution_count": 27,
   "metadata": {},
   "outputs": [
    {
     "name": "stdout",
     "output_type": "stream",
     "text": [
      "eigenvectors\n",
      " [[-9.47934855e-04  9.99987031e-01 -4.69267657e-04  3.15527592e-03\n",
      "   2.19444550e-03 -1.12106606e-03  1.73251965e-03 -2.40617464e-03]\n",
      " [ 1.89466735e-02 -2.46758684e-03  4.68891697e-01  8.82783530e-01\n",
      "  -1.41258805e-02  2.15045191e-04 -9.84467705e-03  1.31242379e-02]\n",
      " [-3.78226021e-03  1.87240217e-03  8.83135924e-01 -4.68854330e-01\n",
      "   1.34920347e-02 -2.89003610e-04 -6.82737577e-03  1.13992559e-04]\n",
      " [ 4.12171541e-01 -2.90528484e-03  7.30183278e-04  1.25106793e-02\n",
      "   6.20405745e-01  2.30800003e-03  2.21596985e-01 -6.29233892e-01]\n",
      " [-5.72602922e-01 -2.17018459e-03  1.06162531e-02  1.71697453e-02\n",
      "   1.48186704e-01  7.86780525e-03  8.04181445e-01  5.46322414e-02]\n",
      " [ 1.18211569e-01  4.83622346e-04 -9.70306032e-03  1.85070171e-03\n",
      "   6.80872099e-01 -4.55751871e-03 -8.98764082e-02  7.17107287e-01]\n",
      " [-6.98438277e-01 -1.27327421e-03 -1.97653752e-03  2.00943796e-02\n",
      "   3.59389314e-01  6.65751874e-03 -5.44012446e-01 -2.94312958e-01]\n",
      " [-8.73680764e-03 -1.15666158e-03 -3.75980808e-05  6.11149495e-04\n",
      "   1.87808287e-03 -9.99933143e-01  3.62458534e-03 -6.24499060e-03]]\n",
      "singular_ values\n",
      " [134.72987866 106.50646044 106.22510316  78.46076332  77.79153211\n",
      "  77.52068959  77.24417378  47.61786029]\n"
     ]
    }
   ],
   "source": [
    "# The eigenvectors\n",
    "print('eigenvectors\\n', pca.components_)\n",
    "# singular values\n",
    "print('singular_ values\\n', pca.singular_values_)"
   ]
  },
  {
   "cell_type": "markdown",
   "metadata": {},
   "source": [
    "Drawing a graph with the first 2 PCs doesn't show us much variance. There are a lot of points stacked on top of each other."
   ]
  },
  {
   "cell_type": "code",
   "execution_count": 28,
   "metadata": {},
   "outputs": [
    {
     "data": {
      "image/png": "[encoded data removed]",
      "text/plain": [
       "<Figure size 1440x1440 with 1 Axes>"
      ]
     },
     "metadata": {
      "needs_background": "light"
     },
     "output_type": "display_data"
    }
   ],
   "source": [
    "# Only two components for illustration\n",
    "pca = PCA(n_components=7)\n",
    "X_train_pca2 = pca.fit_transform(X_train2)\n",
    "\n",
    "X_train2_v1 = pd.DataFrame(data=X_train_pca2)\n",
    "\n",
    "fig= plt.figure(figsize=(20, 20))\n",
    "\n",
    "plt.subplot(2, 2, 1, aspect='equal')\n",
    "\n",
    "plt.scatter(X_train_pca2[y_train2 == 0, 0], X_train_pca2[y_train2 == 0, 1], c=\"red\",\n",
    "            marker='^', alpha=0.5)\n",
    "plt.scatter(X_train_pca2[y_train2 == 1, 0], X_train_pca2[y_train2 == 1, 1], c=\"green\",\n",
    "            marker='o', alpha=0.5)\n",
    "plt.scatter(X_train_pca2[y_train2 == 2, 0], X_train_pca2[y_train2 == 2, 1], c=\"cyan\",\n",
    "            marker='x', alpha=0.5)\n",
    "plt.scatter(X_train_pca2[y_train2 == 3, 0], X_train_pca2[y_train2 == 3, 1], c=\"blue\",\n",
    "            marker='s', alpha=0.5)\n",
    "plt.scatter(X_train_pca2[y_train2 == 4, 0], X_train_pca2[y_train2 == 4, 1], c=\"yellow\",\n",
    "            marker='*', alpha=0.5)\n",
    "plt.title(\"Projection by KPCA\")\n",
    "plt.xlabel(\"1st principal component in space induced by $\\phi$\")\n",
    "plt.ylabel(\"2nd component\")\n",
    "plt.grid()\n",
    "plt.show()"
   ]
  },
  {
   "cell_type": "markdown",
   "metadata": {},
   "source": [
    "### KPCA - Nursery dataset"
   ]
  },
  {
   "cell_type": "code",
   "execution_count": 29,
   "metadata": {},
   "outputs": [
    {
     "data": {
      "image/png": "[encoded data removed]",
      "text/plain": [
       "<Figure size 1440x1440 with 1 Axes>"
      ]
     },
     "metadata": {
      "needs_background": "light"
     },
     "output_type": "display_data"
    }
   ],
   "source": [
    "from sklearn.decomposition import KernelPCA\n",
    "\n",
    "kpca = KernelPCA(n_components = 2 ,kernel=\"rbf\", fit_inverse_transform=True, gamma=10)\n",
    "X_train_kpca2 = kpca.fit_transform(X_train2)\n",
    "\n",
    "fig= plt.figure(figsize=(20, 20))\n",
    "\n",
    "plt.subplot(2, 2, 1, aspect='equal')\n",
    "\n",
    "plt.scatter(X_train_kpca2[y_train2 == 0, 0], X_train_kpca2[y_train2 == 0, 1], c=\"red\",\n",
    "            marker='^', alpha=0.5)\n",
    "plt.scatter(X_train_kpca2[y_train2 == 1, 0], X_train_kpca2[y_train2 == 1, 1], c=\"green\",\n",
    "            marker='o', alpha=0.5)\n",
    "plt.scatter(X_train_kpca2[y_train2 == 2, 0], X_train_kpca2[y_train2 == 2, 1], c=\"cyan\",\n",
    "            marker='x', alpha=0.5)\n",
    "plt.scatter(X_train_kpca2[y_train2 == 3, 0], X_train_kpca2[y_train2 == 3, 1], c=\"blue\",\n",
    "            marker='s', alpha=0.5)\n",
    "plt.scatter(X_train_kpca2[y_train2 == 4, 0], X_train_kpca2[y_train2 == 4, 1], c=\"yellow\",\n",
    "            marker='*', alpha=0.5)\n",
    "plt.title(\"Projection by KPCA\")\n",
    "plt.xlabel(\"1st principal component in space induced by $\\phi$\")\n",
    "plt.ylabel(\"2nd component\")\n",
    "plt.grid()\n",
    "plt.show()\n"
   ]
  },
  {
   "cell_type": "markdown",
   "metadata": {},
   "source": [
    "## Task B - Predictive Model"
   ]
  },
  {
   "cell_type": "markdown",
   "metadata": {},
   "source": [
    "The models chosen were MLP and SVM."
   ]
  },
  {
   "cell_type": "code",
   "execution_count": 30,
   "metadata": {},
   "outputs": [],
   "source": [
    "from matplotlib.colors import ListedColormap\n",
    "\n",
    "def plot_decision_regions(X, y, classifier, resolution=0.02):\n",
    "# setup marker generator and color map\n",
    "    markers = ('s', 'x', 'o', '^', 'v')\n",
    "    colors = ('red', 'blue', 'lightgreen', 'gray', 'cyan')\n",
    "    cmap = ListedColormap(colors[:len(np.unique(y))])\n",
    "    #plot the decision surface\n",
    "    x1_min, x1_max = X[:, 0].min() - 1, X[:, 0].max() + 1\n",
    "    x2_min, x2_max = X[:, 1].min() - 1, X[:, 1].max() + 1\n",
    "    xx1, xx2 = np.meshgrid(np.arange(x1_min, x1_max, resolution),\n",
    "    np.arange(x2_min, x2_max, resolution))\n",
    "\n",
    "    Z = classifier.predict(np.array([xx1.ravel(), xx2.ravel()]).T)\n",
    "    Z = Z.reshape(xx1.shape)\n",
    "    plt.contourf(xx1, xx2, Z, alpha=0.4, cmap=cmap)\n",
    "    plt.xlim(xx1.min(), xx1.max())\n",
    "    plt.ylim(xx2.min(), xx2.max())\n",
    "    # plot class samples\n",
    "    for idx, cl in enumerate(np.unique(y)):\n",
    "        plt.scatter(x=X[y == cl, 0], y=X[y == cl, 1],\n",
    "            alpha=0.8, c=cmap(idx), marker=markers[idx], label=cl)"
   ]
  },
  {
   "cell_type": "markdown",
   "metadata": {},
   "source": [
    "### MLP - Banknotes dataset"
   ]
  },
  {
   "cell_type": "code",
   "execution_count": 31,
   "metadata": {},
   "outputs": [
    {
     "data": {
      "text/plain": [
       "MLPClassifier(activation='tanh', alpha=0.01, batch_size='auto', beta_1=0.9,\n",
       "       beta_2=0.999, early_stopping=False, epsilon=1e-08,\n",
       "       hidden_layer_sizes=(10, 5), learning_rate='constant',\n",
       "       learning_rate_init=0.001, max_iter=5000, momentum=0.9,\n",
       "       n_iter_no_change=10, nesterovs_momentum=True, power_t=0.5,\n",
       "       random_state=None, shuffle=True, solver='adam', tol=0.0001,\n",
       "       validation_fraction=0.1, verbose=False, warm_start=False)"
      ]
     },
     "execution_count": 31,
     "metadata": {},
     "output_type": "execute_result"
    }
   ],
   "source": [
    "from sklearn.neural_network import MLPClassifier\n",
    "\n",
    "mlp_Dataset1 = MLPClassifier(activation='tanh', hidden_layer_sizes=(10,5), alpha=0.01, max_iter=5000)\n",
    "mlp_Dataset1"
   ]
  },
  {
   "cell_type": "code",
   "execution_count": 32,
   "metadata": {},
   "outputs": [
    {
     "name": "stderr",
     "output_type": "stream",
     "text": [
      "'c' argument looks like a single numeric RGB or RGBA sequence, which should be avoided as value-mapping will have precedence in case its length matches with 'x' & 'y'.  Please use a 2-D array with a single row if you really want to specify the same RGB or RGBA value for all points.\n",
      "'c' argument looks like a single numeric RGB or RGBA sequence, which should be avoided as value-mapping will have precedence in case its length matches with 'x' & 'y'.  Please use a 2-D array with a single row if you really want to specify the same RGB or RGBA value for all points.\n"
     ]
    },
    {
     "data": {
      "image/png": "[encoded data removed]",
      "text/plain": [
       "<Figure size 432x288 with 1 Axes>"
      ]
     },
     "metadata": {
      "needs_background": "light"
     },
     "output_type": "display_data"
    }
   ],
   "source": [
    "X12=X_train1[X_train1.columns[0:2]]\n",
    "\n",
    "mlp_Dataset1 = mlp_Dataset1.fit(X12.values,y_train1.values)\n",
    "plot_decision_regions(X12.values, y_train1.values, classifier=mlp_Dataset1)\n",
    "plt.xlabel(['x1'])\n",
    "plt.ylabel(['x2'])\n",
    "plt.legend(loc='upper left')\n",
    "plt.grid()\n",
    "plt.tight_layout()\n",
    "plt.show()"
   ]
  },
  {
   "cell_type": "code",
   "execution_count": 33,
   "metadata": {},
   "outputs": [
    {
     "name": "stdout",
     "output_type": "stream",
     "text": [
      "Banknotes dataset\n",
      "the weights are \n",
      " [array([[ 0.27912839, -0.44955468,  0.62629801, -0.17840014,  0.47476466,\n",
      "        -0.21131811, -0.39922233,  0.38770192, -0.18936666, -0.14676214],\n",
      "       [ 0.10251168, -0.69887619, -0.22839388, -0.08354042,  0.17291558,\n",
      "        -0.0077546 , -0.15510242,  0.2198039 ,  0.28318979, -0.0833209 ]]), array([[ 0.50021791,  0.28354575,  0.52524301, -0.09777124,  0.3895508 ],\n",
      "       [ 1.04568631, -0.40775077,  0.32993053,  0.56264259,  1.1146067 ],\n",
      "       [ 0.57165465, -0.77688242,  1.00035204,  0.8872225 ,  0.13308413],\n",
      "       [-0.49522631,  0.84165537, -0.29681432, -0.75865147, -0.82262961],\n",
      "       [ 0.36526798, -0.75224419, -0.07284236,  0.39400805,  0.44518479],\n",
      "       [-0.217362  , -0.14477429,  0.19645376, -0.16894034,  0.11305763],\n",
      "       [-0.54110794, -0.11527716, -0.55744865, -0.76031779, -0.63174027],\n",
      "       [-0.38152757, -0.53225613,  0.20481981,  0.30668199,  0.32003436],\n",
      "       [ 0.81957294, -0.76918728,  0.90570855,  1.28662406,  0.37007535],\n",
      "       [-0.67234703, -0.12597384, -0.18677749, -0.3254005 , -0.24962765]]), array([[-0.41034833],\n",
      "       [ 1.10939539],\n",
      "       [-1.58115178],\n",
      "       [-1.23598788],\n",
      "       [-1.32530678]])]\n",
      "the bias \n",
      "  [array([ 0.52039531,  0.81119956, -0.93971943, -0.02059897,  1.03464378,\n",
      "        0.70490408, -0.75028911, -1.48351233, -1.56348119, -0.21459589]), array([ 0.15349875, -0.5185196 ,  0.10526876, -0.05685343,  0.3064959 ]), array([-0.29217585])]\n",
      "number of iterations \n",
      " 405\n",
      "output activation logistic\n"
     ]
    }
   ],
   "source": [
    "print('Banknotes dataset')\n",
    "print('the weights are \\n',mlp_Dataset1.coefs_)\n",
    "print('the bias \\n ', mlp_Dataset1.intercepts_)\n",
    "print('number of iterations \\n', mlp_Dataset1.n_iter_)\n",
    "print('output activation', mlp_Dataset1.out_activation_)"
   ]
  },
  {
   "cell_type": "markdown",
   "metadata": {},
   "source": [
    "### MLP - Nursery dataset"
   ]
  },
  {
   "cell_type": "code",
   "execution_count": 34,
   "metadata": {},
   "outputs": [
    {
     "data": {
      "text/plain": [
       "MLPClassifier(activation='tanh', alpha=0.01, batch_size='auto', beta_1=0.9,\n",
       "       beta_2=0.999, early_stopping=False, epsilon=1e-08,\n",
       "       hidden_layer_sizes=(10, 5), learning_rate='constant',\n",
       "       learning_rate_init=0.001, max_iter=5000, momentum=0.9,\n",
       "       n_iter_no_change=10, nesterovs_momentum=True, power_t=0.5,\n",
       "       random_state=None, shuffle=True, solver='adam', tol=0.0001,\n",
       "       validation_fraction=0.1, verbose=False, warm_start=False)"
      ]
     },
     "execution_count": 34,
     "metadata": {},
     "output_type": "execute_result"
    }
   ],
   "source": [
    "mlp_Dataset2 = MLPClassifier(activation='tanh', hidden_layer_sizes=(10,5), alpha=0.01, max_iter=5000)\n",
    "mlp_Dataset2"
   ]
  },
  {
   "cell_type": "code",
   "execution_count": 35,
   "metadata": {},
   "outputs": [
    {
     "name": "stderr",
     "output_type": "stream",
     "text": [
      "'c' argument looks like a single numeric RGB or RGBA sequence, which should be avoided as value-mapping will have precedence in case its length matches with 'x' & 'y'.  Please use a 2-D array with a single row if you really want to specify the same RGB or RGBA value for all points.\n",
      "'c' argument looks like a single numeric RGB or RGBA sequence, which should be avoided as value-mapping will have precedence in case its length matches with 'x' & 'y'.  Please use a 2-D array with a single row if you really want to specify the same RGB or RGBA value for all points.\n",
      "'c' argument looks like a single numeric RGB or RGBA sequence, which should be avoided as value-mapping will have precedence in case its length matches with 'x' & 'y'.  Please use a 2-D array with a single row if you really want to specify the same RGB or RGBA value for all points.\n",
      "'c' argument looks like a single numeric RGB or RGBA sequence, which should be avoided as value-mapping will have precedence in case its length matches with 'x' & 'y'.  Please use a 2-D array with a single row if you really want to specify the same RGB or RGBA value for all points.\n",
      "'c' argument looks like a single numeric RGB or RGBA sequence, which should be avoided as value-mapping will have precedence in case its length matches with 'x' & 'y'.  Please use a 2-D array with a single row if you really want to specify the same RGB or RGBA value for all points.\n"
     ]
    },
    {
     "data": {
      "image/png": "[encoded data removed]",
      "text/plain": [
       "<Figure size 432x288 with 1 Axes>"
      ]
     },
     "metadata": {
      "needs_background": "light"
     },
     "output_type": "display_data"
    }
   ],
   "source": [
    "X22=X_train2[X_train2.columns[0:2]]\n",
    "mlp_Dataset2 = mlp_Dataset2.fit(X22.values,y_train2.values)\n",
    "\n",
    "plot_decision_regions(X22.values, y_train2.values, classifier=mlp_Dataset2)\n",
    "plt.xlabel(['x1'])\n",
    "plt.ylabel(['x2'])\n",
    "plt.legend(loc='upper left')\n",
    "plt.grid()\n",
    "plt.tight_layout()\n",
    "plt.show()\n"
   ]
  },
  {
   "cell_type": "code",
   "execution_count": 36,
   "metadata": {},
   "outputs": [
    {
     "name": "stdout",
     "output_type": "stream",
     "text": [
      "Nursery dataset\n",
      "the weights are \n",
      " [array([[ 0.39918774, -0.58851606,  0.56942324,  0.81525291,  0.39070391,\n",
      "         0.11038901,  0.32118373,  0.52462088, -0.36008977,  0.11460914],\n",
      "       [ 0.40757144, -0.7484958 ,  0.2405804 , -1.33827025,  0.45045278,\n",
      "         0.39943511,  0.17918946,  0.53433873, -0.13137104, -0.47177555]]), array([[ 0.22309919, -0.73749193,  0.45534885, -0.51019626,  0.13228479],\n",
      "       [ 0.73130393,  0.02766277, -0.64951006,  0.73388908, -0.21453857],\n",
      "       [ 1.16428322,  0.22821304, -1.17696545, -0.26605887,  2.07651283],\n",
      "       [ 0.00321566,  0.58106586,  0.29848459, -0.45905575,  1.37510809],\n",
      "       [-0.37345229, -0.34376359, -0.35059715, -0.47162803, -0.31962718],\n",
      "       [ 1.01285972,  0.09246268, -0.72704582,  0.11831987,  1.69289266],\n",
      "       [ 0.57686872, -0.18012712, -1.10457792, -0.19109844,  0.92884311],\n",
      "       [ 0.17955787, -0.49136034,  0.6717721 , -0.34667568, -0.12483113],\n",
      "       [-0.39738367,  0.41683773,  0.44574193,  0.45189584, -0.78112884],\n",
      "       [-0.66355849, -0.15242789,  0.7836701 ,  0.0066445 , -0.84945612]]), array([[-0.46931521,  0.32639376, -1.36987529,  0.41378822,  0.01103675],\n",
      "       [-0.89234145, -1.14482369,  1.7397929 , -0.19911418,  0.58669503],\n",
      "       [-0.73602268,  0.90909283, -0.94874197, -0.09850948,  0.47109101],\n",
      "       [-1.11075903, -0.17734299,  1.90217783,  0.39632715,  1.04205164],\n",
      "       [-0.21413316, -0.50327988, -0.55610716,  2.51160764, -2.28244924]])]\n",
      "the bias \n",
      "  [array([ 0.96394415, -0.21509335, -1.4179756 , -0.59643627,  0.87561933,\n",
      "       -1.23634074, -0.72636172,  0.5858667 ,  0.39116638,  1.13451541]), array([ 0.04100978, -0.41790828,  0.55493849, -0.09153707,  0.02825155]), array([ 0.99341884,  0.98367834, -0.53481707,  0.70323018,  0.36439277])]\n",
      "number of iterations \n",
      " 231\n",
      "output activation softmax\n"
     ]
    }
   ],
   "source": [
    "print('Nursery dataset')\n",
    "print('the weights are \\n',mlp_Dataset2.coefs_)\n",
    "print('the bias \\n ', mlp_Dataset2.intercepts_)\n",
    "print('number of iterations \\n', mlp_Dataset2.n_iter_)\n",
    "print('output activation', mlp_Dataset2.out_activation_)"
   ]
  },
  {
   "cell_type": "markdown",
   "metadata": {},
   "source": [
    "### SVM - Banknotes dataset"
   ]
  },
  {
   "cell_type": "code",
   "execution_count": 37,
   "metadata": {},
   "outputs": [
    {
     "data": {
      "text/plain": [
       "SVC(C=1.0, cache_size=200, class_weight=None, coef0=0.0,\n",
       "  decision_function_shape='ovr', degree=3, gamma='auto_deprecated',\n",
       "  kernel='rbf', max_iter=-1, probability=False, random_state=None,\n",
       "  shrinking=True, tol=1e-05, verbose=0)"
      ]
     },
     "execution_count": 37,
     "metadata": {},
     "output_type": "execute_result"
    }
   ],
   "source": [
    "from sklearn.svm import SVC\n",
    "\n",
    "svm_Dataset1=SVC(C=1.0,kernel='rbf', tol=1e-05, verbose=0)\n",
    "#svm_Dataset1=SVC(C=1.0,kernel='rbf', max_iter=2000, tol=1e-05, verbose=0)\n",
    "\n",
    "svm_Dataset1"
   ]
  },
  {
   "cell_type": "code",
   "execution_count": 38,
   "metadata": {},
   "outputs": [
    {
     "name": "stderr",
     "output_type": "stream",
     "text": [
      "'c' argument looks like a single numeric RGB or RGBA sequence, which should be avoided as value-mapping will have precedence in case its length matches with 'x' & 'y'.  Please use a 2-D array with a single row if you really want to specify the same RGB or RGBA value for all points.\n",
      "'c' argument looks like a single numeric RGB or RGBA sequence, which should be avoided as value-mapping will have precedence in case its length matches with 'x' & 'y'.  Please use a 2-D array with a single row if you really want to specify the same RGB or RGBA value for all points.\n"
     ]
    },
    {
     "data": {
      "image/png": "[encoded data removed]",
      "text/plain": [
       "<Figure size 432x288 with 1 Axes>"
      ]
     },
     "metadata": {
      "needs_background": "light"
     },
     "output_type": "display_data"
    }
   ],
   "source": [
    "X12=X_train1[X_train1.columns[0:2]]\n",
    "\n",
    "svm_Dataset1 = svm_Dataset1.fit(X12.values, y_train1.values)\n",
    "plot_decision_regions(X12.values, y_train1.values, classifier=svm_Dataset1)\n",
    "plt.xlabel('x1')\n",
    "plt.ylabel('x2')\n",
    "plt.legend(loc='upper left')\n",
    "plt.grid()\n",
    "plt.tight_layout()\n",
    "plt.show()"
   ]
  },
  {
   "cell_type": "code",
   "execution_count": 39,
   "metadata": {},
   "outputs": [
    {
     "name": "stdout",
     "output_type": "stream",
     "text": [
      "Banknotes dataset\n",
      "dual coef \n",
      " [[-1.00000000e+00 -2.56542151e-01 -1.00000000e+00 -1.00000000e+00\n",
      "  -2.44640581e-01 -2.93953106e-01 -7.78827102e-01 -1.00000000e+00\n",
      "  -1.00000000e+00 -6.61899850e-04 -3.19717089e-01 -1.00000000e+00\n",
      "  -1.00000000e+00 -1.00000000e+00 -1.00000000e+00 -5.55779036e-02\n",
      "  -1.00000000e+00 -9.68983664e-02 -1.00000000e+00 -4.50753209e-02\n",
      "  -1.17662606e-01 -7.54783428e-02 -1.00000000e+00 -1.00000000e+00\n",
      "  -2.16126231e-02 -1.00000000e+00 -1.00000000e+00 -4.73509741e-01\n",
      "  -4.87760530e-01 -8.23227722e-01 -1.00000000e+00 -5.75946278e-01\n",
      "  -1.00000000e+00 -1.00000000e+00 -1.00000000e+00 -1.00000000e+00\n",
      "  -1.00000000e+00 -5.08635095e-01 -1.00000000e+00 -1.00000000e+00\n",
      "  -1.00000000e+00 -6.37617903e-01 -3.43756379e-01 -1.02373314e-01\n",
      "  -1.00000000e+00 -1.00000000e+00 -1.00000000e+00 -1.00000000e+00\n",
      "  -2.90681697e-03 -5.10955042e-01 -1.00000000e+00 -1.00000000e+00\n",
      "  -3.31906131e-01 -1.00000000e+00 -1.00000000e+00 -1.00000000e+00\n",
      "  -2.49867603e-03 -1.39247088e-02 -1.00000000e+00 -3.91669611e-01\n",
      "  -4.76571100e-01 -7.46593726e-01 -1.00000000e+00 -5.66477528e-01\n",
      "  -1.00000000e+00 -4.02967742e-01 -3.04351283e-02 -2.04789094e-01\n",
      "  -1.00000000e+00 -1.10172656e-01 -1.00000000e+00 -1.90904672e-01\n",
      "  -1.00000000e+00 -5.84620020e-02 -1.86055313e-01 -5.87629762e-01\n",
      "  -1.00000000e+00 -1.00000000e+00 -8.47424484e-01 -5.94285662e-01\n",
      "  -1.00000000e+00 -1.13960502e-01 -7.07435870e-01 -6.00143998e-01\n",
      "  -1.91248651e-01 -1.00000000e+00 -1.00000000e+00 -3.18084700e-02\n",
      "  -8.33367645e-01 -9.20772997e-02 -1.00000000e+00 -1.00000000e+00\n",
      "  -1.00921167e-02 -1.00000000e+00 -1.00000000e+00 -3.40906589e-01\n",
      "  -1.00000000e+00 -1.88615980e-02 -1.00000000e+00 -8.77299309e-02\n",
      "  -2.12656347e-02 -1.00000000e+00 -2.63558346e-01 -4.99187091e-01\n",
      "  -7.06177704e-02 -1.00000000e+00 -1.00000000e+00 -5.52515895e-02\n",
      "  -1.00000000e+00 -1.31887965e-01 -1.00000000e+00 -1.00000000e+00\n",
      "  -8.43155226e-01 -1.00000000e+00 -1.11715896e-01 -3.21647233e-01\n",
      "  -1.00000000e+00 -3.79708979e-01 -4.55604225e-02 -1.59468288e-01\n",
      "  -3.92675949e-01 -5.96319196e-02 -1.00000000e+00 -1.00000000e+00\n",
      "  -3.17362666e-01 -5.56843808e-01 -1.00000000e+00 -1.00000000e+00\n",
      "  -1.00000000e+00 -1.00000000e+00 -1.00000000e+00 -1.00000000e+00\n",
      "  -9.88645317e-01 -1.98378473e-01 -1.00000000e+00 -1.98521584e-01\n",
      "  -1.00000000e+00 -1.86928802e-01 -1.00000000e+00 -2.15281959e-01\n",
      "  -1.00000000e+00 -3.35559758e-01 -1.00000000e+00 -1.00000000e+00\n",
      "  -6.70795923e-01  4.45693159e-01  1.00000000e+00  1.00000000e+00\n",
      "   1.00000000e+00  1.00000000e+00  6.74667355e-02  5.02483811e-01\n",
      "   8.00856531e-01  8.08429084e-01  7.11836909e-01  5.88878469e-01\n",
      "   1.88701290e-01  3.40638705e-01  1.00000000e+00  5.31559782e-01\n",
      "   1.00000000e+00  1.00000000e+00  8.25263854e-01  1.00000000e+00\n",
      "   1.00000000e+00  1.00000000e+00  1.00000000e+00  4.16242513e-01\n",
      "   1.00000000e+00  1.35216996e-01  1.00000000e+00  1.00000000e+00\n",
      "   8.57845848e-01  1.42831646e-01  1.00000000e+00  1.00000000e+00\n",
      "   1.00000000e+00  2.28301250e-01  5.37844774e-02  8.22833126e-01\n",
      "   1.00000000e+00  3.92709069e-01  3.98851923e-01  1.00000000e+00\n",
      "   1.00000000e+00  7.50006232e-01  1.00000000e+00  1.00000000e+00\n",
      "   1.00000000e+00  1.00000000e+00  1.00000000e+00  8.64608637e-01\n",
      "   3.37611022e-01  1.00000000e+00  1.00000000e+00  1.00000000e+00\n",
      "   1.57972898e-01  2.86599583e-01  1.00000000e+00  3.86583595e-01\n",
      "   1.00000000e+00  2.76140534e-01  2.08484620e-01  2.47667894e-01\n",
      "   6.09881888e-01  3.00343312e-02  1.00000000e+00  1.00000000e+00\n",
      "   1.00000000e+00  6.04924793e-01  6.68457836e-01  1.00000000e+00\n",
      "   1.00000000e+00  5.88787818e-01  1.14219069e-01  1.00000000e+00\n",
      "   1.00000000e+00  1.00000000e+00  9.83237684e-01  1.00000000e+00\n",
      "   1.35324000e-01  8.39126609e-01  4.51277262e-01  1.00000000e+00\n",
      "   1.00000000e+00  1.00000000e+00  6.21676004e-02  1.00000000e+00\n",
      "   6.51448939e-01  1.00000000e+00  9.02609395e-01  1.00000000e+00\n",
      "   1.00000000e+00  1.00000000e+00  1.00000000e+00  1.00000000e+00\n",
      "   1.00000000e+00  1.00000000e+00  1.00000000e+00  1.00000000e+00\n",
      "   1.34677493e-01  1.00000000e+00  1.00000000e+00  3.75252650e-01\n",
      "   6.47353258e-01  1.00000000e+00  6.01469123e-01  4.23671048e-02\n",
      "   3.16302092e-01  1.00000000e+00  2.52853492e-01  3.31364355e-01\n",
      "   1.00000000e+00  2.50797981e-01  1.76863586e-01  1.00000000e+00\n",
      "   1.00000000e+00  1.00000000e+00  3.16498852e-01  1.00000000e+00\n",
      "   1.00000000e+00  6.41622189e-01  1.00000000e+00  1.00000000e+00\n",
      "   2.17050289e-01  4.18048400e-01  1.00000000e+00  7.34726082e-01\n",
      "   7.63862844e-01  9.43196828e-01  1.00000000e+00  9.85483145e-01]]\n",
      "support vectors \n",
      " [[ 5.70600e-01 -2.48000e-02]\n",
      " [ 1.92650e+00  7.75570e+00]\n",
      " [ 5.19500e-01 -3.26330e+00]\n",
      " [ 2.25040e+00  3.57570e+00]\n",
      " [ 4.92640e+00  5.49600e+00]\n",
      " [-1.38850e+00  1.25026e+01]\n",
      " [ 4.96650e-01  5.52700e+00]\n",
      " [ 1.14720e+00  3.59850e+00]\n",
      " [ 1.74520e+00  4.80280e+00]\n",
      " [-2.64790e+00  1.01374e+01]\n",
      " [ 2.22900e+00  9.63250e+00]\n",
      " [ 7.40540e-01  3.66250e-01]\n",
      " [ 6.54970e-01  5.18150e+00]\n",
      " [ 5.28550e-01  9.64270e-01]\n",
      " [ 1.01910e+00  2.33000e+00]\n",
      " [ 4.05200e+00 -1.65550e-01]\n",
      " [-1.50550e+00  7.03460e-02]\n",
      " [ 2.95710e+00 -4.59380e+00]\n",
      " [ 2.00070e+00  1.86440e+00]\n",
      " [-1.32740e+00  9.49800e+00]\n",
      " [ 9.29700e-01 -3.79710e+00]\n",
      " [ 2.56780e+00  3.51360e+00]\n",
      " [ 3.29200e-01 -4.45520e+00]\n",
      " [ 1.31140e+00  4.54620e+00]\n",
      " [ 5.30630e+00  5.26840e+00]\n",
      " [-2.79140e+00  1.77340e+00]\n",
      " [-1.61620e+00  8.09080e-01]\n",
      " [ 5.40210e+00  3.10390e+00]\n",
      " [ 3.96600e+00  3.92130e+00]\n",
      " [ 1.04000e+00 -6.93210e+00]\n",
      " [ 1.77480e+00 -7.69780e-01]\n",
      " [ 5.59100e+00  1.04643e+01]\n",
      " [ 1.30870e+00  4.92280e+00]\n",
      " [ 1.59400e+00  4.70550e+00]\n",
      " [ 1.32640e+00  1.03260e+00]\n",
      " [-1.77810e+00  8.54600e-01]\n",
      " [ 5.19500e-01 -3.26330e+00]\n",
      " [ 5.49440e+00  1.54780e+00]\n",
      " [-1.31440e-01 -1.77750e+00]\n",
      " [ 2.04210e+00  1.24360e+00]\n",
      " [ 1.85920e+00  3.20740e+00]\n",
      " [ 5.78670e+00  7.89020e+00]\n",
      " [ 2.44860e+00 -6.31750e+00]\n",
      " [ 5.17310e+00  3.96060e+00]\n",
      " [-4.50620e-01 -1.36780e+00]\n",
      " [ 1.14300e+00  8.33910e-01]\n",
      " [ 1.35660e+00  4.23580e+00]\n",
      " [ 1.63490e+00  3.28600e+00]\n",
      " [-2.64790e+00  1.01374e+01]\n",
      " [-2.64790e+00  1.01374e+01]\n",
      " [ 5.70600e-01 -2.48000e-02]\n",
      " [ 7.05700e-01 -5.49810e+00]\n",
      " [ 4.15420e+00  7.27560e+00]\n",
      " [ 1.26160e+00  4.43030e+00]\n",
      " [ 1.32340e+00  3.29640e+00]\n",
      " [-1.13130e+00  1.90370e+00]\n",
      " [-1.85840e+00  7.88600e+00]\n",
      " [-5.39660e-01  7.32730e+00]\n",
      " [ 5.70600e-01 -2.48000e-02]\n",
      " [ 4.16650e+00 -4.44900e-01]\n",
      " [ 4.25860e+00  1.12962e+01]\n",
      " [-1.85840e+00  7.88600e+00]\n",
      " [ 7.57360e-01  3.02940e+00]\n",
      " [-3.98160e-01  5.97810e+00]\n",
      " [ 5.19500e-01 -3.26330e+00]\n",
      " [ 4.89060e+00 -3.35840e+00]\n",
      " [ 8.72560e-01  9.29310e+00]\n",
      " [ 3.54580e+00  9.37180e+00]\n",
      " [-4.28590e+00  8.52340e+00]\n",
      " [-9.17180e-01  9.98840e+00]\n",
      " [-1.33890e+00  1.55200e+00]\n",
      " [ 9.27030e-01  9.43180e+00]\n",
      " [-1.69520e+00  1.06570e+00]\n",
      " [ 2.25460e+00  8.09920e+00]\n",
      " [ 3.81970e+00  8.99510e+00]\n",
      " [ 7.43070e-01  1.11700e+01]\n",
      " [ 5.70600e-01 -2.48410e-02]\n",
      " [ 1.59020e+00  2.29480e+00]\n",
      " [ 2.67180e+00  5.65740e+00]\n",
      " [ 5.02970e+00 -4.97040e+00]\n",
      " [-1.39310e+00  1.56640e+00]\n",
      " [ 3.89050e+00 -2.15210e+00]\n",
      " [ 6.82480e+00  5.21870e+00]\n",
      " [-2.34300e+00  1.29516e+01]\n",
      " [ 3.92940e+00  1.41120e+00]\n",
      " [ 1.89940e+00  9.74620e-01]\n",
      " [ 1.09870e+00  6.39400e-01]\n",
      " [ 4.28990e+00  9.18140e+00]\n",
      " [ 1.64720e+00  4.82130e-01]\n",
      " [ 2.74510e-01  9.21860e+00]\n",
      " [-1.06480e-01 -7.67710e-01]\n",
      " [ 3.79800e-01  7.09800e-01]\n",
      " [ 1.00090e+00  7.78460e+00]\n",
      " [ 1.76200e+00  4.36820e+00]\n",
      " [-3.83880e-01 -1.04710e+00]\n",
      " [ 3.03330e+00 -2.59280e+00]\n",
      " [ 3.29240e-01 -4.45520e+00]\n",
      " [ 1.86640e+00  7.77630e+00]\n",
      " [-1.17830e-01 -1.57890e+00]\n",
      " [ 3.13770e+00 -4.10960e+00]\n",
      " [-6.89190e-03  9.29310e+00]\n",
      " [-9.59230e-01  9.10390e-02]\n",
      " [ 5.93740e+00  6.16640e+00]\n",
      " [ 3.40920e+00  5.40490e+00]\n",
      " [-7.86900e-01  9.56630e+00]\n",
      " [ 1.29990e+00  2.57620e+00]\n",
      " [ 1.13170e+00  3.96470e+00]\n",
      " [ 1.54780e+00  9.18140e+00]\n",
      " [ 4.41250e-01  2.94870e+00]\n",
      " [ 1.48060e+00  7.63770e+00]\n",
      " [-2.48110e-01 -1.77970e-01]\n",
      " [-1.13910e+00  1.81270e+00]\n",
      " [ 2.01530e+00  1.84790e+00]\n",
      " [ 3.22300e-01 -8.98080e-01]\n",
      " [ 1.89670e+00 -2.51630e+00]\n",
      " [ 1.47830e-01  7.94600e+00]\n",
      " [ 3.79840e-01  7.09750e-01]\n",
      " [-2.74190e+00  1.14038e+01]\n",
      " [ 4.17110e+00  8.72200e+00]\n",
      " [ 4.24750e+00  1.48160e+00]\n",
      " [ 3.75700e+00 -5.42360e+00]\n",
      " [ 1.73460e-01  7.86950e+00]\n",
      " [ 2.28930e+00  3.73300e+00]\n",
      " [ 3.31110e-01  4.57310e+00]\n",
      " [ 4.55970e+00 -2.42110e+00]\n",
      " [ 2.80840e+00  1.13045e+01]\n",
      " [ 3.79800e-01  7.09800e-01]\n",
      " [ 3.79800e-01  7.09800e-01]\n",
      " [-3.60380e-01  4.11580e+00]\n",
      " [ 4.69010e-01 -6.33210e-01]\n",
      " [ 2.09770e-01 -4.61460e-01]\n",
      " [ 8.82980e-01  6.60090e-01]\n",
      " [ 9.29700e-01 -3.79710e+00]\n",
      " [ 3.23030e+00  7.83840e+00]\n",
      " [ 6.42150e-01  3.12870e+00]\n",
      " [-7.86900e-01  9.56630e+00]\n",
      " [ 7.22520e-01 -5.38110e-02]\n",
      " [ 2.87700e+00 -4.05990e+00]\n",
      " [-6.44720e-01 -4.60620e+00]\n",
      " [ 5.43800e+00  9.46690e+00]\n",
      " [ 1.64260e+00  3.01490e+00]\n",
      " [-7.82890e-01  1.13603e+01]\n",
      " [ 1.06070e+00  2.45420e+00]\n",
      " [-1.50750e+00  1.92240e+00]\n",
      " [ 5.74030e+00 -4.42840e-01]\n",
      " [-4.19580e+00 -8.18190e+00]\n",
      " [ 1.78750e+00  4.78000e+00]\n",
      " [-1.61760e+00  1.09260e+00]\n",
      " [-2.16680e+00  1.59330e+00]\n",
      " [ 1.73310e+00  3.95440e+00]\n",
      " [-3.01930e+00  1.77750e+00]\n",
      " [-1.39460e+00  2.31340e+00]\n",
      " [-4.63380e+00 -1.27509e+01]\n",
      " [-3.72440e+00  1.90370e+00]\n",
      " [ 4.05450e-03  6.29050e-01]\n",
      " [-6.39790e+00  6.44790e+00]\n",
      " [-2.19790e+00 -2.12520e+00]\n",
      " [-7.20680e-01 -6.75830e+00]\n",
      " [-1.84480e+00  1.25400e+00]\n",
      " [-3.59330e+00  2.29680e-01]\n",
      " [ 3.18030e-01 -9.93260e-01]\n",
      " [ 1.21980e+00  2.09820e+00]\n",
      " [-2.64060e+00 -4.41590e+00]\n",
      " [ 2.01770e+00  1.79820e+00]\n",
      " [-3.60250e-01 -4.44900e+00]\n",
      " [ 1.34510e+00  2.35890e-01]\n",
      " [ 5.08130e-01  4.77990e-01]\n",
      " [-6.32980e-01 -5.12770e+00]\n",
      " [-1.28520e-03  1.38630e-01]\n",
      " [-2.57010e+00 -6.84520e+00]\n",
      " [ 1.50770e+00  1.95960e+00]\n",
      " [ 3.76370e-01 -8.23580e-01]\n",
      " [-5.53550e-01 -7.92330e+00]\n",
      " [-1.84390e+00 -8.64750e+00]\n",
      " [ 1.06370e+00  3.69570e+00]\n",
      " [-1.57320e+00  1.06360e+00]\n",
      " [ 3.12010e-03 -4.00610e+00]\n",
      " [-2.83910e+00 -6.63000e+00]\n",
      " [ 4.73680e-01  3.36050e+00]\n",
      " [-5.06760e+00 -5.18770e+00]\n",
      " [-8.73400e-01  1.65330e+00]\n",
      " [-4.38760e+00 -7.72670e+00]\n",
      " [-2.65900e+00 -1.60580e+00]\n",
      " [ 1.05520e+00  1.18570e+00]\n",
      " [ 2.68770e-01  4.98700e+00]\n",
      " [-7.04210e+00  9.20000e+00]\n",
      " [ 2.03100e+00  1.85200e+00]\n",
      " [ 1.64080e+00  4.25030e+00]\n",
      " [-1.13060e+00  1.84580e+00]\n",
      " [ 2.22790e+00  4.09510e+00]\n",
      " [ 3.43400e-01  1.24150e-01]\n",
      " [-5.49010e+00  9.10480e+00]\n",
      " [-1.30660e+00  2.52440e-01]\n",
      " [ 9.82960e-01  3.42260e+00]\n",
      " [ 1.16400e+00  3.91300e+00]\n",
      " [ 6.00500e-01  9.99450e-01]\n",
      " [-3.46050e+00  2.69010e+00]\n",
      " [-4.73310e+00 -6.17890e+00]\n",
      " [ 5.62320e-01  1.00150e+00]\n",
      " [-4.39670e+00  4.96010e+00]\n",
      " [-1.27920e+00  2.13760e+00]\n",
      " [-2.89570e+00 -1.20205e+01]\n",
      " [-2.48350e+00 -7.44940e+00]\n",
      " [-2.82670e+00 -9.04070e+00]\n",
      " [-3.37930e+00 -1.37731e+01]\n",
      " [-1.08020e+00  2.19960e+00]\n",
      " [ 5.59390e-01 -3.10400e-01]\n",
      " [ 4.28300e-01 -9.49810e-01]\n",
      " [ 1.43290e-01 -1.08850e+00]\n",
      " [-3.09860e+00 -1.04602e+01]\n",
      " [-1.08330e+00 -3.12470e-01]\n",
      " [ 6.63650e-01 -4.55330e-02]\n",
      " [ 8.95120e-01  4.77380e+00]\n",
      " [-5.16610e+00  8.04330e+00]\n",
      " [-3.11580e+00 -8.62890e+00]\n",
      " [ 1.63580e-01 -3.35840e+00]\n",
      " [-3.70130e-01 -5.55400e+00]\n",
      " [-1.93890e+00  1.57060e+00]\n",
      " [ 6.25250e-02  2.93010e+00]\n",
      " [-4.14790e+00  7.12250e+00]\n",
      " [-3.60530e+00 -5.97400e+00]\n",
      " [-2.53140e-02 -1.73830e-01]\n",
      " [ 7.40670e-01  1.72990e+00]\n",
      " [ 2.19430e+00  4.55030e+00]\n",
      " [ 1.23090e+00  3.89230e+00]\n",
      " [ 1.58100e+00  8.69090e-01]\n",
      " [-4.47790e+00  7.37080e+00]\n",
      " [ 7.58960e-01  2.91760e-01]\n",
      " [-1.05550e+00  7.94590e-01]\n",
      " [ 1.59040e+00  2.21210e+00]\n",
      " [ 1.20800e+00  4.07440e+00]\n",
      " [-2.40370e-01 -1.78370e+00]\n",
      " [-1.36600e+00  1.84160e-01]\n",
      " [ 7.51080e-01  1.91610e+00]\n",
      " [ 3.00810e-01  1.73810e-01]\n",
      " [ 2.34600e-01 -4.51520e+00]\n",
      " [ 7.44280e-01 -3.77230e+00]\n",
      " [ 9.13150e-01  3.33770e+00]\n",
      " [ 1.16440e+00  3.80950e+00]\n",
      " [ 1.48960e+00  3.42880e+00]\n",
      " [-1.75490e+00 -8.07110e-02]\n",
      " [ 2.14310e-01 -6.95290e-01]\n",
      " [ 2.39170e+00  4.55650e+00]\n",
      " [-6.73870e+00  6.98790e+00]\n",
      " [-2.02850e+00  3.84680e+00]\n",
      " [-2.18880e-01 -2.20380e+00]\n",
      " [-1.84830e+00  3.10380e-01]\n",
      " [-3.99340e+00  5.83330e+00]\n",
      " [-6.60080e-01 -3.22600e+00]\n",
      " [ 1.55140e+00  3.80130e+00]\n",
      " [-2.98210e+00  4.19860e+00]\n",
      " [-3.81670e+00  5.14010e+00]\n",
      " [ 1.01170e+00  9.02200e-01]\n",
      " [-1.11880e+00  3.33570e+00]\n",
      " [-2.56500e+00 -5.78990e+00]\n",
      " [ 8.36250e-01  1.10710e+00]\n",
      " [ 8.89920e-01  2.26380e+00]\n",
      " [ 2.95200e-01  4.88560e+00]\n",
      " [-3.34580e+00 -5.04910e-01]\n",
      " [ 1.54230e-01  1.17940e-01]\n",
      " [ 3.90120e-01 -1.42790e-01]\n",
      " [-1.48000e+00 -1.05244e+01]\n",
      " [ 1.43780e+00  6.68370e-01]\n",
      " [ 1.25720e+00  4.87310e+00]\n",
      " [-1.39680e+00 -9.66980e+00]\n",
      " [-2.66490e+00 -1.28130e+01]\n",
      " [ 9.04070e-01  3.37080e+00]\n",
      " [-7.15030e-02  3.74120e+00]\n",
      " [-4.94470e+00  3.30050e+00]\n",
      " [-1.26900e-01 -1.15050e+00]\n",
      " [ 5.52980e-01 -3.46190e+00]\n",
      " [-1.16670e+00 -1.42370e+00]]\n",
      "index of support vectors \n",
      "  [  9  18  38  46  57  63  67  68  73  76  77  85  86  90  92  97 100 104\n",
      " 108 110 122 125 136 141 143 146 147 156 159 160 163 168 177 178 179 182\n",
      " 183 190 196 217 219 239 246 260 269 279 293 316 323 325 327 335 336 338\n",
      " 341 350 351 356 375 386 389 392 399 405 420 423 426 456 459 473 475 508\n",
      " 542 552 553 556 561 574 578 583 590 595 596 607 611 619 620 624 635 639\n",
      " 653 660 662 666 674 677 680 681 683 686 687 688 692 695 708 709 717 720\n",
      " 721 733 740 742 752 757 761 767 774 778 782 805 810 820 821 822 826 831\n",
      " 840 847 852 857 871 874 900 908 913 915 916 922 923 928 929 942 953 955\n",
      " 959   6   7  11  12  16  17  28  29  32  41  71  75  78 106 107 118 120\n",
      " 149 162 173 180 185 204 215 226 233 237 249 250 254 258 259 262 268 273\n",
      " 290 294 300 303 309 311 312 313 317 320 332 333 337 340 346 354 361 380\n",
      " 381 382 390 402 408 418 432 433 434 442 444 448 460 470 471 476 477 481\n",
      " 490 494 497 510 513 539 551 555 562 566 571 579 584 587 598 601 616 618\n",
      " 640 647 650 658 671 679 689 711 718 727 741 763 770 783 798 800 811 833\n",
      " 834 836 839 845 848 854 855 862 864 875 890 893 895 899 905 906 912 939\n",
      " 940 941]\n",
      "bias [-0.08624007]\n",
      "the classifier \n",
      " SVC(C=1.0, cache_size=200, class_weight=None, coef0=0.0,\n",
      "  decision_function_shape='ovr', degree=3, gamma='auto_deprecated',\n",
      "  kernel='rbf', max_iter=-1, probability=False, random_state=None,\n",
      "  shrinking=True, tol=1e-05, verbose=0)\n"
     ]
    }
   ],
   "source": [
    "print('Banknotes dataset')\n",
    "print('dual coef \\n', svm_Dataset1.dual_coef_)\n",
    "print ('support vectors \\n', svm_Dataset1.support_vectors_)\n",
    "print('index of support vectors \\n ', svm_Dataset1.support_)\n",
    "print ('bias', svm_Dataset1.intercept_)\n",
    "print('the classifier \\n', svm_Dataset1)"
   ]
  },
  {
   "cell_type": "markdown",
   "metadata": {},
   "source": [
    "### SVM - Nursery dataset"
   ]
  },
  {
   "cell_type": "code",
   "execution_count": 40,
   "metadata": {},
   "outputs": [
    {
     "data": {
      "text/plain": [
       "SVC(C=1.0, cache_size=200, class_weight=None, coef0=0.0,\n",
       "  decision_function_shape='ovr', degree=3, gamma='auto_deprecated',\n",
       "  kernel='rbf', max_iter=-1, probability=False, random_state=None,\n",
       "  shrinking=True, tol=1e-05, verbose=0)"
      ]
     },
     "execution_count": 40,
     "metadata": {},
     "output_type": "execute_result"
    }
   ],
   "source": [
    "svm_Dataset2=SVC(C=1.0,kernel='rbf', tol=1e-05, verbose=0)\n",
    "#svm_Dataset2=SVC(C=1.0,kernel='rbf', max_iter=2000, tol=1e-05, verbose=0)\n",
    "svm_Dataset2"
   ]
  },
  {
   "cell_type": "code",
   "execution_count": 41,
   "metadata": {},
   "outputs": [
    {
     "name": "stderr",
     "output_type": "stream",
     "text": [
      "'c' argument looks like a single numeric RGB or RGBA sequence, which should be avoided as value-mapping will have precedence in case its length matches with 'x' & 'y'.  Please use a 2-D array with a single row if you really want to specify the same RGB or RGBA value for all points.\n",
      "'c' argument looks like a single numeric RGB or RGBA sequence, which should be avoided as value-mapping will have precedence in case its length matches with 'x' & 'y'.  Please use a 2-D array with a single row if you really want to specify the same RGB or RGBA value for all points.\n",
      "'c' argument looks like a single numeric RGB or RGBA sequence, which should be avoided as value-mapping will have precedence in case its length matches with 'x' & 'y'.  Please use a 2-D array with a single row if you really want to specify the same RGB or RGBA value for all points.\n",
      "'c' argument looks like a single numeric RGB or RGBA sequence, which should be avoided as value-mapping will have precedence in case its length matches with 'x' & 'y'.  Please use a 2-D array with a single row if you really want to specify the same RGB or RGBA value for all points.\n",
      "'c' argument looks like a single numeric RGB or RGBA sequence, which should be avoided as value-mapping will have precedence in case its length matches with 'x' & 'y'.  Please use a 2-D array with a single row if you really want to specify the same RGB or RGBA value for all points.\n"
     ]
    },
    {
     "data": {
      "image/png": "[encoded data removed]",
      "text/plain": [
       "<Figure size 432x288 with 1 Axes>"
      ]
     },
     "metadata": {
      "needs_background": "light"
     },
     "output_type": "display_data"
    }
   ],
   "source": [
    "X22=X_train2[X_train2.columns[0:2]]\n",
    "\n",
    "svm_Dataset2 = svm_Dataset2.fit(X22.values, y_train2.values)\n",
    "plot_decision_regions(X22.values, y_train2.values, classifier=svm_Dataset2)\n",
    "plt.xlabel('x1')\n",
    "plt.ylabel('x2')\n",
    "plt.legend(loc='upper left')\n",
    "plt.grid()\n",
    "plt.tight_layout()\n",
    "plt.show()"
   ]
  },
  {
   "cell_type": "code",
   "execution_count": 42,
   "metadata": {},
   "outputs": [
    {
     "name": "stdout",
     "output_type": "stream",
     "text": [
      "Nursery dataset\n",
      "dual coef \n",
      " [[ 0.          0.          1.         ... -1.         -1.\n",
      "  -1.        ]\n",
      " [ 0.          0.          0.         ... -1.         -1.\n",
      "  -1.        ]\n",
      " [ 1.          1.          0.         ... -0.         -0.\n",
      "  -0.        ]\n",
      " [ 0.          0.          0.         ... -0.47985772 -0.\n",
      "  -1.        ]]\n",
      "support vectors \n",
      " [[3. 5.]\n",
      " [3. 4.]\n",
      " [2. 2.]\n",
      " ...\n",
      " [2. 2.]\n",
      " [1. 2.]\n",
      " [2. 1.]]\n",
      "index of support vectors \n",
      "  [   0    4    6 ... 8924 9023 9030]\n",
      "bias [ 0.06711158  1.          0.21637831  1.00000039  1.          0.21637859\n",
      "  1.00000039 -0.59885101 -1.          0.48176958]\n",
      "the classifier \n",
      " SVC(C=1.0, cache_size=200, class_weight=None, coef0=0.0,\n",
      "  decision_function_shape='ovr', degree=3, gamma='auto_deprecated',\n",
      "  kernel='rbf', max_iter=-1, probability=False, random_state=None,\n",
      "  shrinking=True, tol=1e-05, verbose=0)\n"
     ]
    }
   ],
   "source": [
    "print('Nursery dataset')\n",
    "print('dual coef \\n', svm_Dataset2.dual_coef_)\n",
    "print ('support vectors \\n', svm_Dataset2.support_vectors_)\n",
    "print('index of support vectors \\n ', svm_Dataset2.support_)\n",
    "print ('bias', svm_Dataset2.intercept_)\n",
    "print('the classifier \\n', svm_Dataset2)"
   ]
  }
 ],
 "metadata": {
  "kernelspec": {
   "display_name": "Python 3",
   "language": "python",
   "name": "python3"
  },
  "language_info": {
   "codemirror_mode": {
    "name": "ipython",
    "version": 3
   },
   "file_extension": ".py",
   "mimetype": "text/x-python",
   "name": "python",
   "nbconvert_exporter": "python",
   "pygments_lexer": "ipython3",
   "version": "3.6.7"
  }
 },
 "nbformat": 4,
 "nbformat_minor": 2
}
