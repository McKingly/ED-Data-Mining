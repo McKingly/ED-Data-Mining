{
 "cells": [
  {
   "cell_type": "markdown",
   "metadata": {},
   "source": [
    "# Notebook A\n",
    "## Exploração de Dados 2018/2019 \n",
    "### Nelson Costa 42983\n",
    "### Armando Sousa 76498"
   ]
  },
  {
   "cell_type": "markdown",
   "metadata": {},
   "source": [
    "## Index\n",
    "- [Task A - Pre Processing](#Task-A---Pre-Processing)\n",
    " - [Checking missing values](#Checking-if-datasets-have-missing-values)\n",
    " - [Handling categorical data](#Handling-categorical-data)\n",
    " - [Encoding class labels](#Encoding-class-labels)\n",
    " - [Partitioning datasets](#Partitioning-datasets-in-training-and-test-sets)\n",
    " - [Rank features](#Rank-features)\n",
    "   - [Univariate Feature Selection](#1.-Univariate-Feature-Selection)\n",
    "     - [1. Mutual Info Classif](#1.-Mutual-Info-Classif)\n",
    "     - [2. Chi-squared](#2.-Chi-squared)\n",
    " - [Dimension reduction](#Dimension-reduction)\n",
    "   - [Principal Component Analysis - Banknotes](#PCA---Banknotes-dataset)\n",
    "   - [Kernel PCA - Banknotes](#KPCA---Banknotes-dataset)\n",
    "   - [Principal Component Analysis - Nursery](#PCA---Nursery-dataset)\n",
    "   - [Kernel PCA - Nursery](#KPCA---Nursery-dataset)\n",
    "- [Task B - Predictive Model](#Task-B---Predictive-Model)\n",
    " - [Multilayer Perceptron - Banknotes dataset](#MLP---Banknotes-dataset)\n",
    " - [Support Vector Machine - Banknotes dataset](#SVM---Banknotes-dataset)\n",
    " - [Multilayer Perceptron - Nursery dataset](#MLP---Nursery-dataset)\n",
    " - [Support Vector Machine - Nursery dataset](#SVM---Nursery-dataset)\n",
    " \n"
   ]
  },
  {
   "cell_type": "code",
   "execution_count": 1,
   "metadata": {},
   "outputs": [],
   "source": [
    "import pandas as pd\n",
    "import numpy as np\n",
    "import xlrd\n",
    "import copy\n",
    "%matplotlib inline"
   ]
  },
  {
   "cell_type": "code",
   "execution_count": 2,
   "metadata": {},
   "outputs": [],
   "source": [
    "#Disable warning\n",
    "import warnings\n",
    "warnings.filterwarnings(\"ignore\", category=FutureWarning)\n",
    "warnings.filterwarnings(\"ignore\", category=DeprecationWarning)"
   ]
  },
  {
   "cell_type": "markdown",
   "metadata": {},
   "source": [
    "## Reading datasets"
   ]
  },
  {
   "cell_type": "markdown",
   "metadata": {},
   "source": [
    "### Banknotes dataset"
   ]
  },
  {
   "cell_type": "code",
   "execution_count": 3,
   "metadata": {},
   "outputs": [],
   "source": [
    "df_bankNotes = pd.read_excel('./data_banknote_authentication.xlsx')\n",
    "#df_bankNotes"
   ]
  },
  {
   "cell_type": "markdown",
   "metadata": {},
   "source": [
    "### Nursery dataset"
   ]
  },
  {
   "cell_type": "code",
   "execution_count": 4,
   "metadata": {},
   "outputs": [],
   "source": [
    "df_nursery = pd.read_excel('./nursery.xlsx')\n",
    "#df_nursery"
   ]
  },
  {
   "cell_type": "markdown",
   "metadata": {},
   "source": [
    "# Task A - Pre Processing"
   ]
  },
  {
   "cell_type": "markdown",
   "metadata": {},
   "source": [
    "## Checking if datasets have missing values"
   ]
  },
  {
   "cell_type": "markdown",
   "metadata": {},
   "source": [
    "### Banknotes dataset"
   ]
  },
  {
   "cell_type": "code",
   "execution_count": 5,
   "metadata": {},
   "outputs": [
    {
     "data": {
      "text/plain": [
       "variance of Wavelet Transformed image    0\n",
       "skewness of Wavelet Transformed image    0\n",
       "curtosis of Wavelet Transformed image    0\n",
       "entropy of image                         0\n",
       "class                                    0\n",
       "dtype: int64"
      ]
     },
     "execution_count": 5,
     "metadata": {},
     "output_type": "execute_result"
    }
   ],
   "source": [
    "df_bankNotes.isnull().sum()"
   ]
  },
  {
   "cell_type": "markdown",
   "metadata": {},
   "source": [
    "### Nursery dataset"
   ]
  },
  {
   "cell_type": "code",
   "execution_count": 6,
   "metadata": {},
   "outputs": [
    {
     "data": {
      "text/plain": [
       "parents     0\n",
       "has_nurs    0\n",
       "form        0\n",
       "children    0\n",
       "housing     0\n",
       "finance     0\n",
       "social      0\n",
       "health      0\n",
       "class       0\n",
       "dtype: int64"
      ]
     },
     "execution_count": 6,
     "metadata": {},
     "output_type": "execute_result"
    }
   ],
   "source": [
    "df_nursery.isnull().sum()"
   ]
  },
  {
   "cell_type": "markdown",
   "metadata": {},
   "source": [
    "## Handling categorical data"
   ]
  },
  {
   "cell_type": "markdown",
   "metadata": {},
   "source": [
    "### Mapping ordinal features"
   ]
  },
  {
   "cell_type": "markdown",
   "metadata": {},
   "source": [
    "#### Nursery dataset"
   ]
  },
  {
   "cell_type": "code",
   "execution_count": 7,
   "metadata": {},
   "outputs": [],
   "source": [
    "# print features before mapping\n",
    "#df_nursery[df_nursery.columns[0:8]]"
   ]
  },
  {
   "cell_type": "code",
   "execution_count": 8,
   "metadata": {
    "scrolled": true
   },
   "outputs": [],
   "source": [
    "# get dataset copy\n",
    "df_nursery_copy = df_nursery.copy()\n",
    "\n",
    "# cast data to string\n",
    "df_nursery_copy = df_nursery_copy.astype(str)\n",
    "\n",
    "# map features\n",
    "parents_mapping = {'usual':1, 'pretentious':2, 'great_pret':3}\n",
    "df_nursery_copy['parents'] = df_nursery_copy['parents'].map(parents_mapping)\n",
    "\n",
    "has_nurs_mapping = {'proper':1, 'less_proper':2, 'improper':3, 'critical':4, 'very_crit':5}\n",
    "df_nursery_copy['has_nurs'] = df_nursery_copy['has_nurs'].map(has_nurs_mapping)\n",
    "\n",
    "form_mapping = {'complete':1, 'completed':2, 'incomplete':3, 'foster':4}\n",
    "df_nursery_copy['form'] = df_nursery_copy['form'].map(form_mapping)\n",
    "\n",
    "children_mapping = {'1':1, '2':2, '3':3, 'more':4}\n",
    "df_nursery_copy['children'] = df_nursery_copy['children'].map(children_mapping)\n",
    "\n",
    "housing_mapping = {'convenient':1, 'less_conv':2, 'critical':3}\n",
    "df_nursery_copy['housing'] = df_nursery_copy['housing'].map(housing_mapping)\n",
    "\n",
    "finance_mapping = {'convenient':1, 'inconv':2}\n",
    "df_nursery_copy['finance'] = df_nursery_copy['finance'].map(finance_mapping)\n",
    "\n",
    "social_mapping = {'nonprob':1, 'slightly_prob':2, 'problematic':3}\n",
    "df_nursery_copy['social'] = df_nursery_copy['social'].map(social_mapping)\n",
    "\n",
    "health_mapping = {'recommended':1, 'priority':2, 'not_recom':3}\n",
    "df_nursery_copy['health'] = df_nursery_copy['health'].map(health_mapping)"
   ]
  },
  {
   "cell_type": "code",
   "execution_count": 9,
   "metadata": {},
   "outputs": [
    {
     "data": {
      "text/html": [
       "<div>\n",
       "<style scoped>\n",
       "    .dataframe tbody tr th:only-of-type {\n",
       "        vertical-align: middle;\n",
       "    }\n",
       "\n",
       "    .dataframe tbody tr th {\n",
       "        vertical-align: top;\n",
       "    }\n",
       "\n",
       "    .dataframe thead th {\n",
       "        text-align: right;\n",
       "    }\n",
       "</style>\n",
       "<table border=\"1\" class=\"dataframe\">\n",
       "  <thead>\n",
       "    <tr style=\"text-align: right;\">\n",
       "      <th></th>\n",
       "      <th>parents</th>\n",
       "      <th>has_nurs</th>\n",
       "      <th>form</th>\n",
       "      <th>children</th>\n",
       "      <th>housing</th>\n",
       "      <th>finance</th>\n",
       "      <th>social</th>\n",
       "      <th>health</th>\n",
       "    </tr>\n",
       "  </thead>\n",
       "  <tbody>\n",
       "    <tr>\n",
       "      <th>0</th>\n",
       "      <td>1</td>\n",
       "      <td>1</td>\n",
       "      <td>1</td>\n",
       "      <td>1</td>\n",
       "      <td>1</td>\n",
       "      <td>1</td>\n",
       "      <td>1</td>\n",
       "      <td>1</td>\n",
       "    </tr>\n",
       "    <tr>\n",
       "      <th>1</th>\n",
       "      <td>1</td>\n",
       "      <td>1</td>\n",
       "      <td>1</td>\n",
       "      <td>1</td>\n",
       "      <td>1</td>\n",
       "      <td>1</td>\n",
       "      <td>1</td>\n",
       "      <td>2</td>\n",
       "    </tr>\n",
       "    <tr>\n",
       "      <th>2</th>\n",
       "      <td>1</td>\n",
       "      <td>1</td>\n",
       "      <td>1</td>\n",
       "      <td>1</td>\n",
       "      <td>1</td>\n",
       "      <td>1</td>\n",
       "      <td>1</td>\n",
       "      <td>3</td>\n",
       "    </tr>\n",
       "    <tr>\n",
       "      <th>3</th>\n",
       "      <td>1</td>\n",
       "      <td>1</td>\n",
       "      <td>1</td>\n",
       "      <td>1</td>\n",
       "      <td>1</td>\n",
       "      <td>1</td>\n",
       "      <td>2</td>\n",
       "      <td>1</td>\n",
       "    </tr>\n",
       "    <tr>\n",
       "      <th>4</th>\n",
       "      <td>1</td>\n",
       "      <td>1</td>\n",
       "      <td>1</td>\n",
       "      <td>1</td>\n",
       "      <td>1</td>\n",
       "      <td>1</td>\n",
       "      <td>2</td>\n",
       "      <td>2</td>\n",
       "    </tr>\n",
       "    <tr>\n",
       "      <th>5</th>\n",
       "      <td>1</td>\n",
       "      <td>1</td>\n",
       "      <td>1</td>\n",
       "      <td>1</td>\n",
       "      <td>1</td>\n",
       "      <td>1</td>\n",
       "      <td>2</td>\n",
       "      <td>3</td>\n",
       "    </tr>\n",
       "    <tr>\n",
       "      <th>6</th>\n",
       "      <td>1</td>\n",
       "      <td>1</td>\n",
       "      <td>1</td>\n",
       "      <td>1</td>\n",
       "      <td>1</td>\n",
       "      <td>1</td>\n",
       "      <td>3</td>\n",
       "      <td>1</td>\n",
       "    </tr>\n",
       "    <tr>\n",
       "      <th>7</th>\n",
       "      <td>1</td>\n",
       "      <td>1</td>\n",
       "      <td>1</td>\n",
       "      <td>1</td>\n",
       "      <td>1</td>\n",
       "      <td>1</td>\n",
       "      <td>3</td>\n",
       "      <td>2</td>\n",
       "    </tr>\n",
       "    <tr>\n",
       "      <th>8</th>\n",
       "      <td>1</td>\n",
       "      <td>1</td>\n",
       "      <td>1</td>\n",
       "      <td>1</td>\n",
       "      <td>1</td>\n",
       "      <td>1</td>\n",
       "      <td>3</td>\n",
       "      <td>3</td>\n",
       "    </tr>\n",
       "    <tr>\n",
       "      <th>9</th>\n",
       "      <td>1</td>\n",
       "      <td>1</td>\n",
       "      <td>1</td>\n",
       "      <td>1</td>\n",
       "      <td>1</td>\n",
       "      <td>2</td>\n",
       "      <td>1</td>\n",
       "      <td>1</td>\n",
       "    </tr>\n",
       "    <tr>\n",
       "      <th>10</th>\n",
       "      <td>1</td>\n",
       "      <td>1</td>\n",
       "      <td>1</td>\n",
       "      <td>1</td>\n",
       "      <td>1</td>\n",
       "      <td>2</td>\n",
       "      <td>1</td>\n",
       "      <td>2</td>\n",
       "    </tr>\n",
       "    <tr>\n",
       "      <th>11</th>\n",
       "      <td>1</td>\n",
       "      <td>1</td>\n",
       "      <td>1</td>\n",
       "      <td>1</td>\n",
       "      <td>1</td>\n",
       "      <td>2</td>\n",
       "      <td>1</td>\n",
       "      <td>3</td>\n",
       "    </tr>\n",
       "    <tr>\n",
       "      <th>12</th>\n",
       "      <td>1</td>\n",
       "      <td>1</td>\n",
       "      <td>1</td>\n",
       "      <td>1</td>\n",
       "      <td>1</td>\n",
       "      <td>2</td>\n",
       "      <td>2</td>\n",
       "      <td>1</td>\n",
       "    </tr>\n",
       "    <tr>\n",
       "      <th>13</th>\n",
       "      <td>1</td>\n",
       "      <td>1</td>\n",
       "      <td>1</td>\n",
       "      <td>1</td>\n",
       "      <td>1</td>\n",
       "      <td>2</td>\n",
       "      <td>2</td>\n",
       "      <td>2</td>\n",
       "    </tr>\n",
       "    <tr>\n",
       "      <th>14</th>\n",
       "      <td>1</td>\n",
       "      <td>1</td>\n",
       "      <td>1</td>\n",
       "      <td>1</td>\n",
       "      <td>1</td>\n",
       "      <td>2</td>\n",
       "      <td>2</td>\n",
       "      <td>3</td>\n",
       "    </tr>\n",
       "    <tr>\n",
       "      <th>15</th>\n",
       "      <td>1</td>\n",
       "      <td>1</td>\n",
       "      <td>1</td>\n",
       "      <td>1</td>\n",
       "      <td>1</td>\n",
       "      <td>2</td>\n",
       "      <td>3</td>\n",
       "      <td>1</td>\n",
       "    </tr>\n",
       "    <tr>\n",
       "      <th>16</th>\n",
       "      <td>1</td>\n",
       "      <td>1</td>\n",
       "      <td>1</td>\n",
       "      <td>1</td>\n",
       "      <td>1</td>\n",
       "      <td>2</td>\n",
       "      <td>3</td>\n",
       "      <td>2</td>\n",
       "    </tr>\n",
       "    <tr>\n",
       "      <th>17</th>\n",
       "      <td>1</td>\n",
       "      <td>1</td>\n",
       "      <td>1</td>\n",
       "      <td>1</td>\n",
       "      <td>1</td>\n",
       "      <td>2</td>\n",
       "      <td>3</td>\n",
       "      <td>3</td>\n",
       "    </tr>\n",
       "    <tr>\n",
       "      <th>18</th>\n",
       "      <td>1</td>\n",
       "      <td>1</td>\n",
       "      <td>1</td>\n",
       "      <td>1</td>\n",
       "      <td>2</td>\n",
       "      <td>1</td>\n",
       "      <td>1</td>\n",
       "      <td>1</td>\n",
       "    </tr>\n",
       "    <tr>\n",
       "      <th>19</th>\n",
       "      <td>1</td>\n",
       "      <td>1</td>\n",
       "      <td>1</td>\n",
       "      <td>1</td>\n",
       "      <td>2</td>\n",
       "      <td>1</td>\n",
       "      <td>1</td>\n",
       "      <td>2</td>\n",
       "    </tr>\n",
       "    <tr>\n",
       "      <th>20</th>\n",
       "      <td>1</td>\n",
       "      <td>1</td>\n",
       "      <td>1</td>\n",
       "      <td>1</td>\n",
       "      <td>2</td>\n",
       "      <td>1</td>\n",
       "      <td>1</td>\n",
       "      <td>3</td>\n",
       "    </tr>\n",
       "    <tr>\n",
       "      <th>21</th>\n",
       "      <td>1</td>\n",
       "      <td>1</td>\n",
       "      <td>1</td>\n",
       "      <td>1</td>\n",
       "      <td>2</td>\n",
       "      <td>1</td>\n",
       "      <td>2</td>\n",
       "      <td>1</td>\n",
       "    </tr>\n",
       "    <tr>\n",
       "      <th>22</th>\n",
       "      <td>1</td>\n",
       "      <td>1</td>\n",
       "      <td>1</td>\n",
       "      <td>1</td>\n",
       "      <td>2</td>\n",
       "      <td>1</td>\n",
       "      <td>2</td>\n",
       "      <td>2</td>\n",
       "    </tr>\n",
       "    <tr>\n",
       "      <th>23</th>\n",
       "      <td>1</td>\n",
       "      <td>1</td>\n",
       "      <td>1</td>\n",
       "      <td>1</td>\n",
       "      <td>2</td>\n",
       "      <td>1</td>\n",
       "      <td>2</td>\n",
       "      <td>3</td>\n",
       "    </tr>\n",
       "    <tr>\n",
       "      <th>24</th>\n",
       "      <td>1</td>\n",
       "      <td>1</td>\n",
       "      <td>1</td>\n",
       "      <td>1</td>\n",
       "      <td>2</td>\n",
       "      <td>1</td>\n",
       "      <td>3</td>\n",
       "      <td>1</td>\n",
       "    </tr>\n",
       "    <tr>\n",
       "      <th>25</th>\n",
       "      <td>1</td>\n",
       "      <td>1</td>\n",
       "      <td>1</td>\n",
       "      <td>1</td>\n",
       "      <td>2</td>\n",
       "      <td>1</td>\n",
       "      <td>3</td>\n",
       "      <td>2</td>\n",
       "    </tr>\n",
       "    <tr>\n",
       "      <th>26</th>\n",
       "      <td>1</td>\n",
       "      <td>1</td>\n",
       "      <td>1</td>\n",
       "      <td>1</td>\n",
       "      <td>2</td>\n",
       "      <td>1</td>\n",
       "      <td>3</td>\n",
       "      <td>3</td>\n",
       "    </tr>\n",
       "    <tr>\n",
       "      <th>27</th>\n",
       "      <td>1</td>\n",
       "      <td>1</td>\n",
       "      <td>1</td>\n",
       "      <td>1</td>\n",
       "      <td>2</td>\n",
       "      <td>2</td>\n",
       "      <td>1</td>\n",
       "      <td>1</td>\n",
       "    </tr>\n",
       "    <tr>\n",
       "      <th>28</th>\n",
       "      <td>1</td>\n",
       "      <td>1</td>\n",
       "      <td>1</td>\n",
       "      <td>1</td>\n",
       "      <td>2</td>\n",
       "      <td>2</td>\n",
       "      <td>1</td>\n",
       "      <td>2</td>\n",
       "    </tr>\n",
       "    <tr>\n",
       "      <th>29</th>\n",
       "      <td>1</td>\n",
       "      <td>1</td>\n",
       "      <td>1</td>\n",
       "      <td>1</td>\n",
       "      <td>2</td>\n",
       "      <td>2</td>\n",
       "      <td>1</td>\n",
       "      <td>3</td>\n",
       "    </tr>\n",
       "    <tr>\n",
       "      <th>...</th>\n",
       "      <td>...</td>\n",
       "      <td>...</td>\n",
       "      <td>...</td>\n",
       "      <td>...</td>\n",
       "      <td>...</td>\n",
       "      <td>...</td>\n",
       "      <td>...</td>\n",
       "      <td>...</td>\n",
       "    </tr>\n",
       "    <tr>\n",
       "      <th>12930</th>\n",
       "      <td>3</td>\n",
       "      <td>5</td>\n",
       "      <td>4</td>\n",
       "      <td>4</td>\n",
       "      <td>2</td>\n",
       "      <td>1</td>\n",
       "      <td>3</td>\n",
       "      <td>1</td>\n",
       "    </tr>\n",
       "    <tr>\n",
       "      <th>12931</th>\n",
       "      <td>3</td>\n",
       "      <td>5</td>\n",
       "      <td>4</td>\n",
       "      <td>4</td>\n",
       "      <td>2</td>\n",
       "      <td>1</td>\n",
       "      <td>3</td>\n",
       "      <td>2</td>\n",
       "    </tr>\n",
       "    <tr>\n",
       "      <th>12932</th>\n",
       "      <td>3</td>\n",
       "      <td>5</td>\n",
       "      <td>4</td>\n",
       "      <td>4</td>\n",
       "      <td>2</td>\n",
       "      <td>1</td>\n",
       "      <td>3</td>\n",
       "      <td>3</td>\n",
       "    </tr>\n",
       "    <tr>\n",
       "      <th>12933</th>\n",
       "      <td>3</td>\n",
       "      <td>5</td>\n",
       "      <td>4</td>\n",
       "      <td>4</td>\n",
       "      <td>2</td>\n",
       "      <td>2</td>\n",
       "      <td>1</td>\n",
       "      <td>1</td>\n",
       "    </tr>\n",
       "    <tr>\n",
       "      <th>12934</th>\n",
       "      <td>3</td>\n",
       "      <td>5</td>\n",
       "      <td>4</td>\n",
       "      <td>4</td>\n",
       "      <td>2</td>\n",
       "      <td>2</td>\n",
       "      <td>1</td>\n",
       "      <td>2</td>\n",
       "    </tr>\n",
       "    <tr>\n",
       "      <th>12935</th>\n",
       "      <td>3</td>\n",
       "      <td>5</td>\n",
       "      <td>4</td>\n",
       "      <td>4</td>\n",
       "      <td>2</td>\n",
       "      <td>2</td>\n",
       "      <td>1</td>\n",
       "      <td>3</td>\n",
       "    </tr>\n",
       "    <tr>\n",
       "      <th>12936</th>\n",
       "      <td>3</td>\n",
       "      <td>5</td>\n",
       "      <td>4</td>\n",
       "      <td>4</td>\n",
       "      <td>2</td>\n",
       "      <td>2</td>\n",
       "      <td>2</td>\n",
       "      <td>1</td>\n",
       "    </tr>\n",
       "    <tr>\n",
       "      <th>12937</th>\n",
       "      <td>3</td>\n",
       "      <td>5</td>\n",
       "      <td>4</td>\n",
       "      <td>4</td>\n",
       "      <td>2</td>\n",
       "      <td>2</td>\n",
       "      <td>2</td>\n",
       "      <td>2</td>\n",
       "    </tr>\n",
       "    <tr>\n",
       "      <th>12938</th>\n",
       "      <td>3</td>\n",
       "      <td>5</td>\n",
       "      <td>4</td>\n",
       "      <td>4</td>\n",
       "      <td>2</td>\n",
       "      <td>2</td>\n",
       "      <td>2</td>\n",
       "      <td>3</td>\n",
       "    </tr>\n",
       "    <tr>\n",
       "      <th>12939</th>\n",
       "      <td>3</td>\n",
       "      <td>5</td>\n",
       "      <td>4</td>\n",
       "      <td>4</td>\n",
       "      <td>2</td>\n",
       "      <td>2</td>\n",
       "      <td>3</td>\n",
       "      <td>1</td>\n",
       "    </tr>\n",
       "    <tr>\n",
       "      <th>12940</th>\n",
       "      <td>3</td>\n",
       "      <td>5</td>\n",
       "      <td>4</td>\n",
       "      <td>4</td>\n",
       "      <td>2</td>\n",
       "      <td>2</td>\n",
       "      <td>3</td>\n",
       "      <td>2</td>\n",
       "    </tr>\n",
       "    <tr>\n",
       "      <th>12941</th>\n",
       "      <td>3</td>\n",
       "      <td>5</td>\n",
       "      <td>4</td>\n",
       "      <td>4</td>\n",
       "      <td>2</td>\n",
       "      <td>2</td>\n",
       "      <td>3</td>\n",
       "      <td>3</td>\n",
       "    </tr>\n",
       "    <tr>\n",
       "      <th>12942</th>\n",
       "      <td>3</td>\n",
       "      <td>5</td>\n",
       "      <td>4</td>\n",
       "      <td>4</td>\n",
       "      <td>3</td>\n",
       "      <td>1</td>\n",
       "      <td>1</td>\n",
       "      <td>1</td>\n",
       "    </tr>\n",
       "    <tr>\n",
       "      <th>12943</th>\n",
       "      <td>3</td>\n",
       "      <td>5</td>\n",
       "      <td>4</td>\n",
       "      <td>4</td>\n",
       "      <td>3</td>\n",
       "      <td>1</td>\n",
       "      <td>1</td>\n",
       "      <td>2</td>\n",
       "    </tr>\n",
       "    <tr>\n",
       "      <th>12944</th>\n",
       "      <td>3</td>\n",
       "      <td>5</td>\n",
       "      <td>4</td>\n",
       "      <td>4</td>\n",
       "      <td>3</td>\n",
       "      <td>1</td>\n",
       "      <td>1</td>\n",
       "      <td>3</td>\n",
       "    </tr>\n",
       "    <tr>\n",
       "      <th>12945</th>\n",
       "      <td>3</td>\n",
       "      <td>5</td>\n",
       "      <td>4</td>\n",
       "      <td>4</td>\n",
       "      <td>3</td>\n",
       "      <td>1</td>\n",
       "      <td>2</td>\n",
       "      <td>1</td>\n",
       "    </tr>\n",
       "    <tr>\n",
       "      <th>12946</th>\n",
       "      <td>3</td>\n",
       "      <td>5</td>\n",
       "      <td>4</td>\n",
       "      <td>4</td>\n",
       "      <td>3</td>\n",
       "      <td>1</td>\n",
       "      <td>2</td>\n",
       "      <td>2</td>\n",
       "    </tr>\n",
       "    <tr>\n",
       "      <th>12947</th>\n",
       "      <td>3</td>\n",
       "      <td>5</td>\n",
       "      <td>4</td>\n",
       "      <td>4</td>\n",
       "      <td>3</td>\n",
       "      <td>1</td>\n",
       "      <td>2</td>\n",
       "      <td>3</td>\n",
       "    </tr>\n",
       "    <tr>\n",
       "      <th>12948</th>\n",
       "      <td>3</td>\n",
       "      <td>5</td>\n",
       "      <td>4</td>\n",
       "      <td>4</td>\n",
       "      <td>3</td>\n",
       "      <td>1</td>\n",
       "      <td>3</td>\n",
       "      <td>1</td>\n",
       "    </tr>\n",
       "    <tr>\n",
       "      <th>12949</th>\n",
       "      <td>3</td>\n",
       "      <td>5</td>\n",
       "      <td>4</td>\n",
       "      <td>4</td>\n",
       "      <td>3</td>\n",
       "      <td>1</td>\n",
       "      <td>3</td>\n",
       "      <td>2</td>\n",
       "    </tr>\n",
       "    <tr>\n",
       "      <th>12950</th>\n",
       "      <td>3</td>\n",
       "      <td>5</td>\n",
       "      <td>4</td>\n",
       "      <td>4</td>\n",
       "      <td>3</td>\n",
       "      <td>1</td>\n",
       "      <td>3</td>\n",
       "      <td>3</td>\n",
       "    </tr>\n",
       "    <tr>\n",
       "      <th>12951</th>\n",
       "      <td>3</td>\n",
       "      <td>5</td>\n",
       "      <td>4</td>\n",
       "      <td>4</td>\n",
       "      <td>3</td>\n",
       "      <td>2</td>\n",
       "      <td>1</td>\n",
       "      <td>1</td>\n",
       "    </tr>\n",
       "    <tr>\n",
       "      <th>12952</th>\n",
       "      <td>3</td>\n",
       "      <td>5</td>\n",
       "      <td>4</td>\n",
       "      <td>4</td>\n",
       "      <td>3</td>\n",
       "      <td>2</td>\n",
       "      <td>1</td>\n",
       "      <td>2</td>\n",
       "    </tr>\n",
       "    <tr>\n",
       "      <th>12953</th>\n",
       "      <td>3</td>\n",
       "      <td>5</td>\n",
       "      <td>4</td>\n",
       "      <td>4</td>\n",
       "      <td>3</td>\n",
       "      <td>2</td>\n",
       "      <td>1</td>\n",
       "      <td>3</td>\n",
       "    </tr>\n",
       "    <tr>\n",
       "      <th>12954</th>\n",
       "      <td>3</td>\n",
       "      <td>5</td>\n",
       "      <td>4</td>\n",
       "      <td>4</td>\n",
       "      <td>3</td>\n",
       "      <td>2</td>\n",
       "      <td>2</td>\n",
       "      <td>1</td>\n",
       "    </tr>\n",
       "    <tr>\n",
       "      <th>12955</th>\n",
       "      <td>3</td>\n",
       "      <td>5</td>\n",
       "      <td>4</td>\n",
       "      <td>4</td>\n",
       "      <td>3</td>\n",
       "      <td>2</td>\n",
       "      <td>2</td>\n",
       "      <td>2</td>\n",
       "    </tr>\n",
       "    <tr>\n",
       "      <th>12956</th>\n",
       "      <td>3</td>\n",
       "      <td>5</td>\n",
       "      <td>4</td>\n",
       "      <td>4</td>\n",
       "      <td>3</td>\n",
       "      <td>2</td>\n",
       "      <td>2</td>\n",
       "      <td>3</td>\n",
       "    </tr>\n",
       "    <tr>\n",
       "      <th>12957</th>\n",
       "      <td>3</td>\n",
       "      <td>5</td>\n",
       "      <td>4</td>\n",
       "      <td>4</td>\n",
       "      <td>3</td>\n",
       "      <td>2</td>\n",
       "      <td>3</td>\n",
       "      <td>1</td>\n",
       "    </tr>\n",
       "    <tr>\n",
       "      <th>12958</th>\n",
       "      <td>3</td>\n",
       "      <td>5</td>\n",
       "      <td>4</td>\n",
       "      <td>4</td>\n",
       "      <td>3</td>\n",
       "      <td>2</td>\n",
       "      <td>3</td>\n",
       "      <td>2</td>\n",
       "    </tr>\n",
       "    <tr>\n",
       "      <th>12959</th>\n",
       "      <td>3</td>\n",
       "      <td>5</td>\n",
       "      <td>4</td>\n",
       "      <td>4</td>\n",
       "      <td>3</td>\n",
       "      <td>2</td>\n",
       "      <td>3</td>\n",
       "      <td>3</td>\n",
       "    </tr>\n",
       "  </tbody>\n",
       "</table>\n",
       "<p>12960 rows × 8 columns</p>\n",
       "</div>"
      ],
      "text/plain": [
       "       parents  has_nurs  form  children  housing  finance  social  health\n",
       "0            1         1     1         1        1        1       1       1\n",
       "1            1         1     1         1        1        1       1       2\n",
       "2            1         1     1         1        1        1       1       3\n",
       "3            1         1     1         1        1        1       2       1\n",
       "4            1         1     1         1        1        1       2       2\n",
       "5            1         1     1         1        1        1       2       3\n",
       "6            1         1     1         1        1        1       3       1\n",
       "7            1         1     1         1        1        1       3       2\n",
       "8            1         1     1         1        1        1       3       3\n",
       "9            1         1     1         1        1        2       1       1\n",
       "10           1         1     1         1        1        2       1       2\n",
       "11           1         1     1         1        1        2       1       3\n",
       "12           1         1     1         1        1        2       2       1\n",
       "13           1         1     1         1        1        2       2       2\n",
       "14           1         1     1         1        1        2       2       3\n",
       "15           1         1     1         1        1        2       3       1\n",
       "16           1         1     1         1        1        2       3       2\n",
       "17           1         1     1         1        1        2       3       3\n",
       "18           1         1     1         1        2        1       1       1\n",
       "19           1         1     1         1        2        1       1       2\n",
       "20           1         1     1         1        2        1       1       3\n",
       "21           1         1     1         1        2        1       2       1\n",
       "22           1         1     1         1        2        1       2       2\n",
       "23           1         1     1         1        2        1       2       3\n",
       "24           1         1     1         1        2        1       3       1\n",
       "25           1         1     1         1        2        1       3       2\n",
       "26           1         1     1         1        2        1       3       3\n",
       "27           1         1     1         1        2        2       1       1\n",
       "28           1         1     1         1        2        2       1       2\n",
       "29           1         1     1         1        2        2       1       3\n",
       "...        ...       ...   ...       ...      ...      ...     ...     ...\n",
       "12930        3         5     4         4        2        1       3       1\n",
       "12931        3         5     4         4        2        1       3       2\n",
       "12932        3         5     4         4        2        1       3       3\n",
       "12933        3         5     4         4        2        2       1       1\n",
       "12934        3         5     4         4        2        2       1       2\n",
       "12935        3         5     4         4        2        2       1       3\n",
       "12936        3         5     4         4        2        2       2       1\n",
       "12937        3         5     4         4        2        2       2       2\n",
       "12938        3         5     4         4        2        2       2       3\n",
       "12939        3         5     4         4        2        2       3       1\n",
       "12940        3         5     4         4        2        2       3       2\n",
       "12941        3         5     4         4        2        2       3       3\n",
       "12942        3         5     4         4        3        1       1       1\n",
       "12943        3         5     4         4        3        1       1       2\n",
       "12944        3         5     4         4        3        1       1       3\n",
       "12945        3         5     4         4        3        1       2       1\n",
       "12946        3         5     4         4        3        1       2       2\n",
       "12947        3         5     4         4        3        1       2       3\n",
       "12948        3         5     4         4        3        1       3       1\n",
       "12949        3         5     4         4        3        1       3       2\n",
       "12950        3         5     4         4        3        1       3       3\n",
       "12951        3         5     4         4        3        2       1       1\n",
       "12952        3         5     4         4        3        2       1       2\n",
       "12953        3         5     4         4        3        2       1       3\n",
       "12954        3         5     4         4        3        2       2       1\n",
       "12955        3         5     4         4        3        2       2       2\n",
       "12956        3         5     4         4        3        2       2       3\n",
       "12957        3         5     4         4        3        2       3       1\n",
       "12958        3         5     4         4        3        2       3       2\n",
       "12959        3         5     4         4        3        2       3       3\n",
       "\n",
       "[12960 rows x 8 columns]"
      ]
     },
     "execution_count": 9,
     "metadata": {},
     "output_type": "execute_result"
    }
   ],
   "source": [
    "# print features after mapping\n",
    "df_nursery_copy[df_nursery_copy.columns[0:8]]"
   ]
  },
  {
   "cell_type": "markdown",
   "metadata": {},
   "source": [
    "## Encoding class labels"
   ]
  },
  {
   "cell_type": "markdown",
   "metadata": {},
   "source": [
    "### Nursery dataset"
   ]
  },
  {
   "cell_type": "code",
   "execution_count": 10,
   "metadata": {},
   "outputs": [],
   "source": [
    "# print labels before encoding\n",
    "#df_nursery_copy[df_nursery_copy.columns[8]]"
   ]
  },
  {
   "cell_type": "code",
   "execution_count": 11,
   "metadata": {},
   "outputs": [
    {
     "data": {
      "text/plain": [
       "{'not_recom': 0,\n",
       " 'priority': 1,\n",
       " 'recommend': 2,\n",
       " 'spec_prior': 3,\n",
       " 'very_recom': 4}"
      ]
     },
     "execution_count": 11,
     "metadata": {},
     "output_type": "execute_result"
    }
   ],
   "source": [
    "class_mapping = {label:idx for idx,label in enumerate(np.unique(df_nursery_copy[df_nursery_copy.columns[8]]))}\n",
    "\n",
    "class_mapping"
   ]
  },
  {
   "cell_type": "code",
   "execution_count": 12,
   "metadata": {},
   "outputs": [],
   "source": [
    "# map labels\n",
    "df_nursery_copy[df_nursery_copy.columns[8]] = df_nursery_copy[df_nursery_copy.columns[8]].map(class_mapping)"
   ]
  },
  {
   "cell_type": "code",
   "execution_count": 13,
   "metadata": {},
   "outputs": [
    {
     "data": {
      "text/plain": [
       "0        2\n",
       "1        1\n",
       "2        0\n",
       "3        2\n",
       "4        1\n",
       "5        0\n",
       "6        1\n",
       "7        1\n",
       "8        0\n",
       "9        4\n",
       "10       1\n",
       "11       0\n",
       "12       4\n",
       "13       1\n",
       "14       0\n",
       "15       1\n",
       "16       1\n",
       "17       0\n",
       "18       4\n",
       "19       1\n",
       "20       0\n",
       "21       4\n",
       "22       1\n",
       "23       0\n",
       "24       1\n",
       "25       1\n",
       "26       0\n",
       "27       4\n",
       "28       1\n",
       "29       0\n",
       "        ..\n",
       "12930    3\n",
       "12931    3\n",
       "12932    0\n",
       "12933    3\n",
       "12934    3\n",
       "12935    0\n",
       "12936    3\n",
       "12937    3\n",
       "12938    0\n",
       "12939    3\n",
       "12940    3\n",
       "12941    0\n",
       "12942    3\n",
       "12943    3\n",
       "12944    0\n",
       "12945    3\n",
       "12946    3\n",
       "12947    0\n",
       "12948    3\n",
       "12949    3\n",
       "12950    0\n",
       "12951    3\n",
       "12952    3\n",
       "12953    0\n",
       "12954    3\n",
       "12955    3\n",
       "12956    0\n",
       "12957    3\n",
       "12958    3\n",
       "12959    0\n",
       "Name: class, Length: 12960, dtype: int64"
      ]
     },
     "execution_count": 13,
     "metadata": {},
     "output_type": "execute_result"
    }
   ],
   "source": [
    "# print labels after encoding\n",
    "df_nursery_copy[df_nursery_copy.columns[8]]"
   ]
  },
  {
   "cell_type": "markdown",
   "metadata": {},
   "source": [
    "## Partitioning datasets in training and test sets"
   ]
  },
  {
   "cell_type": "code",
   "execution_count": 14,
   "metadata": {},
   "outputs": [],
   "source": [
    "# Added version check for recent scikit-learn 0.18 checks\n",
    "from distutils.version import LooseVersion as Version\n",
    "from sklearn import __version__ as sklearn_version\n",
    "\n",
    "if Version(sklearn_version) < '0.18':\n",
    "    from sklearn.cross_validation import train_test_split\n",
    "else:\n",
    "    from sklearn.model_selection import train_test_split"
   ]
  },
  {
   "cell_type": "markdown",
   "metadata": {},
   "source": [
    "### Banknotes dataset"
   ]
  },
  {
   "cell_type": "code",
   "execution_count": 15,
   "metadata": {},
   "outputs": [],
   "source": [
    "# labels reading\n",
    "y1=df_bankNotes[df_bankNotes.columns[4]]\n",
    "# features reading\n",
    "X1=df_bankNotes[df_bankNotes.columns[0:4]]\n",
    "\n",
    "# get training and test sets\n",
    "X_train1,X_test1,y_train1,y_test1 = train_test_split(X1,y1,test_size = 0.3)"
   ]
  },
  {
   "cell_type": "markdown",
   "metadata": {},
   "source": [
    "### Nursery dataset"
   ]
  },
  {
   "cell_type": "code",
   "execution_count": 16,
   "metadata": {},
   "outputs": [],
   "source": [
    "# labels reading\n",
    "y2=df_nursery_copy[df_nursery_copy.columns[8]]\n",
    "# features reading\n",
    "X2=df_nursery_copy[df_nursery_copy.columns[0:8]]\n",
    "\n",
    "# get training and test sets\n",
    "X_train2,X_test2,y_train2,y_test2 = train_test_split(X2,y2,test_size = 0.3)"
   ]
  },
  {
   "cell_type": "markdown",
   "metadata": {},
   "source": [
    "## Rank features"
   ]
  },
  {
   "cell_type": "markdown",
   "metadata": {},
   "source": [
    "### Univariate Feature Selection\n",
    "\n",
    "Univariate feature selection selects the best features by running univariate statistical tests like **chi-squared test, F-1 test, and mutual information** methods.\n",
    "Can't use the **chi-squared** function, if there are negative values.\n",
    "#### 1. Mutual Info Classif"
   ]
  },
  {
   "cell_type": "code",
   "execution_count": 17,
   "metadata": {},
   "outputs": [
    {
     "data": {
      "text/plain": [
       "SelectKBest(k=2, score_func=<function mutual_info_classif at 0x7fea20a3a0d0>)"
      ]
     },
     "execution_count": 17,
     "metadata": {},
     "output_type": "execute_result"
    }
   ],
   "source": [
    "from sklearn.feature_selection import SelectKBest\n",
    "from sklearn.feature_selection import chi2, mutual_info_classif\n",
    "\n",
    "test = SelectKBest(score_func = mutual_info_classif, k=2)\n",
    "test"
   ]
  },
  {
   "cell_type": "markdown",
   "metadata": {},
   "source": [
    "##### Banknotes dataset"
   ]
  },
  {
   "cell_type": "code",
   "execution_count": 18,
   "metadata": {},
   "outputs": [
    {
     "name": "stdout",
     "output_type": "stream",
     "text": [
      "[(0.3647664046492556, 'variance of Wavelet Transformed image'), (0.20946086094330285, 'skewness of Wavelet Transformed image'), (0.11561077838345746, 'curtosis of Wavelet Transformed image'), (0.014708530333376268, 'entropy of image')]\n"
     ]
    }
   ],
   "source": [
    "test.fit(X_train1, y_train1)\n",
    "num_features = len(X_train1.columns)\n",
    "\n",
    "scores = []\n",
    "for i in range(num_features):\n",
    "    score = test.scores_[i]\n",
    "    scores.append((score, X_train1.columns[i]))\n",
    "        \n",
    "print (sorted(scores, reverse = True))"
   ]
  },
  {
   "cell_type": "markdown",
   "metadata": {},
   "source": [
    "##### Nursery dataset"
   ]
  },
  {
   "cell_type": "code",
   "execution_count": 19,
   "metadata": {},
   "outputs": [
    {
     "name": "stdout",
     "output_type": "stream",
     "text": [
      "[(0.6652310768946104, 'health'), (0.1354467283008085, 'has_nurs'), (0.053789338577047374, 'parents'), (0.020757788678245515, 'finance'), (0.011258734736802722, 'housing'), (0.010648534712029534, 'form'), (0.009658838584700291, 'social'), (0.0, 'children')]\n"
     ]
    }
   ],
   "source": [
    "test.fit(X_train2, y_train2)\n",
    "num_features = len(X_train2.columns)\n",
    "\n",
    "scores = []\n",
    "for i in range(num_features):\n",
    "    score = test.scores_[i]\n",
    "    scores.append((score, X_train2.columns[i]))\n",
    "        \n",
    "print (sorted(scores, reverse = True))"
   ]
  },
  {
   "cell_type": "markdown",
   "metadata": {},
   "source": [
    "#### 2. Chi-squared"
   ]
  },
  {
   "cell_type": "code",
   "execution_count": 20,
   "metadata": {},
   "outputs": [],
   "source": [
    "from sklearn.feature_selection import chi2\n",
    "test = SelectKBest(score_func = chi2, k=2)"
   ]
  },
  {
   "cell_type": "markdown",
   "metadata": {},
   "source": [
    "##### Nursery dataset"
   ]
  },
  {
   "cell_type": "code",
   "execution_count": 21,
   "metadata": {},
   "outputs": [
    {
     "name": "stdout",
     "output_type": "stream",
     "text": [
      "[(2296.7141807290827, 'health'), (1404.1004055065375, 'has_nurs'), (263.0229228310083, 'parents'), (83.86662281062016, 'housing'), (67.06555459010974, 'children'), (55.08682205490436, 'social'), (33.95915894542314, 'form'), (8.830394776236265, 'finance')]\n"
     ]
    }
   ],
   "source": [
    "test.fit(X_train2, y_train2)\n",
    "num_features = len(X_train2.columns)\n",
    "\n",
    "scores = []\n",
    "for i in range(num_features):\n",
    "    score = test.scores_[i]\n",
    "    scores.append((score, X_train2.columns[i]))\n",
    "        \n",
    "print (sorted(scores, reverse = True))"
   ]
  },
  {
   "cell_type": "markdown",
   "metadata": {},
   "source": [
    "## Dimension reduction\n",
    "### PCA - Banknotes dataset"
   ]
  },
  {
   "cell_type": "code",
   "execution_count": 22,
   "metadata": {},
   "outputs": [
    {
     "name": "stdout",
     "output_type": "stream",
     "text": [
      "Explained variance ratio: [0.76052109 0.14310613 0.06745101 0.02892177]\n"
     ]
    },
    {
     "data": {
      "image/png": "[encoded data removed]",
      "text/plain": [
       "<Figure size 432x288 with 1 Axes>"
      ]
     },
     "metadata": {
      "needs_background": "light"
     },
     "output_type": "display_data"
    }
   ],
   "source": [
    "import matplotlib.pyplot as plt\n",
    "from sklearn.decomposition import PCA\n",
    "\n",
    "pca = PCA()\n",
    "principalComponents = pca.fit_transform(X_train1)\n",
    "\n",
    "print(\"Explained variance ratio:\",pca.explained_variance_ratio_)\n",
    "range_value = pca.explained_variance_ratio_.shape[0]\n",
    "\n",
    "plt.bar(range(range_value), pca.explained_variance_ratio_, alpha=0.5, align='center')\n",
    "plt.step(range(range_value), np.cumsum(pca.explained_variance_ratio_), where='mid')\n",
    "plt.ylabel('Explained variance ratio')\n",
    "plt.xlabel('Principal components')\n",
    "plt.show()"
   ]
  },
  {
   "cell_type": "code",
   "execution_count": 23,
   "metadata": {},
   "outputs": [
    {
     "name": "stdout",
     "output_type": "stream",
     "text": [
      "eigenvectors\n",
      " [[-0.13355647 -0.80930393  0.55497423  0.13854029]\n",
      " [-0.79452546  0.26930231  0.31270845 -0.44544246]\n",
      " [ 0.43064308  0.46671824  0.77051966  0.05495528]\n",
      " [ 0.40674132 -0.2338322  -0.02272633 -0.88281794]]\n",
      "singular_ values\n",
      " [221.10643013  95.91242186  65.84760437  43.11795448]\n"
     ]
    }
   ],
   "source": [
    "# The eigenvectors\n",
    "print('eigenvectors\\n', pca.components_)\n",
    "# singular values\n",
    "print('singular_ values\\n', pca.singular_values_)"
   ]
  },
  {
   "cell_type": "code",
   "execution_count": 24,
   "metadata": {},
   "outputs": [
    {
     "data": {
      "image/png": "[encoded data removed]",
      "text/plain": [
       "<Figure size 1440x1440 with 1 Axes>"
      ]
     },
     "metadata": {
      "needs_background": "light"
     },
     "output_type": "display_data"
    }
   ],
   "source": [
    "pca = PCA(n_components=2)\n",
    "X_train_pca1 = pca.fit_transform(X_train1)\n",
    "\n",
    "fig = plt.figure(figsize=(20, 20))\n",
    "ax = fig.add_subplot(2,2,1) \n",
    "\n",
    "ax.scatter(X_train_pca1[y_train1 == 0, 0], X_train_pca1[y_train1 == 0, 1],\n",
    "              color='red', marker='^', alpha=0.5)\n",
    "ax.scatter(X_train_pca1[y_train1 == 1, 0], X_train_pca1[y_train1 == 1, 1],\n",
    "              color='green', marker='o', alpha=0.5)\n",
    "\n",
    "ax.set_xlabel('PC1')\n",
    "ax.set_ylabel('PC2')\n",
    "\n",
    "# plt.savefig('./figures/half_moon_2.png', dpi=300)\n",
    "ax.grid()\n",
    "plt.show()\n",
    "\n",
    "X_train1_v1 = pd.DataFrame(data=X_train_pca1)"
   ]
  },
  {
   "cell_type": "markdown",
   "metadata": {},
   "source": [
    "### KPCA - Banknotes dataset"
   ]
  },
  {
   "cell_type": "code",
   "execution_count": 25,
   "metadata": {},
   "outputs": [
    {
     "data": {
      "image/png": "[encoded data removed]",
      "text/plain": [
       "<Figure size 1440x1440 with 1 Axes>"
      ]
     },
     "metadata": {
      "needs_background": "light"
     },
     "output_type": "display_data"
    },
    {
     "name": "stdout",
     "output_type": "stream",
     "text": [
      "                0         1\n",
      "0    1.382152e-07 -0.007558\n",
      "1    9.259285e-08 -0.005048\n",
      "2    8.817069e-08 -0.004805\n",
      "3    8.911026e-08 -0.004856\n",
      "4    8.644278e-08 -0.004710\n",
      "5    8.675055e-08 -0.004727\n",
      "6    9.199127e-08 -0.005036\n",
      "7    8.850907e-08 -0.004823\n",
      "8    8.636006e-08 -0.004705\n",
      "9    9.634556e-08 -0.005256\n",
      "10   1.949769e-07 -0.010704\n",
      "11   1.226848e-07 -0.006703\n",
      "12   8.939073e-08 -0.004872\n",
      "13   9.085979e-08 -0.004952\n",
      "14   1.060047e-07 -0.005784\n",
      "15   8.840087e-08 -0.004817\n",
      "16   8.618538e-08 -0.004696\n",
      "17   1.294119e-07 -0.007073\n",
      "18   8.621623e-08 -0.004697\n",
      "19   9.332739e-08 -0.005089\n",
      "20   8.620701e-08 -0.004697\n",
      "21   1.906976e-07 -0.010473\n",
      "22   8.832811e-08 -0.004813\n",
      "23   9.739786e-08 -0.005311\n",
      "24   8.618747e-08 -0.004696\n",
      "25   2.569690e-07 -0.014161\n",
      "26   9.725200e-08 -0.005303\n",
      "27   1.179936e-07 -0.006444\n",
      "28   8.925334e-08 -0.004864\n",
      "29   9.958319e-08 -0.005431\n",
      "..            ...       ...\n",
      "930  1.036250e-07 -0.005653\n",
      "931  8.637099e-08 -0.004706\n",
      "932  1.292781e-07 -0.007067\n",
      "933  9.380849e-08 -0.005114\n",
      "934  1.058380e-07 -0.005775\n",
      "935  8.735362e-08 -0.004760\n",
      "936  1.282741e-07 -0.007010\n",
      "937  8.905291e-08 -0.004853\n",
      "938  8.796723e-08 -0.004793\n",
      "939  7.073704e-01  0.701834\n",
      "940  8.794532e-08 -0.004792\n",
      "941  1.480498e-07 -0.008103\n",
      "942  9.459249e-08 -0.005157\n",
      "943  1.244846e-07 -0.006804\n",
      "944  8.618849e-08 -0.004696\n",
      "945  1.173543e-07 -0.006409\n",
      "946  1.092363e-07 -0.005962\n",
      "947  9.677499e-08 -0.005278\n",
      "948  8.873044e-08 -0.004835\n",
      "949  8.776074e-08 -0.004782\n",
      "950  8.623985e-08 -0.004699\n",
      "951  1.264014e-07 -0.006908\n",
      "952  1.034919e-07 -0.005646\n",
      "953  8.618635e-08 -0.004696\n",
      "954  1.241264e-07 -0.006782\n",
      "955  1.003918e-07 -0.005476\n",
      "956  8.643962e-08 -0.004710\n",
      "957  9.080306e-08 -0.004949\n",
      "958  8.638985e-08 -0.004707\n",
      "959  8.815181e-08 -0.004804\n",
      "\n",
      "[960 rows x 2 columns]\n"
     ]
    }
   ],
   "source": [
    "from sklearn.decomposition import KernelPCA\n",
    "\n",
    "kpca = KernelPCA( n_components = 2, kernel=\"rbf\", fit_inverse_transform=True, gamma=10)\n",
    "X_train_kpca1 = kpca.fit_transform(X_train1)\n",
    "fig = plt.figure(figsize=(20, 20))\n",
    "\n",
    "plt.subplot(2, 2, 1, aspect='equal')\n",
    "\n",
    "plt.scatter(X_train_kpca1[y_train1 == 0, 0], X_train_kpca1[y_train1 == 0, 1], c=\"red\",\n",
    "            marker='^', alpha=0.5)\n",
    "plt.scatter(X_train_kpca1[y_train1 == 1, 0], X_train_kpca1[y_train1 == 1, 1], c=\"green\",\n",
    "            marker='o', alpha=0.5)\n",
    "plt.title(\"Projection by KPCA - Cosine\")\n",
    "plt.xlabel(\"1st principal component in space induced by $\\phi$\")\n",
    "plt.ylabel(\"2nd component\")\n",
    "plt.grid()\n",
    "plt.show()\n",
    "\n",
    "X_train1_v2 = pd.DataFrame(data=X_train_kpca1)\n",
    "print(X_train1_v2)"
   ]
  },
  {
   "cell_type": "markdown",
   "metadata": {},
   "source": [
    "### PCA - Nursery dataset"
   ]
  },
  {
   "cell_type": "code",
   "execution_count": 26,
   "metadata": {},
   "outputs": [
    {
     "name": "stdout",
     "output_type": "stream",
     "text": [
      "Explained variance ratio: [0.26981109 0.16944106 0.16817992 0.09098258 0.09014584 0.08896548\n",
      " 0.08879869 0.03367534]\n"
     ]
    },
    {
     "data": {
      "image/png": "[encoded data removed]",
      "text/plain": [
       "<Figure size 432x288 with 1 Axes>"
      ]
     },
     "metadata": {
      "needs_background": "light"
     },
     "output_type": "display_data"
    }
   ],
   "source": [
    "pca = PCA()\n",
    "principalComponents = pca.fit_transform(X_train2)\n",
    "\n",
    "print(\"Explained variance ratio:\",pca.explained_variance_ratio_)\n",
    "range_value = pca.explained_variance_ratio_.shape[0]\n",
    "\n",
    "plt.bar(range(range_value), pca.explained_variance_ratio_, alpha=0.5, align='center')\n",
    "plt.step(range(range_value), np.cumsum(pca.explained_variance_ratio_), where='mid')\n",
    "plt.ylabel('Explained variance ratio')\n",
    "plt.xlabel('Principal components')\n",
    "plt.show()"
   ]
  },
  {
   "cell_type": "code",
   "execution_count": 27,
   "metadata": {},
   "outputs": [
    {
     "name": "stdout",
     "output_type": "stream",
     "text": [
      "eigenvectors\n",
      " [[-5.54976415e-03  9.99896583e-01  1.15023522e-02  1.40357075e-03\n",
      "   3.12673680e-03  1.67515304e-03  3.21659191e-03 -4.33824777e-03]\n",
      " [ 3.17560603e-03 -4.82493568e-03  5.32746432e-01 -8.46023137e-01\n",
      "  -1.76485827e-02 -1.82582010e-03 -5.81463945e-04  8.80812844e-03]\n",
      " [-3.52035688e-03 -1.03916851e-02  8.45691018e-01  5.33096146e-01\n",
      "  -2.10641446e-02 -1.80133377e-03 -2.30719153e-03  6.52336564e-03]\n",
      " [ 2.01247652e-01  3.36657133e-03 -1.69758747e-02  1.70409812e-03\n",
      "  -7.51065897e-01  3.85117041e-03 -4.71639691e-01 -4.15497476e-01]\n",
      " [ 8.24440937e-01  1.78693589e-03  5.19385087e-03  3.15569910e-03\n",
      "   2.23317608e-02 -6.68895816e-05  5.17286331e-01 -2.28414434e-01]\n",
      " [ 2.53320890e-02  4.45462390e-03 -2.30032612e-02  5.49586014e-03\n",
      "  -5.96871415e-01  6.43241410e-03  3.11661038e-01  7.38477910e-01]\n",
      " [-5.28299867e-01 -6.17604522e-03 -2.02273357e-03 -2.81412768e-03\n",
      "  -2.79886804e-01 -2.03774394e-05  6.42512428e-01 -4.79260110e-01]\n",
      " [-8.84879949e-04 -1.74419091e-03  2.69054067e-03 -6.28534451e-04\n",
      "   6.65241099e-03  9.99967201e-01 -1.51285124e-04 -3.14009172e-03]]\n",
      "singular_ values\n",
      " [134.78206915 106.80990992 106.41167768  78.2674766   77.90674481\n",
      "  77.39501355  77.32243087  47.61657878]\n"
     ]
    }
   ],
   "source": [
    "# The eigenvectors\n",
    "print('eigenvectors\\n', pca.components_)\n",
    "# singular values\n",
    "print('singular_ values\\n', pca.singular_values_)"
   ]
  },
  {
   "cell_type": "code",
   "execution_count": 28,
   "metadata": {},
   "outputs": [],
   "source": [
    "# Only two components for illustration\n",
    "pca = PCA(n_components=7)\n",
    "X_train_pca2 = pca.fit_transform(X_train2)\n",
    "\n",
    "X_train2_v1 = pd.DataFrame(data=X_train_pca2)"
   ]
  },
  {
   "cell_type": "markdown",
   "metadata": {},
   "source": [
    "### KPCA - Nursery dataset"
   ]
  },
  {
   "cell_type": "code",
   "execution_count": 29,
   "metadata": {},
   "outputs": [
    {
     "data": {
      "text/plain": [
       "'\\nfig= plt.figure(figsize=(20, 20))\\n\\nplt.subplot(2, 2, 1, aspect=\\'equal\\')\\n\\nplt.scatter(X_train_kpca2[y_train2 == 0, 0], X_train_kpca2[y_train2 == 0, 1], c=\"red\",\\n            marker=\\'^\\', alpha=0.5)\\nplt.scatter(X_train_kpca2[y_train2 == 1, 0], X_train_kpca2[y_train2 == 1, 1], c=\"green\",\\n            marker=\\'o\\', alpha=0.5)\\nplt.scatter(X_train_kpca2[y_train2 == 2, 0], X_train_kpca2[y_train2 == 2, 1], c=\"cyan\",\\n            marker=\\'x\\', alpha=0.5)\\nplt.scatter(X_train_kpca2[y_train2 == 3, 0], X_train_kpca2[y_train2 == 3, 1], c=\"blue\",\\n            marker=\\'s\\', alpha=0.5)\\nplt.scatter(X_train_kpca2[y_train2 == 4, 0], X_train_kpca2[y_train2 == 4, 1], c=\"yellow\",\\n            marker=\\'*\\', alpha=0.5)\\nplt.title(\"Projection by KPCA\")\\nplt.xlabel(\"1st principal component in space induced by $\\\\phi$\")\\nplt.ylabel(\"2nd component\")\\nplt.grid()\\nplt.show()\\n'"
      ]
     },
     "execution_count": 29,
     "metadata": {},
     "output_type": "execute_result"
    }
   ],
   "source": [
    "#from sklearn.decomposition import KernelPCA\n",
    "\n",
    "#kpca = KernelPCA(n_components = 7 ,kernel=\"rbf\", fit_inverse_transform=True, gamma=10)\n",
    "#X_train_kpca2 = kpca.fit_transform(X_train2)\n",
    "\n",
    "'''\n",
    "fig= plt.figure(figsize=(20, 20))\n",
    "\n",
    "plt.subplot(2, 2, 1, aspect='equal')\n",
    "\n",
    "plt.scatter(X_train_kpca2[y_train2 == 0, 0], X_train_kpca2[y_train2 == 0, 1], c=\"red\",\n",
    "            marker='^', alpha=0.5)\n",
    "plt.scatter(X_train_kpca2[y_train2 == 1, 0], X_train_kpca2[y_train2 == 1, 1], c=\"green\",\n",
    "            marker='o', alpha=0.5)\n",
    "plt.scatter(X_train_kpca2[y_train2 == 2, 0], X_train_kpca2[y_train2 == 2, 1], c=\"cyan\",\n",
    "            marker='x', alpha=0.5)\n",
    "plt.scatter(X_train_kpca2[y_train2 == 3, 0], X_train_kpca2[y_train2 == 3, 1], c=\"blue\",\n",
    "            marker='s', alpha=0.5)\n",
    "plt.scatter(X_train_kpca2[y_train2 == 4, 0], X_train_kpca2[y_train2 == 4, 1], c=\"yellow\",\n",
    "            marker='*', alpha=0.5)\n",
    "plt.title(\"Projection by KPCA\")\n",
    "plt.xlabel(\"1st principal component in space induced by $\\phi$\")\n",
    "plt.ylabel(\"2nd component\")\n",
    "plt.grid()\n",
    "plt.show()\n",
    "'''\n",
    "#X_train2_v2 = pd.DataFrame(data=X_train_kpca2)"
   ]
  },
  {
   "cell_type": "markdown",
   "metadata": {},
   "source": [
    "## Task B - Predictive Model"
   ]
  },
  {
   "cell_type": "code",
   "execution_count": 30,
   "metadata": {},
   "outputs": [],
   "source": [
    "from matplotlib.colors import ListedColormap\n",
    "\n",
    "def plot_decision_regions(X, y, classifier, resolution=0.02):\n",
    "# setup marker generator and color map\n",
    "    markers = ('s', 'x', 'o', '^', 'v')\n",
    "    colors = ('red', 'blue', 'lightgreen', 'gray', 'cyan')\n",
    "    cmap = ListedColormap(colors[:len(np.unique(y))])\n",
    "    #plot the decision surface\n",
    "    x1_min, x1_max = X[:, 0].min() - 1, X[:, 0].max() + 1\n",
    "    x2_min, x2_max = X[:, 1].min() - 1, X[:, 1].max() + 1\n",
    "    xx1, xx2 = np.meshgrid(np.arange(x1_min, x1_max, resolution),\n",
    "    np.arange(x2_min, x2_max, resolution))\n",
    "    \n",
    "    Z = classifier.predict(np.array([xx1.ravel(), xx2.ravel()]).T)\n",
    "    Z = Z.reshape(xx1.shape)\n",
    "    plt.contourf(xx1, xx2, Z, alpha=0.4, cmap=cmap)\n",
    "    plt.xlim(xx1.min(), xx1.max())\n",
    "    plt.ylim(xx2.min(), xx2.max())\n",
    "    # plot class samples\n",
    "    for idx, cl in enumerate(np.unique(y)):\n",
    "        plt.scatter(x=X[y == cl, 0], y=X[y == cl, 1],\n",
    "            alpha=0.8, c=cmap(idx), marker=markers[idx], label=cl)"
   ]
  },
  {
   "cell_type": "markdown",
   "metadata": {},
   "source": [
    "### MLP - Banknotes dataset"
   ]
  },
  {
   "cell_type": "code",
   "execution_count": 31,
   "metadata": {},
   "outputs": [
    {
     "data": {
      "text/plain": [
       "MLPClassifier(activation='tanh', alpha=0.01, batch_size='auto', beta_1=0.9,\n",
       "       beta_2=0.999, early_stopping=False, epsilon=1e-08,\n",
       "       hidden_layer_sizes=(10, 5), learning_rate='constant',\n",
       "       learning_rate_init=0.001, max_iter=5000, momentum=0.9,\n",
       "       n_iter_no_change=10, nesterovs_momentum=True, power_t=0.5,\n",
       "       random_state=None, shuffle=True, solver='adam', tol=0.0001,\n",
       "       validation_fraction=0.1, verbose=False, warm_start=False)"
      ]
     },
     "execution_count": 31,
     "metadata": {},
     "output_type": "execute_result"
    }
   ],
   "source": [
    "from sklearn.neural_network import MLPClassifier\n",
    "#from sklearn.metrics import accuracy_score\n",
    "\n",
    "#mlp = MLPClassifier(hidden_layer_sizes=(30,30,30), max_iter = 500)\n",
    "#mlp = MLPClassifier(hidden_layer_sizes=(30,30,30), max_iter=500, alpha=0.0001,\n",
    " #   solver='sgd', verbose=10,  random_state=21,tol=0.000000001)\n",
    "#mlp.fit(X_train1, y_train1)\n",
    "\n",
    "mlp = MLPClassifier(activation='tanh', hidden_layer_sizes=(10,5), alpha=0.01, max_iter=5000)\n",
    "mlp"
   ]
  },
  {
   "cell_type": "code",
   "execution_count": 32,
   "metadata": {},
   "outputs": [],
   "source": [
    "# Código que encontrei online\n",
    "#y_pred = mlp.predict(X_test1)\n",
    "#accuracy_score(y_test1, y_pred)"
   ]
  },
  {
   "cell_type": "code",
   "execution_count": 33,
   "metadata": {},
   "outputs": [
    {
     "name": "stderr",
     "output_type": "stream",
     "text": [
      "'c' argument looks like a single numeric RGB or RGBA sequence, which should be avoided as value-mapping will have precedence in case its length matches with 'x' & 'y'.  Please use a 2-D array with a single row if you really want to specify the same RGB or RGBA value for all points.\n",
      "'c' argument looks like a single numeric RGB or RGBA sequence, which should be avoided as value-mapping will have precedence in case its length matches with 'x' & 'y'.  Please use a 2-D array with a single row if you really want to specify the same RGB or RGBA value for all points.\n"
     ]
    },
    {
     "data": {
      "image/png": "[encoded data removed]",
      "text/plain": [
       "<Figure size 432x288 with 1 Axes>"
      ]
     },
     "metadata": {
      "needs_background": "light"
     },
     "output_type": "display_data"
    }
   ],
   "source": [
    "mlp.fit(X_train1_v2.values,y_train1.values)\n",
    "plot_decision_regions(X_train1_v2.values, y_train1.values, classifier=mlp)\n",
    "plt.xlabel(['x1'])\n",
    "plt.ylabel(['x2'])\n",
    "plt.legend(loc='upper left')\n",
    "plt.grid()\n",
    "plt.tight_layout()\n",
    "plt.show()"
   ]
  },
  {
   "cell_type": "code",
   "execution_count": 34,
   "metadata": {},
   "outputs": [
    {
     "name": "stdout",
     "output_type": "stream",
     "text": [
      "Banknotes dataset\n",
      "the weights are \n",
      " [array([[ 0.34909636,  0.32407281,  0.04061172, -0.1228487 ,  0.48783348,\n",
      "        -0.61083053,  0.59489382, -0.3171568 , -0.08476572,  0.64717005],\n",
      "       [ 0.55511515,  0.29056743,  0.12690203, -0.49316378,  0.09471729,\n",
      "         0.03550702, -0.07236114,  0.01302934,  0.33976781,  0.24241265]]), array([[ 0.50056788,  0.12148359, -0.41583926,  0.10947729,  0.14341116],\n",
      "       [ 0.07126303, -0.6056387 , -0.24246185,  0.57650739,  0.43091804],\n",
      "       [ 0.05769979, -0.64707668, -0.49454968,  0.4543095 ,  0.31302119],\n",
      "       [-0.17266349,  0.59311847,  0.11323052, -0.0730745 , -0.44846858],\n",
      "       [-0.08690535,  0.62883392,  0.20696381, -0.18635498,  0.5749743 ],\n",
      "       [ 0.42825185,  0.25534259, -0.16788888,  0.15486185, -0.40217498],\n",
      "       [ 0.24825371, -0.27524291,  0.11890525, -0.56368006, -0.00268121],\n",
      "       [ 0.25769984,  0.10799717, -0.27167541,  0.10963313,  0.28725777],\n",
      "       [-0.01310391, -0.32717258, -0.29881323,  0.48249469,  0.17543109],\n",
      "       [-0.02996128,  0.51047807,  0.4485368 ,  0.02087498, -0.02163026]]), array([[-0.72277979],\n",
      "       [ 0.88289727],\n",
      "       [-0.26768051],\n",
      "       [ 0.69238398],\n",
      "       [ 0.04175597]])]\n",
      "the bias \n",
      "  [array([ 0.48283222,  0.26698151,  0.07498658,  0.3377304 , -0.46410131,\n",
      "        0.64387185, -0.28028163, -0.2146981 ,  0.31143118, -0.52599846]), array([ 0.54278837,  0.59097788, -0.18692946,  0.02047783,  0.44243288]), array([-0.47732843])]\n",
      "number of iterations \n",
      " 15\n",
      "output activation logistic\n"
     ]
    }
   ],
   "source": [
    "print('Banknotes dataset')\n",
    "print('the weights are \\n',mlp.coefs_)\n",
    "print('the bias \\n ', mlp.intercepts_)\n",
    "print('number of iterations \\n', mlp.n_iter_)\n",
    "print('output activation', mlp.out_activation_)"
   ]
  },
  {
   "cell_type": "markdown",
   "metadata": {},
   "source": [
    "### MLP - Nursery dataset"
   ]
  },
  {
   "cell_type": "code",
   "execution_count": 35,
   "metadata": {},
   "outputs": [
    {
     "data": {
      "text/plain": [
       "MLPClassifier(activation='tanh', alpha=0.01, batch_size='auto', beta_1=0.9,\n",
       "       beta_2=0.999, early_stopping=False, epsilon=1e-08,\n",
       "       hidden_layer_sizes=(10, 5), learning_rate='constant',\n",
       "       learning_rate_init=0.001, max_iter=5000, momentum=0.9,\n",
       "       n_iter_no_change=10, nesterovs_momentum=True, power_t=0.5,\n",
       "       random_state=None, shuffle=True, solver='adam', tol=0.0001,\n",
       "       validation_fraction=0.1, verbose=False, warm_start=False)"
      ]
     },
     "execution_count": 35,
     "metadata": {},
     "output_type": "execute_result"
    }
   ],
   "source": [
    "mlp = MLPClassifier(activation='tanh', hidden_layer_sizes=(10,5), alpha=0.01, max_iter=5000)\n",
    "mlp"
   ]
  },
  {
   "cell_type": "code",
   "execution_count": 36,
   "metadata": {},
   "outputs": [
    {
     "ename": "ValueError",
     "evalue": "shapes (94544,2) and (7,10) not aligned: 2 (dim 1) != 7 (dim 0)",
     "output_type": "error",
     "traceback": [
      "\u001b[0;31m---------------------------------------------------------------------------\u001b[0m",
      "\u001b[0;31mValueError\u001b[0m                                Traceback (most recent call last)",
      "\u001b[0;32m<ipython-input-36-bd7d96a3ea77>\u001b[0m in \u001b[0;36m<module>\u001b[0;34m\u001b[0m\n\u001b[1;32m      1\u001b[0m \u001b[0mmlp\u001b[0m\u001b[0;34m.\u001b[0m\u001b[0mfit\u001b[0m\u001b[0;34m(\u001b[0m\u001b[0mX_train2_v1\u001b[0m\u001b[0;34m.\u001b[0m\u001b[0mvalues\u001b[0m\u001b[0;34m,\u001b[0m\u001b[0my_train2\u001b[0m\u001b[0;34m.\u001b[0m\u001b[0mvalues\u001b[0m\u001b[0;34m)\u001b[0m\u001b[0;34m\u001b[0m\u001b[0;34m\u001b[0m\u001b[0m\n\u001b[0;32m----> 2\u001b[0;31m \u001b[0mplot_decision_regions\u001b[0m\u001b[0;34m(\u001b[0m\u001b[0mX_train2_v1\u001b[0m\u001b[0;34m.\u001b[0m\u001b[0mvalues\u001b[0m\u001b[0;34m,\u001b[0m \u001b[0my_train2\u001b[0m\u001b[0;34m.\u001b[0m\u001b[0mvalues\u001b[0m\u001b[0;34m,\u001b[0m \u001b[0mclassifier\u001b[0m\u001b[0;34m=\u001b[0m\u001b[0mmlp\u001b[0m\u001b[0;34m)\u001b[0m\u001b[0;34m\u001b[0m\u001b[0;34m\u001b[0m\u001b[0m\n\u001b[0m\u001b[1;32m      3\u001b[0m \u001b[0mplt\u001b[0m\u001b[0;34m.\u001b[0m\u001b[0mxlabel\u001b[0m\u001b[0;34m(\u001b[0m\u001b[0;34m[\u001b[0m\u001b[0;34m'x1'\u001b[0m\u001b[0;34m]\u001b[0m\u001b[0;34m)\u001b[0m\u001b[0;34m\u001b[0m\u001b[0;34m\u001b[0m\u001b[0m\n\u001b[1;32m      4\u001b[0m \u001b[0mplt\u001b[0m\u001b[0;34m.\u001b[0m\u001b[0mylabel\u001b[0m\u001b[0;34m(\u001b[0m\u001b[0;34m[\u001b[0m\u001b[0;34m'x2'\u001b[0m\u001b[0;34m]\u001b[0m\u001b[0;34m)\u001b[0m\u001b[0;34m\u001b[0m\u001b[0;34m\u001b[0m\u001b[0m\n\u001b[1;32m      5\u001b[0m \u001b[0mplt\u001b[0m\u001b[0;34m.\u001b[0m\u001b[0mlegend\u001b[0m\u001b[0;34m(\u001b[0m\u001b[0mloc\u001b[0m\u001b[0;34m=\u001b[0m\u001b[0;34m'upper left'\u001b[0m\u001b[0;34m)\u001b[0m\u001b[0;34m\u001b[0m\u001b[0;34m\u001b[0m\u001b[0m\n",
      "\u001b[0;32m<ipython-input-30-93f7f2ca73e3>\u001b[0m in \u001b[0;36mplot_decision_regions\u001b[0;34m(X, y, classifier, resolution)\u001b[0m\n\u001b[1;32m     12\u001b[0m     np.arange(x2_min, x2_max, resolution))\n\u001b[1;32m     13\u001b[0m \u001b[0;34m\u001b[0m\u001b[0m\n\u001b[0;32m---> 14\u001b[0;31m     \u001b[0mZ\u001b[0m \u001b[0;34m=\u001b[0m \u001b[0mclassifier\u001b[0m\u001b[0;34m.\u001b[0m\u001b[0mpredict\u001b[0m\u001b[0;34m(\u001b[0m\u001b[0mnp\u001b[0m\u001b[0;34m.\u001b[0m\u001b[0marray\u001b[0m\u001b[0;34m(\u001b[0m\u001b[0;34m[\u001b[0m\u001b[0mxx1\u001b[0m\u001b[0;34m.\u001b[0m\u001b[0mravel\u001b[0m\u001b[0;34m(\u001b[0m\u001b[0;34m)\u001b[0m\u001b[0;34m,\u001b[0m \u001b[0mxx2\u001b[0m\u001b[0;34m.\u001b[0m\u001b[0mravel\u001b[0m\u001b[0;34m(\u001b[0m\u001b[0;34m)\u001b[0m\u001b[0;34m]\u001b[0m\u001b[0;34m)\u001b[0m\u001b[0;34m.\u001b[0m\u001b[0mT\u001b[0m\u001b[0;34m)\u001b[0m\u001b[0;34m\u001b[0m\u001b[0;34m\u001b[0m\u001b[0m\n\u001b[0m\u001b[1;32m     15\u001b[0m     \u001b[0mZ\u001b[0m \u001b[0;34m=\u001b[0m \u001b[0mZ\u001b[0m\u001b[0;34m.\u001b[0m\u001b[0mreshape\u001b[0m\u001b[0;34m(\u001b[0m\u001b[0mxx1\u001b[0m\u001b[0;34m.\u001b[0m\u001b[0mshape\u001b[0m\u001b[0;34m)\u001b[0m\u001b[0;34m\u001b[0m\u001b[0;34m\u001b[0m\u001b[0m\n\u001b[1;32m     16\u001b[0m     \u001b[0mplt\u001b[0m\u001b[0;34m.\u001b[0m\u001b[0mcontourf\u001b[0m\u001b[0;34m(\u001b[0m\u001b[0mxx1\u001b[0m\u001b[0;34m,\u001b[0m \u001b[0mxx2\u001b[0m\u001b[0;34m,\u001b[0m \u001b[0mZ\u001b[0m\u001b[0;34m,\u001b[0m \u001b[0malpha\u001b[0m\u001b[0;34m=\u001b[0m\u001b[0;36m0.4\u001b[0m\u001b[0;34m,\u001b[0m \u001b[0mcmap\u001b[0m\u001b[0;34m=\u001b[0m\u001b[0mcmap\u001b[0m\u001b[0;34m)\u001b[0m\u001b[0;34m\u001b[0m\u001b[0;34m\u001b[0m\u001b[0m\n",
      "\u001b[0;32m~/.local/lib/python3.6/site-packages/sklearn/neural_network/multilayer_perceptron.py\u001b[0m in \u001b[0;36mpredict\u001b[0;34m(self, X)\u001b[0m\n\u001b[1;32m    951\u001b[0m         \"\"\"\n\u001b[1;32m    952\u001b[0m         \u001b[0mcheck_is_fitted\u001b[0m\u001b[0;34m(\u001b[0m\u001b[0mself\u001b[0m\u001b[0;34m,\u001b[0m \u001b[0;34m\"coefs_\"\u001b[0m\u001b[0;34m)\u001b[0m\u001b[0;34m\u001b[0m\u001b[0;34m\u001b[0m\u001b[0m\n\u001b[0;32m--> 953\u001b[0;31m         \u001b[0my_pred\u001b[0m \u001b[0;34m=\u001b[0m \u001b[0mself\u001b[0m\u001b[0;34m.\u001b[0m\u001b[0m_predict\u001b[0m\u001b[0;34m(\u001b[0m\u001b[0mX\u001b[0m\u001b[0;34m)\u001b[0m\u001b[0;34m\u001b[0m\u001b[0;34m\u001b[0m\u001b[0m\n\u001b[0m\u001b[1;32m    954\u001b[0m \u001b[0;34m\u001b[0m\u001b[0m\n\u001b[1;32m    955\u001b[0m         \u001b[0;32mif\u001b[0m \u001b[0mself\u001b[0m\u001b[0;34m.\u001b[0m\u001b[0mn_outputs_\u001b[0m \u001b[0;34m==\u001b[0m \u001b[0;36m1\u001b[0m\u001b[0;34m:\u001b[0m\u001b[0;34m\u001b[0m\u001b[0;34m\u001b[0m\u001b[0m\n",
      "\u001b[0;32m~/.local/lib/python3.6/site-packages/sklearn/neural_network/multilayer_perceptron.py\u001b[0m in \u001b[0;36m_predict\u001b[0;34m(self, X)\u001b[0m\n\u001b[1;32m    674\u001b[0m                                          layer_units[i + 1])))\n\u001b[1;32m    675\u001b[0m         \u001b[0;31m# forward propagate\u001b[0m\u001b[0;34m\u001b[0m\u001b[0;34m\u001b[0m\u001b[0;34m\u001b[0m\u001b[0m\n\u001b[0;32m--> 676\u001b[0;31m         \u001b[0mself\u001b[0m\u001b[0;34m.\u001b[0m\u001b[0m_forward_pass\u001b[0m\u001b[0;34m(\u001b[0m\u001b[0mactivations\u001b[0m\u001b[0;34m)\u001b[0m\u001b[0;34m\u001b[0m\u001b[0;34m\u001b[0m\u001b[0m\n\u001b[0m\u001b[1;32m    677\u001b[0m         \u001b[0my_pred\u001b[0m \u001b[0;34m=\u001b[0m \u001b[0mactivations\u001b[0m\u001b[0;34m[\u001b[0m\u001b[0;34m-\u001b[0m\u001b[0;36m1\u001b[0m\u001b[0;34m]\u001b[0m\u001b[0;34m\u001b[0m\u001b[0;34m\u001b[0m\u001b[0m\n\u001b[1;32m    678\u001b[0m \u001b[0;34m\u001b[0m\u001b[0m\n",
      "\u001b[0;32m~/.local/lib/python3.6/site-packages/sklearn/neural_network/multilayer_perceptron.py\u001b[0m in \u001b[0;36m_forward_pass\u001b[0;34m(self, activations)\u001b[0m\n\u001b[1;32m    100\u001b[0m         \u001b[0;32mfor\u001b[0m \u001b[0mi\u001b[0m \u001b[0;32min\u001b[0m \u001b[0mrange\u001b[0m\u001b[0;34m(\u001b[0m\u001b[0mself\u001b[0m\u001b[0;34m.\u001b[0m\u001b[0mn_layers_\u001b[0m \u001b[0;34m-\u001b[0m \u001b[0;36m1\u001b[0m\u001b[0;34m)\u001b[0m\u001b[0;34m:\u001b[0m\u001b[0;34m\u001b[0m\u001b[0;34m\u001b[0m\u001b[0m\n\u001b[1;32m    101\u001b[0m             activations[i + 1] = safe_sparse_dot(activations[i],\n\u001b[0;32m--> 102\u001b[0;31m                                                  self.coefs_[i])\n\u001b[0m\u001b[1;32m    103\u001b[0m             \u001b[0mactivations\u001b[0m\u001b[0;34m[\u001b[0m\u001b[0mi\u001b[0m \u001b[0;34m+\u001b[0m \u001b[0;36m1\u001b[0m\u001b[0;34m]\u001b[0m \u001b[0;34m+=\u001b[0m \u001b[0mself\u001b[0m\u001b[0;34m.\u001b[0m\u001b[0mintercepts_\u001b[0m\u001b[0;34m[\u001b[0m\u001b[0mi\u001b[0m\u001b[0;34m]\u001b[0m\u001b[0;34m\u001b[0m\u001b[0;34m\u001b[0m\u001b[0m\n\u001b[1;32m    104\u001b[0m \u001b[0;34m\u001b[0m\u001b[0m\n",
      "\u001b[0;32m~/.local/lib/python3.6/site-packages/sklearn/utils/extmath.py\u001b[0m in \u001b[0;36msafe_sparse_dot\u001b[0;34m(a, b, dense_output)\u001b[0m\n\u001b[1;32m    171\u001b[0m         \u001b[0;32mreturn\u001b[0m \u001b[0mret\u001b[0m\u001b[0;34m\u001b[0m\u001b[0;34m\u001b[0m\u001b[0m\n\u001b[1;32m    172\u001b[0m     \u001b[0;32melse\u001b[0m\u001b[0;34m:\u001b[0m\u001b[0;34m\u001b[0m\u001b[0;34m\u001b[0m\u001b[0m\n\u001b[0;32m--> 173\u001b[0;31m         \u001b[0;32mreturn\u001b[0m \u001b[0mnp\u001b[0m\u001b[0;34m.\u001b[0m\u001b[0mdot\u001b[0m\u001b[0;34m(\u001b[0m\u001b[0ma\u001b[0m\u001b[0;34m,\u001b[0m \u001b[0mb\u001b[0m\u001b[0;34m)\u001b[0m\u001b[0;34m\u001b[0m\u001b[0;34m\u001b[0m\u001b[0m\n\u001b[0m\u001b[1;32m    174\u001b[0m \u001b[0;34m\u001b[0m\u001b[0m\n\u001b[1;32m    175\u001b[0m \u001b[0;34m\u001b[0m\u001b[0m\n",
      "\u001b[0;31mValueError\u001b[0m: shapes (94544,2) and (7,10) not aligned: 2 (dim 1) != 7 (dim 0)"
     ]
    }
   ],
   "source": [
    "mlp.fit(X_train2_v1.values,y_train2.values)\n",
    "plot_decision_regions(X_train2_v1.values, y_train2.values, classifier=mlp)\n",
    "plt.xlabel(['x1'])\n",
    "plt.ylabel(['x2'])\n",
    "plt.legend(loc='upper left')\n",
    "plt.grid()\n",
    "plt.tight_layout()\n",
    "plt.show()"
   ]
  },
  {
   "cell_type": "code",
   "execution_count": null,
   "metadata": {},
   "outputs": [],
   "source": [
    "print('Nursery dataset')\n",
    "print('the weights are \\n',mlp.coefs_)\n",
    "print('the bias \\n ', mlp.intercepts_)\n",
    "print('number of iterations \\n', mlp.n_iter_)\n",
    "print('output activation', mlp.out_activation_)"
   ]
  },
  {
   "cell_type": "markdown",
   "metadata": {},
   "source": [
    "### SVM - Banknotes dataset"
   ]
  },
  {
   "cell_type": "code",
   "execution_count": null,
   "metadata": {},
   "outputs": [],
   "source": [
    "from sklearn.svm import SVC\n",
    "\n",
    "svm=SVC(C=1.0,kernel='rbf', max_iter=2000, tol=1e-05, verbose=0)\n",
    "svm"
   ]
  },
  {
   "cell_type": "code",
   "execution_count": null,
   "metadata": {},
   "outputs": [],
   "source": [
    "svm=svm.fit(X_train1.values, y_train1.values)\n",
    "\n",
    "print(type(X_train1))\n",
    "print(X_train1_v2.values)\n",
    "\n",
    "plot_decision_regions(X_train1[0:2].values, y_train1.values, classifier=svm)\n",
    "plt.xlabel('x1')\n",
    "plt.ylabel('x2')\n",
    "plt.legend(loc='upper left')\n",
    "plt.grid()\n",
    "plt.tight_layout()\n",
    "plt.show()"
   ]
  },
  {
   "cell_type": "code",
   "execution_count": null,
   "metadata": {},
   "outputs": [],
   "source": [
    "print('Banknotes dataset')\n",
    "print('dual coef \\n', svm.dual_coef_)\n",
    "print ('support vectors \\n', svm.support_vectors_)\n",
    "print('index of support vectors \\n ', svm.support_)\n",
    "print ('bias', svm.intercept_)\n",
    "print('the classifier \\n', svm)"
   ]
  },
  {
   "cell_type": "markdown",
   "metadata": {},
   "source": [
    "### SVM - Nursery dataset"
   ]
  },
  {
   "cell_type": "code",
   "execution_count": null,
   "metadata": {},
   "outputs": [],
   "source": [
    "svm=SVC(C=1.0,kernel='rbf', max_iter=4000, tol=1e-05, verbose=0)\n",
    "svm"
   ]
  },
  {
   "cell_type": "code",
   "execution_count": null,
   "metadata": {},
   "outputs": [],
   "source": [
    "svm=svm.fit(X_train2.values, y_train2.values)\n",
    "#plot_decision_regions(X_train2.values, y_train2.values, classifier=svm)\n",
    "#plt.xlabel('x1')\n",
    "#plt.ylabel('x2')\n",
    "#plt.legend(loc='upper left')\n",
    "#plt.grid()\n",
    "#plt.tight_layout()\n",
    "#plt.show()"
   ]
  },
  {
   "cell_type": "code",
   "execution_count": null,
   "metadata": {},
   "outputs": [],
   "source": [
    "print('Nursery dataset')\n",
    "print('dual coef \\n', svm.dual_coef_)\n",
    "print ('support vectors \\n', svm.support_vectors_)\n",
    "print('index of support vectors \\n ', svm.support_)\n",
    "print ('bias', svm.intercept_)\n",
    "print('the classifier \\n', svm)"
   ]
  },
  {
   "cell_type": "code",
   "execution_count": null,
   "metadata": {},
   "outputs": [],
   "source": []
  }
 ],
 "metadata": {
  "kernelspec": {
   "display_name": "Python 3",
   "language": "python",
   "name": "python3"
  },
  "language_info": {
   "codemirror_mode": {
    "name": "ipython",
    "version": 3
   },
   "file_extension": ".py",
   "mimetype": "text/x-python",
   "name": "python",
   "nbconvert_exporter": "python",
   "pygments_lexer": "ipython3",
   "version": "3.6.7"
  }
 },
 "nbformat": 4,
 "nbformat_minor": 2
}
