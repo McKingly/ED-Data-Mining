{
 "cells": [
  {
   "cell_type": "markdown",
   "metadata": {},
   "source": [
    "# Notebook 1\n",
    "## Exploração de Dados 2018/2019 \n",
    "### Nelson Costa 42983\n",
    "### Armando Sousa 76498"
   ]
  },
  {
   "cell_type": "markdown",
   "metadata": {},
   "source": [
    "## Index\n",
    "- [Task A - Pre Processing](#Task-A---Pre-Processing)\n",
    " - [Checking missing values](#Checking-if-datasets-have-missing-values)\n",
    " - [Handling categorical data](#Handling-categorical-data)\n",
    " - [Encoding class labels](#Encoding-class-labels)\n",
    " - [Partitioning datasets](#Partitioning-datasets-in-training-and-test-sets)\n",
    " - [Rank features](#Rank-features)\n",
    "   - [Univariate Feature Selection](#1.-Univariate-Feature-Selection)\n",
    "     - [1. Mutual Info Classif](#1.-Mutual-Info-Classif)\n",
    "     - [2. Chi-squared](#2.-Chi-squared)\n",
    " - [Dimension reduction](#Dimension-reduction)\n",
    "   - [Principal Component Analysis - Banknotes](#PCA---Banknotes-dataset)\n",
    "   - [Kernel PCA - Banknotes](#KPCA---Banknotes-dataset)\n",
    "   - [Principal Component Analysis - Nursery](#PCA---Nursery-dataset)\n",
    "   - [Kernel PCA - Nursery](#KPCA---Nursery-dataset)\n",
    "- [Task B - Predictive Model](#Task-B---Predictive-Model)\n",
    " - [Multilayer Perceptron - Banknotes dataset](#MLP---Banknotes-dataset)\n",
    " - [Support Vector Machine - Banknotes dataset](#SVM---Banknotes-dataset)\n",
    " - [Multilayer Perceptron - Nursery dataset](#MLP---Nursery-dataset)\n",
    " - [Support Vector Machine - Nursery dataset](#SVM---Nursery-dataset)"
   ]
  },
  {
   "cell_type": "code",
   "execution_count": 1,
   "metadata": {},
   "outputs": [],
   "source": [
    "import pandas as pd\n",
    "import numpy as np\n",
    "import xlrd\n",
    "import copy\n",
    "%matplotlib inline"
   ]
  },
  {
   "cell_type": "code",
   "execution_count": 2,
   "metadata": {},
   "outputs": [],
   "source": [
    "#Disable warning\n",
    "import warnings\n",
    "warnings.filterwarnings(\"ignore\", category=FutureWarning)\n",
    "warnings.filterwarnings(\"ignore\", category=DeprecationWarning)"
   ]
  },
  {
   "cell_type": "markdown",
   "metadata": {},
   "source": [
    "## Reading datasets\n",
    "Notebook 1 is divided into 3 parts: Pre processing and predictive model. The datasets used are 'Banknote Authentication Data Set' \n",
    "(https://archive.ics.uci.edu/ml/datasets/banknote+authentication) and 'Nursery Data Set' (https://archive.ics.uci.edu/ml/datasets/Nursery)."
   ]
  },
  {
   "cell_type": "markdown",
   "metadata": {},
   "source": [
    "### Banknotes dataset"
   ]
  },
  {
   "cell_type": "code",
   "execution_count": 3,
   "metadata": {},
   "outputs": [],
   "source": [
    "df_bankNotes = pd.read_excel('./data_banknote_authentication.xlsx')\n",
    "#df_bankNotes"
   ]
  },
  {
   "cell_type": "markdown",
   "metadata": {},
   "source": [
    "### Nursery dataset"
   ]
  },
  {
   "cell_type": "code",
   "execution_count": 4,
   "metadata": {},
   "outputs": [],
   "source": [
    "df_nursery = pd.read_excel('./nursery.xlsx')\n",
    "#df_nursery"
   ]
  },
  {
   "cell_type": "markdown",
   "metadata": {},
   "source": [
    "# Task A - Pre Processing"
   ]
  },
  {
   "cell_type": "markdown",
   "metadata": {},
   "source": [
    "## Checking if datasets have missing values\n",
    "\n",
    "In this case none of the datasets have missing values,"
   ]
  },
  {
   "cell_type": "markdown",
   "metadata": {},
   "source": [
    "### Banknotes dataset"
   ]
  },
  {
   "cell_type": "code",
   "execution_count": 5,
   "metadata": {},
   "outputs": [
    {
     "data": {
      "text/plain": [
       "variance of Wavelet Transformed image    0\n",
       "skewness of Wavelet Transformed image    0\n",
       "curtosis of Wavelet Transformed image    0\n",
       "entropy of image                         0\n",
       "class                                    0\n",
       "dtype: int64"
      ]
     },
     "execution_count": 5,
     "metadata": {},
     "output_type": "execute_result"
    }
   ],
   "source": [
    "df_bankNotes.isnull().sum()"
   ]
  },
  {
   "cell_type": "markdown",
   "metadata": {},
   "source": [
    "### Nursery dataset"
   ]
  },
  {
   "cell_type": "code",
   "execution_count": 6,
   "metadata": {},
   "outputs": [
    {
     "data": {
      "text/plain": [
       "parents     0\n",
       "has_nurs    0\n",
       "form        0\n",
       "children    0\n",
       "housing     0\n",
       "finance     0\n",
       "social      0\n",
       "health      0\n",
       "class       0\n",
       "dtype: int64"
      ]
     },
     "execution_count": 6,
     "metadata": {},
     "output_type": "execute_result"
    }
   ],
   "source": [
    "df_nursery.isnull().sum()"
   ]
  },
  {
   "cell_type": "markdown",
   "metadata": {},
   "source": [
    "## Handling categorical data"
   ]
  },
  {
   "cell_type": "markdown",
   "metadata": {},
   "source": [
    "### Mapping ordinal features"
   ]
  },
  {
   "cell_type": "markdown",
   "metadata": {},
   "source": [
    "#### Nursery dataset"
   ]
  },
  {
   "cell_type": "code",
   "execution_count": 7,
   "metadata": {},
   "outputs": [],
   "source": [
    "# print features before mapping\n",
    "#df_nursery[df_nursery.columns[0:8]]"
   ]
  },
  {
   "cell_type": "code",
   "execution_count": 8,
   "metadata": {
    "scrolled": true
   },
   "outputs": [],
   "source": [
    "# get dataset copy\n",
    "df_nursery_copy = df_nursery.copy()\n",
    "\n",
    "# cast data to string\n",
    "df_nursery_copy = df_nursery_copy.astype(str)\n",
    "\n",
    "# map features\n",
    "parents_mapping = {'usual':1, 'pretentious':2, 'great_pret':3}\n",
    "df_nursery_copy['parents'] = df_nursery_copy['parents'].map(parents_mapping)\n",
    "\n",
    "has_nurs_mapping = {'proper':1, 'less_proper':2, 'improper':3, 'critical':4, 'very_crit':5}\n",
    "df_nursery_copy['has_nurs'] = df_nursery_copy['has_nurs'].map(has_nurs_mapping)\n",
    "\n",
    "form_mapping = {'complete':1, 'completed':2, 'incomplete':3, 'foster':4}\n",
    "df_nursery_copy['form'] = df_nursery_copy['form'].map(form_mapping)\n",
    "\n",
    "children_mapping = {'1':1, '2':2, '3':3, 'more':4}\n",
    "df_nursery_copy['children'] = df_nursery_copy['children'].map(children_mapping)\n",
    "\n",
    "housing_mapping = {'convenient':1, 'less_conv':2, 'critical':3}\n",
    "df_nursery_copy['housing'] = df_nursery_copy['housing'].map(housing_mapping)\n",
    "\n",
    "finance_mapping = {'convenient':1, 'inconv':2}\n",
    "df_nursery_copy['finance'] = df_nursery_copy['finance'].map(finance_mapping)\n",
    "\n",
    "social_mapping = {'nonprob':1, 'slightly_prob':2, 'problematic':3}\n",
    "df_nursery_copy['social'] = df_nursery_copy['social'].map(social_mapping)\n",
    "\n",
    "health_mapping = {'recommended':1, 'priority':2, 'not_recom':3}\n",
    "df_nursery_copy['health'] = df_nursery_copy['health'].map(health_mapping)"
   ]
  },
  {
   "cell_type": "code",
   "execution_count": 9,
   "metadata": {},
   "outputs": [
    {
     "data": {
      "text/html": [
       "<div>\n",
       "<style scoped>\n",
       "    .dataframe tbody tr th:only-of-type {\n",
       "        vertical-align: middle;\n",
       "    }\n",
       "\n",
       "    .dataframe tbody tr th {\n",
       "        vertical-align: top;\n",
       "    }\n",
       "\n",
       "    .dataframe thead th {\n",
       "        text-align: right;\n",
       "    }\n",
       "</style>\n",
       "<table border=\"1\" class=\"dataframe\">\n",
       "  <thead>\n",
       "    <tr style=\"text-align: right;\">\n",
       "      <th></th>\n",
       "      <th>parents</th>\n",
       "      <th>has_nurs</th>\n",
       "      <th>form</th>\n",
       "      <th>children</th>\n",
       "      <th>housing</th>\n",
       "      <th>finance</th>\n",
       "      <th>social</th>\n",
       "      <th>health</th>\n",
       "    </tr>\n",
       "  </thead>\n",
       "  <tbody>\n",
       "    <tr>\n",
       "      <th>0</th>\n",
       "      <td>1</td>\n",
       "      <td>1</td>\n",
       "      <td>1</td>\n",
       "      <td>1</td>\n",
       "      <td>1</td>\n",
       "      <td>1</td>\n",
       "      <td>1</td>\n",
       "      <td>1</td>\n",
       "    </tr>\n",
       "    <tr>\n",
       "      <th>1</th>\n",
       "      <td>1</td>\n",
       "      <td>1</td>\n",
       "      <td>1</td>\n",
       "      <td>1</td>\n",
       "      <td>1</td>\n",
       "      <td>1</td>\n",
       "      <td>1</td>\n",
       "      <td>2</td>\n",
       "    </tr>\n",
       "    <tr>\n",
       "      <th>2</th>\n",
       "      <td>1</td>\n",
       "      <td>1</td>\n",
       "      <td>1</td>\n",
       "      <td>1</td>\n",
       "      <td>1</td>\n",
       "      <td>1</td>\n",
       "      <td>1</td>\n",
       "      <td>3</td>\n",
       "    </tr>\n",
       "    <tr>\n",
       "      <th>3</th>\n",
       "      <td>1</td>\n",
       "      <td>1</td>\n",
       "      <td>1</td>\n",
       "      <td>1</td>\n",
       "      <td>1</td>\n",
       "      <td>1</td>\n",
       "      <td>2</td>\n",
       "      <td>1</td>\n",
       "    </tr>\n",
       "    <tr>\n",
       "      <th>4</th>\n",
       "      <td>1</td>\n",
       "      <td>1</td>\n",
       "      <td>1</td>\n",
       "      <td>1</td>\n",
       "      <td>1</td>\n",
       "      <td>1</td>\n",
       "      <td>2</td>\n",
       "      <td>2</td>\n",
       "    </tr>\n",
       "    <tr>\n",
       "      <th>5</th>\n",
       "      <td>1</td>\n",
       "      <td>1</td>\n",
       "      <td>1</td>\n",
       "      <td>1</td>\n",
       "      <td>1</td>\n",
       "      <td>1</td>\n",
       "      <td>2</td>\n",
       "      <td>3</td>\n",
       "    </tr>\n",
       "    <tr>\n",
       "      <th>6</th>\n",
       "      <td>1</td>\n",
       "      <td>1</td>\n",
       "      <td>1</td>\n",
       "      <td>1</td>\n",
       "      <td>1</td>\n",
       "      <td>1</td>\n",
       "      <td>3</td>\n",
       "      <td>1</td>\n",
       "    </tr>\n",
       "    <tr>\n",
       "      <th>7</th>\n",
       "      <td>1</td>\n",
       "      <td>1</td>\n",
       "      <td>1</td>\n",
       "      <td>1</td>\n",
       "      <td>1</td>\n",
       "      <td>1</td>\n",
       "      <td>3</td>\n",
       "      <td>2</td>\n",
       "    </tr>\n",
       "    <tr>\n",
       "      <th>8</th>\n",
       "      <td>1</td>\n",
       "      <td>1</td>\n",
       "      <td>1</td>\n",
       "      <td>1</td>\n",
       "      <td>1</td>\n",
       "      <td>1</td>\n",
       "      <td>3</td>\n",
       "      <td>3</td>\n",
       "    </tr>\n",
       "    <tr>\n",
       "      <th>9</th>\n",
       "      <td>1</td>\n",
       "      <td>1</td>\n",
       "      <td>1</td>\n",
       "      <td>1</td>\n",
       "      <td>1</td>\n",
       "      <td>2</td>\n",
       "      <td>1</td>\n",
       "      <td>1</td>\n",
       "    </tr>\n",
       "    <tr>\n",
       "      <th>10</th>\n",
       "      <td>1</td>\n",
       "      <td>1</td>\n",
       "      <td>1</td>\n",
       "      <td>1</td>\n",
       "      <td>1</td>\n",
       "      <td>2</td>\n",
       "      <td>1</td>\n",
       "      <td>2</td>\n",
       "    </tr>\n",
       "    <tr>\n",
       "      <th>11</th>\n",
       "      <td>1</td>\n",
       "      <td>1</td>\n",
       "      <td>1</td>\n",
       "      <td>1</td>\n",
       "      <td>1</td>\n",
       "      <td>2</td>\n",
       "      <td>1</td>\n",
       "      <td>3</td>\n",
       "    </tr>\n",
       "    <tr>\n",
       "      <th>12</th>\n",
       "      <td>1</td>\n",
       "      <td>1</td>\n",
       "      <td>1</td>\n",
       "      <td>1</td>\n",
       "      <td>1</td>\n",
       "      <td>2</td>\n",
       "      <td>2</td>\n",
       "      <td>1</td>\n",
       "    </tr>\n",
       "    <tr>\n",
       "      <th>13</th>\n",
       "      <td>1</td>\n",
       "      <td>1</td>\n",
       "      <td>1</td>\n",
       "      <td>1</td>\n",
       "      <td>1</td>\n",
       "      <td>2</td>\n",
       "      <td>2</td>\n",
       "      <td>2</td>\n",
       "    </tr>\n",
       "    <tr>\n",
       "      <th>14</th>\n",
       "      <td>1</td>\n",
       "      <td>1</td>\n",
       "      <td>1</td>\n",
       "      <td>1</td>\n",
       "      <td>1</td>\n",
       "      <td>2</td>\n",
       "      <td>2</td>\n",
       "      <td>3</td>\n",
       "    </tr>\n",
       "    <tr>\n",
       "      <th>15</th>\n",
       "      <td>1</td>\n",
       "      <td>1</td>\n",
       "      <td>1</td>\n",
       "      <td>1</td>\n",
       "      <td>1</td>\n",
       "      <td>2</td>\n",
       "      <td>3</td>\n",
       "      <td>1</td>\n",
       "    </tr>\n",
       "    <tr>\n",
       "      <th>16</th>\n",
       "      <td>1</td>\n",
       "      <td>1</td>\n",
       "      <td>1</td>\n",
       "      <td>1</td>\n",
       "      <td>1</td>\n",
       "      <td>2</td>\n",
       "      <td>3</td>\n",
       "      <td>2</td>\n",
       "    </tr>\n",
       "    <tr>\n",
       "      <th>17</th>\n",
       "      <td>1</td>\n",
       "      <td>1</td>\n",
       "      <td>1</td>\n",
       "      <td>1</td>\n",
       "      <td>1</td>\n",
       "      <td>2</td>\n",
       "      <td>3</td>\n",
       "      <td>3</td>\n",
       "    </tr>\n",
       "    <tr>\n",
       "      <th>18</th>\n",
       "      <td>1</td>\n",
       "      <td>1</td>\n",
       "      <td>1</td>\n",
       "      <td>1</td>\n",
       "      <td>2</td>\n",
       "      <td>1</td>\n",
       "      <td>1</td>\n",
       "      <td>1</td>\n",
       "    </tr>\n",
       "    <tr>\n",
       "      <th>19</th>\n",
       "      <td>1</td>\n",
       "      <td>1</td>\n",
       "      <td>1</td>\n",
       "      <td>1</td>\n",
       "      <td>2</td>\n",
       "      <td>1</td>\n",
       "      <td>1</td>\n",
       "      <td>2</td>\n",
       "    </tr>\n",
       "    <tr>\n",
       "      <th>20</th>\n",
       "      <td>1</td>\n",
       "      <td>1</td>\n",
       "      <td>1</td>\n",
       "      <td>1</td>\n",
       "      <td>2</td>\n",
       "      <td>1</td>\n",
       "      <td>1</td>\n",
       "      <td>3</td>\n",
       "    </tr>\n",
       "    <tr>\n",
       "      <th>21</th>\n",
       "      <td>1</td>\n",
       "      <td>1</td>\n",
       "      <td>1</td>\n",
       "      <td>1</td>\n",
       "      <td>2</td>\n",
       "      <td>1</td>\n",
       "      <td>2</td>\n",
       "      <td>1</td>\n",
       "    </tr>\n",
       "    <tr>\n",
       "      <th>22</th>\n",
       "      <td>1</td>\n",
       "      <td>1</td>\n",
       "      <td>1</td>\n",
       "      <td>1</td>\n",
       "      <td>2</td>\n",
       "      <td>1</td>\n",
       "      <td>2</td>\n",
       "      <td>2</td>\n",
       "    </tr>\n",
       "    <tr>\n",
       "      <th>23</th>\n",
       "      <td>1</td>\n",
       "      <td>1</td>\n",
       "      <td>1</td>\n",
       "      <td>1</td>\n",
       "      <td>2</td>\n",
       "      <td>1</td>\n",
       "      <td>2</td>\n",
       "      <td>3</td>\n",
       "    </tr>\n",
       "    <tr>\n",
       "      <th>24</th>\n",
       "      <td>1</td>\n",
       "      <td>1</td>\n",
       "      <td>1</td>\n",
       "      <td>1</td>\n",
       "      <td>2</td>\n",
       "      <td>1</td>\n",
       "      <td>3</td>\n",
       "      <td>1</td>\n",
       "    </tr>\n",
       "    <tr>\n",
       "      <th>25</th>\n",
       "      <td>1</td>\n",
       "      <td>1</td>\n",
       "      <td>1</td>\n",
       "      <td>1</td>\n",
       "      <td>2</td>\n",
       "      <td>1</td>\n",
       "      <td>3</td>\n",
       "      <td>2</td>\n",
       "    </tr>\n",
       "    <tr>\n",
       "      <th>26</th>\n",
       "      <td>1</td>\n",
       "      <td>1</td>\n",
       "      <td>1</td>\n",
       "      <td>1</td>\n",
       "      <td>2</td>\n",
       "      <td>1</td>\n",
       "      <td>3</td>\n",
       "      <td>3</td>\n",
       "    </tr>\n",
       "    <tr>\n",
       "      <th>27</th>\n",
       "      <td>1</td>\n",
       "      <td>1</td>\n",
       "      <td>1</td>\n",
       "      <td>1</td>\n",
       "      <td>2</td>\n",
       "      <td>2</td>\n",
       "      <td>1</td>\n",
       "      <td>1</td>\n",
       "    </tr>\n",
       "    <tr>\n",
       "      <th>28</th>\n",
       "      <td>1</td>\n",
       "      <td>1</td>\n",
       "      <td>1</td>\n",
       "      <td>1</td>\n",
       "      <td>2</td>\n",
       "      <td>2</td>\n",
       "      <td>1</td>\n",
       "      <td>2</td>\n",
       "    </tr>\n",
       "    <tr>\n",
       "      <th>29</th>\n",
       "      <td>1</td>\n",
       "      <td>1</td>\n",
       "      <td>1</td>\n",
       "      <td>1</td>\n",
       "      <td>2</td>\n",
       "      <td>2</td>\n",
       "      <td>1</td>\n",
       "      <td>3</td>\n",
       "    </tr>\n",
       "    <tr>\n",
       "      <th>...</th>\n",
       "      <td>...</td>\n",
       "      <td>...</td>\n",
       "      <td>...</td>\n",
       "      <td>...</td>\n",
       "      <td>...</td>\n",
       "      <td>...</td>\n",
       "      <td>...</td>\n",
       "      <td>...</td>\n",
       "    </tr>\n",
       "    <tr>\n",
       "      <th>12930</th>\n",
       "      <td>3</td>\n",
       "      <td>5</td>\n",
       "      <td>4</td>\n",
       "      <td>4</td>\n",
       "      <td>2</td>\n",
       "      <td>1</td>\n",
       "      <td>3</td>\n",
       "      <td>1</td>\n",
       "    </tr>\n",
       "    <tr>\n",
       "      <th>12931</th>\n",
       "      <td>3</td>\n",
       "      <td>5</td>\n",
       "      <td>4</td>\n",
       "      <td>4</td>\n",
       "      <td>2</td>\n",
       "      <td>1</td>\n",
       "      <td>3</td>\n",
       "      <td>2</td>\n",
       "    </tr>\n",
       "    <tr>\n",
       "      <th>12932</th>\n",
       "      <td>3</td>\n",
       "      <td>5</td>\n",
       "      <td>4</td>\n",
       "      <td>4</td>\n",
       "      <td>2</td>\n",
       "      <td>1</td>\n",
       "      <td>3</td>\n",
       "      <td>3</td>\n",
       "    </tr>\n",
       "    <tr>\n",
       "      <th>12933</th>\n",
       "      <td>3</td>\n",
       "      <td>5</td>\n",
       "      <td>4</td>\n",
       "      <td>4</td>\n",
       "      <td>2</td>\n",
       "      <td>2</td>\n",
       "      <td>1</td>\n",
       "      <td>1</td>\n",
       "    </tr>\n",
       "    <tr>\n",
       "      <th>12934</th>\n",
       "      <td>3</td>\n",
       "      <td>5</td>\n",
       "      <td>4</td>\n",
       "      <td>4</td>\n",
       "      <td>2</td>\n",
       "      <td>2</td>\n",
       "      <td>1</td>\n",
       "      <td>2</td>\n",
       "    </tr>\n",
       "    <tr>\n",
       "      <th>12935</th>\n",
       "      <td>3</td>\n",
       "      <td>5</td>\n",
       "      <td>4</td>\n",
       "      <td>4</td>\n",
       "      <td>2</td>\n",
       "      <td>2</td>\n",
       "      <td>1</td>\n",
       "      <td>3</td>\n",
       "    </tr>\n",
       "    <tr>\n",
       "      <th>12936</th>\n",
       "      <td>3</td>\n",
       "      <td>5</td>\n",
       "      <td>4</td>\n",
       "      <td>4</td>\n",
       "      <td>2</td>\n",
       "      <td>2</td>\n",
       "      <td>2</td>\n",
       "      <td>1</td>\n",
       "    </tr>\n",
       "    <tr>\n",
       "      <th>12937</th>\n",
       "      <td>3</td>\n",
       "      <td>5</td>\n",
       "      <td>4</td>\n",
       "      <td>4</td>\n",
       "      <td>2</td>\n",
       "      <td>2</td>\n",
       "      <td>2</td>\n",
       "      <td>2</td>\n",
       "    </tr>\n",
       "    <tr>\n",
       "      <th>12938</th>\n",
       "      <td>3</td>\n",
       "      <td>5</td>\n",
       "      <td>4</td>\n",
       "      <td>4</td>\n",
       "      <td>2</td>\n",
       "      <td>2</td>\n",
       "      <td>2</td>\n",
       "      <td>3</td>\n",
       "    </tr>\n",
       "    <tr>\n",
       "      <th>12939</th>\n",
       "      <td>3</td>\n",
       "      <td>5</td>\n",
       "      <td>4</td>\n",
       "      <td>4</td>\n",
       "      <td>2</td>\n",
       "      <td>2</td>\n",
       "      <td>3</td>\n",
       "      <td>1</td>\n",
       "    </tr>\n",
       "    <tr>\n",
       "      <th>12940</th>\n",
       "      <td>3</td>\n",
       "      <td>5</td>\n",
       "      <td>4</td>\n",
       "      <td>4</td>\n",
       "      <td>2</td>\n",
       "      <td>2</td>\n",
       "      <td>3</td>\n",
       "      <td>2</td>\n",
       "    </tr>\n",
       "    <tr>\n",
       "      <th>12941</th>\n",
       "      <td>3</td>\n",
       "      <td>5</td>\n",
       "      <td>4</td>\n",
       "      <td>4</td>\n",
       "      <td>2</td>\n",
       "      <td>2</td>\n",
       "      <td>3</td>\n",
       "      <td>3</td>\n",
       "    </tr>\n",
       "    <tr>\n",
       "      <th>12942</th>\n",
       "      <td>3</td>\n",
       "      <td>5</td>\n",
       "      <td>4</td>\n",
       "      <td>4</td>\n",
       "      <td>3</td>\n",
       "      <td>1</td>\n",
       "      <td>1</td>\n",
       "      <td>1</td>\n",
       "    </tr>\n",
       "    <tr>\n",
       "      <th>12943</th>\n",
       "      <td>3</td>\n",
       "      <td>5</td>\n",
       "      <td>4</td>\n",
       "      <td>4</td>\n",
       "      <td>3</td>\n",
       "      <td>1</td>\n",
       "      <td>1</td>\n",
       "      <td>2</td>\n",
       "    </tr>\n",
       "    <tr>\n",
       "      <th>12944</th>\n",
       "      <td>3</td>\n",
       "      <td>5</td>\n",
       "      <td>4</td>\n",
       "      <td>4</td>\n",
       "      <td>3</td>\n",
       "      <td>1</td>\n",
       "      <td>1</td>\n",
       "      <td>3</td>\n",
       "    </tr>\n",
       "    <tr>\n",
       "      <th>12945</th>\n",
       "      <td>3</td>\n",
       "      <td>5</td>\n",
       "      <td>4</td>\n",
       "      <td>4</td>\n",
       "      <td>3</td>\n",
       "      <td>1</td>\n",
       "      <td>2</td>\n",
       "      <td>1</td>\n",
       "    </tr>\n",
       "    <tr>\n",
       "      <th>12946</th>\n",
       "      <td>3</td>\n",
       "      <td>5</td>\n",
       "      <td>4</td>\n",
       "      <td>4</td>\n",
       "      <td>3</td>\n",
       "      <td>1</td>\n",
       "      <td>2</td>\n",
       "      <td>2</td>\n",
       "    </tr>\n",
       "    <tr>\n",
       "      <th>12947</th>\n",
       "      <td>3</td>\n",
       "      <td>5</td>\n",
       "      <td>4</td>\n",
       "      <td>4</td>\n",
       "      <td>3</td>\n",
       "      <td>1</td>\n",
       "      <td>2</td>\n",
       "      <td>3</td>\n",
       "    </tr>\n",
       "    <tr>\n",
       "      <th>12948</th>\n",
       "      <td>3</td>\n",
       "      <td>5</td>\n",
       "      <td>4</td>\n",
       "      <td>4</td>\n",
       "      <td>3</td>\n",
       "      <td>1</td>\n",
       "      <td>3</td>\n",
       "      <td>1</td>\n",
       "    </tr>\n",
       "    <tr>\n",
       "      <th>12949</th>\n",
       "      <td>3</td>\n",
       "      <td>5</td>\n",
       "      <td>4</td>\n",
       "      <td>4</td>\n",
       "      <td>3</td>\n",
       "      <td>1</td>\n",
       "      <td>3</td>\n",
       "      <td>2</td>\n",
       "    </tr>\n",
       "    <tr>\n",
       "      <th>12950</th>\n",
       "      <td>3</td>\n",
       "      <td>5</td>\n",
       "      <td>4</td>\n",
       "      <td>4</td>\n",
       "      <td>3</td>\n",
       "      <td>1</td>\n",
       "      <td>3</td>\n",
       "      <td>3</td>\n",
       "    </tr>\n",
       "    <tr>\n",
       "      <th>12951</th>\n",
       "      <td>3</td>\n",
       "      <td>5</td>\n",
       "      <td>4</td>\n",
       "      <td>4</td>\n",
       "      <td>3</td>\n",
       "      <td>2</td>\n",
       "      <td>1</td>\n",
       "      <td>1</td>\n",
       "    </tr>\n",
       "    <tr>\n",
       "      <th>12952</th>\n",
       "      <td>3</td>\n",
       "      <td>5</td>\n",
       "      <td>4</td>\n",
       "      <td>4</td>\n",
       "      <td>3</td>\n",
       "      <td>2</td>\n",
       "      <td>1</td>\n",
       "      <td>2</td>\n",
       "    </tr>\n",
       "    <tr>\n",
       "      <th>12953</th>\n",
       "      <td>3</td>\n",
       "      <td>5</td>\n",
       "      <td>4</td>\n",
       "      <td>4</td>\n",
       "      <td>3</td>\n",
       "      <td>2</td>\n",
       "      <td>1</td>\n",
       "      <td>3</td>\n",
       "    </tr>\n",
       "    <tr>\n",
       "      <th>12954</th>\n",
       "      <td>3</td>\n",
       "      <td>5</td>\n",
       "      <td>4</td>\n",
       "      <td>4</td>\n",
       "      <td>3</td>\n",
       "      <td>2</td>\n",
       "      <td>2</td>\n",
       "      <td>1</td>\n",
       "    </tr>\n",
       "    <tr>\n",
       "      <th>12955</th>\n",
       "      <td>3</td>\n",
       "      <td>5</td>\n",
       "      <td>4</td>\n",
       "      <td>4</td>\n",
       "      <td>3</td>\n",
       "      <td>2</td>\n",
       "      <td>2</td>\n",
       "      <td>2</td>\n",
       "    </tr>\n",
       "    <tr>\n",
       "      <th>12956</th>\n",
       "      <td>3</td>\n",
       "      <td>5</td>\n",
       "      <td>4</td>\n",
       "      <td>4</td>\n",
       "      <td>3</td>\n",
       "      <td>2</td>\n",
       "      <td>2</td>\n",
       "      <td>3</td>\n",
       "    </tr>\n",
       "    <tr>\n",
       "      <th>12957</th>\n",
       "      <td>3</td>\n",
       "      <td>5</td>\n",
       "      <td>4</td>\n",
       "      <td>4</td>\n",
       "      <td>3</td>\n",
       "      <td>2</td>\n",
       "      <td>3</td>\n",
       "      <td>1</td>\n",
       "    </tr>\n",
       "    <tr>\n",
       "      <th>12958</th>\n",
       "      <td>3</td>\n",
       "      <td>5</td>\n",
       "      <td>4</td>\n",
       "      <td>4</td>\n",
       "      <td>3</td>\n",
       "      <td>2</td>\n",
       "      <td>3</td>\n",
       "      <td>2</td>\n",
       "    </tr>\n",
       "    <tr>\n",
       "      <th>12959</th>\n",
       "      <td>3</td>\n",
       "      <td>5</td>\n",
       "      <td>4</td>\n",
       "      <td>4</td>\n",
       "      <td>3</td>\n",
       "      <td>2</td>\n",
       "      <td>3</td>\n",
       "      <td>3</td>\n",
       "    </tr>\n",
       "  </tbody>\n",
       "</table>\n",
       "<p>12960 rows × 8 columns</p>\n",
       "</div>"
      ],
      "text/plain": [
       "       parents  has_nurs  form  children  housing  finance  social  health\n",
       "0            1         1     1         1        1        1       1       1\n",
       "1            1         1     1         1        1        1       1       2\n",
       "2            1         1     1         1        1        1       1       3\n",
       "3            1         1     1         1        1        1       2       1\n",
       "4            1         1     1         1        1        1       2       2\n",
       "5            1         1     1         1        1        1       2       3\n",
       "6            1         1     1         1        1        1       3       1\n",
       "7            1         1     1         1        1        1       3       2\n",
       "8            1         1     1         1        1        1       3       3\n",
       "9            1         1     1         1        1        2       1       1\n",
       "10           1         1     1         1        1        2       1       2\n",
       "11           1         1     1         1        1        2       1       3\n",
       "12           1         1     1         1        1        2       2       1\n",
       "13           1         1     1         1        1        2       2       2\n",
       "14           1         1     1         1        1        2       2       3\n",
       "15           1         1     1         1        1        2       3       1\n",
       "16           1         1     1         1        1        2       3       2\n",
       "17           1         1     1         1        1        2       3       3\n",
       "18           1         1     1         1        2        1       1       1\n",
       "19           1         1     1         1        2        1       1       2\n",
       "20           1         1     1         1        2        1       1       3\n",
       "21           1         1     1         1        2        1       2       1\n",
       "22           1         1     1         1        2        1       2       2\n",
       "23           1         1     1         1        2        1       2       3\n",
       "24           1         1     1         1        2        1       3       1\n",
       "25           1         1     1         1        2        1       3       2\n",
       "26           1         1     1         1        2        1       3       3\n",
       "27           1         1     1         1        2        2       1       1\n",
       "28           1         1     1         1        2        2       1       2\n",
       "29           1         1     1         1        2        2       1       3\n",
       "...        ...       ...   ...       ...      ...      ...     ...     ...\n",
       "12930        3         5     4         4        2        1       3       1\n",
       "12931        3         5     4         4        2        1       3       2\n",
       "12932        3         5     4         4        2        1       3       3\n",
       "12933        3         5     4         4        2        2       1       1\n",
       "12934        3         5     4         4        2        2       1       2\n",
       "12935        3         5     4         4        2        2       1       3\n",
       "12936        3         5     4         4        2        2       2       1\n",
       "12937        3         5     4         4        2        2       2       2\n",
       "12938        3         5     4         4        2        2       2       3\n",
       "12939        3         5     4         4        2        2       3       1\n",
       "12940        3         5     4         4        2        2       3       2\n",
       "12941        3         5     4         4        2        2       3       3\n",
       "12942        3         5     4         4        3        1       1       1\n",
       "12943        3         5     4         4        3        1       1       2\n",
       "12944        3         5     4         4        3        1       1       3\n",
       "12945        3         5     4         4        3        1       2       1\n",
       "12946        3         5     4         4        3        1       2       2\n",
       "12947        3         5     4         4        3        1       2       3\n",
       "12948        3         5     4         4        3        1       3       1\n",
       "12949        3         5     4         4        3        1       3       2\n",
       "12950        3         5     4         4        3        1       3       3\n",
       "12951        3         5     4         4        3        2       1       1\n",
       "12952        3         5     4         4        3        2       1       2\n",
       "12953        3         5     4         4        3        2       1       3\n",
       "12954        3         5     4         4        3        2       2       1\n",
       "12955        3         5     4         4        3        2       2       2\n",
       "12956        3         5     4         4        3        2       2       3\n",
       "12957        3         5     4         4        3        2       3       1\n",
       "12958        3         5     4         4        3        2       3       2\n",
       "12959        3         5     4         4        3        2       3       3\n",
       "\n",
       "[12960 rows x 8 columns]"
      ]
     },
     "execution_count": 9,
     "metadata": {},
     "output_type": "execute_result"
    }
   ],
   "source": [
    "# print features after mapping\n",
    "df_nursery_copy[df_nursery_copy.columns[0:8]]"
   ]
  },
  {
   "cell_type": "markdown",
   "metadata": {},
   "source": [
    "## Encoding class labels"
   ]
  },
  {
   "cell_type": "markdown",
   "metadata": {},
   "source": [
    "### Nursery dataset"
   ]
  },
  {
   "cell_type": "code",
   "execution_count": 10,
   "metadata": {},
   "outputs": [],
   "source": [
    "# print labels before encoding\n",
    "#df_nursery_copy[df_nursery_copy.columns[8]]"
   ]
  },
  {
   "cell_type": "code",
   "execution_count": 11,
   "metadata": {},
   "outputs": [
    {
     "data": {
      "text/plain": [
       "{'not_recom': 0,\n",
       " 'priority': 1,\n",
       " 'recommend': 2,\n",
       " 'spec_prior': 3,\n",
       " 'very_recom': 4}"
      ]
     },
     "execution_count": 11,
     "metadata": {},
     "output_type": "execute_result"
    }
   ],
   "source": [
    "class_mapping = {label:idx for idx,label in enumerate(np.unique(df_nursery_copy[df_nursery_copy.columns[8]]))}\n",
    "\n",
    "class_mapping"
   ]
  },
  {
   "cell_type": "code",
   "execution_count": 12,
   "metadata": {},
   "outputs": [],
   "source": [
    "# map labels\n",
    "df_nursery_copy[df_nursery_copy.columns[8]] = df_nursery_copy[df_nursery_copy.columns[8]].map(class_mapping)"
   ]
  },
  {
   "cell_type": "code",
   "execution_count": 13,
   "metadata": {},
   "outputs": [
    {
     "data": {
      "text/plain": [
       "0        2\n",
       "1        1\n",
       "2        0\n",
       "3        2\n",
       "4        1\n",
       "5        0\n",
       "6        1\n",
       "7        1\n",
       "8        0\n",
       "9        4\n",
       "10       1\n",
       "11       0\n",
       "12       4\n",
       "13       1\n",
       "14       0\n",
       "15       1\n",
       "16       1\n",
       "17       0\n",
       "18       4\n",
       "19       1\n",
       "20       0\n",
       "21       4\n",
       "22       1\n",
       "23       0\n",
       "24       1\n",
       "25       1\n",
       "26       0\n",
       "27       4\n",
       "28       1\n",
       "29       0\n",
       "        ..\n",
       "12930    3\n",
       "12931    3\n",
       "12932    0\n",
       "12933    3\n",
       "12934    3\n",
       "12935    0\n",
       "12936    3\n",
       "12937    3\n",
       "12938    0\n",
       "12939    3\n",
       "12940    3\n",
       "12941    0\n",
       "12942    3\n",
       "12943    3\n",
       "12944    0\n",
       "12945    3\n",
       "12946    3\n",
       "12947    0\n",
       "12948    3\n",
       "12949    3\n",
       "12950    0\n",
       "12951    3\n",
       "12952    3\n",
       "12953    0\n",
       "12954    3\n",
       "12955    3\n",
       "12956    0\n",
       "12957    3\n",
       "12958    3\n",
       "12959    0\n",
       "Name: class, Length: 12960, dtype: int64"
      ]
     },
     "execution_count": 13,
     "metadata": {},
     "output_type": "execute_result"
    }
   ],
   "source": [
    "# print labels after encoding\n",
    "df_nursery_copy[df_nursery_copy.columns[8]]"
   ]
  },
  {
   "cell_type": "markdown",
   "metadata": {},
   "source": [
    "## Partitioning datasets in training and test sets"
   ]
  },
  {
   "cell_type": "code",
   "execution_count": 14,
   "metadata": {},
   "outputs": [],
   "source": [
    "# Added version check for recent scikit-learn 0.18 checks\n",
    "from distutils.version import LooseVersion as Version\n",
    "from sklearn import __version__ as sklearn_version\n",
    "\n",
    "if Version(sklearn_version) < '0.18':\n",
    "    from sklearn.cross_validation import train_test_split\n",
    "else:\n",
    "    from sklearn.model_selection import train_test_split"
   ]
  },
  {
   "cell_type": "markdown",
   "metadata": {},
   "source": [
    "### Banknotes dataset"
   ]
  },
  {
   "cell_type": "code",
   "execution_count": 15,
   "metadata": {},
   "outputs": [],
   "source": [
    "# labels reading\n",
    "y1=df_bankNotes[df_bankNotes.columns[4]]\n",
    "# features reading\n",
    "X1=df_bankNotes[df_bankNotes.columns[0:4]]\n",
    "\n",
    "# get training and test sets\n",
    "X_train1,X_test1,y_train1,y_test1 = train_test_split(X1,y1,test_size = 0.3)"
   ]
  },
  {
   "cell_type": "markdown",
   "metadata": {},
   "source": [
    "### Nursery dataset"
   ]
  },
  {
   "cell_type": "code",
   "execution_count": 16,
   "metadata": {},
   "outputs": [],
   "source": [
    "# labels reading\n",
    "y2=df_nursery_copy[df_nursery_copy.columns[8]]\n",
    "# features reading\n",
    "X2=df_nursery_copy[df_nursery_copy.columns[0:8]]\n",
    "\n",
    "# get training and test sets\n",
    "X_train2,X_test2,y_train2,y_test2 = train_test_split(X2,y2,test_size = 0.3)"
   ]
  },
  {
   "cell_type": "markdown",
   "metadata": {},
   "source": [
    "## Rank features"
   ]
  },
  {
   "cell_type": "markdown",
   "metadata": {},
   "source": [
    "### Univariate Feature Selection\n",
    "\n",
    "Univariate feature selection selects the best features by running univariate statistical tests like **chi-squared test, F-1 test, and mutual information** methods.\n",
    "Can't use the **chi-squared** function, if there are negative values.\n",
    "#### 1. Mutual Info Classif"
   ]
  },
  {
   "cell_type": "code",
   "execution_count": 17,
   "metadata": {},
   "outputs": [
    {
     "data": {
      "text/plain": [
       "SelectKBest(k=2, score_func=<function mutual_info_classif at 0x7f3162a480d0>)"
      ]
     },
     "execution_count": 17,
     "metadata": {},
     "output_type": "execute_result"
    }
   ],
   "source": [
    "from sklearn.feature_selection import SelectKBest\n",
    "from sklearn.feature_selection import chi2, mutual_info_classif\n",
    "\n",
    "test = SelectKBest(score_func = mutual_info_classif, k=2)\n",
    "test"
   ]
  },
  {
   "cell_type": "markdown",
   "metadata": {},
   "source": [
    "##### Banknotes dataset"
   ]
  },
  {
   "cell_type": "code",
   "execution_count": 18,
   "metadata": {},
   "outputs": [
    {
     "name": "stdout",
     "output_type": "stream",
     "text": [
      "[(0.3651135027748482, 'variance of Wavelet Transformed image'), (0.23575549040416321, 'skewness of Wavelet Transformed image'), (0.12651335887606008, 'curtosis of Wavelet Transformed image'), (0.01604477828245643, 'entropy of image')]\n"
     ]
    }
   ],
   "source": [
    "test.fit(X_train1, y_train1)\n",
    "num_features = len(X_train1.columns)\n",
    "\n",
    "scores = []\n",
    "for i in range(num_features):\n",
    "    score = test.scores_[i]\n",
    "    scores.append((score, X_train1.columns[i]))\n",
    "        \n",
    "print (sorted(scores, reverse = True))"
   ]
  },
  {
   "cell_type": "markdown",
   "metadata": {},
   "source": [
    "##### Nursery dataset"
   ]
  },
  {
   "cell_type": "code",
   "execution_count": null,
   "metadata": {},
   "outputs": [
    {
     "name": "stdout",
     "output_type": "stream",
     "text": [
      "[(0.6671626913475868, 'health'), (0.15002428064610718, 'has_nurs'), (0.049082432264722975, 'parents'), (0.019430268361006142, 'social'), (0.01479428914029901, 'housing'), (0.008336981751714045, 'form'), (0.008329247089529979, 'finance'), (0.0049258133024050466, 'children')]\n"
     ]
    }
   ],
   "source": [
    "test.fit(X_train2, y_train2)\n",
    "num_features = len(X_train2.columns)\n",
    "\n",
    "scores = []\n",
    "for i in range(num_features):\n",
    "    score = test.scores_[i]\n",
    "    scores.append((score, X_train2.columns[i]))\n",
    "        \n",
    "print (sorted(scores, reverse = True))"
   ]
  },
  {
   "cell_type": "markdown",
   "metadata": {},
   "source": [
    "#### 2. Chi-squared"
   ]
  },
  {
   "cell_type": "code",
   "execution_count": null,
   "metadata": {},
   "outputs": [],
   "source": [
    "from sklearn.feature_selection import chi2\n",
    "test = SelectKBest(score_func = chi2, k=2)"
   ]
  },
  {
   "cell_type": "markdown",
   "metadata": {},
   "source": [
    "##### Nursery dataset"
   ]
  },
  {
   "cell_type": "code",
   "execution_count": null,
   "metadata": {},
   "outputs": [
    {
     "name": "stdout",
     "output_type": "stream",
     "text": [
      "[(2330.18746786419, 'health'), (1411.86832073306, 'has_nurs'), (277.77034581620404, 'parents'), (77.60311192178953, 'housing'), (65.42916585994789, 'children'), (54.447857258526255, 'social'), (31.315428926512134, 'form'), (8.674972717871512, 'finance')]\n"
     ]
    }
   ],
   "source": [
    "test.fit(X_train2, y_train2)\n",
    "num_features = len(X_train2.columns)\n",
    "\n",
    "scores = []\n",
    "for i in range(num_features):\n",
    "    score = test.scores_[i]\n",
    "    scores.append((score, X_train2.columns[i]))\n",
    "        \n",
    "print (sorted(scores, reverse = True))"
   ]
  },
  {
   "cell_type": "markdown",
   "metadata": {},
   "source": [
    "## Dimension reduction\n",
    "### PCA - Banknotes dataset\n",
    "\n",
    "Check to see the overall weight of each principal component has on the variance of values."
   ]
  },
  {
   "cell_type": "code",
   "execution_count": null,
   "metadata": {},
   "outputs": [
    {
     "name": "stdout",
     "output_type": "stream",
     "text": [
      "Explained variance ratio: [0.76650539 0.1412553  0.06298564 0.02925368]\n"
     ]
    },
    {
     "data": {
      "image/png": "[encoded data removed]",
      "text/plain": [
       "<Figure size 432x288 with 1 Axes>"
      ]
     },
     "metadata": {
      "needs_background": "light"
     },
     "output_type": "display_data"
    }
   ],
   "source": [
    "import matplotlib.pyplot as plt\n",
    "from sklearn.decomposition import PCA\n",
    "\n",
    "pca = PCA()\n",
    "principalComponents = pca.fit_transform(X_train1)\n",
    "\n",
    "print(\"Explained variance ratio:\",pca.explained_variance_ratio_)\n",
    "range_value = pca.explained_variance_ratio_.shape[0]\n",
    "\n",
    "plt.bar(range(range_value), pca.explained_variance_ratio_, alpha=0.5, align='center')\n",
    "plt.step(range(range_value), np.cumsum(pca.explained_variance_ratio_), where='mid')\n",
    "plt.ylabel('Explained variance ratio')\n",
    "plt.xlabel('Principal components')\n",
    "plt.show()"
   ]
  },
  {
   "cell_type": "code",
   "execution_count": null,
   "metadata": {},
   "outputs": [
    {
     "name": "stdout",
     "output_type": "stream",
     "text": [
      "eigenvectors\n",
      " [[-0.13990472 -0.81245605  0.54669634  0.14650921]\n",
      " [-0.78690389  0.26645552  0.31717771 -0.45736421]\n",
      " [ 0.45600508  0.44257498  0.77208222  0.00870563]\n",
      " [ 0.39149495 -0.27026657 -0.06641119 -0.87708451]]\n",
      "singular_ values\n",
      " [222.008877    95.30487265  63.64048863  43.37135357]\n"
     ]
    }
   ],
   "source": [
    "# The eigenvectors\n",
    "print('eigenvectors\\n', pca.components_)\n",
    "# singular values\n",
    "print('singular_ values\\n', pca.singular_values_)"
   ]
  },
  {
   "cell_type": "markdown",
   "metadata": {},
   "source": [
    "Drawing graph using first 2 components."
   ]
  },
  {
   "cell_type": "code",
   "execution_count": null,
   "metadata": {},
   "outputs": [
    {
     "data": {
      "image/png": "[encoded data removed]",
      "text/plain": [
       "<Figure size 1440x1440 with 1 Axes>"
      ]
     },
     "metadata": {
      "needs_background": "light"
     },
     "output_type": "display_data"
    }
   ],
   "source": [
    "pca = PCA(n_components=2)\n",
    "X_train_pca1 = pca.fit_transform(X_train1)\n",
    "\n",
    "fig = plt.figure(figsize=(20, 20))\n",
    "ax = fig.add_subplot(2,2,1) \n",
    "\n",
    "ax.scatter(X_train_pca1[y_train1 == 0, 0], X_train_pca1[y_train1 == 0, 1],\n",
    "              color='red', marker='^', alpha=0.5)\n",
    "ax.scatter(X_train_pca1[y_train1 == 1, 0], X_train_pca1[y_train1 == 1, 1],\n",
    "              color='blue', marker='o', alpha=0.5)\n",
    "\n",
    "ax.set_xlabel('PC1')\n",
    "ax.set_ylabel('PC2')\n",
    "\n",
    "ax.grid()\n",
    "plt.show()"
   ]
  },
  {
   "cell_type": "markdown",
   "metadata": {},
   "source": [
    "### KPCA - Banknotes dataset"
   ]
  },
  {
   "cell_type": "code",
   "execution_count": null,
   "metadata": {},
   "outputs": [
    {
     "data": {
      "image/png": "[encoded data removed]",
      "text/plain": [
       "<Figure size 1440x1440 with 1 Axes>"
      ]
     },
     "metadata": {
      "needs_background": "light"
     },
     "output_type": "display_data"
    }
   ],
   "source": [
    "from sklearn.decomposition import KernelPCA\n",
    "\n",
    "kpca = KernelPCA( n_components = 2, kernel=\"rbf\", fit_inverse_transform=True, gamma=10)\n",
    "X_train_kpca1 = kpca.fit_transform(X_train1)\n",
    "fig = plt.figure(figsize=(20, 20))\n",
    "\n",
    "plt.subplot(2, 2, 1, aspect='equal')\n",
    "\n",
    "plt.scatter(X_train_kpca1[y_train1 == 0, 0], X_train_kpca1[y_train1 == 0, 1], c=\"red\",\n",
    "            marker='^', alpha=0.5)\n",
    "plt.scatter(X_train_kpca1[y_train1 == 1, 0], X_train_kpca1[y_train1 == 1, 1], c=\"blue\",\n",
    "            marker='o', alpha=0.5)\n",
    "plt.title(\"Projection by KPCA - RBF\")\n",
    "plt.xlabel(\"1st principal component in space induced by $\\phi$\")\n",
    "plt.ylabel(\"2nd component\")\n",
    "plt.grid()\n",
    "plt.show()"
   ]
  },
  {
   "cell_type": "markdown",
   "metadata": {},
   "source": [
    "### PCA - Nursery dataset\n",
    "Unlike with the first dataset, the principal components here are much similar."
   ]
  },
  {
   "cell_type": "code",
   "execution_count": null,
   "metadata": {},
   "outputs": [
    {
     "name": "stdout",
     "output_type": "stream",
     "text": [
      "Explained variance ratio: [0.26999765 0.1687268  0.16783652 0.09156663 0.09001125 0.08938557\n",
      " 0.08874903 0.03372655]\n"
     ]
    },
    {
     "data": {
      "image/png": "[encoded data removed]",
      "text/plain": [
       "<Figure size 432x288 with 1 Axes>"
      ]
     },
     "metadata": {
      "needs_background": "light"
     },
     "output_type": "display_data"
    }
   ],
   "source": [
    "pca = PCA()\n",
    "principalComponents = pca.fit_transform(X_train2)\n",
    "\n",
    "print(\"Explained variance ratio:\",pca.explained_variance_ratio_)\n",
    "range_value = pca.explained_variance_ratio_.shape[0]\n",
    "\n",
    "plt.bar(range(range_value), pca.explained_variance_ratio_, alpha=0.5, align='center')\n",
    "plt.step(range(range_value), np.cumsum(pca.explained_variance_ratio_), where='mid')\n",
    "plt.ylabel('Explained variance ratio')\n",
    "plt.xlabel('Principal components')\n",
    "plt.show()"
   ]
  },
  {
   "cell_type": "code",
   "execution_count": null,
   "metadata": {},
   "outputs": [
    {
     "name": "stdout",
     "output_type": "stream",
     "text": [
      "eigenvectors\n",
      " [[-9.47934855e-04  9.99987031e-01 -4.69267657e-04  3.15527592e-03\n",
      "   2.19444550e-03 -1.12106606e-03  1.73251965e-03 -2.40617464e-03]\n",
      " [ 1.89466735e-02 -2.46758684e-03  4.68891697e-01  8.82783530e-01\n",
      "  -1.41258805e-02  2.15045191e-04 -9.84467705e-03  1.31242379e-02]\n",
      " [-3.78226021e-03  1.87240217e-03  8.83135924e-01 -4.68854330e-01\n",
      "   1.34920347e-02 -2.89003610e-04 -6.82737577e-03  1.13992559e-04]\n",
      " [ 4.12171541e-01 -2.90528484e-03  7.30183278e-04  1.25106793e-02\n",
      "   6.20405745e-01  2.30800003e-03  2.21596985e-01 -6.29233892e-01]\n",
      " [-5.72602922e-01 -2.17018459e-03  1.06162531e-02  1.71697453e-02\n",
      "   1.48186704e-01  7.86780525e-03  8.04181445e-01  5.46322414e-02]\n",
      " [ 1.18211569e-01  4.83622346e-04 -9.70306032e-03  1.85070171e-03\n",
      "   6.80872099e-01 -4.55751871e-03 -8.98764082e-02  7.17107287e-01]\n",
      " [-6.98438277e-01 -1.27327421e-03 -1.97653752e-03  2.00943796e-02\n",
      "   3.59389314e-01  6.65751874e-03 -5.44012446e-01 -2.94312958e-01]\n",
      " [-8.73680764e-03 -1.15666158e-03 -3.75980808e-05  6.11149495e-04\n",
      "   1.87808287e-03 -9.99933143e-01  3.62458534e-03 -6.24499060e-03]]\n",
      "singular_ values\n",
      " [134.72987866 106.50646044 106.22510316  78.46076332  77.79153211\n",
      "  77.52068959  77.24417378  47.61786029]\n"
     ]
    }
   ],
   "source": [
    "# The eigenvectors\n",
    "print('eigenvectors\\n', pca.components_)\n",
    "# singular values\n",
    "print('singular_ values\\n', pca.singular_values_)"
   ]
  },
  {
   "cell_type": "markdown",
   "metadata": {},
   "source": [
    "Drawing a graph with the first 2 PCs doesn't show us much variance. There are a lot of points stacked on top of each other."
   ]
  },
  {
   "cell_type": "code",
   "execution_count": null,
   "metadata": {},
   "outputs": [
    {
     "data": {
      "image/png": "[encoded data removed]",
      "text/plain": [
       "<Figure size 1440x1440 with 1 Axes>"
      ]
     },
     "metadata": {
      "needs_background": "light"
     },
     "output_type": "display_data"
    }
   ],
   "source": [
    "# Only two components for illustration\n",
    "pca = PCA(n_components=7)\n",
    "X_train_pca2 = pca.fit_transform(X_train2)\n",
    "\n",
    "X_train2_v1 = pd.DataFrame(data=X_train_pca2)\n",
    "\n",
    "fig= plt.figure(figsize=(20, 20))\n",
    "\n",
    "plt.subplot(2, 2, 1, aspect='equal')\n",
    "\n",
    "plt.scatter(X_train_pca2[y_train2 == 0, 0], X_train_pca2[y_train2 == 0, 1], c=\"red\",\n",
    "            marker='^', alpha=0.5)\n",
    "plt.scatter(X_train_pca2[y_train2 == 1, 0], X_train_pca2[y_train2 == 1, 1], c=\"green\",\n",
    "            marker='o', alpha=0.5)\n",
    "plt.scatter(X_train_pca2[y_train2 == 2, 0], X_train_pca2[y_train2 == 2, 1], c=\"cyan\",\n",
    "            marker='x', alpha=0.5)\n",
    "plt.scatter(X_train_pca2[y_train2 == 3, 0], X_train_pca2[y_train2 == 3, 1], c=\"blue\",\n",
    "            marker='s', alpha=0.5)\n",
    "plt.scatter(X_train_pca2[y_train2 == 4, 0], X_train_pca2[y_train2 == 4, 1], c=\"yellow\",\n",
    "            marker='*', alpha=0.5)\n",
    "plt.title(\"Projection by KPCA\")\n",
    "plt.xlabel(\"1st principal component in space induced by $\\phi$\")\n",
    "plt.ylabel(\"2nd component\")\n",
    "plt.grid()\n",
    "plt.show()"
   ]
  },
  {
   "cell_type": "markdown",
   "metadata": {},
   "source": [
    "### KPCA - Nursery dataset"
   ]
  },
  {
   "cell_type": "code",
   "execution_count": null,
   "metadata": {},
   "outputs": [],
   "source": [
    "from sklearn.decomposition import KernelPCA\n",
    "\n",
    "kpca = KernelPCA(n_components = 2 ,kernel=\"rbf\", fit_inverse_transform=True, gamma=10)\n",
    "X_train_kpca2 = kpca.fit_transform(X_train2)\n",
    "\n",
    "fig= plt.figure(figsize=(20, 20))\n",
    "\n",
    "plt.subplot(2, 2, 1, aspect='equal')\n",
    "\n",
    "plt.scatter(X_train_kpca2[y_train2 == 0, 0], X_train_kpca2[y_train2 == 0, 1], c=\"red\",\n",
    "            marker='^', alpha=0.5)\n",
    "plt.scatter(X_train_kpca2[y_train2 == 1, 0], X_train_kpca2[y_train2 == 1, 1], c=\"green\",\n",
    "            marker='o', alpha=0.5)\n",
    "plt.scatter(X_train_kpca2[y_train2 == 2, 0], X_train_kpca2[y_train2 == 2, 1], c=\"cyan\",\n",
    "            marker='x', alpha=0.5)\n",
    "plt.scatter(X_train_kpca2[y_train2 == 3, 0], X_train_kpca2[y_train2 == 3, 1], c=\"blue\",\n",
    "            marker='s', alpha=0.5)\n",
    "plt.scatter(X_train_kpca2[y_train2 == 4, 0], X_train_kpca2[y_train2 == 4, 1], c=\"yellow\",\n",
    "            marker='*', alpha=0.5)\n",
    "plt.title(\"Projection by KPCA\")\n",
    "plt.xlabel(\"1st principal component in space induced by $\\phi$\")\n",
    "plt.ylabel(\"2nd component\")\n",
    "plt.grid()\n",
    "plt.show()\n"
   ]
  },
  {
   "cell_type": "markdown",
   "metadata": {},
   "source": [
    "## Task B - Predictive Model"
   ]
  },
  {
   "cell_type": "markdown",
   "metadata": {},
   "source": [
    "The models chosen were MLP and SVM."
   ]
  },
  {
   "cell_type": "code",
   "execution_count": null,
   "metadata": {},
   "outputs": [],
   "source": [
    "from matplotlib.colors import ListedColormap\n",
    "\n",
    "def plot_decision_regions(X, y, classifier, resolution=0.02):\n",
    "# setup marker generator and color map\n",
    "    markers = ('s', 'x', 'o', '^', 'v')\n",
    "    colors = ('red', 'blue', 'lightgreen', 'gray', 'cyan')\n",
    "    cmap = ListedColormap(colors[:len(np.unique(y))])\n",
    "    #plot the decision surface\n",
    "    x1_min, x1_max = X[:, 0].min() - 1, X[:, 0].max() + 1\n",
    "    x2_min, x2_max = X[:, 1].min() - 1, X[:, 1].max() + 1\n",
    "    xx1, xx2 = np.meshgrid(np.arange(x1_min, x1_max, resolution),\n",
    "    np.arange(x2_min, x2_max, resolution))\n",
    "\n",
    "    Z = classifier.predict(np.array([xx1.ravel(), xx2.ravel()]).T)\n",
    "    Z = Z.reshape(xx1.shape)\n",
    "    plt.contourf(xx1, xx2, Z, alpha=0.4, cmap=cmap)\n",
    "    plt.xlim(xx1.min(), xx1.max())\n",
    "    plt.ylim(xx2.min(), xx2.max())\n",
    "    # plot class samples\n",
    "    for idx, cl in enumerate(np.unique(y)):\n",
    "        plt.scatter(x=X[y == cl, 0], y=X[y == cl, 1],\n",
    "            alpha=0.8, c=cmap(idx), marker=markers[idx], label=cl)"
   ]
  },
  {
   "cell_type": "markdown",
   "metadata": {},
   "source": [
    "### MLP - Banknotes dataset"
   ]
  },
  {
   "cell_type": "code",
   "execution_count": null,
   "metadata": {},
   "outputs": [],
   "source": [
    "from sklearn.neural_network import MLPClassifier\n",
    "\n",
    "mlp_Dataset1 = MLPClassifier(activation='tanh', hidden_layer_sizes=(10,5), alpha=0.01, max_iter=5000)\n",
    "mlp_Dataset1"
   ]
  },
  {
   "cell_type": "code",
   "execution_count": null,
   "metadata": {},
   "outputs": [],
   "source": [
    "X12=X_train1[X_train1.columns[0:2]]\n",
    "\n",
    "mlp_Dataset1 = mlp_Dataset1.fit(X12.values,y_train1.values)\n",
    "plot_decision_regions(X12.values, y_train1.values, classifier=mlp_Dataset1)\n",
    "plt.xlabel(['x1'])\n",
    "plt.ylabel(['x2'])\n",
    "plt.legend(loc='upper left')\n",
    "plt.grid()\n",
    "plt.tight_layout()\n",
    "plt.show()"
   ]
  },
  {
   "cell_type": "code",
   "execution_count": null,
   "metadata": {},
   "outputs": [],
   "source": [
    "print('Banknotes dataset')\n",
    "print('the weights are \\n',mlp_Dataset1.coefs_)\n",
    "print('the bias \\n ', mlp_Dataset1.intercepts_)\n",
    "print('number of iterations \\n', mlp_Dataset1.n_iter_)\n",
    "print('output activation', mlp_Dataset1.out_activation_)"
   ]
  },
  {
   "cell_type": "markdown",
   "metadata": {},
   "source": [
    "### MLP - Nursery dataset"
   ]
  },
  {
   "cell_type": "code",
   "execution_count": null,
   "metadata": {},
   "outputs": [],
   "source": [
    "mlp_Dataset2 = MLPClassifier(activation='tanh', hidden_layer_sizes=(10,5), alpha=0.01, max_iter=5000)\n",
    "mlp_Dataset2"
   ]
  },
  {
   "cell_type": "code",
   "execution_count": null,
   "metadata": {},
   "outputs": [],
   "source": [
    "X22=X_train2[X_train2.columns[0:2]]\n",
    "mlp_Dataset2 = mlp_Dataset2.fit(X22.values,y_train2.values)\n",
    "\n",
    "plot_decision_regions(X22.values, y_train2.values, classifier=mlp_Dataset2)\n",
    "plt.xlabel(['x1'])\n",
    "plt.ylabel(['x2'])\n",
    "plt.legend(loc='upper left')\n",
    "plt.grid()\n",
    "plt.tight_layout()\n",
    "plt.show()\n"
   ]
  },
  {
   "cell_type": "code",
   "execution_count": null,
   "metadata": {},
   "outputs": [],
   "source": [
    "print('Nursery dataset')\n",
    "print('the weights are \\n',mlp_Dataset2.coefs_)\n",
    "print('the bias \\n ', mlp_Dataset2.intercepts_)\n",
    "print('number of iterations \\n', mlp_Dataset2.n_iter_)\n",
    "print('output activation', mlp_Dataset2.out_activation_)"
   ]
  },
  {
   "cell_type": "markdown",
   "metadata": {},
   "source": [
    "### SVM - Banknotes dataset"
   ]
  },
  {
   "cell_type": "code",
   "execution_count": null,
   "metadata": {},
   "outputs": [],
   "source": [
    "from sklearn.svm import SVC\n",
    "\n",
    "svm_Dataset1=SVC(C=1.0,kernel='rbf', tol=1e-05, verbose=0)\n",
    "#svm_Dataset1=SVC(C=1.0,kernel='rbf', max_iter=2000, tol=1e-05, verbose=0)\n",
    "\n",
    "svm_Dataset1"
   ]
  },
  {
   "cell_type": "code",
   "execution_count": null,
   "metadata": {},
   "outputs": [],
   "source": [
    "X12=X_train1[X_train1.columns[0:2]]\n",
    "\n",
    "svm_Dataset1 = svm_Dataset1.fit(X12.values, y_train1.values)\n",
    "plot_decision_regions(X12.values, y_train1.values, classifier=svm_Dataset1)\n",
    "plt.xlabel('x1')\n",
    "plt.ylabel('x2')\n",
    "plt.legend(loc='upper left')\n",
    "plt.grid()\n",
    "plt.tight_layout()\n",
    "plt.show()"
   ]
  },
  {
   "cell_type": "code",
   "execution_count": null,
   "metadata": {},
   "outputs": [],
   "source": [
    "print('Banknotes dataset')\n",
    "print('dual coef \\n', svm_Dataset1.dual_coef_)\n",
    "print ('support vectors \\n', svm_Dataset1.support_vectors_)\n",
    "print('index of support vectors \\n ', svm_Dataset1.support_)\n",
    "print ('bias', svm_Dataset1.intercept_)\n",
    "print('the classifier \\n', svm_Dataset1)"
   ]
  },
  {
   "cell_type": "markdown",
   "metadata": {},
   "source": [
    "### SVM - Nursery dataset"
   ]
  },
  {
   "cell_type": "code",
   "execution_count": null,
   "metadata": {},
   "outputs": [],
   "source": [
    "svm_Dataset2=SVC(C=1.0,kernel='rbf', tol=1e-05, verbose=0)\n",
    "#svm_Dataset2=SVC(C=1.0,kernel='rbf', max_iter=2000, tol=1e-05, verbose=0)\n",
    "svm_Dataset2"
   ]
  },
  {
   "cell_type": "code",
   "execution_count": null,
   "metadata": {},
   "outputs": [],
   "source": [
    "X22=X_train2[X_train2.columns[0:2]]\n",
    "\n",
    "svm_Dataset2 = svm_Dataset2.fit(X22.values, y_train2.values)\n",
    "plot_decision_regions(X22.values, y_train2.values, classifier=svm_Dataset2)\n",
    "plt.xlabel('x1')\n",
    "plt.ylabel('x2')\n",
    "plt.legend(loc='upper left')\n",
    "plt.grid()\n",
    "plt.tight_layout()\n",
    "plt.show()"
   ]
  },
  {
   "cell_type": "code",
   "execution_count": null,
   "metadata": {},
   "outputs": [],
   "source": [
    "print('Nursery dataset')\n",
    "print('dual coef \\n', svm_Dataset2.dual_coef_)\n",
    "print ('support vectors \\n', svm_Dataset2.support_vectors_)\n",
    "print('index of support vectors \\n ', svm_Dataset2.support_)\n",
    "print ('bias', svm_Dataset2.intercept_)\n",
    "print('the classifier \\n', svm_Dataset2)"
   ]
  }
 ],
 "metadata": {
  "kernelspec": {
   "display_name": "Python 3",
   "language": "python",
   "name": "python3"
  },
  "language_info": {
   "codemirror_mode": {
    "name": "ipython",
    "version": 3
   },
   "file_extension": ".py",
   "mimetype": "text/x-python",
   "name": "python",
   "nbconvert_exporter": "python",
   "pygments_lexer": "ipython3",
   "version": "3.6.7"
  }
 },
 "nbformat": 4,
 "nbformat_minor": 2
}
