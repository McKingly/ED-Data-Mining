{
 "cells": [
  {
   "cell_type": "markdown",
   "metadata": {},
   "source": [
    "# Notebook 2"
   ]
  },
  {
   "cell_type": "markdown",
   "metadata": {},
   "source": [
    "## Exploração de Dados 2018/2019\n",
    "\n",
    "### Nelson Costa 42983\n",
    "### Armando Sousa 76498"
   ]
  },
  {
   "cell_type": "markdown",
   "metadata": {},
   "source": [
    "## Introdução\n",
    "O notebook 1 encontra-se dividido em 3 partes: Pré-processamente de dados, modelos preditivos e avaliação dos modelos. Para isto são usados dois data sets diferentes: 'Banknote Authentication Data Set' \n",
    "(https://archive.ics.uci.edu/ml/datasets/banknote+authentication) e 'Nursery Data Set' (https://archive.ics.uci.edu/ml/datasets/Nursery). Ambos data sets são usados na parte A e B, enquanto na parte C só é usado o primeiro data set."
   ]
  },
  {
   "cell_type": "markdown",
   "metadata": {},
   "source": [
    "### Parte A -> Pré-processamento \n",
    "O pré-processamente é um passo importante no inicio de qualquer processo de Data Mining. A transformação de raw information em algo útil.\n",
    "\n",
    "Começa-se por eliminar entradas nos datasets que tenham dimensões nulas ou vazias. Para os dois data sets escolhidos não existem registos nulos."
   ]
  },
  {
   "cell_type": "markdown",
   "metadata": {},
   "source": [
    "### Parte B -> Modelo preditivo \n",
    "Os dois modelos escolhidos para treinar foram o MLP e o SVM.\n"
   ]
  },
  {
   "cell_type": "markdown",
   "metadata": {},
   "source": [
    "### Parte C -> Avaliação\n",
    "Como dito no início deste notebook, escolheu-se fazer a avaliação dos modelos onde foi usado o 'Banknote Authentication Data Set'."
   ]
  },
  {
   "cell_type": "code",
   "execution_count": null,
   "metadata": {},
   "outputs": [],
   "source": []
  }
 ],
 "metadata": {
  "kernelspec": {
   "display_name": "Python 3",
   "language": "python",
   "name": "python3"
  },
  "language_info": {
   "codemirror_mode": {
    "name": "ipython",
    "version": 3
   },
   "file_extension": ".py",
   "mimetype": "text/x-python",
   "name": "python",
   "nbconvert_exporter": "python",
   "pygments_lexer": "ipython3",
   "version": "3.6.7"
  }
 },
 "nbformat": 4,
 "nbformat_minor": 2
}
